{
  "nbformat": 4,
  "nbformat_minor": 0,
  "metadata": {
    "kernelspec": {
      "display_name": "Python 3",
      "language": "python",
      "name": "python3"
    },
    "language_info": {
      "codemirror_mode": {
        "name": "ipython",
        "version": 3
      },
      "file_extension": ".py",
      "mimetype": "text/x-python",
      "name": "python",
      "nbconvert_exporter": "python",
      "pygments_lexer": "ipython3",
      "version": "3.7.0"
    },
    "toc": {
      "base_numbering": 1,
      "nav_menu": {},
      "number_sections": true,
      "sideBar": true,
      "skip_h1_title": false,
      "title_cell": "Table of Contents",
      "title_sidebar": "Contents",
      "toc_cell": false,
      "toc_position": {},
      "toc_section_display": true,
      "toc_window_display": false
    },
    "varInspector": {
      "cols": {
        "lenName": 16,
        "lenType": 16,
        "lenVar": 40
      },
      "kernels_config": {
        "python": {
          "delete_cmd_postfix": "",
          "delete_cmd_prefix": "del ",
          "library": "var_list.py",
          "varRefreshCmd": "print(var_dic_list())"
        },
        "r": {
          "delete_cmd_postfix": ") ",
          "delete_cmd_prefix": "rm(",
          "library": "var_list.r",
          "varRefreshCmd": "cat(var_dic_list()) "
        }
      },
      "types_to_exclude": [
        "module",
        "function",
        "builtin_function_or_method",
        "instance",
        "_Feature"
      ],
      "window_display": false
    },
    "colab": {
      "name": "1_NumPy_exercises.ipynb",
      "provenance": [],
      "collapsed_sections": []
    }
  },
  "cells": [
    {
      "cell_type": "markdown",
      "metadata": {
        "id": "dgSSsTbbHnYw"
      },
      "source": [
        "\n",
        "# NumPy exercises\n"
      ]
    },
    {
      "cell_type": "code",
      "metadata": {
        "id": "NRQeWTdSHnY3",
        "colab": {
          "base_uri": "https://localhost:8080/"
        },
        "outputId": "e5854533-94f4-4358-865e-7bb3fceb72cb"
      },
      "source": [
        "# Import the numpy package under the name np\n",
        "import numpy as np\n",
        "\n",
        "# Print the numpy version and the configuration\n",
        "print(np.__version__)"
      ],
      "execution_count": 2,
      "outputs": [
        {
          "output_type": "stream",
          "text": [
            "1.19.5\n"
          ],
          "name": "stdout"
        }
      ]
    },
    {
      "cell_type": "markdown",
      "metadata": {
        "id": "VLZ2z7rYHnY4"
      },
      "source": [
        "![purple-divider](https://user-images.githubusercontent.com/7065401/52071927-c1cd7100-2562-11e9-908a-dde91ba14e59.png)\n",
        "\n",
        "## Array creation"
      ]
    },
    {
      "cell_type": "markdown",
      "metadata": {
        "id": "8iKuHC_KHnY4"
      },
      "source": [
        "### Create a numpy array of size 10, filled with zeros."
      ]
    },
    {
      "cell_type": "code",
      "metadata": {
        "id": "hbqNuGNvHnY5",
        "colab": {
          "base_uri": "https://localhost:8080/"
        },
        "outputId": "0efd0dc2-cbed-4477-868e-4f97f9088efa"
      },
      "source": [
        "# your code goes here\n",
        "array1=np.zeros(10)\n",
        "print(array1)\n",
        "array1.size"
      ],
      "execution_count": 3,
      "outputs": [
        {
          "output_type": "stream",
          "text": [
            "[0. 0. 0. 0. 0. 0. 0. 0. 0. 0.]\n"
          ],
          "name": "stdout"
        },
        {
          "output_type": "execute_result",
          "data": {
            "text/plain": [
              "10"
            ]
          },
          "metadata": {
            "tags": []
          },
          "execution_count": 3
        }
      ]
    },
    {
      "cell_type": "markdown",
      "metadata": {
        "id": "kujttpUMHnY5"
      },
      "source": [
        "\n",
        "\n",
        "### Create a numpy array with values ranging from 10 to 49"
      ]
    },
    {
      "cell_type": "code",
      "metadata": {
        "id": "pNOuMIT0HnY6",
        "colab": {
          "base_uri": "https://localhost:8080/"
        },
        "outputId": "9932dc22-fcd6-4464-d2ae-19f0d3fab3b1"
      },
      "source": [
        "# your code goes here\n",
        "array2=np.arange(10,49)\n",
        "print(array2)"
      ],
      "execution_count": 4,
      "outputs": [
        {
          "output_type": "stream",
          "text": [
            "[10 11 12 13 14 15 16 17 18 19 20 21 22 23 24 25 26 27 28 29 30 31 32 33\n",
            " 34 35 36 37 38 39 40 41 42 43 44 45 46 47 48]\n"
          ],
          "name": "stdout"
        }
      ]
    },
    {
      "cell_type": "markdown",
      "metadata": {
        "id": "HlFkNOf2HnY6"
      },
      "source": [
        "\n",
        "\n",
        "### Create a numpy matrix of 2*2 integers, filled with ones."
      ]
    },
    {
      "cell_type": "code",
      "metadata": {
        "id": "zADtXIk2HnY7",
        "colab": {
          "base_uri": "https://localhost:8080/"
        },
        "outputId": "f35116e1-e7a6-4b2f-f064-e393a7d2b6b0"
      },
      "source": [
        "# your code goes here\n",
        "array3=np.ones((2,2),dtype=int)\n",
        "print(array3)\n",
        "print(type(array3))"
      ],
      "execution_count": 5,
      "outputs": [
        {
          "output_type": "stream",
          "text": [
            "[[1 1]\n",
            " [1 1]]\n",
            "<class 'numpy.ndarray'>\n"
          ],
          "name": "stdout"
        }
      ]
    },
    {
      "cell_type": "markdown",
      "metadata": {
        "id": "LRgNeykFHnY7"
      },
      "source": [
        "\n",
        "\n",
        "### Create a numpy matrix of 3*2 float numbers, filled with ones."
      ]
    },
    {
      "cell_type": "code",
      "metadata": {
        "id": "CNA-39v-HnY8",
        "colab": {
          "base_uri": "https://localhost:8080/"
        },
        "outputId": "92ab822b-0dd6-4daa-ba87-54326a6c5fc6"
      },
      "source": [
        "# your code goes here\n",
        "array4=np.ones((3,2),dtype=float)\n",
        "print(array4)\n",
        "print(type(array4))"
      ],
      "execution_count": 6,
      "outputs": [
        {
          "output_type": "stream",
          "text": [
            "[[1. 1.]\n",
            " [1. 1.]\n",
            " [1. 1.]]\n",
            "<class 'numpy.ndarray'>\n"
          ],
          "name": "stdout"
        }
      ]
    },
    {
      "cell_type": "markdown",
      "metadata": {
        "id": "4A4f1T4XHnY8"
      },
      "source": [
        "\n",
        "\n",
        "### Given the X numpy array, create a new numpy array with the same shape and type as X, filled with ones."
      ]
    },
    {
      "cell_type": "code",
      "metadata": {
        "id": "NjM2VHDqHnY9",
        "colab": {
          "base_uri": "https://localhost:8080/"
        },
        "outputId": "8528d94a-d745-4d84-d52e-f68b567888a5"
      },
      "source": [
        "# your code goes here\n",
        "X=np.array([[2,4,5],[6,7,0]])\n",
        "Y=np.full_like(X, 1)\n",
        "print(\"X=\",X)\n",
        "print(\"Y=\",Y)"
      ],
      "execution_count": 7,
      "outputs": [
        {
          "output_type": "stream",
          "text": [
            "X= [[2 4 5]\n",
            " [6 7 0]]\n",
            "Y= [[1 1 1]\n",
            " [1 1 1]]\n"
          ],
          "name": "stdout"
        }
      ]
    },
    {
      "cell_type": "markdown",
      "metadata": {
        "id": "VCHn-zTYHnY9"
      },
      "source": [
        "\n",
        "\n",
        "### Given the X numpy matrix, create a new numpy matrix with the same shape and type as X, filled with zeros."
      ]
    },
    {
      "cell_type": "code",
      "metadata": {
        "id": "hANNmXCZHnY-",
        "colab": {
          "base_uri": "https://localhost:8080/"
        },
        "outputId": "3124d873-5f5c-467b-f859-f3efeffb723e"
      },
      "source": [
        "# your code goes here\n",
        "X=np.array([[2,4,5],[6,7,0]])\n",
        "Y=np.full_like(X, 0)\n",
        "print(\"X=\",X)\n",
        "print(\"Y=\",Y)"
      ],
      "execution_count": 8,
      "outputs": [
        {
          "output_type": "stream",
          "text": [
            "X= [[2 4 5]\n",
            " [6 7 0]]\n",
            "Y= [[0 0 0]\n",
            " [0 0 0]]\n"
          ],
          "name": "stdout"
        }
      ]
    },
    {
      "cell_type": "markdown",
      "metadata": {
        "id": "9rp_wd0-HnY-"
      },
      "source": [
        "\n",
        "\n",
        "### Create a numpy matrix of 4*4 integers, filled with fives."
      ]
    },
    {
      "cell_type": "code",
      "metadata": {
        "id": "PQrlLId_HnY_",
        "colab": {
          "base_uri": "https://localhost:8080/"
        },
        "outputId": "8b51a58b-cea3-4242-da93-39fe429e9c3b"
      },
      "source": [
        "# your code goes here\n",
        "X=np.full((4,4),5)\n",
        "print(X)"
      ],
      "execution_count": 9,
      "outputs": [
        {
          "output_type": "stream",
          "text": [
            "[[5 5 5 5]\n",
            " [5 5 5 5]\n",
            " [5 5 5 5]\n",
            " [5 5 5 5]]\n"
          ],
          "name": "stdout"
        }
      ]
    },
    {
      "cell_type": "markdown",
      "metadata": {
        "id": "3yw0KuZUHnY_"
      },
      "source": [
        "\n",
        "\n",
        "### Given the X numpy matrix, create a new numpy matrix with the same shape and type as X, filled with sevens."
      ]
    },
    {
      "cell_type": "code",
      "metadata": {
        "id": "X3JGuAbqHnY_",
        "colab": {
          "base_uri": "https://localhost:8080/"
        },
        "outputId": "502e1582-ee9e-4a17-9b0a-944f8b55ce0a"
      },
      "source": [
        "# your code goes here\n",
        "X=np.array([[2,4,5],[6,7,0]])\n",
        "Y=np.full_like(X, 7)\n",
        "print(\"X=\",X)\n",
        "print(\"Y=\",Y)"
      ],
      "execution_count": 10,
      "outputs": [
        {
          "output_type": "stream",
          "text": [
            "X= [[2 4 5]\n",
            " [6 7 0]]\n",
            "Y= [[7 7 7]\n",
            " [7 7 7]]\n"
          ],
          "name": "stdout"
        }
      ]
    },
    {
      "cell_type": "markdown",
      "metadata": {
        "id": "hbN5I-YZHnZA"
      },
      "source": [
        "\n",
        "\n",
        "### Create a 3*3 identity numpy matrix with ones on the diagonal and zeros elsewhere."
      ]
    },
    {
      "cell_type": "code",
      "metadata": {
        "id": "a3ET5xPJHnZB",
        "colab": {
          "base_uri": "https://localhost:8080/"
        },
        "outputId": "fdebe9c1-4954-4910-ed0c-3c5a70af91b9"
      },
      "source": [
        "# your code goes here\n",
        "x=np.eye(3)\n",
        "print(x)"
      ],
      "execution_count": 11,
      "outputs": [
        {
          "output_type": "stream",
          "text": [
            "[[1. 0. 0.]\n",
            " [0. 1. 0.]\n",
            " [0. 0. 1.]]\n"
          ],
          "name": "stdout"
        }
      ]
    },
    {
      "cell_type": "markdown",
      "metadata": {
        "id": "7hZ5hlVJHnZB"
      },
      "source": [
        "\n",
        "\n",
        "### Create a numpy array, filled with 3 random integer values between 1 and 10."
      ]
    },
    {
      "cell_type": "code",
      "metadata": {
        "id": "5n18AcZIHnZC",
        "colab": {
          "base_uri": "https://localhost:8080/"
        },
        "outputId": "7be43318-f4fc-4084-f864-5f5e1f59e6a1"
      },
      "source": [
        "# your code goes here\n",
        "x=np.random.randint(1,10,3)\n",
        "print(x)"
      ],
      "execution_count": 12,
      "outputs": [
        {
          "output_type": "stream",
          "text": [
            "[5 4 9]\n"
          ],
          "name": "stdout"
        }
      ]
    },
    {
      "cell_type": "markdown",
      "metadata": {
        "id": "Kmk6cDC8HnZC"
      },
      "source": [
        "\n",
        "\n",
        "### Create a 3\\*3\\*3 numpy matrix, filled with random float values."
      ]
    },
    {
      "cell_type": "code",
      "metadata": {
        "id": "kyNO16eNHnZD",
        "colab": {
          "base_uri": "https://localhost:8080/"
        },
        "outputId": "ea0633f9-a992-469b-eea6-ad502a0527b5"
      },
      "source": [
        "# your code goes here\n",
        "x=np.random.random((3,3,3))\n",
        "print(x)"
      ],
      "execution_count": 13,
      "outputs": [
        {
          "output_type": "stream",
          "text": [
            "[[[0.36748045 0.6729175  0.42276104]\n",
            "  [0.34251453 0.86283716 0.54272131]\n",
            "  [0.80013443 0.83446169 0.53995025]]\n",
            "\n",
            " [[0.80101209 0.11371117 0.29005147]\n",
            "  [0.90010127 0.07632582 0.91086304]\n",
            "  [0.83469103 0.1698564  0.2852566 ]]\n",
            "\n",
            " [[0.5968723  0.18055956 0.33355393]\n",
            "  [0.91345979 0.68637667 0.36667448]\n",
            "  [0.52128369 0.97966944 0.70873206]]]\n"
          ],
          "name": "stdout"
        }
      ]
    },
    {
      "cell_type": "markdown",
      "metadata": {
        "id": "-OSWUwp6HnZD"
      },
      "source": [
        "\n",
        "\n",
        "### Given the X python list convert it to an Y numpy array"
      ]
    },
    {
      "cell_type": "code",
      "metadata": {
        "id": "8pfKTouMHnZD",
        "colab": {
          "base_uri": "https://localhost:8080/"
        },
        "outputId": "8f5fb045-694d-4a5f-c90f-51684bd32025"
      },
      "source": [
        "# your code goes here\n",
        "X=[1,4,7]\n",
        "Y=np.array(X)\n",
        "print(Y)"
      ],
      "execution_count": 14,
      "outputs": [
        {
          "output_type": "stream",
          "text": [
            "[1 4 7]\n"
          ],
          "name": "stdout"
        }
      ]
    },
    {
      "cell_type": "markdown",
      "metadata": {
        "id": "WABw14rNHnZD"
      },
      "source": [
        "\n",
        "\n",
        "### Given the X numpy array, make a copy and store it on Y."
      ]
    },
    {
      "cell_type": "code",
      "metadata": {
        "id": "zmcql2y8HnZE",
        "colab": {
          "base_uri": "https://localhost:8080/"
        },
        "outputId": "4567c2f0-b460-4fc1-a52c-0309425e912a"
      },
      "source": [
        "# your code goes here\n",
        "X=np.array([[2,4,5],[6,7,0]])\n",
        "Y=np.copy(X)\n",
        "print(Y)"
      ],
      "execution_count": 15,
      "outputs": [
        {
          "output_type": "stream",
          "text": [
            "[[2 4 5]\n",
            " [6 7 0]]\n"
          ],
          "name": "stdout"
        }
      ]
    },
    {
      "cell_type": "markdown",
      "metadata": {
        "id": "eTKj2YuiHnZE"
      },
      "source": [
        "\n",
        "\n",
        "### Create a numpy array with numbers from 1 to 10"
      ]
    },
    {
      "cell_type": "code",
      "metadata": {
        "id": "03zkkjDxHnZE",
        "colab": {
          "base_uri": "https://localhost:8080/"
        },
        "outputId": "f20e862e-5265-4424-81b5-f5aeab096d97"
      },
      "source": [
        "# your code goes here\n",
        "X=np.arange(1,10)\n",
        "print(X)"
      ],
      "execution_count": 16,
      "outputs": [
        {
          "output_type": "stream",
          "text": [
            "[1 2 3 4 5 6 7 8 9]\n"
          ],
          "name": "stdout"
        }
      ]
    },
    {
      "cell_type": "markdown",
      "metadata": {
        "id": "hxZLhv5QHnZE"
      },
      "source": [
        "\n",
        "\n",
        "### Create a numpy array with the odd numbers between 1 to 10"
      ]
    },
    {
      "cell_type": "code",
      "metadata": {
        "id": "5yXS3n-AHnZF",
        "colab": {
          "base_uri": "https://localhost:8080/"
        },
        "outputId": "19f1e2ff-d084-41a6-edc5-8f60e0d0f0f7"
      },
      "source": [
        "# your code goes here\n",
        "X=np.arange(1,10,2)\n",
        "\n",
        "print(X)"
      ],
      "execution_count": 17,
      "outputs": [
        {
          "output_type": "stream",
          "text": [
            "[1 3 5 7 9]\n"
          ],
          "name": "stdout"
        }
      ]
    },
    {
      "cell_type": "markdown",
      "metadata": {
        "id": "RvGHRuQIHnZF"
      },
      "source": [
        "\n",
        "\n",
        "### Create a 3*3 numpy matrix, filled with values ranging from 0 to 8"
      ]
    },
    {
      "cell_type": "code",
      "metadata": {
        "id": "5N3ueNG3HnZF",
        "colab": {
          "base_uri": "https://localhost:8080/"
        },
        "outputId": "2151d087-78a0-4536-da8a-b3d5b20434e6"
      },
      "source": [
        "# your code goes here\n",
        "X=np.arange(9)\n",
        "Y=X.reshape(3,3)\n",
        "print(Y)"
      ],
      "execution_count": 18,
      "outputs": [
        {
          "output_type": "stream",
          "text": [
            "[[0 1 2]\n",
            " [3 4 5]\n",
            " [6 7 8]]\n"
          ],
          "name": "stdout"
        }
      ]
    },
    {
      "cell_type": "markdown",
      "metadata": {
        "id": "58YyO3SkHnZG"
      },
      "source": [
        "\n",
        "\n",
        "### Show the memory size of the given Z numpy matrix"
      ]
    },
    {
      "cell_type": "code",
      "metadata": {
        "id": "gnbtSzkLHnZG",
        "colab": {
          "base_uri": "https://localhost:8080/"
        },
        "outputId": "a4262ee6-f1f6-4dd0-b4bd-d08b376a0d68"
      },
      "source": [
        "# your code goes here\n",
        "Z=np.array([[1,3,6],[1,9,0]])\n",
        "print(Z)\n",
        "print(Z.itemsize *Z.size)"
      ],
      "execution_count": 19,
      "outputs": [
        {
          "output_type": "stream",
          "text": [
            "[[1 3 6]\n",
            " [1 9 0]]\n",
            "48\n"
          ],
          "name": "stdout"
        }
      ]
    },
    {
      "cell_type": "markdown",
      "metadata": {
        "id": "_vOseAiRHnZG"
      },
      "source": [
        "![purple-divider](https://user-images.githubusercontent.com/7065401/52071927-c1cd7100-2562-11e9-908a-dde91ba14e59.png)\n",
        "\n",
        "## Array indexation\n"
      ]
    },
    {
      "cell_type": "markdown",
      "metadata": {
        "id": "H8a-Du6dHnZH"
      },
      "source": [
        "### Given the X numpy array, show it's first element"
      ]
    },
    {
      "cell_type": "code",
      "metadata": {
        "id": "IQLYCAM-HnZH",
        "colab": {
          "base_uri": "https://localhost:8080/"
        },
        "outputId": "35f667d9-7c60-41dd-9e0e-1d26ca84d3b1"
      },
      "source": [
        "# your code goes here\n",
        "x=np.array([[1,2,3],[4,5,6]])\n",
        "print(x[0,0])"
      ],
      "execution_count": 20,
      "outputs": [
        {
          "output_type": "stream",
          "text": [
            "1\n"
          ],
          "name": "stdout"
        }
      ]
    },
    {
      "cell_type": "markdown",
      "metadata": {
        "id": "6gndtKOdHnZH"
      },
      "source": [
        "\n",
        "\n",
        "### Given the X numpy array, show it's last element"
      ]
    },
    {
      "cell_type": "code",
      "metadata": {
        "id": "Z2IfwSv_HnZH",
        "colab": {
          "base_uri": "https://localhost:8080/"
        },
        "outputId": "6f11636e-5518-42e0-fca4-d1c69072d2d4"
      },
      "source": [
        "# your code goes here\n",
        "x=np.array([[1,2,3],[4,5,6]])\n",
        "print(x[-1,-1])"
      ],
      "execution_count": 21,
      "outputs": [
        {
          "output_type": "stream",
          "text": [
            "6\n"
          ],
          "name": "stdout"
        }
      ]
    },
    {
      "cell_type": "markdown",
      "metadata": {
        "id": "YIkveqx4HnZI"
      },
      "source": [
        "\n",
        "\n",
        "### Given the X numpy array, show it's first three elements"
      ]
    },
    {
      "cell_type": "code",
      "metadata": {
        "id": "MUYZhQKwHnZI",
        "colab": {
          "base_uri": "https://localhost:8080/"
        },
        "outputId": "0c663958-a069-4cd3-a579-2c97be9a2bd1"
      },
      "source": [
        "# your code goes here\n",
        "x=np.array([[1,2,3,2,5,6],[4,5,6,7,8,9]])\n",
        "print(x[0,:3])"
      ],
      "execution_count": 22,
      "outputs": [
        {
          "output_type": "stream",
          "text": [
            "[1 2 3]\n"
          ],
          "name": "stdout"
        }
      ]
    },
    {
      "cell_type": "markdown",
      "metadata": {
        "id": "E9cJQGSZHnZI"
      },
      "source": [
        "\n",
        "\n",
        "### Create a numpy array with numbers from 1 to 10, in descending order."
      ]
    },
    {
      "cell_type": "code",
      "metadata": {
        "id": "Yv4OsaDeHnZJ",
        "colab": {
          "base_uri": "https://localhost:8080/"
        },
        "outputId": "4151edb8-dc95-4b21-c093-26296dd640b0"
      },
      "source": [
        "# your code goes here\n",
        "x=np.random.randint(1,10,9)\n",
        "y=np.sort(x)[::-1]\n",
        "print(x)\n",
        "print(y)"
      ],
      "execution_count": 23,
      "outputs": [
        {
          "output_type": "stream",
          "text": [
            "[4 2 8 3 3 9 3 3 1]\n",
            "[9 8 4 3 3 3 3 2 1]\n"
          ],
          "name": "stdout"
        }
      ]
    },
    {
      "cell_type": "markdown",
      "metadata": {
        "id": "AWtUF9yVHnZJ"
      },
      "source": [
        "\n",
        "\n",
        "### Given the X numpy array, show all middle elements"
      ]
    },
    {
      "cell_type": "code",
      "metadata": {
        "id": "seJ8yvHrHnZJ"
      },
      "source": [
        "# your code goes here\n"
      ],
      "execution_count": 24,
      "outputs": []
    },
    {
      "cell_type": "markdown",
      "metadata": {
        "id": "dbdvRa5SHnZK"
      },
      "source": [
        "\n",
        "\n",
        "### Given the X numpy array, show the elements in reverse position"
      ]
    },
    {
      "cell_type": "code",
      "metadata": {
        "id": "OdzLu2-eHnZK",
        "colab": {
          "base_uri": "https://localhost:8080/"
        },
        "outputId": "a4b9ae91-2574-4384-83d6-11513c7be92b"
      },
      "source": [
        "# your code goes here\n",
        "x=np.array([[1,2,3,2,5,6],[4,5,6,7,8,9]])\n",
        "reversed_arr = x[::-1]\n",
        "print(reversed_arr )"
      ],
      "execution_count": 25,
      "outputs": [
        {
          "output_type": "stream",
          "text": [
            "[[4 5 6 7 8 9]\n",
            " [1 2 3 2 5 6]]\n"
          ],
          "name": "stdout"
        }
      ]
    },
    {
      "cell_type": "markdown",
      "metadata": {
        "id": "WihbQTLoHnZL"
      },
      "source": [
        "\n",
        "\n",
        "### Given the X numpy array, show the elements in an odd position"
      ]
    },
    {
      "cell_type": "code",
      "metadata": {
        "id": "zJmSUi2bHnZL",
        "colab": {
          "base_uri": "https://localhost:8080/"
        },
        "outputId": "f0195fb2-2707-45a5-d641-00405c4c5f99"
      },
      "source": [
        "# your code goes here\n",
        "x=np.array([[1,2,3,2,5,6],[4,5,6,7,8,9]])\n",
        "y=x%2!=0\n",
        "print(x[y])"
      ],
      "execution_count": 61,
      "outputs": [
        {
          "output_type": "stream",
          "text": [
            "[1 3 5 5 7 9]\n"
          ],
          "name": "stdout"
        }
      ]
    },
    {
      "cell_type": "markdown",
      "metadata": {
        "id": "A5o9a7fCHnZM"
      },
      "source": [
        "\n",
        "\n",
        "### Given the X numpy matrix, show the first row elements"
      ]
    },
    {
      "cell_type": "code",
      "metadata": {
        "id": "vOLmfZucHnZM",
        "colab": {
          "base_uri": "https://localhost:8080/"
        },
        "outputId": "af53a439-fac0-4914-c759-c94c97d63919"
      },
      "source": [
        "# your code goes here\n",
        "x=np.array([[1,2,3,2,5,6],[4,5,6,7,8,9]])\n",
        "print(x[0])"
      ],
      "execution_count": 63,
      "outputs": [
        {
          "output_type": "stream",
          "text": [
            "[1 2 3 2 5 6]\n"
          ],
          "name": "stdout"
        }
      ]
    },
    {
      "cell_type": "markdown",
      "metadata": {
        "id": "Q2T66RgSHnZN"
      },
      "source": [
        "\n",
        "\n",
        "### Given the X numpy matrix, show the last row elements"
      ]
    },
    {
      "cell_type": "code",
      "metadata": {
        "id": "4ktpmZIeHnZN",
        "colab": {
          "base_uri": "https://localhost:8080/"
        },
        "outputId": "b82f1c91-223b-4a13-d45a-b2431bf4d235"
      },
      "source": [
        "# your code goes here\n",
        "x=np.array([[1,2,3,2,5,6],[4,5,6,7,8,9]])\n",
        "print(x[-1])"
      ],
      "execution_count": 64,
      "outputs": [
        {
          "output_type": "stream",
          "text": [
            "[4 5 6 7 8 9]\n"
          ],
          "name": "stdout"
        }
      ]
    },
    {
      "cell_type": "markdown",
      "metadata": {
        "id": "OIywmCbFHnZN"
      },
      "source": [
        "\n",
        "\n",
        "### Given the X numpy matrix, show the first element on first row"
      ]
    },
    {
      "cell_type": "code",
      "metadata": {
        "colab": {
          "base_uri": "https://localhost:8080/"
        },
        "id": "f8EkaKPj621n",
        "outputId": "4fbb4ab8-d998-41f9-f24a-3edb34de7816"
      },
      "source": [
        "# your code goes here\n",
        "x=np.array([[1,2,3,2,5,6],[4,5,6,7,8,9]])\n",
        "print(x[0,0])"
      ],
      "execution_count": 66,
      "outputs": [
        {
          "output_type": "stream",
          "text": [
            "1\n"
          ],
          "name": "stdout"
        }
      ]
    },
    {
      "cell_type": "markdown",
      "metadata": {
        "id": "cjQvWWfmHnZO"
      },
      "source": [
        "\n",
        "\n",
        "### Given the X numpy matrix, show the last element on last row"
      ]
    },
    {
      "cell_type": "code",
      "metadata": {
        "id": "Ainz4U3pHnZO",
        "colab": {
          "base_uri": "https://localhost:8080/"
        },
        "outputId": "68fc24b0-a6b4-434f-fe8c-e9db0c3df4cf"
      },
      "source": [
        "# your code goes here\n",
        "x=np.array([[1,2,3,2,5,6],[4,5,6,7,8,9]])\n",
        "print(x[-1,-1])"
      ],
      "execution_count": 67,
      "outputs": [
        {
          "output_type": "stream",
          "text": [
            "9\n"
          ],
          "name": "stdout"
        }
      ]
    },
    {
      "cell_type": "markdown",
      "metadata": {
        "id": "9IBWFuXiHnZO"
      },
      "source": [
        "\n",
        "\n",
        "### Given the X numpy matrix, show the middle row elements"
      ]
    },
    {
      "cell_type": "code",
      "metadata": {
        "id": "UHw5Ogx0HnZO"
      },
      "source": [
        "# your code goes here\n"
      ],
      "execution_count": 31,
      "outputs": []
    },
    {
      "cell_type": "markdown",
      "metadata": {
        "id": "aW5fjRhRHnZP"
      },
      "source": [
        "\n",
        "\n",
        "### Given the X numpy matrix, show the first two elements on the first two rows"
      ]
    },
    {
      "cell_type": "code",
      "metadata": {
        "id": "xfPF2soOHnZP",
        "colab": {
          "base_uri": "https://localhost:8080/"
        },
        "outputId": "9d9e31df-602b-49f6-c88e-b82d01a3055f"
      },
      "source": [
        "# your code goes here\n",
        "x=np.array([[1,2,3,2,5,6],[4,5,6,7,8,9],[2,5,6,7,8,9]])\n",
        "print(x[:2,:2])"
      ],
      "execution_count": 70,
      "outputs": [
        {
          "output_type": "stream",
          "text": [
            "[[1 2]\n",
            " [4 5]]\n"
          ],
          "name": "stdout"
        }
      ]
    },
    {
      "cell_type": "markdown",
      "metadata": {
        "id": "SiYapLUfHnZP"
      },
      "source": [
        "\n",
        "\n",
        "### Given the X numpy matrix, show the last two elements on the last two rows"
      ]
    },
    {
      "cell_type": "code",
      "metadata": {
        "id": "a2llfffdHnZQ",
        "colab": {
          "base_uri": "https://localhost:8080/"
        },
        "outputId": "78fba8bd-ad2d-4baf-f2a0-1935a8f3865f"
      },
      "source": [
        "# your code goes here\n",
        "x=np.array([[1,2,3,2,5,6],[4,5,6,7,8,9],[2,5,6,7,8,10]])\n",
        "print(x[-2:,-2:])"
      ],
      "execution_count": 72,
      "outputs": [
        {
          "output_type": "stream",
          "text": [
            "[[ 8  9]\n",
            " [ 8 10]]\n"
          ],
          "name": "stdout"
        }
      ]
    },
    {
      "cell_type": "markdown",
      "metadata": {
        "id": "J-TxZYRdHnZQ"
      },
      "source": [
        "![purple-divider](https://user-images.githubusercontent.com/7065401/52071927-c1cd7100-2562-11e9-908a-dde91ba14e59.png)\n",
        "\n",
        "## Array manipulation\n"
      ]
    },
    {
      "cell_type": "markdown",
      "metadata": {
        "id": "_WTALQ7DHnZR"
      },
      "source": [
        "### Convert the given integer numpy array to float"
      ]
    },
    {
      "cell_type": "code",
      "metadata": {
        "id": "xJup17YXHnZR",
        "colab": {
          "base_uri": "https://localhost:8080/"
        },
        "outputId": "b9930ede-e70d-4b46-ecc5-cc336dba3f77"
      },
      "source": [
        "# your code goes here\n",
        "x=np.array([[1,2,3,2,5,6],[4,5,6,7,8,9]])\n",
        "y=np.array(x,float)\n",
        "print(y)"
      ],
      "execution_count": 34,
      "outputs": [
        {
          "output_type": "stream",
          "text": [
            "[[1. 2. 3. 2. 5. 6.]\n",
            " [4. 5. 6. 7. 8. 9.]]\n"
          ],
          "name": "stdout"
        }
      ]
    },
    {
      "cell_type": "markdown",
      "metadata": {
        "id": "Z6bMxHKaHnZS"
      },
      "source": [
        "\n",
        "\n",
        "### Reverse the given numpy array (first element becomes last)"
      ]
    },
    {
      "cell_type": "code",
      "metadata": {
        "id": "OJOn6iRGHnZS"
      },
      "source": [
        "# your code goes here\n",
        "\n"
      ],
      "execution_count": 35,
      "outputs": []
    },
    {
      "cell_type": "markdown",
      "metadata": {
        "id": "5JUiEl2NHnZS"
      },
      "source": [
        "\n",
        "\n",
        "### Order (sort) the given numpy array"
      ]
    },
    {
      "cell_type": "code",
      "metadata": {
        "id": "NYwfYL2tHnZT",
        "colab": {
          "base_uri": "https://localhost:8080/"
        },
        "outputId": "65b82719-a671-4195-8e8a-4ead7182e8eb"
      },
      "source": [
        "# your code goes here\n",
        "x=np.array([[1,2,3,2,5,6],[4,5,6,7,8,9]])\n",
        "y=np.sort(x)\n",
        "print(y)\n"
      ],
      "execution_count": 36,
      "outputs": [
        {
          "output_type": "stream",
          "text": [
            "[[1 2 2 3 5 6]\n",
            " [4 5 6 7 8 9]]\n"
          ],
          "name": "stdout"
        }
      ]
    },
    {
      "cell_type": "markdown",
      "metadata": {
        "id": "ZRKfXIBuHnZT"
      },
      "source": [
        "\n",
        "\n",
        "### Given the X numpy array, set the fifth element equal to 1"
      ]
    },
    {
      "cell_type": "code",
      "metadata": {
        "id": "OPPtdD_sHnZU",
        "colab": {
          "base_uri": "https://localhost:8080/"
        },
        "outputId": "605f38c2-9913-4102-a421-d235e01f3f1e"
      },
      "source": [
        "# your code goes here\n",
        "x=np.array([1,2,3,2,5,6])\n",
        "x[4]=1\n",
        "print(x)"
      ],
      "execution_count": 37,
      "outputs": [
        {
          "output_type": "stream",
          "text": [
            "[1 2 3 2 1 6]\n"
          ],
          "name": "stdout"
        }
      ]
    },
    {
      "cell_type": "markdown",
      "metadata": {
        "id": "uwZU_3N-HnZU"
      },
      "source": [
        "\n",
        "\n",
        "### Given the X numpy array, change the 50 with a 40"
      ]
    },
    {
      "cell_type": "code",
      "metadata": {
        "id": "Z2MBhbFgHnZU",
        "colab": {
          "base_uri": "https://localhost:8080/"
        },
        "outputId": "918b5988-2710-41ab-fdda-a3152621a560"
      },
      "source": [
        "# your code goes here\n",
        "x=np.array([1,2,3,2,50,6])\n",
        "x[x==50]=40\n",
        "print(x)"
      ],
      "execution_count": 74,
      "outputs": [
        {
          "output_type": "stream",
          "text": [
            "[ 1  2  3  2 40  6]\n"
          ],
          "name": "stdout"
        }
      ]
    },
    {
      "cell_type": "markdown",
      "metadata": {
        "id": "An13osDlHnZV"
      },
      "source": [
        "\n",
        "### Given the X numpy matrix, change the last row with all 1"
      ]
    },
    {
      "cell_type": "code",
      "metadata": {
        "id": "dSEEx87wHnZV",
        "colab": {
          "base_uri": "https://localhost:8080/"
        },
        "outputId": "e998227b-688a-4269-b532-b84204143f62"
      },
      "source": [
        "# your code goes here\n",
        "x=np.array([[1,2,3,2,5,6],[4,5,6,7,8,9],[2,5,6,7,8,10]])\n",
        "x[-1]=1\n",
        "print(x)"
      ],
      "execution_count": 75,
      "outputs": [
        {
          "output_type": "stream",
          "text": [
            "[[1 2 3 2 5 6]\n",
            " [4 5 6 7 8 9]\n",
            " [1 1 1 1 1 1]]\n"
          ],
          "name": "stdout"
        }
      ]
    },
    {
      "cell_type": "markdown",
      "metadata": {
        "id": "pX5feCZmHnZV"
      },
      "source": [
        "\n",
        "### Given the X numpy matrix, change the last item on the last row with a 0"
      ]
    },
    {
      "cell_type": "code",
      "metadata": {
        "id": "2lseJYp6HnZV",
        "colab": {
          "base_uri": "https://localhost:8080/"
        },
        "outputId": "8ca0e340-b469-4db7-eaef-de8ca1777b5e"
      },
      "source": [
        "# your code goes here\n",
        "x=np.array([[1,2,3,2,5,6],[4,5,6,7,8,9],[2,5,6,7,8,10]])\n",
        "x[-1,-1]=0\n",
        "print(x)"
      ],
      "execution_count": 77,
      "outputs": [
        {
          "output_type": "stream",
          "text": [
            "[[1 2 3 2 5 6]\n",
            " [4 5 6 7 8 9]\n",
            " [2 5 6 7 8 0]]\n"
          ],
          "name": "stdout"
        }
      ]
    },
    {
      "cell_type": "markdown",
      "metadata": {
        "id": "pJ_Xo2iUHnZW"
      },
      "source": [
        "\n",
        "### Given the X numpy matrix, add 5 to every element"
      ]
    },
    {
      "cell_type": "code",
      "metadata": {
        "id": "iAEwMz91HnZW",
        "colab": {
          "base_uri": "https://localhost:8080/"
        },
        "outputId": "2bc4eabd-0548-453e-a640-ff9edf403c62"
      },
      "source": [
        "# your code goes here\n",
        "x=np.array([1,2,3,2,5,6])+5\n",
        "print(x)"
      ],
      "execution_count": 41,
      "outputs": [
        {
          "output_type": "stream",
          "text": [
            "[ 6  7  8  7 10 11]\n"
          ],
          "name": "stdout"
        }
      ]
    },
    {
      "cell_type": "markdown",
      "metadata": {
        "id": "An8d-xg7HnZW"
      },
      "source": [
        "\n",
        "## Boolean arrays _(also called masks)_\n"
      ]
    },
    {
      "cell_type": "markdown",
      "metadata": {
        "id": "_xr7PyITHnZW"
      },
      "source": [
        "### Given the X numpy array, make a mask showing negative elements"
      ]
    },
    {
      "cell_type": "code",
      "metadata": {
        "id": "gY1FoZe6HnZX",
        "colab": {
          "base_uri": "https://localhost:8080/"
        },
        "outputId": "54435941-92f5-477f-b896-2da0bd071956"
      },
      "source": [
        "# your code goes here\n",
        "x=np.array([1,-2,3,2,-5])\n",
        "import numpy.ma as ma\n",
        "y = ma.masked_array(x, mask=[0,1,0,0,1])\n",
        "print(y)\n"
      ],
      "execution_count": 42,
      "outputs": [
        {
          "output_type": "stream",
          "text": [
            "[1 -- 3 2 --]\n"
          ],
          "name": "stdout"
        }
      ]
    },
    {
      "cell_type": "markdown",
      "metadata": {
        "id": "o8i61n03HnZX"
      },
      "source": [
        "\n",
        "### Given the X numpy array, get the negative elements"
      ]
    },
    {
      "cell_type": "code",
      "metadata": {
        "id": "JMGzgIvzHnZY",
        "colab": {
          "base_uri": "https://localhost:8080/"
        },
        "outputId": "8ff99139-a0f0-4858-99e0-6b3667419d2e"
      },
      "source": [
        "# your code goes here\n",
        "x=np.array([[1,-2,3,2,-5,6],[-4,5,6,7,8,-9]])\n",
        "\n",
        "filter_arr = x<0\n",
        "\n",
        "newarr = x[filter_arr]\n",
        "print(newarr)"
      ],
      "execution_count": 43,
      "outputs": [
        {
          "output_type": "stream",
          "text": [
            "[-2 -5 -4 -9]\n"
          ],
          "name": "stdout"
        }
      ]
    },
    {
      "cell_type": "markdown",
      "metadata": {
        "id": "6yK7EuRWHnZY"
      },
      "source": [
        "\n",
        "### Given the X numpy array, get numbers higher than 5"
      ]
    },
    {
      "cell_type": "code",
      "metadata": {
        "id": "LlDKo3jVHnZY",
        "colab": {
          "base_uri": "https://localhost:8080/"
        },
        "outputId": "5336755c-f82d-4350-bed2-97dd1a84ae33"
      },
      "source": [
        "# your code goes here\n",
        "x=np.array([[1,-2,3,2,-5,6],[-4,5,6,7,8,-9]])\n",
        "\n",
        "filter_arr = x>5\n",
        "\n",
        "newarr = x[filter_arr]\n",
        "print(newarr)"
      ],
      "execution_count": 44,
      "outputs": [
        {
          "output_type": "stream",
          "text": [
            "[6 6 7 8]\n"
          ],
          "name": "stdout"
        }
      ]
    },
    {
      "cell_type": "markdown",
      "metadata": {
        "id": "fZt60Wp_HnZZ"
      },
      "source": [
        "\n",
        "### Given the X numpy array, get numbers higher than the elements mean"
      ]
    },
    {
      "cell_type": "code",
      "metadata": {
        "id": "2YE_HBzkHnZZ",
        "colab": {
          "base_uri": "https://localhost:8080/"
        },
        "outputId": "785649e4-6fad-4310-de3f-a7287f8d4d49"
      },
      "source": [
        "# your code goes here\n",
        "x=np.array([[1,-2,3,2,-5,6],[-4,5,6,7,8,-9]])\n",
        "m=np.mean(x)\n",
        "print(m)\n",
        "filter_arr = x>m\n",
        "\n",
        "newarr = x[filter_arr]\n",
        "print(newarr)"
      ],
      "execution_count": 45,
      "outputs": [
        {
          "output_type": "stream",
          "text": [
            "1.5\n",
            "[3 2 6 5 6 7 8]\n"
          ],
          "name": "stdout"
        }
      ]
    },
    {
      "cell_type": "markdown",
      "metadata": {
        "id": "pKHcDK8RHnZZ"
      },
      "source": [
        "\n",
        "### Given the X numpy array, get numbers equal to 2 or 10"
      ]
    },
    {
      "cell_type": "code",
      "metadata": {
        "id": "4k5YwZACHnZZ",
        "colab": {
          "base_uri": "https://localhost:8080/"
        },
        "outputId": "6b4742c4-2ae2-43fe-d019-61f678b8c3fb"
      },
      "source": [
        "# your code goes here\n",
        "x=np.array([[1,-2,3,2,-5,6],[-4,5,6,7,8,-9]])\n",
        "y = x[x==2]\n",
        "print(x[x==2],x[x==10])"
      ],
      "execution_count": 46,
      "outputs": [
        {
          "output_type": "stream",
          "text": [
            "[2] []\n"
          ],
          "name": "stdout"
        }
      ]
    },
    {
      "cell_type": "markdown",
      "metadata": {
        "id": "l3pwRmYMHnZa"
      },
      "source": [
        "\n",
        "## Logic functions\n"
      ]
    },
    {
      "cell_type": "markdown",
      "metadata": {
        "id": "VBizkIxKHnZa"
      },
      "source": [
        "### Given the X numpy array, return True if none of its elements is zero"
      ]
    },
    {
      "cell_type": "code",
      "metadata": {
        "id": "ELsWOPTMHnZa",
        "colab": {
          "base_uri": "https://localhost:8080/"
        },
        "outputId": "fd236dc3-e719-48c7-b20c-55c39d8d2a43"
      },
      "source": [
        "# your code goes here\n",
        "x=np.array([[1,-2,3,2,-5,6],[-4,5,1,7,8,-9]]).all()\n",
        "y=x!=0\n",
        "print(y)"
      ],
      "execution_count": 47,
      "outputs": [
        {
          "output_type": "stream",
          "text": [
            "True\n"
          ],
          "name": "stdout"
        }
      ]
    },
    {
      "cell_type": "markdown",
      "metadata": {
        "id": "0pNMtKC2HnZb"
      },
      "source": [
        "\n",
        "## Summary statistics"
      ]
    },
    {
      "cell_type": "markdown",
      "metadata": {
        "id": "sIMD7lIfHnZc"
      },
      "source": [
        "### Given the X numpy array, show the sum of its elements"
      ]
    },
    {
      "cell_type": "code",
      "metadata": {
        "id": "Qdp3Ww0JHnZc",
        "colab": {
          "base_uri": "https://localhost:8080/"
        },
        "outputId": "0c5fd97c-596e-428a-bd97-4ab9100f9f3a"
      },
      "source": [
        "# your code goes here\n",
        "x=np.array([[1,0,3,2,0,0],[0,5,1,0,0,0]])\n",
        "print(x.sum())"
      ],
      "execution_count": 48,
      "outputs": [
        {
          "output_type": "stream",
          "text": [
            "12\n"
          ],
          "name": "stdout"
        }
      ]
    },
    {
      "cell_type": "markdown",
      "metadata": {
        "id": "JpXwIX3THnZc"
      },
      "source": [
        "\n",
        "### Given the X numpy array, show the mean value of its elements"
      ]
    },
    {
      "cell_type": "code",
      "metadata": {
        "id": "bYLDvSrnHnZc",
        "colab": {
          "base_uri": "https://localhost:8080/"
        },
        "outputId": "fbacaf4d-5f1c-4e0d-b249-0e8eaa1460ec"
      },
      "source": [
        "# your code goes here\n",
        "x=np.array([[1,0,3,2,0,0],[0,5,1,0,0,0]])\n",
        "print(x.mean())"
      ],
      "execution_count": 49,
      "outputs": [
        {
          "output_type": "stream",
          "text": [
            "1.0\n"
          ],
          "name": "stdout"
        }
      ]
    },
    {
      "cell_type": "markdown",
      "metadata": {
        "id": "m0IkNO2KHnZd"
      },
      "source": [
        "\n",
        "### Given the X numpy matrix, show the sum of its columns"
      ]
    },
    {
      "cell_type": "code",
      "metadata": {
        "id": "ce45G8geHnZd",
        "colab": {
          "base_uri": "https://localhost:8080/"
        },
        "outputId": "978b879b-da59-4abc-e3c6-a104f7e8398c"
      },
      "source": [
        "# your code goes here\n",
        "x=np.array([[1,0,3,2,0,0],[0,11,1,0,0,0]])\n",
        "print(x)\n",
        "y=x.mean(axis=0)\n",
        "print(y)"
      ],
      "execution_count": 50,
      "outputs": [
        {
          "output_type": "stream",
          "text": [
            "[[ 1  0  3  2  0  0]\n",
            " [ 0 11  1  0  0  0]]\n",
            "[0.5 5.5 2.  1.  0.  0. ]\n"
          ],
          "name": "stdout"
        }
      ]
    },
    {
      "cell_type": "markdown",
      "metadata": {
        "id": "XQNyj7hgHnZd"
      },
      "source": [
        "\n",
        "### Given the X numpy matrix, show the mean value of its rows"
      ]
    },
    {
      "cell_type": "code",
      "metadata": {
        "id": "rgT3MRhfHnZd",
        "colab": {
          "base_uri": "https://localhost:8080/"
        },
        "outputId": "cb2c9828-db58-47da-d310-5481df649a10"
      },
      "source": [
        "# your code goes here\n",
        "x=np.array([[1,0,3,2,0,0],[0,11,1,0,0,0]])\n",
        "print(x)\n",
        "y=x.mean(axis=1)\n",
        "print(y)"
      ],
      "execution_count": 51,
      "outputs": [
        {
          "output_type": "stream",
          "text": [
            "[[ 1  0  3  2  0  0]\n",
            " [ 0 11  1  0  0  0]]\n",
            "[1. 2.]\n"
          ],
          "name": "stdout"
        }
      ]
    },
    {
      "cell_type": "markdown",
      "metadata": {
        "id": "tE5v9xRsHnZe"
      },
      "source": [
        "### Given the X numpy array, show the max value of its elements"
      ]
    },
    {
      "cell_type": "code",
      "metadata": {
        "colab": {
          "base_uri": "https://localhost:8080/"
        },
        "id": "M9EdLhLbYtVu",
        "outputId": "3070436d-a4a9-410a-e08e-5133e6385dad"
      },
      "source": [
        "x=np.array([[1,0,3,2,0,0],[0,11,1,0,0,0]])\n",
        "print(x.max())"
      ],
      "execution_count": 52,
      "outputs": [
        {
          "output_type": "stream",
          "text": [
            "11\n"
          ],
          "name": "stdout"
        }
      ]
    },
    {
      "cell_type": "markdown",
      "metadata": {
        "id": "qdvFtNbVfZlk"
      },
      "source": [
        "![purple-divider](https://user-images.githubusercontent.com/7065401/52071927-c1cd7100-2562-11e9-908a-dde91ba14e59.png)\n",
        "\n"
      ]
    },
    {
      "cell_type": "markdown",
      "metadata": {
        "id": "K6Gga-cweNJO"
      },
      "source": [
        "# Answer The following questions!"
      ]
    },
    {
      "cell_type": "code",
      "metadata": {
        "id": "iLFpFLhbHnZe"
      },
      "source": [
        "# your code goes here\n",
        "import seaborn as sns"
      ],
      "execution_count": 53,
      "outputs": []
    },
    {
      "cell_type": "code",
      "metadata": {
        "colab": {
          "base_uri": "https://localhost:8080/"
        },
        "id": "sxKouX1nfr55",
        "outputId": "18a8180b-812a-4744-b748-7d08b3e9c306"
      },
      "source": [
        "df=sns.get_dataset_names()\n",
        "df"
      ],
      "execution_count": 54,
      "outputs": [
        {
          "output_type": "execute_result",
          "data": {
            "text/plain": [
              "['anagrams',\n",
              " 'anscombe',\n",
              " 'attention',\n",
              " 'brain_networks',\n",
              " 'car_crashes',\n",
              " 'diamonds',\n",
              " 'dots',\n",
              " 'exercise',\n",
              " 'flights',\n",
              " 'fmri',\n",
              " 'gammas',\n",
              " 'geyser',\n",
              " 'iris',\n",
              " 'mpg',\n",
              " 'penguins',\n",
              " 'planets',\n",
              " 'tips',\n",
              " 'titanic']"
            ]
          },
          "metadata": {
            "tags": []
          },
          "execution_count": 54
        }
      ]
    },
    {
      "cell_type": "code",
      "metadata": {
        "colab": {
          "base_uri": "https://localhost:8080/",
          "height": 612
        },
        "id": "-UERzQs3gQ8-",
        "outputId": "2abfd9b0-0cd4-44ce-9db7-2cb552ef0678"
      },
      "source": [
        "import pandas as pd\n",
        "df1=pd.DataFrame(df)\n",
        "df1.head(20)"
      ],
      "execution_count": 55,
      "outputs": [
        {
          "output_type": "execute_result",
          "data": {
            "text/html": [
              "<div>\n",
              "<style scoped>\n",
              "    .dataframe tbody tr th:only-of-type {\n",
              "        vertical-align: middle;\n",
              "    }\n",
              "\n",
              "    .dataframe tbody tr th {\n",
              "        vertical-align: top;\n",
              "    }\n",
              "\n",
              "    .dataframe thead th {\n",
              "        text-align: right;\n",
              "    }\n",
              "</style>\n",
              "<table border=\"1\" class=\"dataframe\">\n",
              "  <thead>\n",
              "    <tr style=\"text-align: right;\">\n",
              "      <th></th>\n",
              "      <th>0</th>\n",
              "    </tr>\n",
              "  </thead>\n",
              "  <tbody>\n",
              "    <tr>\n",
              "      <th>0</th>\n",
              "      <td>anagrams</td>\n",
              "    </tr>\n",
              "    <tr>\n",
              "      <th>1</th>\n",
              "      <td>anscombe</td>\n",
              "    </tr>\n",
              "    <tr>\n",
              "      <th>2</th>\n",
              "      <td>attention</td>\n",
              "    </tr>\n",
              "    <tr>\n",
              "      <th>3</th>\n",
              "      <td>brain_networks</td>\n",
              "    </tr>\n",
              "    <tr>\n",
              "      <th>4</th>\n",
              "      <td>car_crashes</td>\n",
              "    </tr>\n",
              "    <tr>\n",
              "      <th>5</th>\n",
              "      <td>diamonds</td>\n",
              "    </tr>\n",
              "    <tr>\n",
              "      <th>6</th>\n",
              "      <td>dots</td>\n",
              "    </tr>\n",
              "    <tr>\n",
              "      <th>7</th>\n",
              "      <td>exercise</td>\n",
              "    </tr>\n",
              "    <tr>\n",
              "      <th>8</th>\n",
              "      <td>flights</td>\n",
              "    </tr>\n",
              "    <tr>\n",
              "      <th>9</th>\n",
              "      <td>fmri</td>\n",
              "    </tr>\n",
              "    <tr>\n",
              "      <th>10</th>\n",
              "      <td>gammas</td>\n",
              "    </tr>\n",
              "    <tr>\n",
              "      <th>11</th>\n",
              "      <td>geyser</td>\n",
              "    </tr>\n",
              "    <tr>\n",
              "      <th>12</th>\n",
              "      <td>iris</td>\n",
              "    </tr>\n",
              "    <tr>\n",
              "      <th>13</th>\n",
              "      <td>mpg</td>\n",
              "    </tr>\n",
              "    <tr>\n",
              "      <th>14</th>\n",
              "      <td>penguins</td>\n",
              "    </tr>\n",
              "    <tr>\n",
              "      <th>15</th>\n",
              "      <td>planets</td>\n",
              "    </tr>\n",
              "    <tr>\n",
              "      <th>16</th>\n",
              "      <td>tips</td>\n",
              "    </tr>\n",
              "    <tr>\n",
              "      <th>17</th>\n",
              "      <td>titanic</td>\n",
              "    </tr>\n",
              "  </tbody>\n",
              "</table>\n",
              "</div>"
            ],
            "text/plain": [
              "                 0\n",
              "0         anagrams\n",
              "1         anscombe\n",
              "2        attention\n",
              "3   brain_networks\n",
              "4      car_crashes\n",
              "5         diamonds\n",
              "6             dots\n",
              "7         exercise\n",
              "8          flights\n",
              "9             fmri\n",
              "10          gammas\n",
              "11          geyser\n",
              "12            iris\n",
              "13             mpg\n",
              "14        penguins\n",
              "15         planets\n",
              "16            tips\n",
              "17         titanic"
            ]
          },
          "metadata": {
            "tags": []
          },
          "execution_count": 55
        }
      ]
    },
    {
      "cell_type": "code",
      "metadata": {
        "id": "Fw_kwXglfvUn",
        "colab": {
          "base_uri": "https://localhost:8080/",
          "height": 422
        },
        "outputId": "10a9c78a-afea-4148-a2ed-5abec5b7e511"
      },
      "source": [
        "data= sns.load_dataset('titanic')\n",
        "data"
      ],
      "execution_count": 56,
      "outputs": [
        {
          "output_type": "execute_result",
          "data": {
            "text/html": [
              "<div>\n",
              "<style scoped>\n",
              "    .dataframe tbody tr th:only-of-type {\n",
              "        vertical-align: middle;\n",
              "    }\n",
              "\n",
              "    .dataframe tbody tr th {\n",
              "        vertical-align: top;\n",
              "    }\n",
              "\n",
              "    .dataframe thead th {\n",
              "        text-align: right;\n",
              "    }\n",
              "</style>\n",
              "<table border=\"1\" class=\"dataframe\">\n",
              "  <thead>\n",
              "    <tr style=\"text-align: right;\">\n",
              "      <th></th>\n",
              "      <th>survived</th>\n",
              "      <th>pclass</th>\n",
              "      <th>sex</th>\n",
              "      <th>age</th>\n",
              "      <th>sibsp</th>\n",
              "      <th>parch</th>\n",
              "      <th>fare</th>\n",
              "      <th>embarked</th>\n",
              "      <th>class</th>\n",
              "      <th>who</th>\n",
              "      <th>adult_male</th>\n",
              "      <th>deck</th>\n",
              "      <th>embark_town</th>\n",
              "      <th>alive</th>\n",
              "      <th>alone</th>\n",
              "    </tr>\n",
              "  </thead>\n",
              "  <tbody>\n",
              "    <tr>\n",
              "      <th>0</th>\n",
              "      <td>0</td>\n",
              "      <td>3</td>\n",
              "      <td>male</td>\n",
              "      <td>22.0</td>\n",
              "      <td>1</td>\n",
              "      <td>0</td>\n",
              "      <td>7.2500</td>\n",
              "      <td>S</td>\n",
              "      <td>Third</td>\n",
              "      <td>man</td>\n",
              "      <td>True</td>\n",
              "      <td>NaN</td>\n",
              "      <td>Southampton</td>\n",
              "      <td>no</td>\n",
              "      <td>False</td>\n",
              "    </tr>\n",
              "    <tr>\n",
              "      <th>1</th>\n",
              "      <td>1</td>\n",
              "      <td>1</td>\n",
              "      <td>female</td>\n",
              "      <td>38.0</td>\n",
              "      <td>1</td>\n",
              "      <td>0</td>\n",
              "      <td>71.2833</td>\n",
              "      <td>C</td>\n",
              "      <td>First</td>\n",
              "      <td>woman</td>\n",
              "      <td>False</td>\n",
              "      <td>C</td>\n",
              "      <td>Cherbourg</td>\n",
              "      <td>yes</td>\n",
              "      <td>False</td>\n",
              "    </tr>\n",
              "    <tr>\n",
              "      <th>2</th>\n",
              "      <td>1</td>\n",
              "      <td>3</td>\n",
              "      <td>female</td>\n",
              "      <td>26.0</td>\n",
              "      <td>0</td>\n",
              "      <td>0</td>\n",
              "      <td>7.9250</td>\n",
              "      <td>S</td>\n",
              "      <td>Third</td>\n",
              "      <td>woman</td>\n",
              "      <td>False</td>\n",
              "      <td>NaN</td>\n",
              "      <td>Southampton</td>\n",
              "      <td>yes</td>\n",
              "      <td>True</td>\n",
              "    </tr>\n",
              "    <tr>\n",
              "      <th>3</th>\n",
              "      <td>1</td>\n",
              "      <td>1</td>\n",
              "      <td>female</td>\n",
              "      <td>35.0</td>\n",
              "      <td>1</td>\n",
              "      <td>0</td>\n",
              "      <td>53.1000</td>\n",
              "      <td>S</td>\n",
              "      <td>First</td>\n",
              "      <td>woman</td>\n",
              "      <td>False</td>\n",
              "      <td>C</td>\n",
              "      <td>Southampton</td>\n",
              "      <td>yes</td>\n",
              "      <td>False</td>\n",
              "    </tr>\n",
              "    <tr>\n",
              "      <th>4</th>\n",
              "      <td>0</td>\n",
              "      <td>3</td>\n",
              "      <td>male</td>\n",
              "      <td>35.0</td>\n",
              "      <td>0</td>\n",
              "      <td>0</td>\n",
              "      <td>8.0500</td>\n",
              "      <td>S</td>\n",
              "      <td>Third</td>\n",
              "      <td>man</td>\n",
              "      <td>True</td>\n",
              "      <td>NaN</td>\n",
              "      <td>Southampton</td>\n",
              "      <td>no</td>\n",
              "      <td>True</td>\n",
              "    </tr>\n",
              "    <tr>\n",
              "      <th>...</th>\n",
              "      <td>...</td>\n",
              "      <td>...</td>\n",
              "      <td>...</td>\n",
              "      <td>...</td>\n",
              "      <td>...</td>\n",
              "      <td>...</td>\n",
              "      <td>...</td>\n",
              "      <td>...</td>\n",
              "      <td>...</td>\n",
              "      <td>...</td>\n",
              "      <td>...</td>\n",
              "      <td>...</td>\n",
              "      <td>...</td>\n",
              "      <td>...</td>\n",
              "      <td>...</td>\n",
              "    </tr>\n",
              "    <tr>\n",
              "      <th>886</th>\n",
              "      <td>0</td>\n",
              "      <td>2</td>\n",
              "      <td>male</td>\n",
              "      <td>27.0</td>\n",
              "      <td>0</td>\n",
              "      <td>0</td>\n",
              "      <td>13.0000</td>\n",
              "      <td>S</td>\n",
              "      <td>Second</td>\n",
              "      <td>man</td>\n",
              "      <td>True</td>\n",
              "      <td>NaN</td>\n",
              "      <td>Southampton</td>\n",
              "      <td>no</td>\n",
              "      <td>True</td>\n",
              "    </tr>\n",
              "    <tr>\n",
              "      <th>887</th>\n",
              "      <td>1</td>\n",
              "      <td>1</td>\n",
              "      <td>female</td>\n",
              "      <td>19.0</td>\n",
              "      <td>0</td>\n",
              "      <td>0</td>\n",
              "      <td>30.0000</td>\n",
              "      <td>S</td>\n",
              "      <td>First</td>\n",
              "      <td>woman</td>\n",
              "      <td>False</td>\n",
              "      <td>B</td>\n",
              "      <td>Southampton</td>\n",
              "      <td>yes</td>\n",
              "      <td>True</td>\n",
              "    </tr>\n",
              "    <tr>\n",
              "      <th>888</th>\n",
              "      <td>0</td>\n",
              "      <td>3</td>\n",
              "      <td>female</td>\n",
              "      <td>NaN</td>\n",
              "      <td>1</td>\n",
              "      <td>2</td>\n",
              "      <td>23.4500</td>\n",
              "      <td>S</td>\n",
              "      <td>Third</td>\n",
              "      <td>woman</td>\n",
              "      <td>False</td>\n",
              "      <td>NaN</td>\n",
              "      <td>Southampton</td>\n",
              "      <td>no</td>\n",
              "      <td>False</td>\n",
              "    </tr>\n",
              "    <tr>\n",
              "      <th>889</th>\n",
              "      <td>1</td>\n",
              "      <td>1</td>\n",
              "      <td>male</td>\n",
              "      <td>26.0</td>\n",
              "      <td>0</td>\n",
              "      <td>0</td>\n",
              "      <td>30.0000</td>\n",
              "      <td>C</td>\n",
              "      <td>First</td>\n",
              "      <td>man</td>\n",
              "      <td>True</td>\n",
              "      <td>C</td>\n",
              "      <td>Cherbourg</td>\n",
              "      <td>yes</td>\n",
              "      <td>True</td>\n",
              "    </tr>\n",
              "    <tr>\n",
              "      <th>890</th>\n",
              "      <td>0</td>\n",
              "      <td>3</td>\n",
              "      <td>male</td>\n",
              "      <td>32.0</td>\n",
              "      <td>0</td>\n",
              "      <td>0</td>\n",
              "      <td>7.7500</td>\n",
              "      <td>Q</td>\n",
              "      <td>Third</td>\n",
              "      <td>man</td>\n",
              "      <td>True</td>\n",
              "      <td>NaN</td>\n",
              "      <td>Queenstown</td>\n",
              "      <td>no</td>\n",
              "      <td>True</td>\n",
              "    </tr>\n",
              "  </tbody>\n",
              "</table>\n",
              "<p>891 rows × 15 columns</p>\n",
              "</div>"
            ],
            "text/plain": [
              "     survived  pclass     sex   age  ...  deck  embark_town  alive  alone\n",
              "0           0       3    male  22.0  ...   NaN  Southampton     no  False\n",
              "1           1       1  female  38.0  ...     C    Cherbourg    yes  False\n",
              "2           1       3  female  26.0  ...   NaN  Southampton    yes   True\n",
              "3           1       1  female  35.0  ...     C  Southampton    yes  False\n",
              "4           0       3    male  35.0  ...   NaN  Southampton     no   True\n",
              "..        ...     ...     ...   ...  ...   ...          ...    ...    ...\n",
              "886         0       2    male  27.0  ...   NaN  Southampton     no   True\n",
              "887         1       1  female  19.0  ...     B  Southampton    yes   True\n",
              "888         0       3  female   NaN  ...   NaN  Southampton     no  False\n",
              "889         1       1    male  26.0  ...     C    Cherbourg    yes   True\n",
              "890         0       3    male  32.0  ...   NaN   Queenstown     no   True\n",
              "\n",
              "[891 rows x 15 columns]"
            ]
          },
          "metadata": {
            "tags": []
          },
          "execution_count": 56
        }
      ]
    },
    {
      "cell_type": "markdown",
      "metadata": {
        "id": "rr551olPf2uo"
      },
      "source": [
        "# Average age of woman category."
      ]
    },
    {
      "cell_type": "code",
      "metadata": {
        "id": "bixJr9lyfzTU",
        "colab": {
          "base_uri": "https://localhost:8080/"
        },
        "outputId": "ed60d25f-3cd9-48ed-d223-7647c9ffc81f"
      },
      "source": [
        "data[data.who=='woman'].age.mean()"
      ],
      "execution_count": 57,
      "outputs": [
        {
          "output_type": "execute_result",
          "data": {
            "text/plain": [
              "32.0"
            ]
          },
          "metadata": {
            "tags": []
          },
          "execution_count": 57
        }
      ]
    },
    {
      "cell_type": "markdown",
      "metadata": {
        "id": "7nZayYnMgGrq"
      },
      "source": [
        "## Average age of man category."
      ]
    },
    {
      "cell_type": "code",
      "metadata": {
        "id": "kSFLxy6cgH_J",
        "colab": {
          "base_uri": "https://localhost:8080/"
        },
        "outputId": "4cd8a488-11f5-40cf-c0a2-dc857e407a66"
      },
      "source": [
        "data[data.who=='man'].age.mean()"
      ],
      "execution_count": 58,
      "outputs": [
        {
          "output_type": "execute_result",
          "data": {
            "text/plain": [
              "33.17312348668281"
            ]
          },
          "metadata": {
            "tags": []
          },
          "execution_count": 58
        }
      ]
    },
    {
      "cell_type": "markdown",
      "metadata": {
        "id": "OcA_gkVCgJae"
      },
      "source": [
        "## The lowest age among alone woman."
      ]
    },
    {
      "cell_type": "code",
      "metadata": {
        "id": "d0Q0N28egPQk",
        "colab": {
          "base_uri": "https://localhost:8080/"
        },
        "outputId": "88b34a9a-817b-45ef-818b-24a4a480cd09"
      },
      "source": [
        "data[data.who=='woman'].age.min()"
      ],
      "execution_count": 59,
      "outputs": [
        {
          "output_type": "execute_result",
          "data": {
            "text/plain": [
              "16.0"
            ]
          },
          "metadata": {
            "tags": []
          },
          "execution_count": 59
        }
      ]
    },
    {
      "cell_type": "markdown",
      "metadata": {
        "id": "oXGs5DrOgWyy"
      },
      "source": [
        "# The highest pulse among running student and not fat category. "
      ]
    },
    {
      "cell_type": "code",
      "metadata": {
        "id": "pQ2CmrD-gcHr"
      },
      "source": [
        ""
      ],
      "execution_count": 59,
      "outputs": []
    },
    {
      "cell_type": "code",
      "metadata": {
        "id": "heZSOhJCjyAH"
      },
      "source": [
        ""
      ],
      "execution_count": 59,
      "outputs": []
    },
    {
      "cell_type": "markdown",
      "metadata": {
        "id": "LGVBxC-ugecu"
      },
      "source": [
        "# Sort the DataFrame in ascending order of the 'age' use sort values (df.sort_values(by='...', ascending=...)). "
      ]
    },
    {
      "cell_type": "code",
      "metadata": {
        "id": "AYOirmImgiMQ",
        "colab": {
          "base_uri": "https://localhost:8080/",
          "height": 422
        },
        "outputId": "aaaf6a8a-c3e2-4022-b584-b09a7ec36805"
      },
      "source": [
        "y=data.sort_values(by=['age'],ascending=True)\n",
        "y"
      ],
      "execution_count": 60,
      "outputs": [
        {
          "output_type": "execute_result",
          "data": {
            "text/html": [
              "<div>\n",
              "<style scoped>\n",
              "    .dataframe tbody tr th:only-of-type {\n",
              "        vertical-align: middle;\n",
              "    }\n",
              "\n",
              "    .dataframe tbody tr th {\n",
              "        vertical-align: top;\n",
              "    }\n",
              "\n",
              "    .dataframe thead th {\n",
              "        text-align: right;\n",
              "    }\n",
              "</style>\n",
              "<table border=\"1\" class=\"dataframe\">\n",
              "  <thead>\n",
              "    <tr style=\"text-align: right;\">\n",
              "      <th></th>\n",
              "      <th>survived</th>\n",
              "      <th>pclass</th>\n",
              "      <th>sex</th>\n",
              "      <th>age</th>\n",
              "      <th>sibsp</th>\n",
              "      <th>parch</th>\n",
              "      <th>fare</th>\n",
              "      <th>embarked</th>\n",
              "      <th>class</th>\n",
              "      <th>who</th>\n",
              "      <th>adult_male</th>\n",
              "      <th>deck</th>\n",
              "      <th>embark_town</th>\n",
              "      <th>alive</th>\n",
              "      <th>alone</th>\n",
              "    </tr>\n",
              "  </thead>\n",
              "  <tbody>\n",
              "    <tr>\n",
              "      <th>803</th>\n",
              "      <td>1</td>\n",
              "      <td>3</td>\n",
              "      <td>male</td>\n",
              "      <td>0.42</td>\n",
              "      <td>0</td>\n",
              "      <td>1</td>\n",
              "      <td>8.5167</td>\n",
              "      <td>C</td>\n",
              "      <td>Third</td>\n",
              "      <td>child</td>\n",
              "      <td>False</td>\n",
              "      <td>NaN</td>\n",
              "      <td>Cherbourg</td>\n",
              "      <td>yes</td>\n",
              "      <td>False</td>\n",
              "    </tr>\n",
              "    <tr>\n",
              "      <th>755</th>\n",
              "      <td>1</td>\n",
              "      <td>2</td>\n",
              "      <td>male</td>\n",
              "      <td>0.67</td>\n",
              "      <td>1</td>\n",
              "      <td>1</td>\n",
              "      <td>14.5000</td>\n",
              "      <td>S</td>\n",
              "      <td>Second</td>\n",
              "      <td>child</td>\n",
              "      <td>False</td>\n",
              "      <td>NaN</td>\n",
              "      <td>Southampton</td>\n",
              "      <td>yes</td>\n",
              "      <td>False</td>\n",
              "    </tr>\n",
              "    <tr>\n",
              "      <th>644</th>\n",
              "      <td>1</td>\n",
              "      <td>3</td>\n",
              "      <td>female</td>\n",
              "      <td>0.75</td>\n",
              "      <td>2</td>\n",
              "      <td>1</td>\n",
              "      <td>19.2583</td>\n",
              "      <td>C</td>\n",
              "      <td>Third</td>\n",
              "      <td>child</td>\n",
              "      <td>False</td>\n",
              "      <td>NaN</td>\n",
              "      <td>Cherbourg</td>\n",
              "      <td>yes</td>\n",
              "      <td>False</td>\n",
              "    </tr>\n",
              "    <tr>\n",
              "      <th>469</th>\n",
              "      <td>1</td>\n",
              "      <td>3</td>\n",
              "      <td>female</td>\n",
              "      <td>0.75</td>\n",
              "      <td>2</td>\n",
              "      <td>1</td>\n",
              "      <td>19.2583</td>\n",
              "      <td>C</td>\n",
              "      <td>Third</td>\n",
              "      <td>child</td>\n",
              "      <td>False</td>\n",
              "      <td>NaN</td>\n",
              "      <td>Cherbourg</td>\n",
              "      <td>yes</td>\n",
              "      <td>False</td>\n",
              "    </tr>\n",
              "    <tr>\n",
              "      <th>78</th>\n",
              "      <td>1</td>\n",
              "      <td>2</td>\n",
              "      <td>male</td>\n",
              "      <td>0.83</td>\n",
              "      <td>0</td>\n",
              "      <td>2</td>\n",
              "      <td>29.0000</td>\n",
              "      <td>S</td>\n",
              "      <td>Second</td>\n",
              "      <td>child</td>\n",
              "      <td>False</td>\n",
              "      <td>NaN</td>\n",
              "      <td>Southampton</td>\n",
              "      <td>yes</td>\n",
              "      <td>False</td>\n",
              "    </tr>\n",
              "    <tr>\n",
              "      <th>...</th>\n",
              "      <td>...</td>\n",
              "      <td>...</td>\n",
              "      <td>...</td>\n",
              "      <td>...</td>\n",
              "      <td>...</td>\n",
              "      <td>...</td>\n",
              "      <td>...</td>\n",
              "      <td>...</td>\n",
              "      <td>...</td>\n",
              "      <td>...</td>\n",
              "      <td>...</td>\n",
              "      <td>...</td>\n",
              "      <td>...</td>\n",
              "      <td>...</td>\n",
              "      <td>...</td>\n",
              "    </tr>\n",
              "    <tr>\n",
              "      <th>859</th>\n",
              "      <td>0</td>\n",
              "      <td>3</td>\n",
              "      <td>male</td>\n",
              "      <td>NaN</td>\n",
              "      <td>0</td>\n",
              "      <td>0</td>\n",
              "      <td>7.2292</td>\n",
              "      <td>C</td>\n",
              "      <td>Third</td>\n",
              "      <td>man</td>\n",
              "      <td>True</td>\n",
              "      <td>NaN</td>\n",
              "      <td>Cherbourg</td>\n",
              "      <td>no</td>\n",
              "      <td>True</td>\n",
              "    </tr>\n",
              "    <tr>\n",
              "      <th>863</th>\n",
              "      <td>0</td>\n",
              "      <td>3</td>\n",
              "      <td>female</td>\n",
              "      <td>NaN</td>\n",
              "      <td>8</td>\n",
              "      <td>2</td>\n",
              "      <td>69.5500</td>\n",
              "      <td>S</td>\n",
              "      <td>Third</td>\n",
              "      <td>woman</td>\n",
              "      <td>False</td>\n",
              "      <td>NaN</td>\n",
              "      <td>Southampton</td>\n",
              "      <td>no</td>\n",
              "      <td>False</td>\n",
              "    </tr>\n",
              "    <tr>\n",
              "      <th>868</th>\n",
              "      <td>0</td>\n",
              "      <td>3</td>\n",
              "      <td>male</td>\n",
              "      <td>NaN</td>\n",
              "      <td>0</td>\n",
              "      <td>0</td>\n",
              "      <td>9.5000</td>\n",
              "      <td>S</td>\n",
              "      <td>Third</td>\n",
              "      <td>man</td>\n",
              "      <td>True</td>\n",
              "      <td>NaN</td>\n",
              "      <td>Southampton</td>\n",
              "      <td>no</td>\n",
              "      <td>True</td>\n",
              "    </tr>\n",
              "    <tr>\n",
              "      <th>878</th>\n",
              "      <td>0</td>\n",
              "      <td>3</td>\n",
              "      <td>male</td>\n",
              "      <td>NaN</td>\n",
              "      <td>0</td>\n",
              "      <td>0</td>\n",
              "      <td>7.8958</td>\n",
              "      <td>S</td>\n",
              "      <td>Third</td>\n",
              "      <td>man</td>\n",
              "      <td>True</td>\n",
              "      <td>NaN</td>\n",
              "      <td>Southampton</td>\n",
              "      <td>no</td>\n",
              "      <td>True</td>\n",
              "    </tr>\n",
              "    <tr>\n",
              "      <th>888</th>\n",
              "      <td>0</td>\n",
              "      <td>3</td>\n",
              "      <td>female</td>\n",
              "      <td>NaN</td>\n",
              "      <td>1</td>\n",
              "      <td>2</td>\n",
              "      <td>23.4500</td>\n",
              "      <td>S</td>\n",
              "      <td>Third</td>\n",
              "      <td>woman</td>\n",
              "      <td>False</td>\n",
              "      <td>NaN</td>\n",
              "      <td>Southampton</td>\n",
              "      <td>no</td>\n",
              "      <td>False</td>\n",
              "    </tr>\n",
              "  </tbody>\n",
              "</table>\n",
              "<p>891 rows × 15 columns</p>\n",
              "</div>"
            ],
            "text/plain": [
              "     survived  pclass     sex   age  ...  deck  embark_town  alive  alone\n",
              "803         1       3    male  0.42  ...   NaN    Cherbourg    yes  False\n",
              "755         1       2    male  0.67  ...   NaN  Southampton    yes  False\n",
              "644         1       3  female  0.75  ...   NaN    Cherbourg    yes  False\n",
              "469         1       3  female  0.75  ...   NaN    Cherbourg    yes  False\n",
              "78          1       2    male  0.83  ...   NaN  Southampton    yes  False\n",
              "..        ...     ...     ...   ...  ...   ...          ...    ...    ...\n",
              "859         0       3    male   NaN  ...   NaN    Cherbourg     no   True\n",
              "863         0       3  female   NaN  ...   NaN  Southampton     no  False\n",
              "868         0       3    male   NaN  ...   NaN  Southampton     no   True\n",
              "878         0       3    male   NaN  ...   NaN  Southampton     no   True\n",
              "888         0       3  female   NaN  ...   NaN  Southampton     no  False\n",
              "\n",
              "[891 rows x 15 columns]"
            ]
          },
          "metadata": {
            "tags": []
          },
          "execution_count": 60
        }
      ]
    }
  ]
}