{
  "nbformat": 4,
  "nbformat_minor": 0,
  "metadata": {
    "colab": {
      "name": "Chapter3_Unit_4_6.ipynb",
      "private_outputs": true,
      "provenance": [],
      "collapsed_sections": []
    },
    "kernelspec": {
      "display_name": "Python 3",
      "language": "python",
      "name": "python3"
    },
    "language_info": {
      "codemirror_mode": {
        "name": "ipython",
        "version": 3
      },
      "file_extension": ".py",
      "mimetype": "text/x-python",
      "name": "python",
      "nbconvert_exporter": "python",
      "pygments_lexer": "ipython3",
      "version": "3.7.0"
    },
    "toc": {
      "base_numbering": 1,
      "nav_menu": {},
      "number_sections": true,
      "sideBar": true,
      "skip_h1_title": false,
      "title_cell": "Table of Contents",
      "title_sidebar": "Contents",
      "toc_cell": false,
      "toc_position": {},
      "toc_section_display": true,
      "toc_window_display": false
    },
    "varInspector": {
      "cols": {
        "lenName": 16,
        "lenType": 16,
        "lenVar": 40
      },
      "kernels_config": {
        "python": {
          "delete_cmd_postfix": "",
          "delete_cmd_prefix": "del ",
          "library": "var_list.py",
          "varRefreshCmd": "print(var_dic_list())"
        },
        "r": {
          "delete_cmd_postfix": ") ",
          "delete_cmd_prefix": "rm(",
          "library": "var_list.r",
          "varRefreshCmd": "cat(var_dic_list()) "
        }
      },
      "types_to_exclude": [
        "module",
        "function",
        "builtin_function_or_method",
        "instance",
        "_Feature"
      ],
      "window_display": false
    }
  },
  "cells": [
    {
      "cell_type": "code",
      "metadata": {
        "ExecuteTime": {
          "end_time": "2021-07-18T00:33:41.301169Z",
          "start_time": "2021-07-18T00:33:29.990907Z"
        },
        "id": "wdt4dxJyQ1Eo"
      },
      "source": [
        "import scipy.stats as st\n",
        "import matplotlib.pyplot as plt\n",
        "import numpy as np\n",
        "import seaborn as sns\n",
        "%matplotlib inline"
      ],
      "execution_count": null,
      "outputs": []
    },
    {
      "cell_type": "markdown",
      "metadata": {
        "id": "ln1exR4luK4i"
      },
      "source": [
        "## exercice 1\n",
        "\n",
        "given the following parameters : \n",
        "\n",
        "```\n",
        "# The a and b parameters.\n",
        "a = 2000\n",
        "b = 5000\n",
        "base = b - a\n",
        "``` \n"
      ]
    },
    {
      "cell_type": "code",
      "metadata": {
        "id": "2ftzq8mpZ7KT"
      },
      "source": [
        "a=2000\n",
        "b=5000\n",
        "base=b-a"
      ],
      "execution_count": null,
      "outputs": []
    },
    {
      "cell_type": "markdown",
      "metadata": {
        "id": "nkF9jqExuK4j"
      },
      "source": [
        "### define your uniform distribution using the library ``scipy.stats`` and give the probability density using ``pdf`` function for $p(X=4500)$"
      ]
    },
    {
      "cell_type": "code",
      "metadata": {
        "ExecuteTime": {
          "end_time": "2021-07-17T23:03:28.172131Z",
          "start_time": "2021-07-17T23:03:28.156234Z"
        },
        "id": "tAIPh4H0uK4j"
      },
      "source": [
        "# your code here \n",
        "# expected answer :  st.uniform.pdf(4500,a,base)\n",
        "x=st.uniform.pdf(4500,a,base)\n",
        "print(x)\n"
      ],
      "execution_count": null,
      "outputs": []
    },
    {
      "cell_type": "markdown",
      "metadata": {
        "id": "pQT_Ev3MuK4j"
      },
      "source": [
        "### use what you've learned in the course and get this probability without using ``scipy.stats`` (hint : use the properties of the uniform distribution and ``base`` parameter )  "
      ]
    },
    {
      "cell_type": "code",
      "metadata": {
        "id": "TuZyD-RRuK4k"
      },
      "source": [
        "p=1/base\n",
        "print(p)"
      ],
      "execution_count": null,
      "outputs": []
    },
    {
      "cell_type": "markdown",
      "metadata": {
        "id": "Uju-rk-9uK4k"
      },
      "source": [
        "### get quantile at ``alpha = 0.5`` ``alpha = 0.9`` ``alpha = 0.01`` (hint : consider using ``ppf`` ).  according the to these results , what is the difference between ``pdf`` and ``ppf`` ?\n"
      ]
    },
    {
      "cell_type": "code",
      "metadata": {
        "id": "6U7C2q_fIGLr"
      },
      "source": [
        "x1=st.uniform.ppf(0.5, loc=(a+b)/2)\n",
        "print(x1)"
      ],
      "execution_count": null,
      "outputs": []
    },
    {
      "cell_type": "code",
      "metadata": {
        "id": "HmGr26vZIdjW"
      },
      "source": [
        "x2=st.uniform.ppf(0.9, loc=(a+b)/2)\n",
        "print(x2)"
      ],
      "execution_count": null,
      "outputs": []
    },
    {
      "cell_type": "code",
      "metadata": {
        "id": "EobiyOf0IlCX"
      },
      "source": [
        "x3=st.uniform.ppf(0.01, loc=(a+b)/2)\n",
        "print(x3)"
      ],
      "execution_count": null,
      "outputs": []
    },
    {
      "cell_type": "code",
      "metadata": {
        "id": "6e8Lni-LI2lJ"
      },
      "source": [
        "#ppf :on donne comme entree une proba et elle retourne en sortie le x correspondant \n",
        "#pdf :on donne un x comme entree et la sortie est une proba\n",
        "#ppf est l'inverse de pdf"
      ],
      "execution_count": null,
      "outputs": []
    },
    {
      "cell_type": "markdown",
      "metadata": {
        "id": "iMJQ4ekKuK4m"
      },
      "source": [
        "### what is the  probability of x between ``a`` and ``2500``  $P(a <= X <= 2500)$ ? (hint use ``cdf`` )\n"
      ]
    },
    {
      "cell_type": "code",
      "metadata": {
        "ExecuteTime": {
          "end_time": "2021-07-17T23:23:24.452106Z",
          "start_time": "2021-07-17T23:23:24.443090Z"
        },
        "id": "gz_714YkuK4n"
      },
      "source": [
        "#your code here\n",
        "p=st.uniform.cdf(2500,a,base)-st.uniform.cdf(a, a,base)\n",
        "print(p)"
      ],
      "execution_count": null,
      "outputs": []
    },
    {
      "cell_type": "markdown",
      "metadata": {
        "id": "YxQz_BbzuK4n"
      },
      "source": [
        "### same question for  $P(2500 <= X <=3000)$\n"
      ]
    },
    {
      "cell_type": "code",
      "metadata": {
        "ExecuteTime": {
          "end_time": "2021-07-17T23:24:17.797947Z",
          "start_time": "2021-07-17T23:24:17.789951Z"
        },
        "id": "anvV5KscuK4o"
      },
      "source": [
        "# your code here\n",
        "p=st.uniform.cdf(3000,a,base)-st.uniform.cdf(2500,a,base) \n",
        "print(p)"
      ],
      "execution_count": null,
      "outputs": []
    },
    {
      "cell_type": "markdown",
      "metadata": {
        "id": "59gx4Sz3uK4s"
      },
      "source": [
        "## exercice 2"
      ]
    },
    {
      "cell_type": "markdown",
      "metadata": {
        "id": "u0-isnnWuK4t"
      },
      "source": [
        "### visualize your unifrom distribution \n",
        "\n",
        "- create an x interval using ``np.linspace`` between 1000 and 6000 with 1000 points \n",
        "- plot a uniform distribution with respect to the x values using plot \n",
        "- give a ``color=red`` to the plot function"
      ]
    },
    {
      "cell_type": "code",
      "metadata": {
        "ExecuteTime": {
          "end_time": "2021-07-17T23:26:36.700385Z",
          "start_time": "2021-07-17T23:26:36.678322Z"
        },
        "id": "mJN-_VSKuK4t"
      },
      "source": [
        "uniform_distribution = st.uniform(loc=1000, scale=6000)\n",
        "x = np.linspace(uniform_distribution.ppf(0), uniform_distribution.ppf(1), 1000)\n",
        "pdf = uniform_distribution.pdf(x)\n",
        "plt.plot(x, pdf, 'r-', lw=5, alpha=0.6, label='pdf')\n",
        "plt.show()\n"
      ],
      "execution_count": null,
      "outputs": []
    },
    {
      "cell_type": "markdown",
      "metadata": {
        "id": "0dtlHrgXuK4u"
      },
      "source": [
        "# normal distribution"
      ]
    },
    {
      "cell_type": "markdown",
      "metadata": {
        "id": "DiKTTYXNuK4u"
      },
      "source": [
        "## exercice 1\n",
        "\n",
        "given following  parameters.\n",
        "```\n",
        "mu = 5 # mean  \n",
        "sigma = 2 # standard deviation\n",
        "```"
      ]
    },
    {
      "cell_type": "code",
      "metadata": {
        "id": "HW0Llynis3OX"
      },
      "source": [
        "mu=5\n",
        "sigma=2"
      ],
      "execution_count": null,
      "outputs": []
    },
    {
      "cell_type": "markdown",
      "metadata": {
        "id": "PvdryhYruK4v"
      },
      "source": [
        "### get the probability density $f(X=0)$ using ``pdf`` function of ``scipy.stats.norm``  \n"
      ]
    },
    {
      "cell_type": "code",
      "metadata": {
        "ExecuteTime": {
          "end_time": "2021-07-17T23:45:46.697296Z",
          "start_time": "2021-07-17T23:45:46.690300Z"
        },
        "id": "q5a3880auK4v"
      },
      "source": [
        "pdf_probability = st.norm.pdf(x=0, loc=mu, scale=sigma)\n",
        "print(pdf_probability)"
      ],
      "execution_count": null,
      "outputs": []
    },
    {
      "cell_type": "markdown",
      "metadata": {
        "id": "VXCsKfauuK4v"
      },
      "source": [
        "### get the quantile at ``alpha = 0.5`` ``alpha = 0.01`` ``alpha = 0.99``  using ``ppf``\n"
      ]
    },
    {
      "cell_type": "code",
      "metadata": {
        "ExecuteTime": {
          "end_time": "2021-07-17T23:48:31.902306Z",
          "start_time": "2021-07-17T23:48:31.895310Z"
        },
        "id": "f-F1qP97uK4w"
      },
      "source": [
        "# your code here\n",
        "x1=st.norm.ppf(0.5, loc =mu, scale = sigma)\n",
        "x2=st.norm.ppf(0.01, loc =mu, scale = sigma)\n",
        "x3=st.norm.ppf(0.99, loc =mu, scale = sigma)\n",
        "print(\"x1=\",x1,\"x2=\",x2,\"x3=\",x3)"
      ],
      "execution_count": null,
      "outputs": []
    },
    {
      "cell_type": "markdown",
      "metadata": {
        "id": "oXdyT5MsuK4w"
      },
      "source": [
        "### get the probability $P( X <= 5)$ using ``cdf`` function\n"
      ]
    },
    {
      "cell_type": "code",
      "metadata": {
        "id": "tkAcDR_exDAN"
      },
      "source": [
        "p=st.norm.cdf(5, loc = mu, scale = sigma)\n",
        "print(p)"
      ],
      "execution_count": null,
      "outputs": []
    },
    {
      "cell_type": "markdown",
      "metadata": {
        "id": "m3GcXQz0uK4w"
      },
      "source": [
        "### get the probability $P( 3 <= X <= 7)$ using ``cdf`` function"
      ]
    },
    {
      "cell_type": "code",
      "metadata": {
        "ExecuteTime": {
          "end_time": "2021-07-17T23:50:35.081879Z",
          "start_time": "2021-07-17T23:50:35.077880Z"
        },
        "id": "YZFQ4VjTuK4x"
      },
      "source": [
        "# your code here\n",
        "p=st.norm.cdf(7,loc = mu, scale = sigma)-st.norm.cdf(3,loc = mu, scale = sigma) \n",
        "print(p)"
      ],
      "execution_count": null,
      "outputs": []
    },
    {
      "cell_type": "markdown",
      "metadata": {
        "id": "Y6GjjvQBuK4x"
      },
      "source": [
        "## exercice 2"
      ]
    },
    {
      "cell_type": "markdown",
      "metadata": {
        "id": "H80V78rcuK4x"
      },
      "source": [
        "### normal distribution visualization\n",
        "- create an x interval using ``np.linspace`` between -10 and +10 with 1000 points \n",
        "- plot a normal distribution with respect to the x values using plot \n",
        "- give a ``color=red`` to the plot function\n",
        "- do the same with different parameters ``mu=2 , sigma=0.2`` ``mu=5 , sigma=1`` , label each ``dist1`` and ``dist2`` respectively.\n",
        "- overlap them with the first distribution and show the legend"
      ]
    },
    {
      "cell_type": "code",
      "metadata": {
        "id": "VMX76Y2pTYPB"
      },
      "source": [
        "x=np.linspace(-10,10,1000)\n",
        "plt.plot(x, st.norm.pdf(x, mu, sigma),color=\"r\",label=\"dist1\")\n",
        "plt.plot(x, st.norm.pdf(x, loc=2,scale=0.2),color=\"b\" ,label=\"dist2\") \n",
        "plt.plot(x, st.norm.pdf(x,loc=5,scale=1 ),color=\"g\" ,label='dist3') \n",
        "\n",
        "#add legend to plot\n",
        "plt.legend()\n",
        "plt.show()\n",
        "\n"
      ],
      "execution_count": null,
      "outputs": []
    },
    {
      "cell_type": "markdown",
      "metadata": {
        "id": "jCxE3K2zuK4x"
      },
      "source": [
        "# chi-square variable "
      ]
    },
    {
      "cell_type": "markdown",
      "metadata": {
        "id": "LE980KV9uK4y"
      },
      "source": [
        "### get the probability density $f(X=0)$ using ``pdf`` function of ``scipy.stats.chi2``  \n"
      ]
    },
    {
      "cell_type": "code",
      "metadata": {
        "ExecuteTime": {
          "end_time": "2021-07-17T23:57:59.196863Z",
          "start_time": "2021-07-17T23:57:59.185868Z"
        },
        "id": "9fRrkOX6uK4y"
      },
      "source": [
        "# your code here\n",
        "p=st.chi2.pdf(0,df=5)\n",
        "print(p)"
      ],
      "execution_count": null,
      "outputs": []
    },
    {
      "cell_type": "markdown",
      "metadata": {
        "id": "yLm9tbMuuK4y"
      },
      "source": [
        "### get the quantile at ``alpha = 0.5`` ``alpha = 0.01`` ``alpha = 0.99``  using ``ppf``\n"
      ]
    },
    {
      "cell_type": "code",
      "metadata": {
        "ExecuteTime": {
          "end_time": "2021-07-17T23:59:35.433646Z",
          "start_time": "2021-07-17T23:59:35.421614Z"
        },
        "id": "54sHtvxbuK4z"
      },
      "source": [
        "# your code\n",
        "x1=st.chi2.ppf(0.5,df=5)\n",
        "x2=st.chi2.ppf(0.01,df=5)\n",
        "x3=st.chi2.ppf(0.99,df=5)\n",
        "print(\"x1=\",x1,\"x2=\",x2,\"x3=\",x3)"
      ],
      "execution_count": null,
      "outputs": []
    },
    {
      "cell_type": "markdown",
      "metadata": {
        "id": "JHu5llI-uK4z"
      },
      "source": [
        "### get the probability $P( 5 <= X <= 10)$ with a degree of freedom=7  using ``cdf`` function"
      ]
    },
    {
      "cell_type": "code",
      "metadata": {
        "ExecuteTime": {
          "end_time": "2021-07-18T00:00:30.122428Z",
          "start_time": "2021-07-18T00:00:30.113431Z"
        },
        "id": "T9_MVy4yuK4z"
      },
      "source": [
        "#your code here\n",
        "p=st.chi2.cdf(10,df=7)-st.chi2.cdf(5,df=7) \n",
        "print(p)"
      ],
      "execution_count": null,
      "outputs": []
    },
    {
      "cell_type": "markdown",
      "metadata": {
        "id": "QrOndTK7uK40"
      },
      "source": [
        "### plot chi-square distribution for the following ``dfs`` : 1,5 , 10. The expected result should be like the following : "
      ]
    },
    {
      "cell_type": "code",
      "metadata": {
        "ExecuteTime": {
          "end_time": "2021-07-18T00:03:22.342981Z",
          "start_time": "2021-07-18T00:03:21.962374Z"
        },
        "scrolled": true,
        "id": "wEqGaQ_muK40"
      },
      "source": [
        "x = np.arange(0, 20, 1)\n",
        "#define multiple Chi-square distributions\n",
        "plt.plot(x, st.chi2.pdf(x, df=1), label='df: 1')\n",
        "plt.plot(x, st.chi2.pdf(x, df=5), label='df: 5') \n",
        "plt.plot(x, st.chi2.pdf(x, df=10), label='df: 10') \n",
        "\n",
        "#add legend to plot\n",
        "plt.legend()"
      ],
      "execution_count": null,
      "outputs": []
    },
    {
      "cell_type": "markdown",
      "metadata": {
        "id": "70zFwwqfuK40"
      },
      "source": [
        "# yeah you made it ,you should be proud of yourself , come on , get up and dance \n",
        "\n",
        "\n"
      ]
    },
    {
      "cell_type": "code",
      "metadata": {
        "id": "s425eHtAuK41"
      },
      "source": [
        ""
      ],
      "execution_count": null,
      "outputs": []
    }
  ]
}