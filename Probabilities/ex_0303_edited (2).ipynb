{
  "nbformat": 4,
  "nbformat_minor": 0,
  "metadata": {
    "kernelspec": {
      "display_name": "Python 3",
      "language": "python",
      "name": "python3"
    },
    "language_info": {
      "codemirror_mode": {
        "name": "ipython",
        "version": 3
      },
      "file_extension": ".py",
      "mimetype": "text/x-python",
      "name": "python",
      "nbconvert_exporter": "python",
      "pygments_lexer": "ipython3",
      "version": "3.7.0"
    },
    "toc": {
      "base_numbering": 1,
      "nav_menu": {},
      "number_sections": true,
      "sideBar": true,
      "skip_h1_title": false,
      "title_cell": "Table of Contents",
      "title_sidebar": "Contents",
      "toc_cell": false,
      "toc_position": {},
      "toc_section_display": true,
      "toc_window_display": false
    },
    "varInspector": {
      "cols": {
        "lenName": 16,
        "lenType": 16,
        "lenVar": 40
      },
      "kernels_config": {
        "python": {
          "delete_cmd_postfix": "",
          "delete_cmd_prefix": "del ",
          "library": "var_list.py",
          "varRefreshCmd": "print(var_dic_list())"
        },
        "r": {
          "delete_cmd_postfix": ") ",
          "delete_cmd_prefix": "rm(",
          "library": "var_list.r",
          "varRefreshCmd": "cat(var_dic_list()) "
        }
      },
      "types_to_exclude": [
        "module",
        "function",
        "builtin_function_or_method",
        "instance",
        "_Feature"
      ],
      "window_display": false
    },
    "colab": {
      "name": "ex_0303_edited.ipynb",
      "provenance": [],
      "collapsed_sections": []
    }
  },
  "cells": [
    {
      "cell_type": "markdown",
      "metadata": {
        "id": "rysUlyjb5VH8"
      },
      "source": [
        "## Coding Exercise #0303"
      ]
    },
    {
      "cell_type": "markdown",
      "metadata": {
        "id": "hrs_1hYc5VIB"
      },
      "source": [
        "### 1. Descriptive statistics:"
      ]
    },
    {
      "cell_type": "code",
      "metadata": {
        "ExecuteTime": {
          "end_time": "2021-07-18T23:04:35.402291Z",
          "start_time": "2021-07-18T23:04:22.335997Z"
        },
        "id": "CjnGU7hX5VID"
      },
      "source": [
        "import pandas as pd\n",
        "import numpy as np\n",
        "import matplotlib.pyplot as plt\n",
        "import os\n",
        "%matplotlib inline"
      ],
      "execution_count": 1,
      "outputs": []
    },
    {
      "cell_type": "code",
      "metadata": {
        "id": "Y9wmSfAX5VIE"
      },
      "source": [
        ""
      ],
      "execution_count": 1,
      "outputs": []
    },
    {
      "cell_type": "code",
      "metadata": {
        "ExecuteTime": {
          "end_time": "2021-07-18T23:05:09.387372Z",
          "start_time": "2021-07-18T23:05:09.377391Z"
        },
        "id": "fpHpV8Ri5VIE"
      },
      "source": [
        "# Read in the data.\n",
        "df = pd.read_csv('data_studentlist.csv', header='infer')"
      ],
      "execution_count": 2,
      "outputs": []
    },
    {
      "cell_type": "markdown",
      "metadata": {
        "id": "GvhVKExL5VIF"
      },
      "source": [
        "print the shape of df"
      ]
    },
    {
      "cell_type": "code",
      "metadata": {
        "id": "Fsceg2Ut5VIF",
        "colab": {
          "base_uri": "https://localhost:8080/"
        },
        "outputId": "1f07fbb1-043d-4501-fdd8-65ef2c6fb715"
      },
      "source": [
        "df.shape"
      ],
      "execution_count": 3,
      "outputs": [
        {
          "output_type": "execute_result",
          "data": {
            "text/plain": [
              "(17, 8)"
            ]
          },
          "metadata": {
            "tags": []
          },
          "execution_count": 3
        }
      ]
    },
    {
      "cell_type": "markdown",
      "metadata": {
        "id": "azEfiFz_5VIG"
      },
      "source": [
        "display the first 5 lines of the data "
      ]
    },
    {
      "cell_type": "code",
      "metadata": {
        "id": "YEOCYEL85VIH",
        "colab": {
          "base_uri": "https://localhost:8080/",
          "height": 203
        },
        "outputId": "5b328cb6-fb42-4115-cd22-31344dc9dcde"
      },
      "source": [
        "df.head()"
      ],
      "execution_count": 4,
      "outputs": [
        {
          "output_type": "execute_result",
          "data": {
            "text/html": [
              "<div>\n",
              "<style scoped>\n",
              "    .dataframe tbody tr th:only-of-type {\n",
              "        vertical-align: middle;\n",
              "    }\n",
              "\n",
              "    .dataframe tbody tr th {\n",
              "        vertical-align: top;\n",
              "    }\n",
              "\n",
              "    .dataframe thead th {\n",
              "        text-align: right;\n",
              "    }\n",
              "</style>\n",
              "<table border=\"1\" class=\"dataframe\">\n",
              "  <thead>\n",
              "    <tr style=\"text-align: right;\">\n",
              "      <th></th>\n",
              "      <th>name</th>\n",
              "      <th>gender</th>\n",
              "      <th>age</th>\n",
              "      <th>grade</th>\n",
              "      <th>absence</th>\n",
              "      <th>bloodtype</th>\n",
              "      <th>height</th>\n",
              "      <th>weight</th>\n",
              "    </tr>\n",
              "  </thead>\n",
              "  <tbody>\n",
              "    <tr>\n",
              "      <th>0</th>\n",
              "      <td>Jared Diamond</td>\n",
              "      <td>M</td>\n",
              "      <td>23</td>\n",
              "      <td>3</td>\n",
              "      <td>Y</td>\n",
              "      <td>O</td>\n",
              "      <td>165.3</td>\n",
              "      <td>68.2</td>\n",
              "    </tr>\n",
              "    <tr>\n",
              "      <th>1</th>\n",
              "      <td>Sarah O'Donnel</td>\n",
              "      <td>F</td>\n",
              "      <td>22</td>\n",
              "      <td>2</td>\n",
              "      <td>N</td>\n",
              "      <td>AB</td>\n",
              "      <td>170.1</td>\n",
              "      <td>53.0</td>\n",
              "    </tr>\n",
              "    <tr>\n",
              "      <th>2</th>\n",
              "      <td>Brian Martin</td>\n",
              "      <td>M</td>\n",
              "      <td>24</td>\n",
              "      <td>4</td>\n",
              "      <td>N</td>\n",
              "      <td>B</td>\n",
              "      <td>175.0</td>\n",
              "      <td>80.1</td>\n",
              "    </tr>\n",
              "    <tr>\n",
              "      <th>3</th>\n",
              "      <td>David Hassel</td>\n",
              "      <td>M</td>\n",
              "      <td>23</td>\n",
              "      <td>3</td>\n",
              "      <td>N</td>\n",
              "      <td>AB</td>\n",
              "      <td>182.1</td>\n",
              "      <td>85.7</td>\n",
              "    </tr>\n",
              "    <tr>\n",
              "      <th>4</th>\n",
              "      <td>Clara Rodriquez</td>\n",
              "      <td>F</td>\n",
              "      <td>20</td>\n",
              "      <td>1</td>\n",
              "      <td>Y</td>\n",
              "      <td>A</td>\n",
              "      <td>168.0</td>\n",
              "      <td>49.5</td>\n",
              "    </tr>\n",
              "  </tbody>\n",
              "</table>\n",
              "</div>"
            ],
            "text/plain": [
              "              name gender  age  grade absence bloodtype  height  weight\n",
              "0    Jared Diamond      M   23      3       Y         O   165.3    68.2\n",
              "1   Sarah O'Donnel      F   22      2       N        AB   170.1    53.0\n",
              "2     Brian Martin      M   24      4       N         B   175.0    80.1\n",
              "3     David Hassel      M   23      3       N        AB   182.1    85.7\n",
              "4  Clara Rodriquez      F   20      1       Y         A   168.0    49.5"
            ]
          },
          "metadata": {
            "tags": []
          },
          "execution_count": 4
        }
      ]
    },
    {
      "cell_type": "markdown",
      "metadata": {
        "id": "3wLwz4mL5VII"
      },
      "source": [
        "#### 1.1. Sample statistics:"
      ]
    },
    {
      "cell_type": "code",
      "metadata": {
        "id": "mzkR6h4K9mAr",
        "colab": {
          "base_uri": "https://localhost:8080/",
          "height": 295
        },
        "outputId": "81b9a90e-0c4b-4f2f-d99c-d8f74f7a2174"
      },
      "source": [
        "df.describe()"
      ],
      "execution_count": 5,
      "outputs": [
        {
          "output_type": "execute_result",
          "data": {
            "text/html": [
              "<div>\n",
              "<style scoped>\n",
              "    .dataframe tbody tr th:only-of-type {\n",
              "        vertical-align: middle;\n",
              "    }\n",
              "\n",
              "    .dataframe tbody tr th {\n",
              "        vertical-align: top;\n",
              "    }\n",
              "\n",
              "    .dataframe thead th {\n",
              "        text-align: right;\n",
              "    }\n",
              "</style>\n",
              "<table border=\"1\" class=\"dataframe\">\n",
              "  <thead>\n",
              "    <tr style=\"text-align: right;\">\n",
              "      <th></th>\n",
              "      <th>age</th>\n",
              "      <th>grade</th>\n",
              "      <th>height</th>\n",
              "      <th>weight</th>\n",
              "    </tr>\n",
              "  </thead>\n",
              "  <tbody>\n",
              "    <tr>\n",
              "      <th>count</th>\n",
              "      <td>17.000000</td>\n",
              "      <td>17.000000</td>\n",
              "      <td>17.000000</td>\n",
              "      <td>17.000000</td>\n",
              "    </tr>\n",
              "    <tr>\n",
              "      <th>mean</th>\n",
              "      <td>22.352941</td>\n",
              "      <td>2.294118</td>\n",
              "      <td>170.035294</td>\n",
              "      <td>61.064706</td>\n",
              "    </tr>\n",
              "    <tr>\n",
              "      <th>std</th>\n",
              "      <td>1.169464</td>\n",
              "      <td>1.104802</td>\n",
              "      <td>7.849756</td>\n",
              "      <td>11.851685</td>\n",
              "    </tr>\n",
              "    <tr>\n",
              "      <th>min</th>\n",
              "      <td>20.000000</td>\n",
              "      <td>1.000000</td>\n",
              "      <td>155.200000</td>\n",
              "      <td>45.200000</td>\n",
              "    </tr>\n",
              "    <tr>\n",
              "      <th>25%</th>\n",
              "      <td>22.000000</td>\n",
              "      <td>1.000000</td>\n",
              "      <td>165.300000</td>\n",
              "      <td>53.000000</td>\n",
              "    </tr>\n",
              "    <tr>\n",
              "      <th>50%</th>\n",
              "      <td>22.000000</td>\n",
              "      <td>2.000000</td>\n",
              "      <td>169.200000</td>\n",
              "      <td>61.300000</td>\n",
              "    </tr>\n",
              "    <tr>\n",
              "      <th>75%</th>\n",
              "      <td>23.000000</td>\n",
              "      <td>3.000000</td>\n",
              "      <td>176.100000</td>\n",
              "      <td>68.200000</td>\n",
              "    </tr>\n",
              "    <tr>\n",
              "      <th>max</th>\n",
              "      <td>24.000000</td>\n",
              "      <td>4.000000</td>\n",
              "      <td>182.100000</td>\n",
              "      <td>85.700000</td>\n",
              "    </tr>\n",
              "  </tbody>\n",
              "</table>\n",
              "</div>"
            ],
            "text/plain": [
              "             age      grade      height     weight\n",
              "count  17.000000  17.000000   17.000000  17.000000\n",
              "mean   22.352941   2.294118  170.035294  61.064706\n",
              "std     1.169464   1.104802    7.849756  11.851685\n",
              "min    20.000000   1.000000  155.200000  45.200000\n",
              "25%    22.000000   1.000000  165.300000  53.000000\n",
              "50%    22.000000   2.000000  169.200000  61.300000\n",
              "75%    23.000000   3.000000  176.100000  68.200000\n",
              "max    24.000000   4.000000  182.100000  85.700000"
            ]
          },
          "metadata": {
            "tags": []
          },
          "execution_count": 5
        }
      ]
    },
    {
      "cell_type": "markdown",
      "metadata": {
        "id": "wMEOY08m5VII"
      },
      "source": [
        "calculate the mean of height"
      ]
    },
    {
      "cell_type": "code",
      "metadata": {
        "id": "kKLc4KjI5VIJ",
        "colab": {
          "base_uri": "https://localhost:8080/"
        },
        "outputId": "33640dfb-cd64-43d3-fd17-5ef522013fed"
      },
      "source": [
        "mean=df[\"height\"].mean()\n",
        "print(mean)"
      ],
      "execution_count": 6,
      "outputs": [
        {
          "output_type": "stream",
          "text": [
            "170.03529411764703\n"
          ],
          "name": "stdout"
        }
      ]
    },
    {
      "cell_type": "markdown",
      "metadata": {
        "id": "yiXcKVy35VIK"
      },
      "source": [
        "\n",
        "Question : ge the unbiased estimator of the variance (i.e divided by $n-1$). (hint-1 : read the documentation of ``var`` )\n",
        "\n",
        "\n",
        "\n",
        "\n",
        "hint-2 : A statistic d is called an unbiased estimator for a function of the parameter g(θ) provided that for every choice of θ, Eθd(X) = g(θ). Any estimator that not unbiased is called biased. The bias is the difference bd(θ) = Eθd(X) − g(θ). We can assess the quality of an estimator by computing its mean square error.\n",
        "\n",
        "In statistics, the bias of an estimator is the difference between this estimator's expected value and the true value of the parameter being estimated. An estimator or decision rule with zero bias is called unbiased. In statistics, \"bias\" is an objective property of an estimator\n",
        "\n",
        "\n",
        "\n",
        "Documentation:\n",
        "\n",
        "\n",
        "https://www.khanacademy.org/math/ap-statistics/summarizing-quantitative-data-ap/more-standard-deviation/a/unbiased-estimate-of-population-variance\n",
        "\n",
        "\n",
        "http://stat88.org/textbook/notebooks/Chapter_05/04_Unbiased_Estimators.html\n"
      ]
    },
    {
      "cell_type": "code",
      "metadata": {
        "ExecuteTime": {
          "end_time": "2021-07-18T23:09:56.851989Z",
          "start_time": "2021-07-18T23:09:56.833998Z"
        },
        "id": "rtpFTT--5VIK",
        "colab": {
          "base_uri": "https://localhost:8080/"
        },
        "outputId": "268dfcd7-d0f2-4a8d-d2d9-d75eae914f9e"
      },
      "source": [
        "# Unbiased estimator of the variance.\n",
        "import statistics\n",
        "statistics.variance(df[\"height\"]) #formule utilisé /n-1"
      ],
      "execution_count": 7,
      "outputs": [
        {
          "output_type": "execute_result",
          "data": {
            "text/plain": [
              "61.61867647058827"
            ]
          },
          "metadata": {
            "tags": []
          },
          "execution_count": 7
        }
      ]
    },
    {
      "cell_type": "code",
      "metadata": {
        "colab": {
          "base_uri": "https://localhost:8080/"
        },
        "id": "h5ZlcdrksF4J",
        "outputId": "684f0e39-c293-4014-9e3c-4f1f7aab68ea"
      },
      "source": [
        "variance_biased=np.var(df[\"height\"]) # formule utilisé /n\n",
        "print(variance_biased)"
      ],
      "execution_count": 8,
      "outputs": [
        {
          "output_type": "stream",
          "text": [
            "57.99404844290661\n"
          ],
          "name": "stdout"
        }
      ]
    },
    {
      "cell_type": "code",
      "metadata": {
        "colab": {
          "base_uri": "https://localhost:8080/"
        },
        "id": "-NqPU7etRPNX",
        "outputId": "c93ec15c-6d6b-40e7-952b-eb7d7ee87e17"
      },
      "source": [
        "statistics.pvariance(df[\"height\"])"
      ],
      "execution_count": 9,
      "outputs": [
        {
          "output_type": "execute_result",
          "data": {
            "text/plain": [
              "57.99404844290661"
            ]
          },
          "metadata": {
            "tags": []
          },
          "execution_count": 9
        }
      ]
    },
    {
      "cell_type": "markdown",
      "metadata": {
        "id": "QrT9XbI7A8or"
      },
      "source": [
        "Delta Degrees of Freedom: the divisor used in the calculation is N - ddof, where N represents the number of elements. By default, ddof is zero.\n",
        "\n",
        "The mean is normally calculated as x.sum() / N, where N = len(x). If, however, ddof is specified, the divisor N - ddof is used instead.\n",
        "\n",
        "In standard statistical practice, ddof=1 provides an unbiased estimator of the variance of a hypothetical infinite population. ddof=0 provides a maximum likelihood estimate of the variance for normally distributed variables.\n"
      ]
    },
    {
      "cell_type": "markdown",
      "metadata": {
        "id": "xvhUIZUfDD5b"
      },
      "source": [
        "Run the following code!! What is the difference between ddof=0 and ddof =1"
      ]
    },
    {
      "cell_type": "code",
      "metadata": {
        "colab": {
          "base_uri": "https://localhost:8080/",
          "height": 295
        },
        "id": "TazTiBgFCrfz",
        "outputId": "85a53e04-ffe0-4073-829b-ec7789dd370b"
      },
      "source": [
        "import numpy as np\n",
        "import matplotlib.pyplot as plt\n",
        "import seaborn as sns\n",
        "sns.set_style(\"darkgrid\")\n",
        "\n",
        "n = 100\n",
        "rands = np.random.rand(n)\n",
        "biased = []\n",
        "unbiased = []\n",
        "for i in range(2, n+1):\n",
        "  biased.append(np.var(rands[:i], ddof=0))\n",
        "  unbiased.append(np.var(rands[:i], ddof=1))\n",
        "\n",
        "x = np.arange(2, n+1)\n",
        "plt.plot(x, biased, label=\"Biased\")\n",
        "plt.plot(x, unbiased, label=\"Unbiased\")\n",
        "plt.xlabel(\"Sample size\")\n",
        "plt.ylabel(\"Variance\")\n",
        "plt.legend()\n",
        "plt.title(\"Sample variance #1\");"
      ],
      "execution_count": 10,
      "outputs": [
        {
          "output_type": "display_data",
          "data": {
            "image/png": "[encoded data removed]",
            "text/plain": [
              "<Figure size 432x288 with 1 Axes>"
            ]
          },
          "metadata": {
            "tags": []
          }
        }
      ]
    },
    {
      "cell_type": "markdown",
      "metadata": {
        "id": "COOUEZcV5VIL"
      },
      "source": [
        "same as the above but with std "
      ]
    },
    {
      "cell_type": "code",
      "metadata": {
        "ExecuteTime": {
          "end_time": "2021-07-18T23:10:00.721794Z",
          "start_time": "2021-07-18T23:10:00.713797Z"
        },
        "id": "u_O4-J8q5VIL",
        "colab": {
          "base_uri": "https://localhost:8080/"
        },
        "outputId": "517b5372-338a-4a69-b0ae-013869a2791e"
      },
      "source": [
        "# biased estimator of the standard deviation.\n",
        "std_biased=np.std(df[\"height\"], ddof=0)\n",
        "print(std_biased)"
      ],
      "execution_count": 11,
      "outputs": [
        {
          "output_type": "stream",
          "text": [
            "7.61538235697372\n"
          ],
          "name": "stdout"
        }
      ]
    },
    {
      "cell_type": "code",
      "metadata": {
        "colab": {
          "base_uri": "https://localhost:8080/"
        },
        "id": "DWoV6mFdwJ8g",
        "outputId": "059e54ab-73c6-4410-92e3-6ee4efac6c43"
      },
      "source": [
        "# Unbiased estimator of the standard deviation.\n",
        "std_unbiased=np.std(df[\"height\"], ddof=1)\n",
        "print(std_unbiased)"
      ],
      "execution_count": 12,
      "outputs": [
        {
          "output_type": "stream",
          "text": [
            "7.849756459316956\n"
          ],
          "name": "stdout"
        }
      ]
    },
    {
      "cell_type": "markdown",
      "metadata": {
        "id": "DSvDiNKz5VIM"
      },
      "source": [
        "calculate the : mean , median , min and max of the ``height`` column"
      ]
    },
    {
      "cell_type": "code",
      "metadata": {
        "id": "LFT1ORVL5VIM",
        "colab": {
          "base_uri": "https://localhost:8080/"
        },
        "outputId": "6894b436-daae-4481-831e-b5b0af6a84e1"
      },
      "source": [
        "# Mean,min,max.\n",
        "df[\"height\"].describe()"
      ],
      "execution_count": 13,
      "outputs": [
        {
          "output_type": "execute_result",
          "data": {
            "text/plain": [
              "count     17.000000\n",
              "mean     170.035294\n",
              "std        7.849756\n",
              "min      155.200000\n",
              "25%      165.300000\n",
              "50%      169.200000\n",
              "75%      176.100000\n",
              "max      182.100000\n",
              "Name: height, dtype: float64"
            ]
          },
          "metadata": {
            "tags": []
          },
          "execution_count": 13
        }
      ]
    },
    {
      "cell_type": "code",
      "metadata": {
        "colab": {
          "base_uri": "https://localhost:8080/"
        },
        "id": "kkVH1uysxIix",
        "outputId": "ebdb5adb-8432-4a61-90b6-c1fe83d76965"
      },
      "source": [
        "#Median\n",
        "median=statistics.median(df[\"height\"])\n",
        "print(\"Median=\",median)"
      ],
      "execution_count": 14,
      "outputs": [
        {
          "output_type": "stream",
          "text": [
            "Median= 169.2\n"
          ],
          "name": "stdout"
        }
      ]
    },
    {
      "cell_type": "markdown",
      "metadata": {
        "id": "Idxz_VJc5VIN"
      },
      "source": [
        "get the quantile at $alpha = 0.1$ (hint : https://pandas.pydata.org/pandas-docs/stable/reference/api/pandas.DataFrame.quantile.html)"
      ]
    },
    {
      "cell_type": "code",
      "metadata": {
        "ExecuteTime": {
          "end_time": "2021-07-18T23:17:22.416139Z",
          "start_time": "2021-07-18T23:17:22.410139Z"
        },
        "id": "GN2RLuzJ5VIN",
        "colab": {
          "base_uri": "https://localhost:8080/"
        },
        "outputId": "eddb5c91-ed12-44b9-82b1-337c67fe7aa7"
      },
      "source": [
        "# Quantile at alpha = 0.1\n",
        "df.quantile(q=0.1)"
      ],
      "execution_count": 15,
      "outputs": [
        {
          "output_type": "execute_result",
          "data": {
            "text/plain": [
              "age        21.00\n",
              "grade       1.00\n",
              "height    160.48\n",
              "weight     47.82\n",
              "Name: 0.1, dtype: float64"
            ]
          },
          "metadata": {
            "tags": []
          },
          "execution_count": 15
        }
      ]
    },
    {
      "cell_type": "markdown",
      "metadata": {
        "id": "nG_N4aYq5VIO"
      },
      "source": [
        "same as the above but with $alpha = 0.9$"
      ]
    },
    {
      "cell_type": "code",
      "metadata": {
        "ExecuteTime": {
          "end_time": "2021-07-18T23:17:50.567333Z",
          "start_time": "2021-07-18T23:17:50.551706Z"
        },
        "id": "I88jWxt85VIQ",
        "colab": {
          "base_uri": "https://localhost:8080/"
        },
        "outputId": "05307c6f-8299-40d6-fcef-2f747e1bdf1b"
      },
      "source": [
        "# Quantile at alpha = 0.9\n",
        "df.quantile(q=0.9)"
      ],
      "execution_count": 16,
      "outputs": [
        {
          "output_type": "execute_result",
          "data": {
            "text/plain": [
              "age        24.00\n",
              "grade       4.00\n",
              "height    179.10\n",
              "weight     77.52\n",
              "Name: 0.9, dtype: float64"
            ]
          },
          "metadata": {
            "tags": []
          },
          "execution_count": 16
        }
      ]
    },
    {
      "cell_type": "markdown",
      "metadata": {
        "id": "MmWxLH5h5VIQ"
      },
      "source": [
        "#### 1.2. Boxplot: "
      ]
    },
    {
      "cell_type": "markdown",
      "metadata": {
        "id": "K7XSO7GS9QFs"
      },
      "source": [
        "Documentation:\n",
        "\n",
        "https://www.khanacademy.org/math/statistics-probability/summarizing-quantitative-data/box-whisker-plots/a/box-plot-review"
      ]
    },
    {
      "cell_type": "markdown",
      "metadata": {
        "id": "EORNuT2m5VIQ"
      },
      "source": [
        "Use what you've learned to calculate the inter quantile range using its forumla (hint : dataframe.quantile), and use the percentage 25% and 75%."
      ]
    },
    {
      "cell_type": "code",
      "metadata": {
        "ExecuteTime": {
          "end_time": "2021-07-18T23:19:29.501855Z",
          "start_time": "2021-07-18T23:19:29.498855Z"
        },
        "id": "2_tov6bo5VIR",
        "colab": {
          "base_uri": "https://localhost:8080/"
        },
        "outputId": "b3c65bcd-5e2f-4bbb-f5c1-1f3ff9683373"
      },
      "source": [
        "# The Inter Quartile Range\n",
        "IQR = df['height'].quantile(0.75)- df['height'].quantile(0.25)\n",
        "IQR"
      ],
      "execution_count": 17,
      "outputs": [
        {
          "output_type": "execute_result",
          "data": {
            "text/plain": [
              "10.799999999999983"
            ]
          },
          "metadata": {
            "tags": []
          },
          "execution_count": 17
        }
      ]
    },
    {
      "cell_type": "markdown",
      "metadata": {
        "id": "ElxH9A435VIR"
      },
      "source": [
        "plot the box plot of ``height`` and ``weight`` using seaborn"
      ]
    },
    {
      "cell_type": "code",
      "metadata": {
        "ExecuteTime": {
          "end_time": "2021-07-18T23:20:45.616191Z",
          "start_time": "2021-07-18T23:20:45.603202Z"
        },
        "id": "xKv_fCq55VIS",
        "colab": {
          "base_uri": "https://localhost:8080/",
          "height": 265
        },
        "outputId": "2098868f-7acb-404d-ccca-734603188b33"
      },
      "source": [
        "# Show a Boxplot for the height.\n",
        "plt.boxplot(df['height'])\n",
        "plt.show()"
      ],
      "execution_count": 18,
      "outputs": [
        {
          "output_type": "display_data",
          "data": {
            "image/png": "[encoded data removed]",
            "text/plain": [
              "<Figure size 432x288 with 1 Axes>"
            ]
          },
          "metadata": {
            "tags": []
          }
        }
      ]
    },
    {
      "cell_type": "code",
      "metadata": {
        "id": "JeIzBllw5VIS"
      },
      "source": [
        ""
      ],
      "execution_count": 18,
      "outputs": []
    },
    {
      "cell_type": "markdown",
      "metadata": {
        "id": "jJJ6e8Ok5VIS"
      },
      "source": [
        "#### 1.3. Covariance and Correlation:"
      ]
    },
    {
      "cell_type": "markdown",
      "metadata": {
        "id": "2Th4vNHM5VIS"
      },
      "source": [
        "Calculate the   covariance between  ``height`` and ``weight`` using ``cov`` function"
      ]
    },
    {
      "cell_type": "code",
      "metadata": {
        "ExecuteTime": {
          "end_time": "2021-07-18T23:23:32.138719Z",
          "start_time": "2021-07-18T23:23:32.121735Z"
        },
        "id": "wNW36bBl5VIT",
        "colab": {
          "base_uri": "https://localhost:8080/"
        },
        "outputId": "0da56034-b496-4e8a-b6fc-bf8935649332"
      },
      "source": [
        "# Covariance.\n",
        "df['height'].cov(df['weight'])"
      ],
      "execution_count": 19,
      "outputs": [
        {
          "output_type": "execute_result",
          "data": {
            "text/plain": [
              "61.790698529411785"
            ]
          },
          "metadata": {
            "tags": []
          },
          "execution_count": 19
        }
      ]
    },
    {
      "cell_type": "markdown",
      "metadata": {
        "id": "r787Yhn05VIT"
      },
      "source": [
        "Calculate the   correlation between  ``height`` and ``weight``."
      ]
    },
    {
      "cell_type": "code",
      "metadata": {
        "ExecuteTime": {
          "end_time": "2021-07-18T23:23:48.387256Z",
          "start_time": "2021-07-18T23:23:48.369249Z"
        },
        "id": "2K0zXuq75VIT",
        "colab": {
          "base_uri": "https://localhost:8080/"
        },
        "outputId": "a3058a4b-a71a-426a-c596-0aca0f3f70f3"
      },
      "source": [
        "# Correlation.\n",
        "df['height'].corr(df['weight'])"
      ],
      "execution_count": 20,
      "outputs": [
        {
          "output_type": "execute_result",
          "data": {
            "text/plain": [
              "0.6641815979588611"
            ]
          },
          "metadata": {
            "tags": []
          },
          "execution_count": 20
        }
      ]
    },
    {
      "cell_type": "markdown",
      "metadata": {
        "id": "X7DePh5w5VIU"
      },
      "source": [
        "calculate the correlation between ``height`` and ``weight`` using the covariance between the two"
      ]
    },
    {
      "cell_type": "code",
      "metadata": {
        "ExecuteTime": {
          "end_time": "2021-07-18T23:25:32.295937Z",
          "start_time": "2021-07-18T23:25:32.282945Z"
        },
        "id": "dbZqiZ8j5VIU",
        "colab": {
          "base_uri": "https://localhost:8080/"
        },
        "outputId": "3f4f1974-3101-4d38-f636-941f71eda5a5"
      },
      "source": [
        "# Calculate the correlation using the covariance.\n",
        "# use the equation in the link : https://medium.com/analytics-vidhya/covariance-and-correlation-math-and-python-code-7cbef556baed\n",
        "df['height'].cov(df['weight'])/(df['height'].std()*df['weight'].std())"
      ],
      "execution_count": 21,
      "outputs": [
        {
          "output_type": "execute_result",
          "data": {
            "text/plain": [
              "0.6641815979588611"
            ]
          },
          "metadata": {
            "tags": []
          },
          "execution_count": 21
        }
      ]
    },
    {
      "cell_type": "markdown",
      "metadata": {
        "id": "i4i_RL1H5VIV"
      },
      "source": [
        "#### 1.4. Visualization:"
      ]
    },
    {
      "cell_type": "markdown",
      "metadata": {
        "id": "n5raJ9uV5VIV"
      },
      "source": [
        "show the relationship between ``weight`` and ``height`` ( find the appropriate plot to showcase the correlation between two numerical variables)"
      ]
    },
    {
      "cell_type": "code",
      "metadata": {
        "ExecuteTime": {
          "end_time": "2021-07-18T23:27:03.856320Z",
          "start_time": "2021-07-18T23:27:03.844309Z"
        },
        "id": "XMjc9VZi5VIV",
        "colab": {
          "base_uri": "https://localhost:8080/",
          "height": 279
        },
        "outputId": "fb188d2d-0624-4ff5-9c3d-9c9ce91cf230"
      },
      "source": [
        "# Visually inspect the relationship between X and Y.\n",
        "df.plot.scatter(x='weight',y='height')\n",
        "plt.show()"
      ],
      "execution_count": 22,
      "outputs": [
        {
          "output_type": "display_data",
          "data": {
            "image/png": "[encoded data removed]",
            "text/plain": [
              "<Figure size 432x288 with 1 Axes>"
            ]
          },
          "metadata": {
            "tags": []
          }
        }
      ]
    },
    {
      "cell_type": "markdown",
      "metadata": {
        "id": "aF1J9TFE5VIW"
      },
      "source": [
        "the goal of this last question is to seperate your dataset into male and female group. \n",
        "plot two overlapping scatter plots of these groups with different colors\n",
        "\n",
        "**remark** : \n",
        "\n",
        "if you run the following code , you will get two different plots , find a way to mitigate this problem"
      ]
    },
    {
      "cell_type": "code",
      "metadata": {
        "ExecuteTime": {
          "end_time": "2021-07-18T23:30:37.762455Z",
          "start_time": "2021-07-18T23:30:37.450680Z"
        },
        "id": "ndUs92Ky5VIW",
        "colab": {
          "base_uri": "https://localhost:8080/",
          "height": 541
        },
        "outputId": "59dacaeb-4a7f-4048-ed94-40d5a10eb6b6"
      },
      "source": [
        "# Visually inspect the relationship between X and Y.\n",
        "# Distinguish the gender by color.\n",
        "df[df.gender=='M'].plot.scatter(x='height', y='weight',color='blue',marker='o',s=20)\n",
        "df[df.gender=='F'].plot.scatter(x='height', y='weight',color='red',marker='o',s=20)\n",
        "plt.show()"
      ],
      "execution_count": 23,
      "outputs": [
        {
          "output_type": "display_data",
          "data": {
            "image/png": "[encoded data removed]",
            "text/plain": [
              "<Figure size 432x288 with 1 Axes>"
            ]
          },
          "metadata": {
            "tags": []
          }
        },
        {
          "output_type": "display_data",
          "data": {
            "image/png": "[encoded data removed]",
            "text/plain": [
              "<Figure size 432x288 with 1 Axes>"
            ]
          },
          "metadata": {
            "tags": []
          }
        }
      ]
    },
    {
      "cell_type": "code",
      "metadata": {
        "id": "g9s84aWK5VIZ"
      },
      "source": [
        ""
      ],
      "execution_count": 23,
      "outputs": []
    }
  ]
}