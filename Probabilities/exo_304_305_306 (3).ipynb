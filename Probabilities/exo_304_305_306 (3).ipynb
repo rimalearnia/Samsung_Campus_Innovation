{
  "nbformat": 4,
  "nbformat_minor": 0,
  "metadata": {
    "colab": {
      "name": "exo_304_305_306.ipynb",
      "private_outputs": true,
      "provenance": [],
      "collapsed_sections": []
    },
    "kernelspec": {
      "display_name": "Python 3",
      "language": "python",
      "name": "python3"
    },
    "language_info": {
      "codemirror_mode": {
        "name": "ipython",
        "version": 3
      },
      "file_extension": ".py",
      "mimetype": "text/x-python",
      "name": "python",
      "nbconvert_exporter": "python",
      "pygments_lexer": "ipython3",
      "version": "3.7.0"
    },
    "toc": {
      "base_numbering": 1,
      "nav_menu": {},
      "number_sections": true,
      "sideBar": true,
      "skip_h1_title": false,
      "title_cell": "Table of Contents",
      "title_sidebar": "Contents",
      "toc_cell": false,
      "toc_position": {},
      "toc_section_display": true,
      "toc_window_display": false
    },
    "varInspector": {
      "cols": {
        "lenName": 16,
        "lenType": 16,
        "lenVar": 40
      },
      "kernels_config": {
        "python": {
          "delete_cmd_postfix": "",
          "delete_cmd_prefix": "del ",
          "library": "var_list.py",
          "varRefreshCmd": "print(var_dic_list())"
        },
        "r": {
          "delete_cmd_postfix": ") ",
          "delete_cmd_prefix": "rm(",
          "library": "var_list.r",
          "varRefreshCmd": "cat(var_dic_list()) "
        }
      },
      "types_to_exclude": [
        "module",
        "function",
        "builtin_function_or_method",
        "instance",
        "_Feature"
      ],
      "window_display": false
    }
  },
  "cells": [
    {
      "cell_type": "markdown",
      "metadata": {
        "id": "miTlMMgfX-yC"
      },
      "source": [
        "# Quantile"
      ]
    },
    {
      "cell_type": "code",
      "metadata": {
        "ExecuteTime": {
          "end_time": "2021-07-24T23:36:59.572411Z",
          "start_time": "2021-07-24T23:36:51.759274Z"
        },
        "id": "FLE3HNQ1YAIR"
      },
      "source": [
        "import scipy.stats as st\n",
        "import numpy as np"
      ],
      "execution_count": null,
      "outputs": []
    },
    {
      "cell_type": "markdown",
      "metadata": {
        "id": "Fyrccfg3YGBU"
      },
      "source": [
        "## Standard Normal"
      ]
    },
    {
      "cell_type": "code",
      "metadata": {
        "id": "cXcNndxHYGZn"
      },
      "source": [
        "# Standard Normal corresponds to mu = 0 and sigma = 1.\n",
        "mu = 0\n",
        "sigma = 1"
      ],
      "execution_count": null,
      "outputs": []
    },
    {
      "cell_type": "markdown",
      "metadata": {
        "id": "7DS52iV7aqQx"
      },
      "source": [
        "Question 1 : Use st.norm.ppf to calculate the Quantile at $alpha = 0.95$\n",
        "\n",
        "\n",
        "The `st.norm.ppf()` method takes a percentage(which is the probability or the area under the curve ) and returns the corresponding z-score."
      ]
    },
    {
      "cell_type": "code",
      "metadata": {
        "id": "U1PoHQQubVI9"
      },
      "source": [
        "# This is useful when calculating 90% confidence interval.\n",
        "st.norm.ppf(0.95, loc=0, scale=1)"
      ],
      "execution_count": null,
      "outputs": []
    },
    {
      "cell_type": "markdown",
      "metadata": {
        "id": "YP4zh3DrbWdC"
      },
      "source": [
        "Question 2 : Now, use ``st.norm.ppf`` to calculate the Quantile at $alpha = 0.975$"
      ]
    },
    {
      "cell_type": "code",
      "metadata": {
        "id": "liErQu7xbuJy"
      },
      "source": [
        "st.norm.ppf(0.975, loc=0, scale=1)"
      ],
      "execution_count": null,
      "outputs": []
    },
    {
      "cell_type": "markdown",
      "metadata": {
        "id": "yhZbm7WIbvei"
      },
      "source": [
        "## T-Student "
      ]
    },
    {
      "cell_type": "markdown",
      "metadata": {
        "id": "0R67cf-ZcuAw"
      },
      "source": [
        "the following code runs the function `st.t.ppf` of $alpha = 0.7$ with various degrees of freedom :\n"
      ]
    },
    {
      "cell_type": "code",
      "metadata": {
        "ExecuteTime": {
          "end_time": "2021-07-23T20:18:31.941048Z",
          "start_time": "2021-07-23T20:18:31.844104Z"
        },
        "id": "h7XzT8iGcs2V"
      },
      "source": [
        "alpha=0.7\n",
        "liste = [10,50,100,2000,100000]\n",
        "for df in liste:\n",
        "    val = st.t.ppf(alpha,df)\n",
        "    print( 'Degree of Freedom = %7d,  Quantile = %10f' %(df,val))"
      ],
      "execution_count": null,
      "outputs": []
    },
    {
      "cell_type": "markdown",
      "metadata": {
        "id": "Vx4ru59VdQiI"
      },
      "source": [
        "Question 1 : modify the previous code to get the quantiles of $alpha=0.95$ and $alpha=0.975$"
      ]
    },
    {
      "cell_type": "code",
      "metadata": {
        "id": "GnKSkCXvbd1O"
      },
      "source": [
        "\n",
        "liste = [10,50,100,2000,100000]\n",
        "for df in liste:\n",
        "    val = st.t.ppf(0.95,df)\n",
        "    print( 'Degree of Freedom = %7d,  Quantile = %10f' %(df,val))"
      ],
      "execution_count": null,
      "outputs": []
    },
    {
      "cell_type": "code",
      "metadata": {
        "id": "_ev1enqLePnX"
      },
      "source": [
        "\n",
        "liste = [10,50,100,2000,100000]\n",
        "for df in liste:\n",
        "    val = st.t.ppf(0.975,df)\n",
        "    print( 'Degree of Freedom = %7d,  Quantile = %10f' %(df,val))"
      ],
      "execution_count": null,
      "outputs": []
    },
    {
      "cell_type": "markdown",
      "metadata": {
        "id": "yjH9gG73dfpS"
      },
      "source": [
        "Question 2 : what do you conclude about the relationship between quantiles and number of freedom ? \n",
        " \n",
        " \n"
      ]
    },
    {
      "cell_type": "code",
      "metadata": {
        "id": "sYThZ8fFeqXQ"
      },
      "source": [
        "# lorsque le degree of freedom augmente ,la valeur de t diminue "
      ],
      "execution_count": null,
      "outputs": []
    },
    {
      "cell_type": "markdown",
      "metadata": {
        "id": "gEIoLbcOdnCC"
      },
      "source": [
        "##  Chi-square:"
      ]
    },
    {
      "cell_type": "markdown",
      "metadata": {
        "id": "XCTS2XuXd47J"
      },
      "source": [
        "Question 1- : Calculate P(X <= 8) with degree of freedom = 5."
      ]
    },
    {
      "cell_type": "code",
      "metadata": {
        "id": "qek7bGK8dndu"
      },
      "source": [
        "st.chi2.cdf(8,df=5)"
      ],
      "execution_count": null,
      "outputs": []
    },
    {
      "cell_type": "markdown",
      "metadata": {
        "id": "5g4NhbTueHkv"
      },
      "source": [
        "Question 2- : use st.chi2.ppf using Quantile at alpha = 0.843764373 with degree of freedom = 5\n"
      ]
    },
    {
      "cell_type": "code",
      "metadata": {
        "id": "vKer05AUem-k"
      },
      "source": [
        "\n",
        "st.chi2.ppf(0.843764373,df=5)"
      ],
      "execution_count": null,
      "outputs": []
    },
    {
      "cell_type": "markdown",
      "metadata": {
        "id": "cGUnhV1Oesop"
      },
      "source": [
        "\n",
        "\n",
        "# Interval Estimation of the Mean:"
      ]
    },
    {
      "cell_type": "code",
      "metadata": {
        "id": "NMRUmjQgetNZ"
      },
      "source": [
        "# x contains a sample.\n",
        "# n = sample size.\n",
        "x = np.array([25,24,24,27,29,31,28,24,25,26,25,18,30,28,23,26,27,23,16,20,22,22,25,24, 24,25,25,27,26,30,25,25,26,26,25,24])\n",
        "n = len(x)"
      ],
      "execution_count": null,
      "outputs": []
    },
    {
      "cell_type": "markdown",
      "metadata": {
        "id": "t8p8-u1ze6Vu"
      },
      "source": [
        "Question 1 : Calculate the Standard Error of the Mean (SEM).( note that to get an unbiased estimation of the standard deviation, you should set `ddof= 1` ). \n",
        "Hint:  \\begin{equation}\n",
        "\\mathrm{SE}=\\frac{\\sigma}{\\sqrt{n}}\n",
        "\\end{equation}\n"
      ]
    },
    {
      "cell_type": "code",
      "metadata": {
        "ExecuteTime": {
          "end_time": "2021-07-24T23:34:37.705469Z",
          "start_time": "2021-07-24T23:34:37.674489Z"
        },
        "id": "abrfnmKWe6xy"
      },
      "source": [
        "# SEM = Standard Error of the Mean.\n",
        "st.sem(x, ddof=1)"
      ],
      "execution_count": null,
      "outputs": []
    },
    {
      "cell_type": "code",
      "metadata": {
        "id": "XhOQRIyXl7e-"
      },
      "source": [
        "import math\n",
        "SEM=(np.std(x,ddof=1))/(math.sqrt(n))\n",
        "\n",
        "print(SEM)"
      ],
      "execution_count": null,
      "outputs": []
    },
    {
      "cell_type": "markdown",
      "metadata": {
        "id": "6IxA3mW6NC4V"
      },
      "source": [
        "<img width=\"500\" height=\"500\" src=\"https://analystnotes.com/graph/quan/SS02SDlosn1.gif\"/>\n",
        "\n",
        "<img width=\"500\" height=\"500\" src=\"https://i.ytimg.com/vi/sJyZ9vRhP7o/maxresdefault.jpg\"/>\n",
        "\n",
        "\n",
        "\n",
        "## 90% Confidence Interval:\n",
        "\n",
        "Documentation : https://www0.gsb.columbia.edu/faculty/pglasserman/B6014/ConfidenceIntervals.pdf\n"
      ]
    },
    {
      "cell_type": "markdown",
      "metadata": {
        "id": "PqJx2UYZNNoL"
      },
      "source": [
        "Question 1 : Using the approximated quantiles of the Standard Normal distribution, use the following equation:\n",
        "\n",
        "\\begin{equation}\n",
        "\\left ( \\bar{X}-1.645 *\\frac{\\sigma}{\\sqrt{n}}, \\bar{X}+1.645 *\\frac{\\sigma}{\\sqrt{n}} \\right )\n",
        "\\end{equation}"
      ]
    },
    {
      "cell_type": "code",
      "metadata": {
        "id": "_lb60qe7NOLD"
      },
      "source": [
        "#90% Confidence Interval\n",
        "x_barre=x.mean()\n",
        "lower=x_barre-(1.645*SEM)\n",
        "upper=x_barre+(1.645*SEM)\n",
        "CI=[lower,upper]\n",
        "print(CI)"
      ],
      "execution_count": null,
      "outputs": []
    },
    {
      "cell_type": "markdown",
      "metadata": {
        "id": "v497uto5ga4Y"
      },
      "source": [
        "Question 2 : Using the exact quantiles of the Standard Normal (hint : replace $1.645 \\frac{\\sigma}{\\sqrt{n}}$ and consider including `st.norm.ppf` )\n"
      ]
    },
    {
      "cell_type": "code",
      "metadata": {
        "id": "rE_ofVhcHqxa"
      },
      "source": [
        "h = SEM * st.norm.ppf( (1-0.90)/2)\n",
        "lower=x_barre+h\n",
        "upper=x_barre-h\n",
        "CI=[lower,upper]\n",
        "print(CI)"
      ],
      "execution_count": null,
      "outputs": []
    },
    {
      "cell_type": "markdown",
      "metadata": {
        "id": "OykvqG_Pmfry"
      },
      "source": [
        "Question 3 : Use the `interval()` function from the SciPy library to get the 90% confidance interval of Standard Normal : `st.norm.interval(percentage, loc, scale)`\n",
        "\n",
        "\n",
        "Documentation:\n",
        "\n",
        "https://stackoverflow.com/questions/28242593/correct-way-to-obtain-confidence-interval-with-scipy"
      ]
    },
    {
      "cell_type": "code",
      "metadata": {
        "id": "K3jHPY-7mnFt"
      },
      "source": [
        "\n",
        "st.norm.interval(0.90, loc=x_barre, scale=SEM)"
      ],
      "execution_count": null,
      "outputs": []
    },
    {
      "cell_type": "markdown",
      "metadata": {
        "id": "F9YGZKRenQUf"
      },
      "source": [
        "Question 4 : same as Question 1 , get the 95% confidance interval (using the exact quantiles) of the Student-t distrubution. (consider using  st.t.ppf(0.95,df=n-1) ).\n",
        "\n",
        "\n",
        "Documentation:\n",
        "\n",
        "https://docs.scipy.org/doc/scipy/reference/generated/scipy.stats.t.html\n",
        "\n"
      ]
    },
    {
      "cell_type": "code",
      "metadata": {
        "id": "2jZS8C32nVEl"
      },
      "source": [
        "h = SEM * st.t.ppf( 0.9,n-1)\n",
        "lower=x_barre-h\n",
        "upper=x_barre+h\n",
        "CI=[lower,upper]\n",
        "print(CI)"
      ],
      "execution_count": null,
      "outputs": []
    },
    {
      "cell_type": "markdown",
      "metadata": {
        "id": "EKh8T72QouOX"
      },
      "source": [
        "Question 5 - Using the interval() function from the SciPy library (Student-t).\n",
        "st.t.interval( )"
      ]
    },
    {
      "cell_type": "code",
      "metadata": {
        "id": "3IFTTeuwo0Y3"
      },
      "source": [
        "st.t.interval(alpha=0.90,df=n-1,loc=x_barre, scale=SEM)"
      ],
      "execution_count": null,
      "outputs": []
    },
    {
      "cell_type": "markdown",
      "metadata": {
        "id": "fW4ArumEo7Mz"
      },
      "source": [
        "## 95% Confidence Interval"
      ]
    },
    {
      "cell_type": "markdown",
      "metadata": {
        "id": "rX1xLa0Io8y0"
      },
      "source": [
        "Question 1- Using the approximated quantiles of the Standard Normal.\n"
      ]
    },
    {
      "cell_type": "code",
      "metadata": {
        "id": "-8lASxFDpFq0"
      },
      "source": [
        "#95% Confidence Interval with approximated quantiles of standard normal\n",
        "x_barre=x.mean()\n",
        "lower=x_barre-(1.96*SEM)\n",
        "upper=x_barre+(1.96*SEM)\n",
        "CI=[lower,upper]\n",
        "print(CI)"
      ],
      "execution_count": null,
      "outputs": []
    },
    {
      "cell_type": "markdown",
      "metadata": {
        "id": "JicY8R8epJKP"
      },
      "source": [
        "Question 2- Using the exact quantiles of the Standard Normal."
      ]
    },
    {
      "cell_type": "code",
      "metadata": {
        "id": "6_8he0GYpLOb"
      },
      "source": [
        "h = SEM * st.norm.ppf( 0.95)\n",
        "lower=x_barre-h\n",
        "upper=x_barre+h\n",
        "CI=[lower,upper]\n",
        "print(CI)"
      ],
      "execution_count": null,
      "outputs": []
    },
    {
      "cell_type": "markdown",
      "metadata": {
        "id": "8nWwnReYpLuv"
      },
      "source": [
        "Question 3- : Using the interval() function from the SciPy library (Standard Normal). \n"
      ]
    },
    {
      "cell_type": "code",
      "metadata": {
        "id": "-jnYT66QpPy0"
      },
      "source": [
        "st.norm.interval(0.95, loc=x_barre, scale=SEM)"
      ],
      "execution_count": null,
      "outputs": []
    },
    {
      "cell_type": "markdown",
      "metadata": {
        "id": "UETWlv3wpWcC"
      },
      "source": [
        "Question 4- : Using the exact quantiles of the Student-t.\n"
      ]
    },
    {
      "cell_type": "code",
      "metadata": {
        "id": "2UXh_X3SpfPp"
      },
      "source": [
        "h = SEM * st.t.ppf( 0.95,n-1)\n",
        "lower=x_barre-h\n",
        "upper=x_barre+h\n",
        "CI=[lower,upper]\n",
        "print(CI)"
      ],
      "execution_count": null,
      "outputs": []
    },
    {
      "cell_type": "markdown",
      "metadata": {
        "id": "IcubBjstphFT"
      },
      "source": [
        "Question 5 - :  Using the interval() function from the SciPy library (Student-t)."
      ]
    },
    {
      "cell_type": "code",
      "metadata": {
        "id": "zZRutkmIppyV"
      },
      "source": [
        "st.t.interval(alpha=0.95,df=n-1,loc=x_barre, scale=SEM)"
      ],
      "execution_count": null,
      "outputs": []
    },
    {
      "cell_type": "markdown",
      "metadata": {
        "id": "0b1J5GBAprgb"
      },
      "source": [
        "## 99% Confidence Interval"
      ]
    },
    {
      "cell_type": "markdown",
      "metadata": {
        "id": "wZKu_xgpqCqZ"
      },
      "source": [
        "Question 1 : Using the approximated quantiles of the Standard Normal.\n"
      ]
    },
    {
      "cell_type": "code",
      "metadata": {
        "id": "x1a5nzUKp7ez"
      },
      "source": [
        "x_barre=x.mean()\n",
        "lower=x_barre-(2.575*SEM)\n",
        "upper=x_barre+(2.575*SEM)\n",
        "CI=[lower,upper]\n",
        "print(CI)"
      ],
      "execution_count": null,
      "outputs": []
    },
    {
      "cell_type": "markdown",
      "metadata": {
        "id": "oPX5k3pcqGhK"
      },
      "source": [
        "Question 2- Using the exact quantiles of the Standard Normal.\n"
      ]
    },
    {
      "cell_type": "code",
      "metadata": {
        "id": "Ull4DLEbqMM0"
      },
      "source": [
        "h = SEM * st.norm.ppf( 0.99)\n",
        "lower=x_barre-h\n",
        "upper=x_barre+h\n",
        "CI=[lower,upper]\n",
        "print(CI)"
      ],
      "execution_count": null,
      "outputs": []
    },
    {
      "cell_type": "markdown",
      "metadata": {
        "id": "malubUnPqYX2"
      },
      "source": [
        "Question 3 : Using the interval() function from the SciPy library (Standard Normal). \n"
      ]
    },
    {
      "cell_type": "code",
      "metadata": {
        "id": "T3L10IJNqQaD"
      },
      "source": [
        "st.norm.interval(0.99, loc=x_barre, scale=SEM)"
      ],
      "execution_count": null,
      "outputs": []
    },
    {
      "cell_type": "markdown",
      "metadata": {
        "id": "u4zMUnFOqbtz"
      },
      "source": [
        "Question 4- : Using the exact quantiles of the Student-t.\n"
      ]
    },
    {
      "cell_type": "code",
      "metadata": {
        "id": "fdg6G7KTqj2o"
      },
      "source": [
        "h = SEM * st.t.ppf( 0.99,n-1)\n",
        "lower=x_barre-h\n",
        "upper=x_barre+h\n",
        "CI=[lower,upper]\n",
        "print(CI)"
      ],
      "execution_count": null,
      "outputs": []
    },
    {
      "cell_type": "markdown",
      "metadata": {
        "id": "tNBtSB-vqmBX"
      },
      "source": [
        "Question 5- : Using the interval() function from the SciPy library (Student-t).\n"
      ]
    },
    {
      "cell_type": "code",
      "metadata": {
        "id": "xAr9ory9qkve"
      },
      "source": [
        "st.t.interval(alpha=0.99,df=n-1,loc=x_barre, scale=SEM)"
      ],
      "execution_count": null,
      "outputs": []
    },
    {
      "cell_type": "markdown",
      "metadata": {
        "id": "oloMd02wqvyT"
      },
      "source": [
        "# Interval Estimation of the Proportion: "
      ]
    },
    {
      "cell_type": "markdown",
      "metadata": {
        "id": "l1YeGC_YuuCF"
      },
      "source": [
        "Question 1 : Suppose there is two candidates for the election: T and B. (T for trump , B for biden , just saying ...lol)\n",
        "The candidate T wants to survey his approval rating.\n",
        "Out of 100 suerveyed, 55 answered positively.\n",
        "Can T be sure of this election? \n",
        "- Assume that T gets elected with 50% or more. \n",
        "- Use 95% confidence interval.\n",
        "\n",
        "draw your conclusion using the confidence interval"
      ]
    },
    {
      "cell_type": "code",
      "metadata": {
        "ExecuteTime": {
          "end_time": "2021-07-25T00:01:41.184449Z",
          "start_time": "2021-07-25T00:01:41.174457Z"
        },
        "id": "lFXhca_zqq2H"
      },
      "source": [
        "# 95% Confidence Interval.\n",
        "# We apply the expression for the standard error (SE) forumla used for proportions from the lecture.\n",
        "n=100\n",
        "SEM=50/(math.sqrt(n))\n",
        "x_barre=55\n",
        "lower=x_barre-(1.96*SEM)\n",
        "upper=x_barre+(1.96*SEM)\n",
        "CI=[lower,upper]\n",
        "print(CI)"
      ],
      "execution_count": null,
      "outputs": []
    },
    {
      "cell_type": "markdown",
      "metadata": {
        "id": "xDKSGk70u5id"
      },
      "source": [
        "Question 2 : Out of 1000 suerveyed, 550 answered positively. Can T be sure of this election?\n",
        "- Assume that T gets elected with 50% or more. \n",
        "- Use 95% confidence interval.\n",
        "\n",
        "draw your conclusion using the confidence interval"
      ]
    },
    {
      "cell_type": "code",
      "metadata": {
        "ExecuteTime": {
          "end_time": "2021-07-25T00:02:33.413053Z",
          "start_time": "2021-07-25T00:02:33.409055Z"
        },
        "id": "tvpKc6fwunBk"
      },
      "source": [
        "# 95% Confidence Interval.\n",
        "# We apply the expression for the standard error (SE) from the lecture.\n",
        "# W ignore additional corrections. \n",
        "n=1000\n",
        "SEM=50/(math.sqrt(n))\n",
        "x_barre=55\n",
        "lower=x_barre-(1.96*SEM)\n",
        "upper=x_barre+(1.96*SEM)\n",
        "CI=[lower,upper]\n",
        "print(CI)"
      ],
      "execution_count": null,
      "outputs": []
    },
    {
      "cell_type": "markdown",
      "metadata": {
        "id": "aO_L9dmgvagg"
      },
      "source": [
        "# Correlation\n",
        "\n",
        "\n",
        "\n",
        "some resources to read to learn more about these correlations : \n",
        "\n",
        "https://datascience.stackexchange.com/questions/64260/pearson-vs-spearman-vs-kendall/64261\n",
        "\n",
        "\n",
        "https://towardsdatascience.com/clearly-explained-pearson-v-s-spearman-correlation-coefficient-ada2f473b8"
      ]
    },
    {
      "cell_type": "code",
      "metadata": {
        "ExecuteTime": {
          "end_time": "2021-07-23T21:05:11.311614Z",
          "start_time": "2021-07-23T21:04:56.295025Z"
        },
        "id": "QhiyRl8Jvjbl"
      },
      "source": [
        "import pandas as pd\n",
        "import numpy as np\n",
        "import scipy.stats as st\n",
        "import os\n",
        "import seaborn as sns"
      ],
      "execution_count": null,
      "outputs": []
    },
    {
      "cell_type": "code",
      "metadata": {
        "ExecuteTime": {
          "end_time": "2021-07-23T21:05:12.329025Z",
          "start_time": "2021-07-23T21:05:11.330850Z"
        },
        "id": "3H5vkLvkvlDK"
      },
      "source": [
        "sns.get_dataset_names()\n"
      ],
      "execution_count": null,
      "outputs": []
    },
    {
      "cell_type": "code",
      "metadata": {
        "ExecuteTime": {
          "end_time": "2021-07-23T21:05:12.455277Z",
          "start_time": "2021-07-23T21:05:12.368003Z"
        },
        "id": "355A73vWxFj0"
      },
      "source": [
        "df = sns.load_dataset('iris')"
      ],
      "execution_count": null,
      "outputs": []
    },
    {
      "cell_type": "code",
      "metadata": {
        "id": "r9NBkV-3xI4_"
      },
      "source": [
        "df.head()"
      ],
      "execution_count": null,
      "outputs": []
    },
    {
      "cell_type": "code",
      "metadata": {
        "id": "7Sa7dQKDvyH4"
      },
      "source": [
        "type(df)"
      ],
      "execution_count": null,
      "outputs": []
    },
    {
      "cell_type": "code",
      "metadata": {
        "ExecuteTime": {
          "end_time": "2021-07-23T21:05:12.519222Z",
          "start_time": "2021-07-23T21:05:12.506230Z"
        },
        "id": "8gfv6MQewDFf"
      },
      "source": [
        "x = df.petal_length\n",
        "y = df.sepal_length"
      ],
      "execution_count": null,
      "outputs": []
    },
    {
      "cell_type": "markdown",
      "metadata": {
        "id": "Zti3PBs8xlVz"
      },
      "source": [
        "## P-Value\n",
        "\n",
        "Documentation : \n",
        "https://towardsdatascience.com/p-value-basics-with-python-code-ae5316197c52"
      ]
    },
    {
      "cell_type": "markdown",
      "metadata": {
        "id": "uV0wnRmmyFqN"
      },
      "source": [
        "Question 1 : Using the SciPy function: \n",
        "- calculate correlation and p-value. hint : ``np.round(st.pearsonr(..),..)``  \n",
        "- interpret the results "
      ]
    },
    {
      "cell_type": "code",
      "metadata": {
        "ExecuteTime": {
          "end_time": "2021-07-23T21:05:18.630940Z",
          "start_time": "2021-07-23T21:05:18.502013Z"
        },
        "id": "bCDm7JcZxThE"
      },
      "source": [
        "r=st.pearsonr(x,y)\n",
        "print(np.around(r, decimals=50))"
      ],
      "execution_count": null,
      "outputs": []
    },
    {
      "cell_type": "code",
      "metadata": {
        "id": "-J3tSmZEp8iT"
      },
      "source": [
        "#on obtient un coefficient de correlation de pearson de 0.87 \n",
        "#ce qui demontre que nos données sont fortement corrélés positivement \n",
        "# i.e qu'il existe une etroite relation lineaire entre x et y \n",
        "\n",
        "# p_value est tres petite ,\n",
        "#on conclu qu'on doit rejeter l'hypothese H0 "
      ],
      "execution_count": null,
      "outputs": []
    },
    {
      "cell_type": "markdown",
      "metadata": {
        "id": "4FI03zchyUrc"
      },
      "source": [
        "Question2 : Using the Pandas function.\n"
      ]
    },
    {
      "cell_type": "code",
      "metadata": {
        "id": "9T_sCoXhyYA0"
      },
      "source": [
        "df.corr(method ='pearson')"
      ],
      "execution_count": null,
      "outputs": []
    },
    {
      "cell_type": "markdown",
      "metadata": {
        "id": "29tTyKpByaU2"
      },
      "source": [
        "Question 3: Correlation array, use: `np.round(..)`   "
      ]
    },
    {
      "cell_type": "code",
      "metadata": {
        "id": "tcqhZRrGymQ-"
      },
      "source": [
        "# Correlation array.\n"
      ],
      "execution_count": null,
      "outputs": []
    },
    {
      "cell_type": "markdown",
      "metadata": {
        "id": "vXJg1pC8yxU7"
      },
      "source": [
        "## Spearman"
      ]
    },
    {
      "cell_type": "markdown",
      "metadata": {
        "id": "7KGmjATUy_tC"
      },
      "source": [
        "Question 1 :  Using the Spearman SciPy function and Correlation and p-value.\n",
        "hint : ``np.round(st.spearmanr(..),..) ``         "
      ]
    },
    {
      "cell_type": "code",
      "metadata": {
        "id": "1BHvdu3xy8fz"
      },
      "source": [
        "rs=st.spearmanr(x,y)\n",
        "print(np.around(rs, decimals=50))"
      ],
      "execution_count": null,
      "outputs": []
    },
    {
      "cell_type": "markdown",
      "metadata": {
        "id": "Yj1KSU79zU1w"
      },
      "source": [
        "## Kendall"
      ]
    },
    {
      "cell_type": "markdown",
      "metadata": {
        "id": "Ik9g_iNOzcjM"
      },
      "source": [
        "Question 1: Using the SciPy function and Correlation and p-value."
      ]
    },
    {
      "cell_type": "code",
      "metadata": {
        "id": "KmS-BaAVzGeC"
      },
      "source": [
        "st.kendalltau(x, y)"
      ],
      "execution_count": null,
      "outputs": []
    },
    {
      "cell_type": "markdown",
      "metadata": {
        "id": "ULjDlynsz08y"
      },
      "source": [
        "Question : Confidence Interval of the Pearson Correlation: "
      ]
    },
    {
      "cell_type": "code",
      "metadata": {
        "ExecuteTime": {
          "end_time": "2021-07-25T00:03:22.405556Z",
          "start_time": "2021-07-25T00:03:22.397540Z"
        },
        "id": "wll5_EyRz48X"
      },
      "source": [
        "# Apply the Fisher's z-transformation.\n",
        "# See the lecture.\n",
        "r, p = st.pearsonr(x,y)\n",
        "r_z = np.arctanh(r)\n",
        "se = 1/np.sqrt(x.size-3)\n",
        "alpha = 0.05\n",
        "z = st.norm.ppf(1-alpha/2)\n",
        "lo_z, hi_z = r_z-z*se, r_z+z*se\n",
        "lo, hi = np.tanh((lo_z, hi_z))\n",
        "interval=[lo,hi]\n",
        "print(\"CI=\",interval)"
      ],
      "execution_count": null,
      "outputs": []
    },
    {
      "cell_type": "code",
      "metadata": {
        "ExecuteTime": {
          "end_time": "2021-07-25T00:03:32.435720Z",
          "start_time": "2021-07-25T00:03:32.423713Z"
        },
        "id": "CMm_hzdD0Wg6"
      },
      "source": [
        "# 95% confidence interval. \n",
        "# Expressed as a dictionary object.\n",
        "r, p = st.pearsonr(x,y)\n",
        "r_z = np.arctanh(r)\n",
        "se = 1/np.sqrt(x.size-3)\n",
        "alpha = 0.95\n",
        "z = st.norm.ppf(1-alpha/2)\n",
        "lo_z, hi_z = r_z-z*se, r_z+z*se\n",
        "lo, hi = np.tanh((lo_z, hi_z))\n",
        "interval={'lo=':lo,\"hi=\":hi}\n",
        "print(\"CI=\",interval)"
      ],
      "execution_count": null,
      "outputs": []
    },
    {
      "cell_type": "markdown",
      "metadata": {
        "id": "TVRAkH0z0bh3"
      },
      "source": [
        "Question 1 :  99% confidence interval.Expressed as a dictionary object."
      ]
    },
    {
      "cell_type": "code",
      "metadata": {
        "id": "83Wy0BEQ0XSo"
      },
      "source": [
        "# 99% confidence interval.\n",
        "# Expressed as a dictionary object.\n",
        "\n",
        "r, p = st.pearsonr(x,y)\n",
        "r_z = np.arctanh(r)\n",
        "se = 1/np.sqrt(x.size-3)\n",
        "alpha = 0.99\n",
        "z = st.norm.ppf(1-alpha/2)\n",
        "lo_z, hi_z = r_z-z*se, r_z+z*se\n",
        "lo, hi = np.tanh((lo_z, hi_z))\n",
        "interval={'lo=':lo,\"hi=\":hi}\n",
        "print(\"CI=\",interval)"
      ],
      "execution_count": null,
      "outputs": []
    }
  ]
}