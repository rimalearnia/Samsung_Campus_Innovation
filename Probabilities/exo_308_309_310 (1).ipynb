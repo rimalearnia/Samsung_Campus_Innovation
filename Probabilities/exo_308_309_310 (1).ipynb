{
  "nbformat": 4,
  "nbformat_minor": 0,
  "metadata": {
    "kernelspec": {
      "display_name": "Python 3",
      "language": "python",
      "name": "python3"
    },
    "language_info": {
      "codemirror_mode": {
        "name": "ipython",
        "version": 3
      },
      "file_extension": ".py",
      "mimetype": "text/x-python",
      "name": "python",
      "nbconvert_exporter": "python",
      "pygments_lexer": "ipython3",
      "version": "3.7.0"
    },
    "toc": {
      "base_numbering": 1,
      "nav_menu": {},
      "number_sections": true,
      "sideBar": true,
      "skip_h1_title": false,
      "title_cell": "Table of Contents",
      "title_sidebar": "Contents",
      "toc_cell": false,
      "toc_position": {},
      "toc_section_display": true,
      "toc_window_display": false
    },
    "varInspector": {
      "cols": {
        "lenName": 16,
        "lenType": 16,
        "lenVar": 40
      },
      "kernels_config": {
        "python": {
          "delete_cmd_postfix": "",
          "delete_cmd_prefix": "del ",
          "library": "var_list.py",
          "varRefreshCmd": "print(var_dic_list())"
        },
        "r": {
          "delete_cmd_postfix": ") ",
          "delete_cmd_prefix": "rm(",
          "library": "var_list.r",
          "varRefreshCmd": "cat(var_dic_list()) "
        }
      },
      "types_to_exclude": [
        "module",
        "function",
        "builtin_function_or_method",
        "instance",
        "_Feature"
      ],
      "window_display": false
    },
    "colab": {
      "name": "exo_308_309_310.ipynb",
      "provenance": [],
      "collapsed_sections": [
        "jk46EZ_5_abI",
        "CKMH_pd-_abY",
        "ZShSPfIw_aba",
        "ii6ncsEv_abc",
        "yUWwxKfV_abc",
        "V3ACGvQE_abe",
        "-LlXBQV-_abg"
      ]
    }
  },
  "cells": [
    {
      "cell_type": "markdown",
      "metadata": {
        "id": "GGOwMg-y_aa_"
      },
      "source": [
        "# Hypothesis Test of the Means:\n"
      ]
    },
    {
      "cell_type": "markdown",
      "metadata": {
        "id": "kl-v08jn_abG"
      },
      "source": [
        "some points to keep in mind about p-value and hypothesis testing in general: \n",
        "\n",
        "• **The interpretation of the p-value :** \n",
        "\n",
        "it represents the prob of having a sample mean greater then the null value of H0 or, from  n random samples, given that the H0 is true  ( a conditionned probability ) \n",
        "In other words \n",
        "        P-value = P(extreme events in favor to alternative hypothesis  | H0 is true ) \n",
        "\n",
        "\n",
        "\n",
        "• High P-values: Your sample results are consistent with a true null hypothesis. <br>\n",
        "• Low P-values: Your sample results are not consistent with a null hypothesis. <br>\n",
        "\n",
        "• The significance level, also denoted as alpha or α, is the probability of rejecting the null  hypothesis when it is true\n",
        "\n",
        "\n",
        "• Type 1 error : reject the H0 when the latter is true <br>\n",
        "• Type 2 error : accept the H0 when the latter is false , in other words , we keep the H0 when we shouldn't <br>\n",
        "\n",
        "\n",
        "• Type 1 error expressed with propability : \n",
        "  P-value = P(typ1 error |H0 is true ) = alpha \n",
        "  Increasing alpha -> increase error rate of making a type I error rate!\n",
        "\n",
        "\n",
        "\n",
        "• **Goal of Increasing alpha (increase type 1 error) :** when we don't  want to fail to reject the H0 when the latter is false <br>\n",
        "• **Goal of reducing alpha :** when we want to reject the H0 ONLY if we have STRONG evidence  favoring the Ha.\n",
        "\n"
      ]
    },
    {
      "cell_type": "markdown",
      "metadata": {
        "id": "jk46EZ_5_abI"
      },
      "source": [
        "## One sample t-test:"
      ]
    },
    {
      "cell_type": "code",
      "metadata": {
        "ExecuteTime": {
          "end_time": "2021-07-25T18:25:32.326332Z",
          "start_time": "2021-07-25T18:25:27.953078Z"
        },
        "id": "iGkp6RlF_abJ"
      },
      "source": [
        "import numpy as np\n",
        "import scipy.stats as st"
      ],
      "execution_count": null,
      "outputs": []
    },
    {
      "cell_type": "markdown",
      "metadata": {
        "id": "L0PWxzwj_abK"
      },
      "source": [
        "**Two-side test**"
      ]
    },
    {
      "cell_type": "markdown",
      "metadata": {
        "id": "PPUt1log_abL"
      },
      "source": [
        "Question 1 : the goal of this exercice is to simulate one sample x with normal distribution\n",
        "\n",
        "- step 1 : create n=10 random values using `np.random.randn` , note that this instruction returns z scores of standard normal\n",
        "- step 2 : do the inverse transform to get x from these z scores using mu=3 and sigma=2 ( hint : use the forumla of z score ) and store the result in variable x\n",
        "\\begin{equation}\n",
        " z= \\frac{x-\\mu}{\\sigma}\n",
        "\\end{equation}\n",
        "\n",
        "\n",
        "- step 3 : we wish to test if the null hypothesis with a **two-side alternative hypothesis** , run the following and interpret the result , knowing that mu_0 is the mean of the null hypothesis \n",
        "\n",
        "``` \n",
        "mu_0 = 0\n",
        "st.ttest_1samp(x, mu_0)\n",
        "\n",
        "```\n",
        "\n",
        "- step 4 : forumate the associated null hypothesis $H_{0}$ and alternative hypothesis $H_{a}$\n"
      ]
    },
    {
      "cell_type": "code",
      "metadata": {
        "id": "KvTpn85pESRu"
      },
      "source": [
        "z=np.random.randn(10)\n",
        "x=2*z+3\n",
        "\n",
        "\n",
        "\n"
      ],
      "execution_count": null,
      "outputs": []
    },
    {
      "cell_type": "code",
      "metadata": {
        "colab": {
          "base_uri": "https://localhost:8080/"
        },
        "id": "J4JfNBWZF0D_",
        "outputId": "7c5efef9-6e52-4b0c-a92b-6281ee02e17d"
      },
      "source": [
        "mu_0 = 0\n",
        "st.ttest_1samp(x, mu_0)"
      ],
      "execution_count": null,
      "outputs": [
        {
          "output_type": "execute_result",
          "data": {
            "text/plain": [
              "Ttest_1sampResult(statistic=4.9325384176224265, pvalue=0.0008105069080428197)"
            ]
          },
          "metadata": {
            "tags": []
          },
          "execution_count": 147
        }
      ]
    },
    {
      "cell_type": "code",
      "metadata": {
        "id": "7GP8yOf2HV_K"
      },
      "source": [
        "# H0: la moyenne d'un échantillon d'observations indépendantes  est égale à la moyenne de population donnée (mu_0)\n",
        "# H0: x_barre=mu_0 sachant que x_barre=x.mean()\n",
        "\n",
        "# Ha: x_barre!=mu_0\n",
        "\n",
        "# interpretation : on a obtenu pvalue tres petite ,ce qui signifie qu'on doit rejeter l'hypothese H0 \n",
        "# conclusion: x_barre!=mu_0\n"
      ],
      "execution_count": null,
      "outputs": []
    },
    {
      "cell_type": "code",
      "metadata": {
        "ExecuteTime": {
          "end_time": "2021-07-25T19:15:32.852494Z",
          "start_time": "2021-07-25T19:15:32.833506Z"
        },
        "id": "ANDcvE-4_abM"
      },
      "source": [
        "#don't delete this line \n",
        "np.random.seed(1234)\n",
        "\n"
      ],
      "execution_count": null,
      "outputs": []
    },
    {
      "cell_type": "markdown",
      "metadata": {
        "ExecuteTime": {
          "end_time": "2021-07-25T18:38:15.948466Z",
          "start_time": "2021-07-25T18:38:15.930459Z"
        },
        "id": "xdcVVNis_abO"
      },
      "source": [
        "Question 2 : now that you know how to use `st.ttest_1samp` , use the forumlas that you learnt during the course to get the same results , here's the step to follow : \n",
        "\n",
        "- step 1 : calculate the `mean` and the `standard error` $SE$ \n",
        "- step 2 : calculate the t-score using the following forumla :\n",
        "\n",
        "\n",
        "\\begin{equation}\n",
        "  t = \\frac{x-\\bar{x} }{ \\frac{S}{\\sqrt{n} } }\n",
        "\\end{equation}\n",
        "\n",
        "- step 3 : calculate the probability of `p-value` using `st.t.cdf` , remember that p-value = $2*P(X>tscore)$ \n",
        "  \n",
        "\n"
      ]
    },
    {
      "cell_type": "code",
      "metadata": {
        "ExecuteTime": {
          "end_time": "2021-07-25T18:26:01.769742Z",
          "start_time": "2021-07-25T18:26:01.702473Z"
        },
        "colab": {
          "base_uri": "https://localhost:8080/"
        },
        "id": "djwG-r7o_abP",
        "outputId": "8914abd1-aac9-442d-d8a4-7bf755551d90"
      },
      "source": [
        "x_barre=x.mean()\n",
        "SE=st.sem(x, ddof=1)\n",
        "t=(mu_0-x_barre)/SE \n",
        "p = (1 -st. t.cdf(abs(t), 9)) * 2\n",
        "print(p)\n",
        "\n"
      ],
      "execution_count": null,
      "outputs": [
        {
          "output_type": "stream",
          "text": [
            "0.0008105069080428517\n"
          ],
          "name": "stdout"
        }
      ]
    },
    {
      "cell_type": "markdown",
      "metadata": {
        "ExecuteTime": {
          "end_time": "2021-07-25T19:21:00.580984Z",
          "start_time": "2021-07-25T19:21:00.559997Z"
        },
        "id": "JnypSDPa_abQ"
      },
      "source": [
        "Question 3: same as the above but with `mu_0 = 1` , `mu_0 = 2` \n"
      ]
    },
    {
      "cell_type": "code",
      "metadata": {
        "colab": {
          "base_uri": "https://localhost:8080/"
        },
        "id": "cKCbl9sob92e",
        "outputId": "f84cb330-de1c-48e9-e04d-b26bd8dfb9c2"
      },
      "source": [
        "mu_0=1\n",
        "x_barre=x.mean()\n",
        "SE=st.sem(x, ddof=1)\n",
        "t=(mu_0-x_barre)/SE \n",
        "p = (1 -st. t.cdf(abs(t), 9)) * 2\n",
        "print(p)"
      ],
      "execution_count": null,
      "outputs": [
        {
          "output_type": "stream",
          "text": [
            "0.010050268032570031\n"
          ],
          "name": "stdout"
        }
      ]
    },
    {
      "cell_type": "code",
      "metadata": {
        "colab": {
          "base_uri": "https://localhost:8080/"
        },
        "id": "BL53zvKKcNOr",
        "outputId": "3a24a414-7953-4bd3-abdc-ab2c9e62dc0d"
      },
      "source": [
        "mu_0=2\n",
        "x_barre=x.mean()\n",
        "SE=st.sem(x, ddof=1)\n",
        "t=(mu_0-x_barre)/SE \n",
        "p = (1 -st. t.cdf(abs(t), 9)) * 2\n",
        "print(p)"
      ],
      "execution_count": null,
      "outputs": [
        {
          "output_type": "stream",
          "text": [
            "0.15298857048804626\n"
          ],
          "name": "stdout"
        }
      ]
    },
    {
      "cell_type": "markdown",
      "metadata": {
        "ExecuteTime": {
          "end_time": "2021-07-25T18:26:34.824710Z",
          "start_time": "2021-07-25T18:26:34.816736Z"
        },
        "id": "4dZnViBf_abR"
      },
      "source": [
        "**right-tail test**"
      ]
    },
    {
      "cell_type": "markdown",
      "metadata": {
        "id": "UlM_AZHm_abR"
      },
      "source": [
        "Question 4 : everything remain the same , except that the p-value is calculated differently , since : \n",
        "\n",
        " p-value = $P(X>tscore)$ \n",
        "\n",
        "\n",
        "calculate the p-value with mu_0= 0 , mu_0= 1 , mu_0= 2 "
      ]
    },
    {
      "cell_type": "code",
      "metadata": {
        "id": "_BwlSFnQ_abS",
        "colab": {
          "base_uri": "https://localhost:8080/"
        },
        "outputId": "d0c8e411-e6a7-4933-cdc9-92f77747e68a"
      },
      "source": [
        "mu_0=0\n",
        "x_barre=x.mean()\n",
        "SE=st.sem(x, ddof=1)\n",
        "t=(mu_0-x_barre)/SE \n",
        "p = 1 -st. t.cdf(abs(t), 9)\n",
        "print(p)\n"
      ],
      "execution_count": null,
      "outputs": [
        {
          "output_type": "stream",
          "text": [
            "0.0004052534540214259\n"
          ],
          "name": "stdout"
        }
      ]
    },
    {
      "cell_type": "code",
      "metadata": {
        "id": "HC5POEhRfbcE",
        "colab": {
          "base_uri": "https://localhost:8080/"
        },
        "outputId": "600b2201-ba01-40d3-98c3-2bb55eebdb18"
      },
      "source": [
        "mu_0=1\n",
        "x_barre=x.mean()\n",
        "SE=st.sem(x, ddof=1)\n",
        "t=(mu_0-x_barre)/SE \n",
        "p = 1 -st. t.cdf(abs(t), 9)\n",
        "print(p)"
      ],
      "execution_count": null,
      "outputs": [
        {
          "output_type": "stream",
          "text": [
            "0.0050251340162850155\n"
          ],
          "name": "stdout"
        }
      ]
    },
    {
      "cell_type": "code",
      "metadata": {
        "id": "jgS81bNife3p",
        "colab": {
          "base_uri": "https://localhost:8080/"
        },
        "outputId": "fd85fa1f-92a3-4ad2-fa72-c506f410d5d0"
      },
      "source": [
        "mu_0=2\n",
        "x_barre=x.mean()\n",
        "SE=st.sem(x, ddof=1)\n",
        "t=(mu_0-x_barre)/SE \n",
        "p = 1 -st. t.cdf(abs(t), 9)\n",
        "print(p)"
      ],
      "execution_count": null,
      "outputs": [
        {
          "output_type": "stream",
          "text": [
            "0.07649428524402313\n"
          ],
          "name": "stdout"
        }
      ]
    },
    {
      "cell_type": "markdown",
      "metadata": {
        "id": "fJRboeq4_abT"
      },
      "source": [
        "**left-tail test**"
      ]
    },
    {
      "cell_type": "markdown",
      "metadata": {
        "id": "ZrY7pNKi_abU"
      },
      "source": [
        "Question 5 : everything remain the same , except that the p-value is calculated differently , since : \n",
        "\n",
        " p-value = $P(X<tscore)$ \n",
        "\n",
        "\n",
        "calculate the p-value with mu_0= 0 , mu_0= 1 , mu_0= 2 "
      ]
    },
    {
      "cell_type": "code",
      "metadata": {
        "id": "Ha7In4gJfoqr",
        "colab": {
          "base_uri": "https://localhost:8080/"
        },
        "outputId": "e1ff521d-1556-44ad-b808-1b82077255ed"
      },
      "source": [
        "mu_0=0\n",
        "x_barre=x.mean()\n",
        "SE=st.sem(x, ddof=1)\n",
        "t=(mu_0-x_barre)/SE \n",
        "p = st. t.cdf(abs(t), 9)\n",
        "print(p)"
      ],
      "execution_count": null,
      "outputs": [
        {
          "output_type": "stream",
          "text": [
            "0.9995947465459786\n"
          ],
          "name": "stdout"
        }
      ]
    },
    {
      "cell_type": "code",
      "metadata": {
        "id": "b9zVJ7n6ftc9",
        "colab": {
          "base_uri": "https://localhost:8080/"
        },
        "outputId": "adabeefb-0ab2-40da-ba1c-c0fee17c37fd"
      },
      "source": [
        "mu_0=1\n",
        "x_barre=x.mean()\n",
        "SE=st.sem(x, ddof=1)\n",
        "t=(mu_0-x_barre)/SE \n",
        "p = st. t.cdf(abs(t), 9)\n",
        "print(p)"
      ],
      "execution_count": null,
      "outputs": [
        {
          "output_type": "stream",
          "text": [
            "0.994974865983715\n"
          ],
          "name": "stdout"
        }
      ]
    },
    {
      "cell_type": "code",
      "metadata": {
        "id": "rX_Nv1V_fvXD",
        "colab": {
          "base_uri": "https://localhost:8080/"
        },
        "outputId": "909cab35-10f1-43cd-83a5-46191ffac2e3"
      },
      "source": [
        "mu_0=2\n",
        "x_barre=x.mean()\n",
        "SE=st.sem(x, ddof=1)\n",
        "t=(mu_0-x_barre)/SE \n",
        "p = st. t.cdf(abs(t), 9)\n",
        "print(p)"
      ],
      "execution_count": null,
      "outputs": [
        {
          "output_type": "stream",
          "text": [
            "0.9235057147559769\n"
          ],
          "name": "stdout"
        }
      ]
    },
    {
      "cell_type": "markdown",
      "metadata": {
        "heading_collapsed": true,
        "id": "4SuBgiL1_abV"
      },
      "source": [
        "## independent two sample t-test"
      ]
    },
    {
      "cell_type": "markdown",
      "metadata": {
        "hidden": true,
        "id": "t3xWsmFO_abV"
      },
      "source": [
        "Question 6 : just like you created your samples in the first question , follow the same steps in order to create x1 and x2 that have the following propreties :\n",
        "\n",
        "x1 (sample 1 ) : n1 = 10 , mu1 = 3 , sigma1 = 2\n",
        "\n",
        "x2 (sample 2) :  n2 = 20 , mu2 = 5 , sigma2 = 3"
      ]
    },
    {
      "cell_type": "code",
      "metadata": {
        "ExecuteTime": {
          "end_time": "2021-07-25T20:24:17.003710Z",
          "start_time": "2021-07-25T20:24:16.986718Z"
        },
        "hidden": true,
        "id": "BCOzDL___abV"
      },
      "source": [
        "#make sure to name your variables x1 and x2\n",
        "n1=10\n",
        "n2=20\n",
        "mu1=3\n",
        "mu2=5\n",
        "sigma1=2\n",
        "sigma2=3\n",
        "x1 = np.random.normal(loc=mu1, scale=sigma1, size=n1)\n",
        "x2 = np.random.normal(loc=mu2, scale=sigma2, size=n2)\n"
      ],
      "execution_count": null,
      "outputs": []
    },
    {
      "cell_type": "markdown",
      "metadata": {
        "hidden": true,
        "id": "OAKgMTY4_abW"
      },
      "source": [
        "Question 7 : run the following and interpret the results : "
      ]
    },
    {
      "cell_type": "code",
      "metadata": {
        "hidden": true,
        "id": "gUtziOSX_abW",
        "colab": {
          "base_uri": "https://localhost:8080/"
        },
        "outputId": "97ff66e6-5e6f-45dd-d101-df794acec752"
      },
      "source": [
        "st.ttest_ind(x1,x2,equal_var=False)                                       "
      ],
      "execution_count": null,
      "outputs": [
        {
          "output_type": "execute_result",
          "data": {
            "text/plain": [
              "Ttest_indResult(statistic=-2.605842662088191, pvalue=0.015557771814983483)"
            ]
          },
          "metadata": {
            "tags": []
          },
          "execution_count": 160
        }
      ]
    },
    {
      "cell_type": "code",
      "metadata": {
        "id": "spq5I-9Vz56J"
      },
      "source": [
        "#si alpha=0.05 ,la pvalue etant plus petite que alpha \n",
        "#on doit donc rejeter l'hypothese H0 \n",
        "#H0: x1_mean=x2_mean\n"
      ],
      "execution_count": null,
      "outputs": []
    },
    {
      "cell_type": "markdown",
      "metadata": {
        "hidden": true,
        "id": "74LWVXaz_abW"
      },
      "source": [
        "Question 8 : calculate x1_mean , x2_mean  , s1 (unbiased standard deviation) , s2 of the two samples x1 and x2"
      ]
    },
    {
      "cell_type": "code",
      "metadata": {
        "hidden": true,
        "id": "nRPx3bq2_abX",
        "colab": {
          "base_uri": "https://localhost:8080/"
        },
        "outputId": "e72f0a5f-67f8-4e5c-9c48-487ec9e48c81"
      },
      "source": [
        "x1_mean=x1.mean()\n",
        "x2_mean=x2.mean()\n",
        "s1=np.std(x1,ddof=1)\n",
        "s2=np.std(x2,ddof=1)\n",
        "print(x1_mean,x2_mean,s1,s2)\n"
      ],
      "execution_count": null,
      "outputs": [
        {
          "output_type": "stream",
          "text": [
            "2.7126330151064457 5.252355265904492 2.217593091848569 3.0269592254092914\n"
          ],
          "name": "stdout"
        }
      ]
    },
    {
      "cell_type": "markdown",
      "metadata": {
        "hidden": true,
        "id": "DOUFARXU_abX"
      },
      "source": [
        "Question 9 : run the function using the descriptive statistics optained in the previous question using  `st.ttest_ind_from_stats ` (i invite you to read the documentation first  ) , also make sure to set `equal_var=False`    "
      ]
    },
    {
      "cell_type": "code",
      "metadata": {
        "colab": {
          "base_uri": "https://localhost:8080/"
        },
        "id": "SB_ptd-X2Xus",
        "outputId": "c7c7ca02-9275-4b24-f09a-827e85231d9f"
      },
      "source": [
        "st.ttest_ind_from_stats(x1_mean, s1, n1,x2_mean, s2, n2, equal_var=False)"
      ],
      "execution_count": null,
      "outputs": [
        {
          "output_type": "execute_result",
          "data": {
            "text/plain": [
              "Ttest_indResult(statistic=-2.605842662088191, pvalue=0.015557771814983483)"
            ]
          },
          "metadata": {
            "tags": []
          },
          "execution_count": 163
        }
      ]
    },
    {
      "cell_type": "markdown",
      "metadata": {
        "id": "CKMH_pd-_abY"
      },
      "source": [
        "## Paired two sample t-test"
      ]
    },
    {
      "cell_type": "markdown",
      "metadata": {
        "id": "vf5wIqJg_abZ"
      },
      "source": [
        "Question 10 : Simulate two samples of size **n=10** with Normal distribution. to do so : \n",
        "\n",
        "- step 1 : create x1 using the same method as described in question1 with mu=3 , sigma=2\n",
        "- step 2 : create a \"noisy\" distribution derived from x1 using the following formula : \n",
        "                    x2 = x1 + np.random.randn(n) + 1\n",
        "                    \n",
        "(Notice that the x2 is created by adding some 'noise' to the x1)\n",
        "\n",
        "So,'one to one' relation is established."
      ]
    },
    {
      "cell_type": "code",
      "metadata": {
        "id": "l81QU_22_abZ"
      },
      "source": [
        "mu=3\n",
        "sigma=2\n",
        "n=10\n",
        "x1 = np.random.normal(loc=mu, scale=sigma, size=n)\n",
        "x2 = x1 + np.random.randn(n) + 1"
      ],
      "execution_count": null,
      "outputs": []
    },
    {
      "cell_type": "markdown",
      "metadata": {
        "id": "LPprqFQB_abZ"
      },
      "source": [
        "Question 11 : \n",
        "run the following line and interpret the results \n"
      ]
    },
    {
      "cell_type": "code",
      "metadata": {
        "id": "WpTGUT92_aba",
        "colab": {
          "base_uri": "https://localhost:8080/"
        },
        "outputId": "3703dafe-87fd-4b02-c307-b3f6d911fda0"
      },
      "source": [
        "# Two tail test.\n",
        "st.ttest_rel(x1,x2)"
      ],
      "execution_count": null,
      "outputs": [
        {
          "output_type": "execute_result",
          "data": {
            "text/plain": [
              "Ttest_relResult(statistic=-3.077797789754085, pvalue=0.013186793701508348)"
            ]
          },
          "metadata": {
            "tags": []
          },
          "execution_count": 165
        }
      ]
    },
    {
      "cell_type": "code",
      "metadata": {
        "id": "qbw4bbP69BW2"
      },
      "source": [
        "#si alpha =0.05 ,etant donnée que pvalue 0.013 est inferieure à alpha \n",
        "# on conclue donc ,qu'il faut rejeter l'hypothese H0\n",
        "# H0: x1_mean=x2_mean=mu"
      ],
      "execution_count": null,
      "outputs": []
    },
    {
      "cell_type": "markdown",
      "metadata": {
        "id": "HFwcgHIX_aba"
      },
      "source": [
        "Question 12 : Compare with the indepdent two sample t-test on the same dataset. \n"
      ]
    },
    {
      "cell_type": "code",
      "metadata": {
        "ExecuteTime": {
          "end_time": "2021-07-25T20:39:52.407033Z",
          "start_time": "2021-07-25T20:39:52.356047Z"
        },
        "id": "S3R4h_jK_aba",
        "colab": {
          "base_uri": "https://localhost:8080/"
        },
        "outputId": "030efdf0-bcbb-4a48-c7e1-c2dfe5610ba7"
      },
      "source": [
        "st.ttest_ind(x1,x2,equal_var=False)  "
      ],
      "execution_count": null,
      "outputs": [
        {
          "output_type": "execute_result",
          "data": {
            "text/plain": [
              "Ttest_indResult(statistic=-0.9514401168973577, pvalue=0.3541808856827501)"
            ]
          },
          "metadata": {
            "tags": []
          },
          "execution_count": 167
        }
      ]
    },
    {
      "cell_type": "code",
      "metadata": {
        "id": "uDvX1xBy_JB1"
      },
      "source": [
        "#le resultat n'est vraiment pas le meme ,vu qu'ici on a pvalue superieur à alpha \n",
        "#on ne rejete pas l'hypothese H0 ,qui stipule que les moyennes sont identiques \n",
        "\n",
        "#vu qu'ici on a x1 et x2 dependant ,à mon avis il n'est pas judicieux d'appliquer le test independant (ttest_ind)\n"
      ],
      "execution_count": null,
      "outputs": []
    },
    {
      "cell_type": "markdown",
      "metadata": {
        "heading_collapsed": true,
        "id": "ZShSPfIw_aba"
      },
      "source": [
        "## ANOVA"
      ]
    },
    {
      "cell_type": "markdown",
      "metadata": {
        "hidden": true,
        "id": "yEWJsb-h_abb"
      },
      "source": [
        "There are three groups of students. The data corresponds to the test scores. Determine whether there is any significant difference in the group test scores."
      ]
    },
    {
      "cell_type": "code",
      "metadata": {
        "ExecuteTime": {
          "end_time": "2021-07-25T20:40:51.242784Z",
          "start_time": "2021-07-25T20:40:51.230792Z"
        },
        "hidden": true,
        "id": "HscVnVqJ_abb"
      },
      "source": [
        "# Data.\n",
        "x1 = np.array([82,93,61,74,69,70,53])\n",
        "x2 = np.array([71,62,85,94,78,66,71])\n",
        "x3 = np.array([64,73,87,91,56,78,87])"
      ],
      "execution_count": null,
      "outputs": []
    },
    {
      "cell_type": "code",
      "metadata": {
        "ExecuteTime": {
          "end_time": "2021-07-25T20:40:59.728639Z",
          "start_time": "2021-07-25T20:40:59.680666Z"
        },
        "hidden": true,
        "id": "wVEaJ884_abb",
        "colab": {
          "base_uri": "https://localhost:8080/"
        },
        "outputId": "41694a10-0a1d-4701-e84b-831448f5e55e"
      },
      "source": [
        "# Using the f_onway() function from the SciPy library.\n",
        "res=st.f_oneway(x1,x2,x3)\n",
        "print(\"Test statistic  : %f \" % res[0] )\n",
        "print(\"p-value         : %f \" % res[1] )"
      ],
      "execution_count": null,
      "outputs": [
        {
          "output_type": "stream",
          "text": [
            "Test statistic  : 0.283726 \n",
            "p-value         : 0.756278 \n"
          ],
          "name": "stdout"
        }
      ]
    },
    {
      "cell_type": "code",
      "metadata": {
        "id": "SOQd4-kXBs0h"
      },
      "source": [
        "#si alpha=0.05 ,ici la pvalue est bien superieur à alpha \n",
        "# on ne rejete donc pas l'hypothese HO ,qui stipule que les moyennes des groupes sont identiques \n",
        "# en d'autres termes , il n'y pas de différence significative dans les résultats des tests de groupe."
      ],
      "execution_count": null,
      "outputs": []
    },
    {
      "cell_type": "markdown",
      "metadata": {
        "id": "ii6ncsEv_abc"
      },
      "source": [
        "# Summarizing categorical variables:"
      ]
    },
    {
      "cell_type": "code",
      "metadata": {
        "id": "Pr05XDxp_abc"
      },
      "source": [
        "import pandas as pd \n",
        "df = pd.read_csv('data_studentlist.csv', header='infer',encoding = 'latin1')"
      ],
      "execution_count": null,
      "outputs": []
    },
    {
      "cell_type": "markdown",
      "metadata": {
        "heading_collapsed": true,
        "id": "yUWwxKfV_abc"
      },
      "source": [
        "## Frequency table (One way table):"
      ]
    },
    {
      "cell_type": "code",
      "metadata": {
        "hidden": true,
        "id": "VvSoYpdj_abc"
      },
      "source": [
        "# Categorical variables.\n",
        "bloodType = df['bloodtype']\n",
        "gender = df['gender']"
      ],
      "execution_count": null,
      "outputs": []
    },
    {
      "cell_type": "markdown",
      "metadata": {
        "hidden": true,
        "id": "0xrN18hU_abd"
      },
      "source": [
        "get the frequency table of bloodtype"
      ]
    },
    {
      "cell_type": "code",
      "metadata": {
        "hidden": true,
        "id": "g5at1YOr_abd",
        "colab": {
          "base_uri": "https://localhost:8080/"
        },
        "outputId": "cc4e3f5b-7fe0-48a3-9b23-9d831ba5252f"
      },
      "source": [
        "bloodType.value_counts()"
      ],
      "execution_count": null,
      "outputs": [
        {
          "output_type": "execute_result",
          "data": {
            "text/plain": [
              "B     5\n",
              "O     5\n",
              "A     4\n",
              "AB    3\n",
              "Name: bloodtype, dtype: int64"
            ]
          },
          "metadata": {
            "tags": []
          },
          "execution_count": 174
        }
      ]
    },
    {
      "cell_type": "markdown",
      "metadata": {
        "hidden": true,
        "id": "dhf9x7Mn_abd"
      },
      "source": [
        "get the frequency table of gender"
      ]
    },
    {
      "cell_type": "code",
      "metadata": {
        "hidden": true,
        "id": "F65FMr_L_abd",
        "colab": {
          "base_uri": "https://localhost:8080/"
        },
        "outputId": "9dd3a521-d88c-4d17-8d11-1b24b5c5630f"
      },
      "source": [
        "gender.value_counts()"
      ],
      "execution_count": null,
      "outputs": [
        {
          "output_type": "execute_result",
          "data": {
            "text/plain": [
              "M    10\n",
              "F     7\n",
              "Name: gender, dtype: int64"
            ]
          },
          "metadata": {
            "tags": []
          },
          "execution_count": 175
        }
      ]
    },
    {
      "cell_type": "markdown",
      "metadata": {
        "hidden": true,
        "id": "Jx7VD5kR_abe"
      },
      "source": [
        "get the normalized frequency table of bloodtype"
      ]
    },
    {
      "cell_type": "code",
      "metadata": {
        "hidden": true,
        "id": "A8O9wtMf_abe",
        "colab": {
          "base_uri": "https://localhost:8080/"
        },
        "outputId": "163b1405-9903-4170-b270-f06bc0c3e610"
      },
      "source": [
        "bloodType.value_counts(normalize=True)"
      ],
      "execution_count": null,
      "outputs": [
        {
          "output_type": "execute_result",
          "data": {
            "text/plain": [
              "B     0.294118\n",
              "O     0.294118\n",
              "A     0.235294\n",
              "AB    0.176471\n",
              "Name: bloodtype, dtype: float64"
            ]
          },
          "metadata": {
            "tags": []
          },
          "execution_count": 176
        }
      ]
    },
    {
      "cell_type": "markdown",
      "metadata": {
        "hidden": true,
        "id": "CqFZybBi_abe"
      },
      "source": [
        "same as the above for gender"
      ]
    },
    {
      "cell_type": "code",
      "metadata": {
        "hidden": true,
        "id": "VSGnrBZk_abe",
        "colab": {
          "base_uri": "https://localhost:8080/"
        },
        "outputId": "8e94d26b-bd1b-4c61-feb4-661c68c44286"
      },
      "source": [
        "gender.value_counts(normalize=True)"
      ],
      "execution_count": null,
      "outputs": [
        {
          "output_type": "execute_result",
          "data": {
            "text/plain": [
              "M    0.588235\n",
              "F    0.411765\n",
              "Name: gender, dtype: float64"
            ]
          },
          "metadata": {
            "tags": []
          },
          "execution_count": 177
        }
      ]
    },
    {
      "cell_type": "markdown",
      "metadata": {
        "heading_collapsed": true,
        "id": "V3ACGvQE_abe"
      },
      "source": [
        "##  Contingency table (Two way table):"
      ]
    },
    {
      "cell_type": "markdown",
      "metadata": {
        "hidden": true,
        "id": "LN9e3Zxv_abf"
      },
      "source": [
        "get the Contingency table using `pd.crosstab`"
      ]
    },
    {
      "cell_type": "code",
      "metadata": {
        "hidden": true,
        "id": "UjA6IIgA_abf",
        "colab": {
          "base_uri": "https://localhost:8080/"
        },
        "outputId": "24580078-00b1-43b3-c22a-43ad100eb86d"
      },
      "source": [
        "pd.crosstab(bloodType,gender)"
      ],
      "execution_count": null,
      "outputs": [
        {
          "output_type": "execute_result",
          "data": {
            "text/html": [
              "<div>\n",
              "<style scoped>\n",
              "    .dataframe tbody tr th:only-of-type {\n",
              "        vertical-align: middle;\n",
              "    }\n",
              "\n",
              "    .dataframe tbody tr th {\n",
              "        vertical-align: top;\n",
              "    }\n",
              "\n",
              "    .dataframe thead th {\n",
              "        text-align: right;\n",
              "    }\n",
              "</style>\n",
              "<table border=\"1\" class=\"dataframe\">\n",
              "  <thead>\n",
              "    <tr style=\"text-align: right;\">\n",
              "      <th>gender</th>\n",
              "      <th>F</th>\n",
              "      <th>M</th>\n",
              "    </tr>\n",
              "    <tr>\n",
              "      <th>bloodtype</th>\n",
              "      <th></th>\n",
              "      <th></th>\n",
              "    </tr>\n",
              "  </thead>\n",
              "  <tbody>\n",
              "    <tr>\n",
              "      <th>A</th>\n",
              "      <td>2</td>\n",
              "      <td>2</td>\n",
              "    </tr>\n",
              "    <tr>\n",
              "      <th>AB</th>\n",
              "      <td>1</td>\n",
              "      <td>2</td>\n",
              "    </tr>\n",
              "    <tr>\n",
              "      <th>B</th>\n",
              "      <td>1</td>\n",
              "      <td>4</td>\n",
              "    </tr>\n",
              "    <tr>\n",
              "      <th>O</th>\n",
              "      <td>3</td>\n",
              "      <td>2</td>\n",
              "    </tr>\n",
              "  </tbody>\n",
              "</table>\n",
              "</div>"
            ],
            "text/plain": [
              "gender     F  M\n",
              "bloodtype      \n",
              "A          2  2\n",
              "AB         1  2\n",
              "B          1  4\n",
              "O          3  2"
            ]
          },
          "metadata": {
            "tags": []
          },
          "execution_count": 178
        }
      ]
    },
    {
      "cell_type": "markdown",
      "metadata": {
        "hidden": true,
        "id": "9Qtv93vv_abf"
      },
      "source": [
        "in order to get Contingency table with marginalization , set the parameter `margins=True`\n"
      ]
    },
    {
      "cell_type": "code",
      "metadata": {
        "hidden": true,
        "id": "a9wi3NRn_abg",
        "colab": {
          "base_uri": "https://localhost:8080/"
        },
        "outputId": "afab4b40-f708-4e1c-e9ec-519a5a0b23ad"
      },
      "source": [
        "pd.crosstab(bloodType,gender,margins=True)"
      ],
      "execution_count": null,
      "outputs": [
        {
          "output_type": "execute_result",
          "data": {
            "text/html": [
              "<div>\n",
              "<style scoped>\n",
              "    .dataframe tbody tr th:only-of-type {\n",
              "        vertical-align: middle;\n",
              "    }\n",
              "\n",
              "    .dataframe tbody tr th {\n",
              "        vertical-align: top;\n",
              "    }\n",
              "\n",
              "    .dataframe thead th {\n",
              "        text-align: right;\n",
              "    }\n",
              "</style>\n",
              "<table border=\"1\" class=\"dataframe\">\n",
              "  <thead>\n",
              "    <tr style=\"text-align: right;\">\n",
              "      <th>gender</th>\n",
              "      <th>F</th>\n",
              "      <th>M</th>\n",
              "      <th>All</th>\n",
              "    </tr>\n",
              "    <tr>\n",
              "      <th>bloodtype</th>\n",
              "      <th></th>\n",
              "      <th></th>\n",
              "      <th></th>\n",
              "    </tr>\n",
              "  </thead>\n",
              "  <tbody>\n",
              "    <tr>\n",
              "      <th>A</th>\n",
              "      <td>2</td>\n",
              "      <td>2</td>\n",
              "      <td>4</td>\n",
              "    </tr>\n",
              "    <tr>\n",
              "      <th>AB</th>\n",
              "      <td>1</td>\n",
              "      <td>2</td>\n",
              "      <td>3</td>\n",
              "    </tr>\n",
              "    <tr>\n",
              "      <th>B</th>\n",
              "      <td>1</td>\n",
              "      <td>4</td>\n",
              "      <td>5</td>\n",
              "    </tr>\n",
              "    <tr>\n",
              "      <th>O</th>\n",
              "      <td>3</td>\n",
              "      <td>2</td>\n",
              "      <td>5</td>\n",
              "    </tr>\n",
              "    <tr>\n",
              "      <th>All</th>\n",
              "      <td>7</td>\n",
              "      <td>10</td>\n",
              "      <td>17</td>\n",
              "    </tr>\n",
              "  </tbody>\n",
              "</table>\n",
              "</div>"
            ],
            "text/plain": [
              "gender     F   M  All\n",
              "bloodtype            \n",
              "A          2   2    4\n",
              "AB         1   2    3\n",
              "B          1   4    5\n",
              "O          3   2    5\n",
              "All        7  10   17"
            ]
          },
          "metadata": {
            "tags": []
          },
          "execution_count": 179
        }
      ]
    },
    {
      "cell_type": "markdown",
      "metadata": {
        "id": "-LlXBQV-_abg"
      },
      "source": [
        "# Hypothesis Test of proportions:\n",
        " "
      ]
    },
    {
      "cell_type": "markdown",
      "metadata": {
        "id": "fSkq8ObP_abh"
      },
      "source": [
        "## Chi-squared Tests:"
      ]
    },
    {
      "cell_type": "markdown",
      "metadata": {
        "heading_collapsed": true,
        "id": "uNMKJNEy_abh"
      },
      "source": [
        "###  For one way table "
      ]
    },
    {
      "cell_type": "markdown",
      "metadata": {
        "hidden": true,
        "id": "DJpAqdHe_abi"
      },
      "source": [
        "Suppose we have a frequency table of *eye color* of 592 adults. <br>\n",
        "Let us carry out the Chi-squared tests."
      ]
    },
    {
      "cell_type": "code",
      "metadata": {
        "ExecuteTime": {
          "end_time": "2021-07-25T20:54:53.057083Z",
          "start_time": "2021-07-25T20:54:53.043091Z"
        },
        "hidden": true,
        "id": "6CIx9gUr_abi"
      },
      "source": [
        "# Data.\n",
        "data = np.array([220, 215, 93,64])"
      ],
      "execution_count": null,
      "outputs": []
    },
    {
      "cell_type": "markdown",
      "metadata": {
        "hidden": true,
        "id": "NL2sfiaM_abj"
      },
      "source": [
        "- step 1  : create a series with data , and set the table `['Brown','Blue','Hazel','Green']` as index   "
      ]
    },
    {
      "cell_type": "code",
      "metadata": {
        "hidden": true,
        "id": "7uoOcjpv_abj",
        "colab": {
          "base_uri": "https://localhost:8080/"
        },
        "outputId": "3911f510-6abe-4cdf-8570-5a06b13b072f"
      },
      "source": [
        "eye=pd.Series(data,index=['Brown','Blue','Hazel','Green'])\n",
        "print(eye)"
      ],
      "execution_count": null,
      "outputs": [
        {
          "output_type": "stream",
          "text": [
            "Brown    220\n",
            "Blue     215\n",
            "Hazel     93\n",
            "Green     64\n",
            "dtype: int64\n"
          ],
          "name": "stdout"
        }
      ]
    },
    {
      "cell_type": "markdown",
      "metadata": {
        "hidden": true,
        "id": "_eVzLuE3_abl"
      },
      "source": [
        "Question 13 : create a Table of proportions. to do so , divide your series by the sum of the frequencies"
      ]
    },
    {
      "cell_type": "code",
      "metadata": {
        "hidden": true,
        "id": "3Memt1Lp_abl",
        "colab": {
          "base_uri": "https://localhost:8080/"
        },
        "outputId": "ae2f630e-19e7-4ec2-c4df-2471a45510fa"
      },
      "source": [
        "eye.value_counts(normalize=True)\n"
      ],
      "execution_count": null,
      "outputs": [
        {
          "output_type": "execute_result",
          "data": {
            "text/plain": [
              "215    0.25\n",
              "93     0.25\n",
              "220    0.25\n",
              "64     0.25\n",
              "dtype: float64"
            ]
          },
          "metadata": {
            "tags": []
          },
          "execution_count": 197
        }
      ]
    },
    {
      "cell_type": "markdown",
      "metadata": {
        "hidden": true,
        "id": "-yi7scYk_abl"
      },
      "source": [
        "Question 14 : Compare with the default model of equal frequencies. ( in other words , calculate the chisquare of your series using `st.chisquare`"
      ]
    },
    {
      "cell_type": "code",
      "metadata": {
        "hidden": true,
        "id": "7QnPE45x_abm",
        "colab": {
          "base_uri": "https://localhost:8080/"
        },
        "outputId": "b9f2f5e2-2070-4248-c543-8990c22fc892"
      },
      "source": [
        "st.chisquare(f_obs=eye )"
      ],
      "execution_count": null,
      "outputs": [
        {
          "output_type": "execute_result",
          "data": {
            "text/plain": [
              "Power_divergenceResult(statistic=133.47297297297297, pvalue=9.650879774148268e-29)"
            ]
          },
          "metadata": {
            "tags": []
          },
          "execution_count": 183
        }
      ]
    },
    {
      "cell_type": "code",
      "metadata": {
        "id": "XTVj5VBClxi-"
      },
      "source": [
        "#pvalue est tres petite ,ce qui signifie qu'on doit rejeter l'hypothese H0 \n",
        "#H0:  les données catégorielles ont les fréquences données.\n",
        "#conclusion :les echantillons n'ont pas les memes fréquences de couleurs des yeux  comme dans la population \n"
      ],
      "execution_count": null,
      "outputs": []
    },
    {
      "cell_type": "markdown",
      "metadata": {
        "hidden": true,
        "id": "MBPQ490e_abm"
      },
      "source": [
        "Question 15 : the following is a model provided by the user that tries to approximate the frequencies "
      ]
    },
    {
      "cell_type": "code",
      "metadata": {
        "ExecuteTime": {
          "end_time": "2021-07-25T21:11:06.825864Z",
          "start_time": "2021-07-25T21:11:06.806877Z"
        },
        "hidden": true,
        "id": "LSALXOqt_abm",
        "colab": {
          "base_uri": "https://localhost:8080/"
        },
        "outputId": "0830130c-d5eb-4ba4-c6dd-d3890c622678"
      },
      "source": [
        "my_model = len(eye)*[np.mean(eye)]\n",
        "print(my_model)"
      ],
      "execution_count": null,
      "outputs": [
        {
          "output_type": "stream",
          "text": [
            "[148.0, 148.0, 148.0, 148.0]\n"
          ],
          "name": "stdout"
        }
      ]
    },
    {
      "cell_type": "markdown",
      "metadata": {
        "hidden": true,
        "id": "VQnlG4om_abm"
      },
      "source": [
        "run the following and describe the result :"
      ]
    },
    {
      "cell_type": "code",
      "metadata": {
        "hidden": true,
        "id": "7OnSslK9_abn",
        "colab": {
          "base_uri": "https://localhost:8080/"
        },
        "outputId": "933f685e-f8cf-4048-bd77-022c7024f914"
      },
      "source": [
        "st.chisquare(f_obs=eye,f_exp = my_model)"
      ],
      "execution_count": null,
      "outputs": [
        {
          "output_type": "execute_result",
          "data": {
            "text/plain": [
              "Power_divergenceResult(statistic=133.47297297297297, pvalue=9.650879774148268e-29)"
            ]
          },
          "metadata": {
            "tags": []
          },
          "execution_count": 185
        }
      ]
    },
    {
      "cell_type": "code",
      "metadata": {
        "id": "LlXsWVrbQpSX"
      },
      "source": [
        "#pvalue superieur à alpha ,donc on ne rejete pas l'hypothese H0 \n",
        "#H0:  les données catégorielles ont les fréquences données.\n"
      ],
      "execution_count": null,
      "outputs": []
    },
    {
      "cell_type": "markdown",
      "metadata": {
        "hidden": true,
        "id": "bZZhOSdF_abn"
      },
      "source": [
        "let's test with a more realistic model : "
      ]
    },
    {
      "cell_type": "code",
      "metadata": {
        "hidden": true,
        "id": "8ORIFa2A_abn"
      },
      "source": [
        "my_model = eye.sum()*np.array([0.40,0.33,0.15,0.12])"
      ],
      "execution_count": null,
      "outputs": []
    },
    {
      "cell_type": "markdown",
      "metadata": {
        "hidden": true,
        "id": "O0sXpIrb_abn"
      },
      "source": [
        "run the following and describe the result. what do you conlcude about the two proposed models ? "
      ]
    },
    {
      "cell_type": "code",
      "metadata": {
        "hidden": true,
        "id": "acN37Lu4_abo",
        "colab": {
          "base_uri": "https://localhost:8080/"
        },
        "outputId": "ee4b6054-9c79-43d4-8e4a-5b48f237fded"
      },
      "source": [
        "st.chisquare(f_obs=eye,f_exp = my_model )"
      ],
      "execution_count": null,
      "outputs": [
        {
          "output_type": "execute_result",
          "data": {
            "text/plain": [
              "Power_divergenceResult(statistic=4.06265356265356, pvalue=0.25477767063672113)"
            ]
          },
          "metadata": {
            "tags": []
          },
          "execution_count": 188
        }
      ]
    },
    {
      "cell_type": "code",
      "metadata": {
        "id": "c5DNOBNxRA9t"
      },
      "source": [
        "#ce modele est plus realiste car \n",
        "# ici pvalue est grande et donc on ne rejete pas l'hyothese H0 qui stipule que les données categorielles ont les frequences données \n",
        "\n",
        "\n"
      ],
      "execution_count": null,
      "outputs": []
    },
    {
      "cell_type": "markdown",
      "metadata": {
        "id": "fSK6mHP__abo"
      },
      "source": [
        "##  For two way table:"
      ]
    },
    {
      "cell_type": "markdown",
      "metadata": {
        "id": "1akjUgXY_abo"
      },
      "source": [
        "Suppose we have a contingency table of *eye color* vs *hair color* of 592 adults. <br>\n",
        "Let us carry out the Chi-squared test for independence."
      ]
    },
    {
      "cell_type": "code",
      "metadata": {
        "id": "HtVdhxU0_abo",
        "colab": {
          "base_uri": "https://localhost:8080/",
          "height": 171
        },
        "outputId": "bdbadf23-0802-4967-e5f6-35f13d258a0b"
      },
      "source": [
        "# Data.\n",
        "# Row label    = hair color.\n",
        "# Column label = eye color. \n",
        "data_eye = {'Brown': [68,119,26,7], 'Blue':[20,84,17,94], 'Hazel':[15,54,14,10], 'Green':[5, 29, 14,16]}\n",
        "data = pd.DataFrame(data_eye,index=['Black','Brown','Red','Blonde'])\n",
        "data"
      ],
      "execution_count": null,
      "outputs": [
        {
          "output_type": "execute_result",
          "data": {
            "text/html": [
              "<div>\n",
              "<style scoped>\n",
              "    .dataframe tbody tr th:only-of-type {\n",
              "        vertical-align: middle;\n",
              "    }\n",
              "\n",
              "    .dataframe tbody tr th {\n",
              "        vertical-align: top;\n",
              "    }\n",
              "\n",
              "    .dataframe thead th {\n",
              "        text-align: right;\n",
              "    }\n",
              "</style>\n",
              "<table border=\"1\" class=\"dataframe\">\n",
              "  <thead>\n",
              "    <tr style=\"text-align: right;\">\n",
              "      <th></th>\n",
              "      <th>Brown</th>\n",
              "      <th>Blue</th>\n",
              "      <th>Hazel</th>\n",
              "      <th>Green</th>\n",
              "    </tr>\n",
              "  </thead>\n",
              "  <tbody>\n",
              "    <tr>\n",
              "      <th>Black</th>\n",
              "      <td>68</td>\n",
              "      <td>20</td>\n",
              "      <td>15</td>\n",
              "      <td>5</td>\n",
              "    </tr>\n",
              "    <tr>\n",
              "      <th>Brown</th>\n",
              "      <td>119</td>\n",
              "      <td>84</td>\n",
              "      <td>54</td>\n",
              "      <td>29</td>\n",
              "    </tr>\n",
              "    <tr>\n",
              "      <th>Red</th>\n",
              "      <td>26</td>\n",
              "      <td>17</td>\n",
              "      <td>14</td>\n",
              "      <td>14</td>\n",
              "    </tr>\n",
              "    <tr>\n",
              "      <th>Blonde</th>\n",
              "      <td>7</td>\n",
              "      <td>94</td>\n",
              "      <td>10</td>\n",
              "      <td>16</td>\n",
              "    </tr>\n",
              "  </tbody>\n",
              "</table>\n",
              "</div>"
            ],
            "text/plain": [
              "        Brown  Blue  Hazel  Green\n",
              "Black      68    20     15      5\n",
              "Brown     119    84     54     29\n",
              "Red        26    17     14     14\n",
              "Blonde      7    94     10     16"
            ]
          },
          "metadata": {
            "tags": []
          },
          "execution_count": 190
        }
      ]
    },
    {
      "cell_type": "markdown",
      "metadata": {
        "id": "1kMBuXYF_abp"
      },
      "source": [
        "run the following to get Chi-square test of independence of variables in a contingency table. what do you conclude about the relationship between these two categorical variables ? "
      ]
    },
    {
      "cell_type": "code",
      "metadata": {
        "id": "HSEocHGw_abp",
        "colab": {
          "base_uri": "https://localhost:8080/"
        },
        "outputId": "bd7601e4-7612-4c1a-d69b-a3a444121811"
      },
      "source": [
        "st.chi2_contingency(data)"
      ],
      "execution_count": null,
      "outputs": [
        {
          "output_type": "execute_result",
          "data": {
            "text/plain": [
              "(138.28984162600824,\n",
              " 2.325286787098839e-25,\n",
              " 9,\n",
              " array([[ 40.13513514,  39.22297297,  16.96621622,  11.67567568],\n",
              "        [106.28378378, 103.86824324,  44.92905405,  30.91891892],\n",
              "        [ 26.38513514,  25.78547297,  11.15371622,   7.67567568],\n",
              "        [ 47.19594595,  46.12331081,  19.95101351,  13.72972973]]))"
            ]
          },
          "metadata": {
            "tags": []
          },
          "execution_count": 191
        }
      ]
    },
    {
      "cell_type": "code",
      "metadata": {
        "id": "v1PEZVhEtzOT"
      },
      "source": [
        "#pvalue est tres petite ,donc on rejete l'hypothese H0 \n",
        "#H0: les frequences des categories d"
      ],
      "execution_count": null,
      "outputs": []
    },
    {
      "cell_type": "markdown",
      "metadata": {
        "id": "vHY6UCaA_abp"
      },
      "source": [
        "Suppose we have a contingency table of the room class vs survived from RMS Titanic.\n",
        "Let us carry out the Chi-squared test for independence."
      ]
    },
    {
      "cell_type": "code",
      "metadata": {
        "ExecuteTime": {
          "end_time": "2021-07-25T21:58:55.059166Z",
          "start_time": "2021-07-25T21:58:55.039179Z"
        },
        "code_folding": [],
        "id": "KomLCDqG_abp",
        "colab": {
          "base_uri": "https://localhost:8080/",
          "height": 171
        },
        "outputId": "801c0b66-ef1e-4d5c-eebc-33da694faf39"
      },
      "source": [
        "# Data.\n",
        "# Row label    = room class.\n",
        "# Column label = survived. \n",
        "data_survived = {'Yes':[122, 167, 528, 673], 'No':[203,118,178,212]}\n",
        "data = pd.DataFrame(data_survived,index=['1st','2nd','3rd','Crew'])\n",
        "data"
      ],
      "execution_count": null,
      "outputs": [
        {
          "output_type": "execute_result",
          "data": {
            "text/html": [
              "<div>\n",
              "<style scoped>\n",
              "    .dataframe tbody tr th:only-of-type {\n",
              "        vertical-align: middle;\n",
              "    }\n",
              "\n",
              "    .dataframe tbody tr th {\n",
              "        vertical-align: top;\n",
              "    }\n",
              "\n",
              "    .dataframe thead th {\n",
              "        text-align: right;\n",
              "    }\n",
              "</style>\n",
              "<table border=\"1\" class=\"dataframe\">\n",
              "  <thead>\n",
              "    <tr style=\"text-align: right;\">\n",
              "      <th></th>\n",
              "      <th>Yes</th>\n",
              "      <th>No</th>\n",
              "    </tr>\n",
              "  </thead>\n",
              "  <tbody>\n",
              "    <tr>\n",
              "      <th>1st</th>\n",
              "      <td>122</td>\n",
              "      <td>203</td>\n",
              "    </tr>\n",
              "    <tr>\n",
              "      <th>2nd</th>\n",
              "      <td>167</td>\n",
              "      <td>118</td>\n",
              "    </tr>\n",
              "    <tr>\n",
              "      <th>3rd</th>\n",
              "      <td>528</td>\n",
              "      <td>178</td>\n",
              "    </tr>\n",
              "    <tr>\n",
              "      <th>Crew</th>\n",
              "      <td>673</td>\n",
              "      <td>212</td>\n",
              "    </tr>\n",
              "  </tbody>\n",
              "</table>\n",
              "</div>"
            ],
            "text/plain": [
              "      Yes   No\n",
              "1st   122  203\n",
              "2nd   167  118\n",
              "3rd   528  178\n",
              "Crew  673  212"
            ]
          },
          "metadata": {
            "tags": []
          },
          "execution_count": 192
        }
      ]
    },
    {
      "cell_type": "markdown",
      "metadata": {
        "id": "_9hBiAFH_abq"
      },
      "source": [
        "run the following to get Chi-square test of independence of variables in a contingency table. what do you conclude about the relationship between these two categorical variables ? "
      ]
    },
    {
      "cell_type": "code",
      "metadata": {
        "id": "g2Pr0JOu_abq",
        "colab": {
          "base_uri": "https://localhost:8080/"
        },
        "outputId": "0df638bb-6041-41ab-a20b-571604ccc920"
      },
      "source": [
        "st.chi2_contingency(data)"
      ],
      "execution_count": null,
      "outputs": [
        {
          "output_type": "execute_result",
          "data": {
            "text/plain": [
              "(190.40110361683327,\n",
              " 4.999927529868003e-41,\n",
              " 3,\n",
              " array([[220.01363017, 104.98636983],\n",
              "        [192.93502953,  92.06497047],\n",
              "        [477.93730123, 228.06269877],\n",
              "        [599.11403907, 285.88596093]]))"
            ]
          },
          "metadata": {
            "tags": []
          },
          "execution_count": 193
        }
      ]
    }
  ]
}