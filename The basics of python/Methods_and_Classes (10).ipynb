{
  "nbformat": 4,
  "nbformat_minor": 0,
  "metadata": {
    "kernelspec": {
      "display_name": "Python 3",
      "language": "python",
      "name": "python3"
    },
    "language_info": {
      "codemirror_mode": {
        "name": "ipython",
        "version": 3
      },
      "file_extension": ".py",
      "mimetype": "text/x-python",
      "name": "python",
      "nbconvert_exporter": "python",
      "pygments_lexer": "ipython3",
      "version": "3.7.6"
    },
    "colab": {
      "name": "Methods_and_Classes.ipynb",
      "provenance": []
    }
  },
  "cells": [
    {
      "cell_type": "markdown",
      "metadata": {
        "id": "sJEXrdHQbSC2"
      },
      "source": [
        "## 1)- Une fonction qui retourne max(0, x)\n"
      ]
    },
    {
      "cell_type": "code",
      "metadata": {
        "id": "eEzSvoE0bSC8"
      },
      "source": [
        ""
      ],
      "execution_count": null,
      "outputs": []
    },
    {
      "cell_type": "markdown",
      "metadata": {
        "id": "6w80VxfbbSC9"
      },
      "source": [
        "## 2)- Une fonction qui retourne le résultat de l'operation : 1 / (1+exp(-x), vous pouvez utiliser (np.exp)"
      ]
    },
    {
      "cell_type": "code",
      "metadata": {
        "id": "xTrPhMnibSC_"
      },
      "source": [
        ""
      ],
      "execution_count": null,
      "outputs": []
    },
    {
      "cell_type": "markdown",
      "metadata": {
        "id": "pynV2wRMbSC_"
      },
      "source": [
        "## 3)- Write a Python function student_data () which will print the id of a student (student_id). If the user passes an argument student_name or student_class the function will print the student name and class."
      ]
    },
    {
      "cell_type": "code",
      "metadata": {
        "id": "L3zbVBEEbSDB"
      },
      "source": [
        "def student_data(argum_nam)"
      ],
      "execution_count": null,
      "outputs": []
    },
    {
      "cell_type": "markdown",
      "metadata": {
        "id": "r_psJB3abSDC"
      },
      "source": [
        "## 4)- Create a Vehicle class with max_speed and mileage instance attributes"
      ]
    },
    {
      "cell_type": "code",
      "metadata": {
        "colab": {
          "base_uri": "https://localhost:8080/"
        },
        "id": "rx3YgDFKiOyF",
        "outputId": "3ebeadba-7ccf-481c-bd17-3eb5fa3865ee"
      },
      "source": [
        "class Vehicle:\n",
        "  def __init__(self,max_speed,mileage):\n",
        "    self.max_speed=max_speed\n",
        "    self.mileage=mileage\n",
        "\n",
        "\n",
        "\n",
        "v1=Vehicle(100,50)\n",
        "v1.mileage\n",
        "  "
      ],
      "execution_count": 6,
      "outputs": [
        {
          "output_type": "execute_result",
          "data": {
            "text/plain": [
              "50"
            ]
          },
          "metadata": {
            "tags": []
          },
          "execution_count": 6
        }
      ]
    },
    {
      "cell_type": "markdown",
      "metadata": {
        "id": "Lkh4o0r6bSDD"
      },
      "source": [
        "## 5)- Use the command \"print(geeks.counter)\""
      ]
    },
    {
      "cell_type": "code",
      "metadata": {
        "colab": {
          "base_uri": "https://localhost:8080/"
        },
        "id": "9Q_76kP8bSDF",
        "outputId": "a95af24b-3c74-4874-ffd9-a3776527f988"
      },
      "source": [
        "class geeks:\n",
        "    \n",
        "    # this is used to print the number\n",
        "    # of instances of a class\n",
        "    counter = 0\n",
        "  \n",
        "    # constructor of geeks class\n",
        "    def __init__(self):\n",
        "        \n",
        "        # increment\n",
        "        geeks.counter += 1\n",
        "\n",
        "print(geeks.counter)"
      ],
      "execution_count": 1,
      "outputs": [
        {
          "output_type": "stream",
          "text": [
            "0\n"
          ],
          "name": "stdout"
        }
      ]
    },
    {
      "cell_type": "code",
      "metadata": {
        "id": "G4_6Q8VUbSDG"
      },
      "source": [
        ""
      ],
      "execution_count": null,
      "outputs": []
    }
  ]
}