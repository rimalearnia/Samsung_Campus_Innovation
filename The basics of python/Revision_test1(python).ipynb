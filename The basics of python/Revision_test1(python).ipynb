{
  "nbformat": 4,
  "nbformat_minor": 0,
  "metadata": {
    "colab": {
      "name": "Revision_test1(python).ipynb",
      "provenance": [],
      "collapsed_sections": []
    },
    "kernelspec": {
      "name": "python3",
      "display_name": "Python 3"
    },
    "language_info": {
      "name": "python"
    }
  },
  "cells": [
    {
      "cell_type": "markdown",
      "metadata": {
        "id": "aRmeuL6YWoU3"
      },
      "source": [
        "# Exercice 1\n",
        "\n",
        "Write a Python function to find the Max of three numbers."
      ]
    },
    {
      "cell_type": "code",
      "metadata": {
        "id": "MhcIJv4nb2HE",
        "colab": {
          "base_uri": "https://localhost:8080/"
        },
        "outputId": "127e4d74-7676-4243-b23f-b54385846ff0"
      },
      "source": [
        "def max(x,y,z):\n",
        "  if x>y and x>z:\n",
        "    print(\"maximum:\",x)\n",
        "  elif y>z:\n",
        "    print(\"maximum:\",y)\n",
        "  else:\n",
        "    print(\"maximum:\",z)\n",
        "max(4,2,3)\n"
      ],
      "execution_count": 3,
      "outputs": [
        {
          "output_type": "stream",
          "text": [
            "maximum: 4\n"
          ],
          "name": "stdout"
        }
      ]
    },
    {
      "cell_type": "markdown",
      "metadata": {
        "id": "MukkavLLWzrd"
      },
      "source": [
        "# Exercice 2\n",
        "\n",
        "Write a Python function to sum all the odd numbers in a list "
      ]
    },
    {
      "cell_type": "code",
      "metadata": {
        "colab": {
          "base_uri": "https://localhost:8080/"
        },
        "id": "hP68bgUJauyG",
        "outputId": "44457005-29f6-498a-ec4d-70715c97c9e7"
      },
      "source": [
        "mylist=[2,1,5,7]\n",
        "s=0\n",
        "for x in mylist:\n",
        "  for n in range(0,1000):\n",
        "    if x==2*n+1:\n",
        "      s+=x\n",
        "print(s)\n"
      ],
      "execution_count": 8,
      "outputs": [
        {
          "output_type": "stream",
          "text": [
            "13\n"
          ],
          "name": "stdout"
        }
      ]
    },
    {
      "cell_type": "markdown",
      "metadata": {
        "id": "hrCISsCKW4Sw"
      },
      "source": [
        "# Exercice 3\n",
        "\n",
        "Write a Python function that takes a list and returns a new list with unique elements of the first list.\n",
        "\n",
        "\n",
        "\n",
        "```\n",
        "Sample List : [1,2,3,3,3,3,4,5]\n",
        "Unique List : [1, 2, 3, 4, 5]\n",
        "\n",
        "```\n",
        "\n"
      ]
    },
    {
      "cell_type": "code",
      "metadata": {
        "colab": {
          "base_uri": "https://localhost:8080/"
        },
        "id": "OjGbOIYun7Ao",
        "outputId": "bf96c66c-8567-46af-d3c1-f54f64cee6ba"
      },
      "source": [
        "sample=[1,2,3,3,3,3,4,5]\n",
        "a=set(sample)\n",
        "b=list(unique)\n",
        "unique=list(b)\n",
        "print(unique)\n"
      ],
      "execution_count": 65,
      "outputs": [
        {
          "output_type": "stream",
          "text": [
            "[1, 2, 3, 4, 5]\n"
          ],
          "name": "stdout"
        }
      ]
    },
    {
      "cell_type": "markdown",
      "metadata": {
        "id": "sJr5a2B1XEjF"
      },
      "source": [
        "# Exercice 4\n",
        "\n",
        "Write a Python program to print out a set containing all the elements from list_1 which are not present in list_2. \n",
        "\n",
        "\n",
        "```\n",
        "Test Data :\n",
        "list_1 = set([\"Jhon\", \"Adam\", \"Eva\"])\n",
        "list_2 = set([\"Adam\", \"Green\"])\n",
        "Expected Output :\n",
        "{'Jhon','Eva'}\n",
        "```\n",
        "\n",
        "\n"
      ]
    },
    {
      "cell_type": "code",
      "metadata": {
        "colab": {
          "base_uri": "https://localhost:8080/"
        },
        "id": "LnZudNabp77v",
        "outputId": "31d59548-d4a6-45ed-8724-013cc1cc3d90"
      },
      "source": [
        "list_1 = set([\"Jhon\", \"Adam\", \"Eva\"])\n",
        "list_2 = set([\"Adam\", \"Green\"])\n",
        "result=[]\n",
        "for x in list_1:\n",
        "  if x not in list_2:\n",
        "    result.append(x)\n",
        "print(set(result))"
      ],
      "execution_count": 13,
      "outputs": [
        {
          "output_type": "stream",
          "text": [
            "{'Eva', 'Jhon'}\n"
          ],
          "name": "stdout"
        }
      ]
    },
    {
      "cell_type": "markdown",
      "metadata": {
        "id": "9wfilEXqXjJv"
      },
      "source": [
        "# Exercice 6\n",
        "\n",
        "Write a Python program to reverse a string"
      ]
    },
    {
      "cell_type": "code",
      "metadata": {
        "id": "189rC_71WmR-",
        "colab": {
          "base_uri": "https://localhost:8080/"
        },
        "outputId": "039fb20b-ed13-48d7-94ac-fb43112de11a"
      },
      "source": [
        "mot=\"python\"\n",
        "l=list(mot)\n",
        "\n",
        "x=int(len(l)/2)\n",
        "for i in range(0,x):\n",
        "\n",
        "  a=l[i]\n",
        "  l[i]=l[-(i+1)]\n",
        "  l[-(i+1)]=a\n",
        "  \n",
        "str1 = ''.join(str(e) for e in l)\n",
        "print(str1)\n",
        "\n"
      ],
      "execution_count": 53,
      "outputs": [
        {
          "output_type": "stream",
          "text": [
            "nohtyp\n"
          ],
          "name": "stdout"
        }
      ]
    },
    {
      "cell_type": "code",
      "metadata": {
        "colab": {
          "base_uri": "https://localhost:8080/"
        },
        "id": "TS-sHVUqjMzH",
        "outputId": "4018a6b2-f3af-4f8c-a538-cc73cf0e3ed0"
      },
      "source": [
        "mot='python'\n",
        "list1=list(mot)\n",
        "list1.reverse()\n",
        "mot=''.join(str(e) for e in list1)\n",
        "print(mot)"
      ],
      "execution_count": 26,
      "outputs": [
        {
          "output_type": "stream",
          "text": [
            "nohtyp\n"
          ],
          "name": "stdout"
        }
      ]
    },
    {
      "cell_type": "markdown",
      "metadata": {
        "id": "r6oQjFUrXpnf"
      },
      "source": [
        "# Exercice 7\n",
        "\n",
        "Write a Python function that accepts a string and calculate the number of upper case letters and lower case letters."
      ]
    },
    {
      "cell_type": "code",
      "metadata": {
        "id": "1QMPcTkmbyca",
        "colab": {
          "base_uri": "https://localhost:8080/"
        },
        "outputId": "099ac8a2-8dfc-438e-e7ee-150be4b31615"
      },
      "source": [
        "def upper_lower(x):\n",
        "  y=list(x)\n",
        "  u=0\n",
        "  for i in y:\n",
        "    if i.isupper()==True:\n",
        "      u+=1\n",
        "  l=int(len(x))-u\n",
        "  print(\"number of upper case letters is :\",u)\n",
        "  print(\"number of lower case letters is :\",l)\n",
        "upper_lower(\"Test\")"
      ],
      "execution_count": 76,
      "outputs": [
        {
          "output_type": "stream",
          "text": [
            "number of upper case letters is : 1\n",
            "number of lower case letters is : 3\n"
          ],
          "name": "stdout"
        }
      ]
    },
    {
      "cell_type": "markdown",
      "metadata": {
        "id": "t_soF5tMXwRz"
      },
      "source": [
        "# Exercice 8\n",
        "\n",
        "Write a Python program that accepts a hyphen-separated sequence of words as input and prints the words in a hyphen-separated sequence after sorting them alphabetically. \n",
        "```\n",
        "Sample Items : green-red-yellow-black-white\n",
        "Expected Result : black-green-red-white-yellow\n",
        "``` "
      ]
    },
    {
      "cell_type": "code",
      "metadata": {
        "id": "-agDtKBsX8Lw",
        "colab": {
          "base_uri": "https://localhost:8080/"
        },
        "outputId": "fa9f5dea-59c8-43fc-ddb8-496c4d071535"
      },
      "source": [
        "sample=[n for n in input().split('-')]\n",
        "sample.sort()\n",
        "print('-'.join(sample))"
      ],
      "execution_count": 82,
      "outputs": [
        {
          "output_type": "stream",
          "text": [
            "green-red-yellow-black-white\n",
            "black-green-red-white-yellow\n"
          ],
          "name": "stdout"
        }
      ]
    },
    {
      "cell_type": "markdown",
      "metadata": {
        "id": "Gytg6jEUX8r8"
      },
      "source": [
        "# Exercice 9\n",
        "\n",
        "Using **filter()** function, filter the list so that only negative numbers are left.\n",
        "\n",
        "filter(function, sequence)\n",
        "Parameters:\n",
        "function: function that tests if each element of a \n",
        "sequence true or not.\n",
        "sequence: sequence which needs to be filtered, it can \n",
        "be sets, lists, tuples, or containers of any iterators.\n",
        "Returns:\n",
        "returns an iterator that is already filtered.\n"
      ]
    },
    {
      "cell_type": "code",
      "metadata": {
        "id": "pUwRjdvGYC9v",
        "colab": {
          "base_uri": "https://localhost:8080/",
          "height": 350
        },
        "outputId": "85a2e184-3c0a-4f1c-e5dc-60eb39230527"
      },
      "source": [
        "# sequence\n",
        "sequence =[1,-1,2,-2,3,-3,4,-4]\n",
        "\n",
        "# function that filters only negative numbers\n",
        "def neg(numbers):\n",
        "  result=[]\n",
        "  for x in numbers:\n",
        "    if x<=0:\n",
        "      result.append(x)\n",
        "  return result\n",
        "  \n",
        "# using filter function\n",
        "filtered = filter(neg, sequence)\n",
        "  \n",
        "print('The filtered sequence are:')\n",
        "for s in filtered:\n",
        "    print(s)"
      ],
      "execution_count": 12,
      "outputs": [
        {
          "output_type": "stream",
          "text": [
            "The filtered sequence are:\n"
          ],
          "name": "stdout"
        },
        {
          "output_type": "error",
          "ename": "TypeError",
          "evalue": "ignored",
          "traceback": [
            "\u001b[0;31m---------------------------------------------------------------------------\u001b[0m",
            "\u001b[0;31mTypeError\u001b[0m                                 Traceback (most recent call last)",
            "\u001b[0;32m<ipython-input-12-758602b55ac5>\u001b[0m in \u001b[0;36m<module>\u001b[0;34m()\u001b[0m\n\u001b[1;32m     14\u001b[0m \u001b[0;34m\u001b[0m\u001b[0m\n\u001b[1;32m     15\u001b[0m \u001b[0mprint\u001b[0m\u001b[0;34m(\u001b[0m\u001b[0;34m'The filtered sequence are:'\u001b[0m\u001b[0;34m)\u001b[0m\u001b[0;34m\u001b[0m\u001b[0;34m\u001b[0m\u001b[0m\n\u001b[0;32m---> 16\u001b[0;31m \u001b[0;32mfor\u001b[0m \u001b[0ms\u001b[0m \u001b[0;32min\u001b[0m \u001b[0mfiltered\u001b[0m\u001b[0;34m:\u001b[0m\u001b[0;34m\u001b[0m\u001b[0;34m\u001b[0m\u001b[0m\n\u001b[0m\u001b[1;32m     17\u001b[0m     \u001b[0mprint\u001b[0m\u001b[0;34m(\u001b[0m\u001b[0ms\u001b[0m\u001b[0;34m)\u001b[0m\u001b[0;34m\u001b[0m\u001b[0;34m\u001b[0m\u001b[0m\n",
            "\u001b[0;32m<ipython-input-12-758602b55ac5>\u001b[0m in \u001b[0;36mneg\u001b[0;34m(numbers)\u001b[0m\n\u001b[1;32m      5\u001b[0m \u001b[0;32mdef\u001b[0m \u001b[0mneg\u001b[0m\u001b[0;34m(\u001b[0m\u001b[0mnumbers\u001b[0m\u001b[0;34m)\u001b[0m\u001b[0;34m:\u001b[0m\u001b[0;34m\u001b[0m\u001b[0;34m\u001b[0m\u001b[0m\n\u001b[1;32m      6\u001b[0m   \u001b[0mresult\u001b[0m\u001b[0;34m=\u001b[0m\u001b[0;34m[\u001b[0m\u001b[0;34m]\u001b[0m\u001b[0;34m\u001b[0m\u001b[0;34m\u001b[0m\u001b[0m\n\u001b[0;32m----> 7\u001b[0;31m   \u001b[0;32mfor\u001b[0m \u001b[0mx\u001b[0m \u001b[0;32min\u001b[0m \u001b[0mnumbers\u001b[0m\u001b[0;34m:\u001b[0m\u001b[0;34m\u001b[0m\u001b[0;34m\u001b[0m\u001b[0m\n\u001b[0m\u001b[1;32m      8\u001b[0m     \u001b[0;32mif\u001b[0m \u001b[0mx\u001b[0m\u001b[0;34m<=\u001b[0m\u001b[0;36m0\u001b[0m\u001b[0;34m:\u001b[0m\u001b[0;34m\u001b[0m\u001b[0;34m\u001b[0m\u001b[0m\n\u001b[1;32m      9\u001b[0m       \u001b[0mresult\u001b[0m\u001b[0;34m.\u001b[0m\u001b[0mappend\u001b[0m\u001b[0;34m(\u001b[0m\u001b[0mx\u001b[0m\u001b[0;34m)\u001b[0m\u001b[0;34m\u001b[0m\u001b[0;34m\u001b[0m\u001b[0m\n",
            "\u001b[0;31mTypeError\u001b[0m: 'int' object is not iterable"
          ]
        }
      ]
    },
    {
      "cell_type": "code",
      "metadata": {
        "colab": {
          "base_uri": "https://localhost:8080/"
        },
        "id": "ktnzHs2FN6KJ",
        "outputId": "313e7605-13e5-4e70-ddb8-3295008b0126"
      },
      "source": [
        "# function that filters only negative numbers\n",
        "numbers = [1,-1,2,-2,3,-3,4,-4]\n",
        "result=[]\n",
        "def neg(numbers):\n",
        "  for x in numbers:\n",
        "    if x<=0:\n",
        "      result.append(x)\n",
        "  return result\n",
        "neg(numbers)"
      ],
      "execution_count": 13,
      "outputs": [
        {
          "output_type": "execute_result",
          "data": {
            "text/plain": [
              "[-1, -2, -3, -4]"
            ]
          },
          "metadata": {
            "tags": []
          },
          "execution_count": 13
        }
      ]
    },
    {
      "cell_type": "markdown",
      "metadata": {
        "id": "M35sWj2oYDeB"
      },
      "source": [
        "# Exercice 10\n",
        "\n",
        "Using **filter()** and **list()** functions and **.lower()** method filter all the vowels in a given string."
      ]
    },
    {
      "cell_type": "code",
      "metadata": {
        "id": "RJxdbsUQYN1s",
        "colab": {
          "base_uri": "https://localhost:8080/"
        },
        "outputId": "5647f88d-6478-45e3-b21d-1778c151cadf"
      },
      "source": [
        "# sequence\n",
        "string=\"samsung\"\n",
        "l = list(string)\n",
        "\n",
        "# function that filters vowels\n",
        "def filter_vowels(letter):\n",
        "    vowels = ['a', 'e', 'i', 'o', 'u']\n",
        "\n",
        "    if(letter in vowels):\n",
        "        return True\n",
        "    else:\n",
        "        return False\n",
        "\n",
        "filtered_vowels = filter(filter_vowels, l)\n",
        "\n",
        "print('The filtered vowels are:')\n",
        "for vowel in filtered_vowels:\n",
        "    print(vowel)"
      ],
      "execution_count": 11,
      "outputs": [
        {
          "output_type": "stream",
          "text": [
            "The filtered vowels are:\n",
            "a\n",
            "u\n"
          ],
          "name": "stdout"
        }
      ]
    },
    {
      "cell_type": "markdown",
      "metadata": {
        "id": "eT_QrfgGYORM"
      },
      "source": [
        "# Exercice 11\n",
        "\n",
        "Write a Python program to clone or copy a list (hint : use ``` copy library ```  ) then print the old and new id number using id()  "
      ]
    },
    {
      "cell_type": "code",
      "metadata": {
        "id": "Vj7PUYzkYfAf"
      },
      "source": [
        "import copy"
      ],
      "execution_count": null,
      "outputs": []
    },
    {
      "cell_type": "markdown",
      "metadata": {
        "id": "KZvq0hElYbov"
      },
      "source": [
        "# Exercice 12\n",
        "\n",
        "\n",
        "Write a Python program to map two lists into a dictionary\n",
        "\n",
        "```\n",
        "sample input : \n",
        "[\"A\",\"B\",\"C\"]\n",
        "[1,2,3]\n",
        "output : \n",
        "{\"A\":1,\"B\":2,\"C\":3}\n",
        "```"
      ]
    },
    {
      "cell_type": "code",
      "metadata": {
        "id": "h2aBQoQNZX48",
        "colab": {
          "base_uri": "https://localhost:8080/"
        },
        "outputId": "36814077-de98-43a5-bd82-d46b358ff742"
      },
      "source": [
        "list1=[\"A\",\"B\",\"C\"]\n",
        "list2=[1,2,3]\n",
        "dictionary = dict(zip(list1,list2))\n",
        "print(dictionary)"
      ],
      "execution_count": 41,
      "outputs": [
        {
          "output_type": "stream",
          "text": [
            "{'A': 1, 'B': 2, 'C': 3}\n"
          ],
          "name": "stdout"
        }
      ]
    },
    {
      "cell_type": "markdown",
      "metadata": {
        "id": "zVN1TozBZYvW"
      },
      "source": [
        "# Exercice 13 \n",
        "\n",
        "Write a Python program to remove spaces from dictionary keys.\n",
        "\n",
        "```\n",
        "sample input : \n",
        "{\"A   \" : 1,\" B\":2,\"  C  \":3}\n",
        "output: \n",
        "{\"A\":1,\"B\":2,\"C\":3}\n",
        "\n"
      ]
    },
    {
      "cell_type": "code",
      "metadata": {
        "id": "ADWp-if2Z51C",
        "colab": {
          "base_uri": "https://localhost:8080/"
        },
        "outputId": "358dc7a8-e2ff-4ff5-a9da-c797a9deadb8"
      },
      "source": [
        "mydict={\"A   \" : 1,\" B\":2,\"  C  \":3}\n",
        "mydict= {k.replace(\" \",\"\"): v for k,v in mydict.items()}\n",
        "print(mydict)"
      ],
      "execution_count": 137,
      "outputs": [
        {
          "output_type": "stream",
          "text": [
            "{'A': 1, 'B': 2, 'C': 3}\n"
          ],
          "name": "stdout"
        }
      ]
    },
    {
      "cell_type": "markdown",
      "metadata": {
        "id": "_x-4c-vDZ5cZ"
      },
      "source": [
        "# Exercice 14\n",
        "\n",
        "Add a list of elements to a given set.\n",
        "\n",
        "- Explain why add function is not a good choice. "
      ]
    },
    {
      "cell_type": "code",
      "metadata": {
        "id": "thhFwHImbEMx",
        "colab": {
          "base_uri": "https://localhost:8080/"
        },
        "outputId": "9eafd088-c48d-4744-9553-dca3b6c1ffe3"
      },
      "source": [
        "myset={\"AI\",\"Data Science\",\"Machine Learning\",\"Deep learning\"}\n",
        "mylist=[1,2,3]\n",
        "myset.update(mylist)\n",
        "print(myset)"
      ],
      "execution_count": 86,
      "outputs": [
        {
          "output_type": "stream",
          "text": [
            "{1, 2, 3, 'Data Science', 'Deep learning', 'Machine Learning', 'AI'}\n"
          ],
          "name": "stdout"
        }
      ]
    },
    {
      "cell_type": "markdown",
      "metadata": {
        "id": "TLMBu_94bEte"
      },
      "source": [
        "# Exercice 15\n",
        "\n",
        "Write a Python program to calculate the time runs (difference between start and current time) of a program. (consider using the ``` time ``` library ).\n"
      ]
    },
    {
      "cell_type": "code",
      "metadata": {
        "id": "mRSaarl5bRi8",
        "colab": {
          "base_uri": "https://localhost:8080/"
        },
        "outputId": "f11c047c-5f60-441d-ca07-f66485df9d7e"
      },
      "source": [
        "import timeit\n",
        "\n",
        "start = timeit.default_timer()\n",
        "\n",
        "list_1 = set([\"Jhon\", \"Adam\", \"Eva\"])\n",
        "list_2 = set([\"Adam\", \"Green\"])\n",
        "result=[]\n",
        "for x in list_1:\n",
        "  if x not in list_2:\n",
        "    result.append(x)\n",
        "\n",
        "\n",
        "stop = timeit.default_timer()\n",
        "\n",
        "print('Time: ', stop - start)"
      ],
      "execution_count": 85,
      "outputs": [
        {
          "output_type": "stream",
          "text": [
            "Time:  0.00019631400027719792\n"
          ],
          "name": "stdout"
        }
      ]
    },
    {
      "cell_type": "markdown",
      "metadata": {
        "id": "pxrJIUvjbUFP"
      },
      "source": [
        "# Exercice 16\n",
        "\n",
        "write a program that shuffle and print a given list (hint : use the library ``` random ``` )"
      ]
    },
    {
      "cell_type": "code",
      "metadata": {
        "id": "m-H2YHC0bwtd",
        "colab": {
          "base_uri": "https://localhost:8080/"
        },
        "outputId": "6f7a6b74-22a6-4b31-c24d-813163f1bf74"
      },
      "source": [
        "from random import shuffle\n",
        "mylist=[\"a\",\"b\",\"c\",\"d\",\"e\",\"f\"]\n",
        "shuffle(mylist)\n",
        "print(mylist)\n"
      ],
      "execution_count": 133,
      "outputs": [
        {
          "output_type": "stream",
          "text": [
            "['c', 'd', 'b', 'a', 'f', 'e']\n"
          ],
          "name": "stdout"
        }
      ]
    },
    {
      "cell_type": "markdown",
      "metadata": {
        "id": "SSuwDUFnTH9Q"
      },
      "source": [
        "# Exercice 17\n",
        "Write the definition of a Point class. Objects from this class should have a\n",
        "\n",
        "- a method show to display the coordinates of the point\n",
        "- a method move to change these coordinates.\n",
        "- a method dist that computes the distance between 2 points.\n",
        "Note the distance between 2 points A(x0, y0) and B(x1, y1) can be compute as follows\n",
        "$d(A,B)=\\sqrt{(x_{1}-x_{0})^{2} + (y_{1}-y_{0})^{2} }$\n",
        "\n",
        "this is the expected result\n",
        "\n",
        "```\n",
        "p1 = Point(2, 3)\n",
        ">>> p2 = Point(3, 3)\n",
        ">>> p1.show()\n",
        "(2, 3)\n",
        ">>> p2.show()\n",
        "(3, 3)\n",
        ">>> p1.move(10, -10)\n",
        ">>> p1.show()\n",
        "(12, -7)\n",
        ">>> p2.show()\n",
        "(3, 3)\n",
        ">>> p1.dist(p2)\n",
        "1.0\n",
        "```\n",
        "\n"
      ]
    },
    {
      "cell_type": "markdown",
      "metadata": {
        "id": "mlsIBlXifJIP"
      },
      "source": [
        "Point class definition:"
      ]
    },
    {
      "cell_type": "code",
      "metadata": {
        "colab": {
          "base_uri": "https://localhost:8080/"
        },
        "id": "KRFOpvLNfVMh",
        "outputId": "e829ea20-b40a-40d5-b69e-615457a1e8df"
      },
      "source": [
        "import math \n",
        "\n",
        "class Point:\n",
        "  def __init__(self,x,y):\n",
        "    self.x=x\n",
        "    self.y=y \n",
        "\n",
        "  def show(self):\n",
        "    x=self.x\n",
        "    y=self.y\n",
        "    l=[x,y]\n",
        "    print(tuple(l))\n",
        "\n",
        "  def move(self,i,j):\n",
        "    l=self.x+i\n",
        "    m=self.y+j\n",
        "    k=[l,m]\n",
        "    print(tuple(k))\n",
        "\n",
        "  def dist(self,p):\n",
        "    a=(self.x-p.x)**2\n",
        "    b=(self.y-p.y)**2\n",
        "    print(math.sqrt(a+b))\n",
        "    \n",
        "   \n",
        "p1=Point(2,3)\n",
        "p1.show()\n",
        "p2=Point(3,3)\n",
        "p2.show()\n",
        "p1.move(10,-10)\n",
        "p2.show()\n",
        "p1.dist(p2)\n"
      ],
      "execution_count": 129,
      "outputs": [
        {
          "output_type": "stream",
          "text": [
            "(2, 3)\n",
            "(3, 3)\n",
            "(12, -7)\n",
            "(3, 3)\n",
            "1.0\n"
          ],
          "name": "stdout"
        }
      ]
    },
    {
      "cell_type": "markdown",
      "metadata": {
        "id": "yAWjIdnkUtvh"
      },
      "source": [
        "# Exercice 18\n",
        " implement a Matrix class that has the following functions : \n",
        "\n",
        "- **size**: return the number of rows, and number of columns\n",
        "- **get_cell**: that take the number of rows, the number of columns as parameters, and returns the content of cell corresponding to row number col number\n",
        "- **set_cell**: that take the number of rows, the number of columns as parameters, and a value and set the value val in cell specified by row number x column number\n",
        "- **to_str**: return a string representation of the matrix\n",
        "- **mult**: that take a scalar and return a new matrix which is the scalar product of matrix x val\n",
        "\n",
        "expected result : \n",
        "\n",
        "\n",
        "\n",
        "\n",
        "```\n",
        "m1 = Matrix(row=2, col=3,val=4)\n",
        ">>> print(m1)\n",
        "4 4 4\n",
        "4 4 4\n",
        "m2 = Matrix(row=2, col=2)\n",
        ">>>print(m2)\n",
        "None None\n",
        "None None\n",
        ">>> m1.mult(2)\n",
        ">>> print(m1)\n",
        "8 8 8\n",
        "8 8 8\n",
        ">>> m1.set_cell(1,1,-1)\n",
        ">>> print(m1)\n",
        "8 8 8\n",
        "8 -1 8\n",
        ">>> m1.size()\n",
        "(2,3)\n",
        "\n",
        "\n",
        "```\n",
        "\n",
        "\n"
      ]
    },
    {
      "cell_type": "code",
      "metadata": {
        "colab": {
          "base_uri": "https://localhost:8080/"
        },
        "id": "wyjyaUH94Pi4",
        "outputId": "bfb9407e-d1f5-421d-d053-78ca73fe69cb"
      },
      "source": [
        "class Matrix:\n",
        "  def __init__(self,row,col,val=None):\n",
        "    self.row=row\n",
        "    self.col=col\n",
        "    self.val=val\n",
        "    for i in range(row):\n",
        "      c = [val] * col\n",
        "      print(c)\n",
        "\n",
        "  def size(self):\n",
        "    return self.row, self.col\n",
        "\n",
        "  \n",
        "  \n",
        "\n",
        "m1 = Matrix(row=2,col=3,val=4)\n",
        "print(m1)\n",
        "m2 = Matrix(row=2, col=2)\n",
        "print(m2)\n",
        "m1.size()\n"
      ],
      "execution_count": 40,
      "outputs": [
        {
          "output_type": "stream",
          "text": [
            "[4, 4, 4]\n",
            "[4, 4, 4]\n",
            "<__main__.Matrix object at 0x7f7087c1cbd0>\n",
            "[None, None]\n",
            "[None, None]\n",
            "<__main__.Matrix object at 0x7f7087c6f510>\n"
          ],
          "name": "stdout"
        },
        {
          "output_type": "execute_result",
          "data": {
            "text/plain": [
              "(2, 3)"
            ]
          },
          "metadata": {
            "tags": []
          },
          "execution_count": 40
        }
      ]
    },
    {
      "cell_type": "markdown",
      "metadata": {
        "id": "eMprKbCFw4I5"
      },
      "source": [
        "# Exercice 19\n",
        "\n",
        "- Write a Python program to read an entire text file\n",
        "- Write a Python program to read first n lines of a file\n",
        "- Write a Python program to append text to a file and display the text\n",
        "- Write a Python program to read a file line by line and store it into a list\n",
        "- Write a python program to find the longest words.\n",
        "- Write a Python program to count the frequency of words in a file.\n",
        "- Write a Python program that creates a file where all letters of English alphabet are listed by n number of letters on each line. The example below is the expected result for n=3\n",
        "\n",
        "```\n",
        "words1.txt\n",
        "ABC\n",
        "DEF\n",
        "GHI\n",
        "JKL\n",
        "MNO\n",
        "PQR\n",
        "STU\n",
        "VWX\n",
        "YZ\n",
        "```\n"
      ]
    }
  ]
}