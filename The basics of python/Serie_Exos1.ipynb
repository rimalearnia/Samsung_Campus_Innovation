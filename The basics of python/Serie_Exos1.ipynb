{
  "nbformat": 4,
  "nbformat_minor": 0,
  "metadata": {
    "colab": {
      "name": "Serie_Exos1.ipynb",
      "provenance": []
    },
    "kernelspec": {
      "name": "python3",
      "display_name": "Python 3"
    },
    "language_info": {
      "name": "python"
    }
  },
  "cells": [
    {
      "cell_type": "markdown",
      "metadata": {
        "id": "qxmhBP3DoF23"
      },
      "source": [
        "Exercise 1:\n",
        "Write a Python program to print all odd numbers from a given numbers list in the same order and stop the printing if 100 appears. Sample numbers list : numbers = [ 286, 1562, 47, 418, 907, 344, 236, 375, 823, 566, 597, 978, 327, 615, 953, 345,  399, 162, 297, 100, 146,237,999,412,426  ]"
      ]
    },
    {
      "cell_type": "code",
      "metadata": {
        "colab": {
          "base_uri": "https://localhost:8080/"
        },
        "id": "D7eZ5IXeoHih",
        "outputId": "5a134abe-f75f-4ad6-9900-fc70cb2d941a"
      },
      "source": [
        "numbers = [ 286, 1562, 47, 418, 907, 344, 236, 375, 823, 566, 597, 978, 327, 615, 953, 345, 399, 162, 297, 100, 146,237,999,412,426 ]\n",
        "for x in numbers:\n",
        "  if x==100:\n",
        "    break\n",
        "  for n in range(int(1563/2)):\n",
        "     if x==2*n+1:\n",
        "      print(x)\n",
        "    "
      ],
      "execution_count": 62,
      "outputs": [
        {
          "output_type": "stream",
          "text": [
            "47\n",
            "907\n",
            "375\n",
            "823\n",
            "597\n",
            "327\n",
            "615\n",
            "953\n",
            "345\n",
            "399\n",
            "297\n"
          ],
          "name": "stdout"
        }
      ]
    },
    {
      "cell_type": "markdown",
      "metadata": {
        "id": "ld4h4kjGwFIG"
      },
      "source": [
        "Exercise 2:\n",
        "Write a Python program to print out a set containing all the elements from list_1 which are not present in list_2. \n",
        "\n",
        "Test Data :\n",
        "list_1 = set([\"Jhon\", \"Adam\", \"Eva\"])\n",
        "list_2 = set([\"Adam\", \"Green\"])\n",
        "Expected Output :\n",
        "{'Jhon',’Eva}"
      ]
    },
    {
      "cell_type": "code",
      "metadata": {
        "colab": {
          "base_uri": "https://localhost:8080/"
        },
        "id": "PltAFmHlscyA",
        "outputId": "aed78e22-36cb-42e5-e9a3-2ff3d45bfdbb"
      },
      "source": [
        "list_1 = set([\"Jhon\", \"Adam\", \"Eva\"])\n",
        "list_2 = set([\"Adam\", \"Green\"])\n",
        "result=[]\n",
        "for x in list_1:\n",
        "  if x not in list_2:\n",
        "    result.append(x)\n",
        "print(set(result))"
      ],
      "execution_count": 63,
      "outputs": [
        {
          "output_type": "stream",
          "text": [
            "{'Eva', 'Jhon'}\n"
          ],
          "name": "stdout"
        }
      ]
    },
    {
      "cell_type": "markdown",
      "metadata": {
        "id": "6ApLsRwBy---"
      },
      "source": [
        "Exercise 3:\n",
        "Write a Python program to check whether a variable is of float or boolean, in a single line of code, and please use : “isinstance”."
      ]
    },
    {
      "cell_type": "code",
      "metadata": {
        "colab": {
          "base_uri": "https://localhost:8080/"
        },
        "id": "2IYUTUNbxTNd",
        "outputId": "a2600d56-3a7e-4969-9c54-252bf0a72e88"
      },
      "source": [
        "x=isinstance('a',(float,bool))\n",
        "x"
      ],
      "execution_count": 64,
      "outputs": [
        {
          "output_type": "execute_result",
          "data": {
            "text/plain": [
              "False"
            ]
          },
          "metadata": {
            "tags": []
          },
          "execution_count": 64
        }
      ]
    },
    {
      "cell_type": "markdown",
      "metadata": {
        "id": "6scBOaFB6A_5"
      },
      "source": [
        "Exercise 4:\n",
        "Write a Python program to calculate the time runs (difference between start and current time) of a program"
      ]
    },
    {
      "cell_type": "code",
      "metadata": {
        "colab": {
          "base_uri": "https://localhost:8080/"
        },
        "id": "awhoa6295IDz",
        "outputId": "93a21d10-3857-4b0b-f2fb-e1dde273ea48"
      },
      "source": [
        "import timeit\n",
        "\n",
        "start = timeit.default_timer()\n",
        "\n",
        "import numpy as np\n",
        "original_array_1=np.array([0,1,2])\n",
        "original_array_2=np.array([2,1,0])\n",
        "covariance=np.stack((original_array_1,original_array_2),axis=0)\n",
        "\n",
        "stop = timeit.default_timer()\n",
        "\n",
        "print('Time: ', stop - start)"
      ],
      "execution_count": 65,
      "outputs": [
        {
          "output_type": "stream",
          "text": [
            "Time:  0.0004159519994573202\n"
          ],
          "name": "stdout"
        }
      ]
    },
    {
      "cell_type": "markdown",
      "metadata": {
        "id": "2WauDzKaCXTy"
      },
      "source": [
        "Question 5:\n",
        "Add a list of elements to a given set."
      ]
    },
    {
      "cell_type": "code",
      "metadata": {
        "colab": {
          "base_uri": "https://localhost:8080/"
        },
        "id": "CM46AtDoCYn1",
        "outputId": "a64ea23a-624e-4837-df92-184d8a3bd67a"
      },
      "source": [
        "myset={\"AI\",\"Data Science\",\"Machine Learning\",\"Deep learning\"}\n",
        "mylist=[1,2,3]\n",
        "myset.update(mylist)\n",
        "print(myset)\n",
        "\n"
      ],
      "execution_count": 66,
      "outputs": [
        {
          "output_type": "stream",
          "text": [
            "{1, 2, 3, 'Data Science', 'Machine Learning', 'Deep learning', 'AI'}\n"
          ],
          "name": "stdout"
        }
      ]
    },
    {
      "cell_type": "markdown",
      "metadata": {
        "id": "vMZfkrmrFWip"
      },
      "source": [
        "Question 6:\n",
        "Return a set of identical items from a given two Python set."
      ]
    },
    {
      "cell_type": "code",
      "metadata": {
        "colab": {
          "base_uri": "https://localhost:8080/"
        },
        "id": "XcdtLVEdFX7b",
        "outputId": "0b41873a-8185-4dd4-f248-d5ebef067331"
      },
      "source": [
        "set1={1,2,4,7,9,5,0,\"a\"}\n",
        "set2={2,\"a\",True,0}\n",
        "ret=[]\n",
        "for x in set1:\n",
        "  if x in set2:\n",
        "    ret.append(x)\n",
        "print(set(ret))\n"
      ],
      "execution_count": 67,
      "outputs": [
        {
          "output_type": "stream",
          "text": [
            "{0, 1, 2, 'a'}\n"
          ],
          "name": "stdout"
        }
      ]
    },
    {
      "cell_type": "code",
      "metadata": {
        "colab": {
          "base_uri": "https://localhost:8080/"
        },
        "id": "J9_4tUICMR2O",
        "outputId": "0f924c2d-55d2-4cb0-e753-87d10976b20b"
      },
      "source": [
        "import numpy as np\n",
        "array1=np.array([[1,2],[3,4]],dtype=np.float64)\n",
        "array2=np.array([[5,6],[7,8]],dtype=np.float64)\n",
        "array3=array1+array2\n",
        "print(\"addition\",array3)\n",
        "array4=array2-array1\n",
        "print(\"soustraction\",array4)\n",
        "array5=np.dot(array1,array2)\n",
        "print(\"multiplication\",array5)"
      ],
      "execution_count": 68,
      "outputs": [
        {
          "output_type": "stream",
          "text": [
            "addition [[ 6.  8.]\n",
            " [10. 12.]]\n",
            "soustraction [[4. 4.]\n",
            " [4. 4.]]\n",
            "multiplication [[19. 22.]\n",
            " [43. 50.]]\n"
          ],
          "name": "stdout"
        }
      ]
    },
    {
      "cell_type": "code",
      "metadata": {
        "colab": {
          "base_uri": "https://localhost:8080/"
        },
        "id": "YSc3_u5AQSRj",
        "outputId": "a8ba57cc-3027-47ab-cbe2-ab42d25278b9"
      },
      "source": [
        "import pandas as pd \n",
        "dict1={1:\"Apple\",2:\"orange\"}\n",
        "serie=pd.Series(dict1)\n",
        "print(serie)"
      ],
      "execution_count": 69,
      "outputs": [
        {
          "output_type": "stream",
          "text": [
            "1     Apple\n",
            "2    orange\n",
            "dtype: object\n"
          ],
          "name": "stdout"
        }
      ]
    },
    {
      "cell_type": "code",
      "metadata": {
        "colab": {
          "base_uri": "https://localhost:8080/"
        },
        "id": "mO7MKT5sVChN",
        "outputId": "4b03b9f4-9e86-41b5-ab1f-fff078cc1b7c"
      },
      "source": [
        "import numpy as np\n",
        "array1=np.array([[1,2,3],[4,5,6],[7,8,9]])\n",
        "data=pd.DataFrame(array1,columns=list(\"ABC\"))\n",
        "print(data)"
      ],
      "execution_count": 70,
      "outputs": [
        {
          "output_type": "stream",
          "text": [
            "   A  B  C\n",
            "0  1  2  3\n",
            "1  4  5  6\n",
            "2  7  8  9\n"
          ],
          "name": "stdout"
        }
      ]
    }
  ]
}