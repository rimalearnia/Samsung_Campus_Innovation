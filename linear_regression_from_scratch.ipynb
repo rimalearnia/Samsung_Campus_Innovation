{
  "nbformat": 4,
  "nbformat_minor": 0,
  "metadata": {
    "colab": {
      "name": "linear_regression_from_scratch.ipynb",
      "provenance": []
    },
    "kernelspec": {
      "name": "python3",
      "display_name": "Python 3"
    },
    "language_info": {
      "name": "python"
    }
  },
  "cells": [
    {
      "cell_type": "markdown",
      "metadata": {
        "id": "1lbKu6u-b5vq"
      },
      "source": [
        "#linear regression for numerical dataset with least mean square  method\n",
        "X = [0.0, 8.0, 10.0,15.0, 22.0, 35,100,120]\n",
        "Y = [32, 46.4, 41,59, 71.6, 95,200,245]"
      ]
    },
    {
      "cell_type": "code",
      "metadata": {
        "id": "N-fGapnMc8bO"
      },
      "source": [
        "##Toy Numerical Dataset\n",
        "X = [0.0, 8.0, 10.0,15.0, 22.0, 35,100,120]\n",
        "Y = [32, 46.4, 41,59, 71.6, 95,200,245]"
      ],
      "execution_count": 137,
      "outputs": []
    },
    {
      "cell_type": "code",
      "metadata": {
        "id": "9q6RVB9MdaU_"
      },
      "source": [
        "#Prediction\n",
        "def predict(m,b,X):\n",
        "  return m*X+b"
      ],
      "execution_count": 138,
      "outputs": []
    },
    {
      "cell_type": "code",
      "metadata": {
        "id": "w78-0TQxdeg3"
      },
      "source": [
        "#Error\n",
        "def error(m,b,x,y):\n",
        "  return predict(m,b,x) - y\n"
      ],
      "execution_count": 139,
      "outputs": []
    },
    {
      "cell_type": "code",
      "metadata": {
        "id": "z6xxFzb0dpCk"
      },
      "source": [
        "#Sum of squared error\n",
        "def sum_square_error(m,b,X,Y):\n",
        "  errored=0\n",
        "  no_of_element = len(X)\n",
        "  for i in range(no_of_element):\n",
        "    errored+=error(m,b,x[i],y[i])\n",
        "  return errored**2"
      ],
      "execution_count": 140,
      "outputs": []
    },
    {
      "cell_type": "code",
      "metadata": {
        "id": "SMt_edm5eRty"
      },
      "source": [
        "#The Fit Method\n",
        "import numpy as np\n",
        "def least_square_mean_fit(X,Y):\n",
        "  x_mean = np.mean(X)\n",
        "  y_mean = np.mean(Y)\n",
        "  ## Total number of values\n",
        "  total_no_values=len(X)\n",
        "  corr=0\n",
        "  std=0\n",
        "  for i in range(total_no_values):\n",
        "    corr+=((X[i]-x_mean) * (Y[i]-y_mean))\n",
        "    std+=(X[i] - x_mean)**2\n",
        "  m=corr/std\n",
        "  b=y_mean - (m*x_mean)\n",
        "  return m,b"
      ],
      "execution_count": 141,
      "outputs": []
    },
    {
      "cell_type": "code",
      "metadata": {
        "colab": {
          "base_uri": "https://localhost:8080/"
        },
        "id": "1fOAhrz4eWuN",
        "outputId": "325731d4-7692-453f-da16-9a8a2c4f7ab6"
      },
      "source": [
        "m,b = least_square_mean_fit(X,Y)\n",
        "\n",
        "print(m,\",\",b)"
      ],
      "execution_count": 142,
      "outputs": [
        {
          "output_type": "stream",
          "text": [
            "1.7502951227089159 , 30.92606399502951\n"
          ],
          "name": "stdout"
        }
      ]
    },
    {
      "cell_type": "code",
      "metadata": {
        "colab": {
          "base_uri": "https://localhost:8080/",
          "height": 279
        },
        "id": "vHHPy03Bebdu",
        "outputId": "b5ec1f7b-3461-4b49-cfd3-3c6a5de97518"
      },
      "source": [
        "import matplotlib.pyplot as plt\n",
        "x_max = np.max(X) \n",
        "x_min = np.min(X) \n",
        "\n",
        "x = np.linspace(x_min, x_max, 1000)\n",
        "y = b + m * x\n",
        "#plotting line \n",
        "plt.plot(x, y, color='#00ff00', label='Linear Regression')\n",
        "#plot the data point\n",
        "plt.scatter(X, Y, color='#ff0000', label='Data Point')\n",
        "# x-axis label\n",
        "plt.xlabel('Celcius')\n",
        "#y-axis label\n",
        "plt.ylabel('Farheneit')\n",
        "plt.legend()\n",
        "plt.show()"
      ],
      "execution_count": 143,
      "outputs": [
        {
          "output_type": "display_data",
          "data": {
            "image/png": "[encoded data removed]",
            "text/plain": [
              "<Figure size 432x288 with 1 Axes>"
            ]
          },
          "metadata": {
            "tags": [],
            "needs_background": "light"
          }
        }
      ]
    },
    {
      "cell_type": "markdown",
      "metadata": {
        "id": "C9-ul_EOijnP"
      },
      "source": [
        "#linear regression for dataframe with least mean square  method"
      ]
    },
    {
      "cell_type": "code",
      "metadata": {
        "colab": {
          "base_uri": "https://localhost:8080/",
          "height": 221
        },
        "id": "wMI_CNg4igK_",
        "outputId": "37613d50-7266-490a-cd89-c8e648cd3efc"
      },
      "source": [
        "#import libraries\n",
        "%matplotlib inline\n",
        "import numpy as np\n",
        "import matplotlib.pyplot as plt\n",
        "import pandas as pd\n",
        "dataset = pd.read_csv('car data.csv')\n",
        "print(dataset.shape)\n",
        "dataset.head()"
      ],
      "execution_count": 144,
      "outputs": [
        {
          "output_type": "stream",
          "text": [
            "(301, 9)\n"
          ],
          "name": "stdout"
        },
        {
          "output_type": "execute_result",
          "data": {
            "text/html": [
              "<div>\n",
              "<style scoped>\n",
              "    .dataframe tbody tr th:only-of-type {\n",
              "        vertical-align: middle;\n",
              "    }\n",
              "\n",
              "    .dataframe tbody tr th {\n",
              "        vertical-align: top;\n",
              "    }\n",
              "\n",
              "    .dataframe thead th {\n",
              "        text-align: right;\n",
              "    }\n",
              "</style>\n",
              "<table border=\"1\" class=\"dataframe\">\n",
              "  <thead>\n",
              "    <tr style=\"text-align: right;\">\n",
              "      <th></th>\n",
              "      <th>Car_Name</th>\n",
              "      <th>Year</th>\n",
              "      <th>Selling_Price</th>\n",
              "      <th>Present_Price</th>\n",
              "      <th>Kms_Driven</th>\n",
              "      <th>Fuel_Type</th>\n",
              "      <th>Seller_Type</th>\n",
              "      <th>Transmission</th>\n",
              "      <th>Owner</th>\n",
              "    </tr>\n",
              "  </thead>\n",
              "  <tbody>\n",
              "    <tr>\n",
              "      <th>0</th>\n",
              "      <td>ritz</td>\n",
              "      <td>2014</td>\n",
              "      <td>3.35</td>\n",
              "      <td>5.59</td>\n",
              "      <td>27000</td>\n",
              "      <td>Petrol</td>\n",
              "      <td>Dealer</td>\n",
              "      <td>Manual</td>\n",
              "      <td>0</td>\n",
              "    </tr>\n",
              "    <tr>\n",
              "      <th>1</th>\n",
              "      <td>sx4</td>\n",
              "      <td>2013</td>\n",
              "      <td>4.75</td>\n",
              "      <td>9.54</td>\n",
              "      <td>43000</td>\n",
              "      <td>Diesel</td>\n",
              "      <td>Dealer</td>\n",
              "      <td>Manual</td>\n",
              "      <td>0</td>\n",
              "    </tr>\n",
              "    <tr>\n",
              "      <th>2</th>\n",
              "      <td>ciaz</td>\n",
              "      <td>2017</td>\n",
              "      <td>7.25</td>\n",
              "      <td>9.85</td>\n",
              "      <td>6900</td>\n",
              "      <td>Petrol</td>\n",
              "      <td>Dealer</td>\n",
              "      <td>Manual</td>\n",
              "      <td>0</td>\n",
              "    </tr>\n",
              "    <tr>\n",
              "      <th>3</th>\n",
              "      <td>wagon r</td>\n",
              "      <td>2011</td>\n",
              "      <td>2.85</td>\n",
              "      <td>4.15</td>\n",
              "      <td>5200</td>\n",
              "      <td>Petrol</td>\n",
              "      <td>Dealer</td>\n",
              "      <td>Manual</td>\n",
              "      <td>0</td>\n",
              "    </tr>\n",
              "    <tr>\n",
              "      <th>4</th>\n",
              "      <td>swift</td>\n",
              "      <td>2014</td>\n",
              "      <td>4.60</td>\n",
              "      <td>6.87</td>\n",
              "      <td>42450</td>\n",
              "      <td>Diesel</td>\n",
              "      <td>Dealer</td>\n",
              "      <td>Manual</td>\n",
              "      <td>0</td>\n",
              "    </tr>\n",
              "  </tbody>\n",
              "</table>\n",
              "</div>"
            ],
            "text/plain": [
              "  Car_Name  Year  Selling_Price  ...  Seller_Type  Transmission Owner\n",
              "0     ritz  2014           3.35  ...       Dealer        Manual     0\n",
              "1      sx4  2013           4.75  ...       Dealer        Manual     0\n",
              "2     ciaz  2017           7.25  ...       Dealer        Manual     0\n",
              "3  wagon r  2011           2.85  ...       Dealer        Manual     0\n",
              "4    swift  2014           4.60  ...       Dealer        Manual     0\n",
              "\n",
              "[5 rows x 9 columns]"
            ]
          },
          "metadata": {
            "tags": []
          },
          "execution_count": 144
        }
      ]
    },
    {
      "cell_type": "code",
      "metadata": {
        "colab": {
          "base_uri": "https://localhost:8080/"
        },
        "id": "VU6fQpGgjJUB",
        "outputId": "72e83c43-b30c-4e5b-c37c-a5df490ff92b"
      },
      "source": [
        "# initializing our inputs and outputs\n",
        "X = dataset['Present_Price'].values\n",
        "Y = dataset['Selling_Price'].values\n",
        "# mean of our inputs and outputs\n",
        "x_mean = np.mean(X)\n",
        "y_mean = np.mean(Y)\n",
        "#total number of values\n",
        "n = len(X)\n",
        "# using the formula to calculate the m and b\n",
        "numerator = 0\n",
        "denominator = 0\n",
        "for i in range(n):\n",
        "    numerator += (X[i] - x_mean) * (Y[i] - y_mean)\n",
        "    denominator += (X[i] - x_mean) ** 2\n",
        "    \n",
        "m = numerator / denominator\n",
        "b = y_mean - (m * x_mean)\n",
        "#printing the coefficient\n",
        "print(\"m=\",m,\"b=\", b)"
      ],
      "execution_count": 145,
      "outputs": [
        {
          "output_type": "stream",
          "text": [
            "m= 0.5168490273953972 b= 0.7185274709817637\n"
          ],
          "name": "stdout"
        }
      ]
    },
    {
      "cell_type": "code",
      "metadata": {
        "colab": {
          "base_uri": "https://localhost:8080/",
          "height": 280
        },
        "id": "MNHgehcKkMNK",
        "outputId": "69ff6eac-fd4a-4105-b936-11ec5d03a651"
      },
      "source": [
        "#plotting values \n",
        "x_max = np.max(X) + 100\n",
        "x_min = np.min(X) - 100\n",
        "#calculating line values of x and y\n",
        "x = np.linspace(x_min, x_max, 1000)\n",
        "y = b+ m * x\n",
        "#plotting line \n",
        "plt.plot(x, y, color='#00ff00', label='Linear Regression')\n",
        "#plot the data point\n",
        "plt.scatter(X, Y, color='#ff0000', label='Data Point')\n",
        "# x-axis label\n",
        "plt.xlabel('Present_Price')\n",
        "#y-axis label\n",
        "plt.ylabel('Selling_Price')\n",
        "plt.legend()\n",
        "plt.show()"
      ],
      "execution_count": 146,
      "outputs": [
        {
          "output_type": "display_data",
          "data": {
            "image/png": "[encoded data removed]",
            "text/plain": [
              "<Figure size 432x288 with 1 Axes>"
            ]
          },
          "metadata": {
            "tags": [],
            "needs_background": "light"
          }
        }
      ]
    },
    {
      "cell_type": "code",
      "metadata": {
        "colab": {
          "base_uri": "https://localhost:8080/"
        },
        "id": "dygy6POgr7rw",
        "outputId": "2c98eaee-59ea-4447-bcdd-32db960d38fe"
      },
      "source": [
        "#Root Mean Squared Error\n",
        "rmse = 0\n",
        "for i in range(n):\n",
        "    y_pred=  b + m* X[i]\n",
        "    rmse += (Y[i] - y_pred) ** 2\n",
        "    \n",
        "rmse = np.sqrt(rmse/n)\n",
        "print(rmse)"
      ],
      "execution_count": 147,
      "outputs": [
        {
          "output_type": "stream",
          "text": [
            "2.4197292177124603\n"
          ],
          "name": "stdout"
        }
      ]
    },
    {
      "cell_type": "code",
      "metadata": {
        "colab": {
          "base_uri": "https://localhost:8080/"
        },
        "id": "7UoKeFBwsF1w",
        "outputId": "4f0c32f2-7452-48de-c46b-3405ab080666"
      },
      "source": [
        "#R squared error \n",
        "sumofsquares = 0\n",
        "sumofresiduals = 0\n",
        "for i in range(n) :\n",
        "    y_pred = b+ m * X[i]\n",
        "    sumofsquares += (Y[i] - y_mean) ** 2\n",
        "    sumofresiduals += (Y[i] - y_pred) **2\n",
        "    \n",
        "score  = 1 - (sumofresiduals/sumofsquares)\n",
        "print(score)"
      ],
      "execution_count": 148,
      "outputs": [
        {
          "output_type": "stream",
          "text": [
            "0.7726103146985801\n"
          ],
          "name": "stdout"
        }
      ]
    },
    {
      "cell_type": "markdown",
      "metadata": {
        "id": "KjxBhyDBs5EL"
      },
      "source": [
        "#linear regression for a data generator imported from sklearn with the gradient descent method "
      ]
    },
    {
      "cell_type": "code",
      "metadata": {
        "id": "bUgoG4MCs5xj"
      },
      "source": [
        "import numpy as np\n",
        "import matplotlib.pyplot as plt\n",
        "from sklearn.datasets import make_regression"
      ],
      "execution_count": 149,
      "outputs": []
    },
    {
      "cell_type": "code",
      "metadata": {
        "colab": {
          "base_uri": "https://localhost:8080/",
          "height": 282
        },
        "id": "D4ZD3IvZtpTS",
        "outputId": "aa80dcaf-0652-4dd1-cf59-d6850a6ad753"
      },
      "source": [
        "x,y=make_regression(n_samples=100,n_features=1,noise=10)\n",
        "plt.scatter(x,y)"
      ],
      "execution_count": 150,
      "outputs": [
        {
          "output_type": "execute_result",
          "data": {
            "text/plain": [
              "<matplotlib.collections.PathCollection at 0x7f7a02067850>"
            ]
          },
          "metadata": {
            "tags": []
          },
          "execution_count": 150
        },
        {
          "output_type": "display_data",
          "data": {
            "image/png": "[encoded data removed]",
            "text/plain": [
              "<Figure size 432x288 with 1 Axes>"
            ]
          },
          "metadata": {
            "tags": [],
            "needs_background": "light"
          }
        }
      ]
    },
    {
      "cell_type": "code",
      "metadata": {
        "colab": {
          "base_uri": "https://localhost:8080/"
        },
        "id": "r1nhTlv5Pt9L",
        "outputId": "c351bfb6-5308-4eca-a4a1-7b3734751e67"
      },
      "source": [
        "print(x.shape,y.shape)"
      ],
      "execution_count": 151,
      "outputs": [
        {
          "output_type": "stream",
          "text": [
            "(100, 1) (100,)\n"
          ],
          "name": "stdout"
        }
      ]
    },
    {
      "cell_type": "code",
      "metadata": {
        "colab": {
          "base_uri": "https://localhost:8080/"
        },
        "id": "-SyWwDaeRhzQ",
        "outputId": "7d984b56-0fde-444c-9a49-8c2c56e2c663"
      },
      "source": [
        "y=y.reshape(100,1)\n",
        "y.shape"
      ],
      "execution_count": 152,
      "outputs": [
        {
          "output_type": "execute_result",
          "data": {
            "text/plain": [
              "(100, 1)"
            ]
          },
          "metadata": {
            "tags": []
          },
          "execution_count": 152
        }
      ]
    },
    {
      "cell_type": "code",
      "metadata": {
        "colab": {
          "base_uri": "https://localhost:8080/"
        },
        "id": "T8haaQCcRnSa",
        "outputId": "07714aea-8100-4735-b84b-faed11ffb314"
      },
      "source": [
        "#matrice X \n",
        "X=np.hstack((x,np.ones(x.shape)))\n",
        "X.shape"
      ],
      "execution_count": 153,
      "outputs": [
        {
          "output_type": "execute_result",
          "data": {
            "text/plain": [
              "(100, 2)"
            ]
          },
          "metadata": {
            "tags": []
          },
          "execution_count": 153
        }
      ]
    },
    {
      "cell_type": "code",
      "metadata": {
        "colab": {
          "base_uri": "https://localhost:8080/"
        },
        "id": "SG5skPweTjxT",
        "outputId": "45611562-8431-4d02-888f-28504767f0d0"
      },
      "source": [
        "theta=np.random.randn(2,1)\n",
        "theta"
      ],
      "execution_count": 154,
      "outputs": [
        {
          "output_type": "execute_result",
          "data": {
            "text/plain": [
              "array([[-0.46448981],\n",
              "       [-0.46293432]])"
            ]
          },
          "metadata": {
            "tags": []
          },
          "execution_count": 154
        }
      ]
    },
    {
      "cell_type": "code",
      "metadata": {
        "id": "UDUDQ441Udjd"
      },
      "source": [
        "#model\n",
        "def model(X,theta):\n",
        "  return X.dot(theta)"
      ],
      "execution_count": 155,
      "outputs": []
    },
    {
      "cell_type": "code",
      "metadata": {
        "colab": {
          "base_uri": "https://localhost:8080/",
          "height": 282
        },
        "id": "3JTfXzymU1P4",
        "outputId": "d73c2396-6a06-479e-ae63-404a0ab403ba"
      },
      "source": [
        "plt.scatter(x,y)\n",
        "plt.plot(x,model(X,theta),'r')"
      ],
      "execution_count": 156,
      "outputs": [
        {
          "output_type": "execute_result",
          "data": {
            "text/plain": [
              "[<matplotlib.lines.Line2D at 0x7f7a020631d0>]"
            ]
          },
          "metadata": {
            "tags": []
          },
          "execution_count": 156
        },
        {
          "output_type": "display_data",
          "data": {
            "image/png": "[encoded data removed]",
            "text/plain": [
              "<Figure size 432x288 with 1 Axes>"
            ]
          },
          "metadata": {
            "tags": [],
            "needs_background": "light"
          }
        }
      ]
    },
    {
      "cell_type": "code",
      "metadata": {
        "id": "ah3U1S8OVMB8"
      },
      "source": [
        "#cost function \n",
        "def cost_function(X,y,theta):\n",
        "  n=len(y)\n",
        "  return (1/2*n)* np.sum((model(X,theta)-y)**2)"
      ],
      "execution_count": 157,
      "outputs": []
    },
    {
      "cell_type": "code",
      "metadata": {
        "colab": {
          "base_uri": "https://localhost:8080/"
        },
        "id": "ljQxxAD4WvZD",
        "outputId": "0ce6a005-dbff-4df5-eb4a-f72833ce9053"
      },
      "source": [
        "cost_function(X,y,theta)"
      ],
      "execution_count": 158,
      "outputs": [
        {
          "output_type": "execute_result",
          "data": {
            "text/plain": [
              "6017537.476251702"
            ]
          },
          "metadata": {
            "tags": []
          },
          "execution_count": 158
        }
      ]
    },
    {
      "cell_type": "markdown",
      "metadata": {
        "id": "L2TOdRnuW4J1"
      },
      "source": [
        "un cout catastrophique car notre nodele n'est pas encore entrainé"
      ]
    },
    {
      "cell_type": "code",
      "metadata": {
        "id": "0RKPScpKW-a9"
      },
      "source": [
        "#Gradient \n",
        "def grad(X,y,theta):\n",
        "  n=len(y)\n",
        "  return (1/n)*X.T.dot(model(X,theta)-y)"
      ],
      "execution_count": 159,
      "outputs": []
    },
    {
      "cell_type": "code",
      "metadata": {
        "id": "fUxoU__4YBwf"
      },
      "source": [
        "# Gradient descent\n",
        "def gradient_descent(X,y,theta,learning_rate,n_iterations):\n",
        "  for i in range(0,n_iterations):\n",
        "    theta=theta-learning_rate*grad(X,y,theta)\n",
        "  return theta "
      ],
      "execution_count": 160,
      "outputs": []
    },
    {
      "cell_type": "code",
      "metadata": {
        "colab": {
          "base_uri": "https://localhost:8080/"
        },
        "id": "hgKMQH0pY4OF",
        "outputId": "3c6e97d2-4b1a-4cbc-c187-39af8810a562"
      },
      "source": [
        "theta_final=gradient_descent(X,y,theta,learning_rate=0.01,n_iterations=1000)\n",
        "theta_final"
      ],
      "execution_count": 161,
      "outputs": [
        {
          "output_type": "execute_result",
          "data": {
            "text/plain": [
              "array([[29.7806768],\n",
              "       [-2.3655028]])"
            ]
          },
          "metadata": {
            "tags": []
          },
          "execution_count": 161
        }
      ]
    },
    {
      "cell_type": "code",
      "metadata": {
        "colab": {
          "base_uri": "https://localhost:8080/",
          "height": 282
        },
        "id": "v5yMwLgXZJUM",
        "outputId": "d89b00ca-6784-4575-e053-c7a30999ba7b"
      },
      "source": [
        "plt.scatter(x,y)\n",
        "plt.plot(x,model(X,theta_final),'r')"
      ],
      "execution_count": 162,
      "outputs": [
        {
          "output_type": "execute_result",
          "data": {
            "text/plain": [
              "[<matplotlib.lines.Line2D at 0x7f7a01fcc8d0>]"
            ]
          },
          "metadata": {
            "tags": []
          },
          "execution_count": 162
        },
        {
          "output_type": "display_data",
          "data": {
            "image/png": "[encoded data removed]",
            "text/plain": [
              "<Figure size 432x288 with 1 Axes>"
            ]
          },
          "metadata": {
            "tags": [],
            "needs_background": "light"
          }
        }
      ]
    },
    {
      "cell_type": "code",
      "metadata": {
        "id": "e0q4Eas9agIP"
      },
      "source": [
        "#R square \n",
        "def coef_determination(y,pred):\n",
        "  u=((y-pred)**2).sum()\n",
        "  v=((y-y.mean())**2).sum()\n",
        "  return 1-u/v\n",
        "  "
      ],
      "execution_count": 163,
      "outputs": []
    },
    {
      "cell_type": "code",
      "metadata": {
        "colab": {
          "base_uri": "https://localhost:8080/"
        },
        "id": "FdLN_HiFbR42",
        "outputId": "0b411832-ca56-4a1c-ccc9-b056ad65317b"
      },
      "source": [
        "pred=model(X,theta_final)\n",
        "coef_determination(y,pred)"
      ],
      "execution_count": 164,
      "outputs": [
        {
          "output_type": "execute_result",
          "data": {
            "text/plain": [
              "0.8833495572797464"
            ]
          },
          "metadata": {
            "tags": []
          },
          "execution_count": 164
        }
      ]
    },
    {
      "cell_type": "markdown",
      "metadata": {
        "id": "VKasDjP3blgc"
      },
      "source": [
        "#linear regression for dataframe with the gradient descent method "
      ]
    },
    {
      "cell_type": "code",
      "metadata": {
        "colab": {
          "base_uri": "https://localhost:8080/",
          "height": 221
        },
        "id": "WIk_ho_pbwLS",
        "outputId": "5328fa95-0686-42f4-89e5-fc09f634d6fc"
      },
      "source": [
        "#import libraries\n",
        "%matplotlib inline\n",
        "import numpy as np\n",
        "import matplotlib.pyplot as plt\n",
        "import pandas as pd\n",
        "dataset = pd.read_csv('car data.csv')\n",
        "print(dataset.shape)\n",
        "dataset.head()"
      ],
      "execution_count": 165,
      "outputs": [
        {
          "output_type": "stream",
          "text": [
            "(301, 9)\n"
          ],
          "name": "stdout"
        },
        {
          "output_type": "execute_result",
          "data": {
            "text/html": [
              "<div>\n",
              "<style scoped>\n",
              "    .dataframe tbody tr th:only-of-type {\n",
              "        vertical-align: middle;\n",
              "    }\n",
              "\n",
              "    .dataframe tbody tr th {\n",
              "        vertical-align: top;\n",
              "    }\n",
              "\n",
              "    .dataframe thead th {\n",
              "        text-align: right;\n",
              "    }\n",
              "</style>\n",
              "<table border=\"1\" class=\"dataframe\">\n",
              "  <thead>\n",
              "    <tr style=\"text-align: right;\">\n",
              "      <th></th>\n",
              "      <th>Car_Name</th>\n",
              "      <th>Year</th>\n",
              "      <th>Selling_Price</th>\n",
              "      <th>Present_Price</th>\n",
              "      <th>Kms_Driven</th>\n",
              "      <th>Fuel_Type</th>\n",
              "      <th>Seller_Type</th>\n",
              "      <th>Transmission</th>\n",
              "      <th>Owner</th>\n",
              "    </tr>\n",
              "  </thead>\n",
              "  <tbody>\n",
              "    <tr>\n",
              "      <th>0</th>\n",
              "      <td>ritz</td>\n",
              "      <td>2014</td>\n",
              "      <td>3.35</td>\n",
              "      <td>5.59</td>\n",
              "      <td>27000</td>\n",
              "      <td>Petrol</td>\n",
              "      <td>Dealer</td>\n",
              "      <td>Manual</td>\n",
              "      <td>0</td>\n",
              "    </tr>\n",
              "    <tr>\n",
              "      <th>1</th>\n",
              "      <td>sx4</td>\n",
              "      <td>2013</td>\n",
              "      <td>4.75</td>\n",
              "      <td>9.54</td>\n",
              "      <td>43000</td>\n",
              "      <td>Diesel</td>\n",
              "      <td>Dealer</td>\n",
              "      <td>Manual</td>\n",
              "      <td>0</td>\n",
              "    </tr>\n",
              "    <tr>\n",
              "      <th>2</th>\n",
              "      <td>ciaz</td>\n",
              "      <td>2017</td>\n",
              "      <td>7.25</td>\n",
              "      <td>9.85</td>\n",
              "      <td>6900</td>\n",
              "      <td>Petrol</td>\n",
              "      <td>Dealer</td>\n",
              "      <td>Manual</td>\n",
              "      <td>0</td>\n",
              "    </tr>\n",
              "    <tr>\n",
              "      <th>3</th>\n",
              "      <td>wagon r</td>\n",
              "      <td>2011</td>\n",
              "      <td>2.85</td>\n",
              "      <td>4.15</td>\n",
              "      <td>5200</td>\n",
              "      <td>Petrol</td>\n",
              "      <td>Dealer</td>\n",
              "      <td>Manual</td>\n",
              "      <td>0</td>\n",
              "    </tr>\n",
              "    <tr>\n",
              "      <th>4</th>\n",
              "      <td>swift</td>\n",
              "      <td>2014</td>\n",
              "      <td>4.60</td>\n",
              "      <td>6.87</td>\n",
              "      <td>42450</td>\n",
              "      <td>Diesel</td>\n",
              "      <td>Dealer</td>\n",
              "      <td>Manual</td>\n",
              "      <td>0</td>\n",
              "    </tr>\n",
              "  </tbody>\n",
              "</table>\n",
              "</div>"
            ],
            "text/plain": [
              "  Car_Name  Year  Selling_Price  ...  Seller_Type  Transmission Owner\n",
              "0     ritz  2014           3.35  ...       Dealer        Manual     0\n",
              "1      sx4  2013           4.75  ...       Dealer        Manual     0\n",
              "2     ciaz  2017           7.25  ...       Dealer        Manual     0\n",
              "3  wagon r  2011           2.85  ...       Dealer        Manual     0\n",
              "4    swift  2014           4.60  ...       Dealer        Manual     0\n",
              "\n",
              "[5 rows x 9 columns]"
            ]
          },
          "metadata": {
            "tags": []
          },
          "execution_count": 165
        }
      ]
    },
    {
      "cell_type": "code",
      "metadata": {
        "colab": {
          "base_uri": "https://localhost:8080/"
        },
        "id": "GNwIk33Pc9X9",
        "outputId": "aa1a7fb8-c31b-4e82-908b-de4c20b2c1bd"
      },
      "source": [
        "x = dataset['Present_Price'].values\n",
        "y = dataset['Selling_Price'].values\n",
        "x=x.reshape(301,1)\n",
        "y=y.reshape(301,1)\n",
        "X=np.hstack((x,np.ones(x.shape)))\n",
        "\n",
        "print(X.shape,y.shape)"
      ],
      "execution_count": 166,
      "outputs": [
        {
          "output_type": "stream",
          "text": [
            "(301, 2) (301, 1)\n"
          ],
          "name": "stdout"
        }
      ]
    },
    {
      "cell_type": "code",
      "metadata": {
        "id": "nedCLRSeeorO"
      },
      "source": [
        "theta_final=gradient_descent(X,y,theta,learning_rate=0.001,n_iterations=1000)"
      ],
      "execution_count": 167,
      "outputs": []
    },
    {
      "cell_type": "code",
      "metadata": {
        "colab": {
          "base_uri": "https://localhost:8080/",
          "height": 282
        },
        "id": "HtXPcI0FdXAv",
        "outputId": "20154ff6-0e66-4042-f1ca-64db39917c26"
      },
      "source": [
        "plt.scatter(x,y)\n",
        "plt.plot(x,model(X,theta_final),'r')"
      ],
      "execution_count": 168,
      "outputs": [
        {
          "output_type": "execute_result",
          "data": {
            "text/plain": [
              "[<matplotlib.lines.Line2D at 0x7f7a01f49710>]"
            ]
          },
          "metadata": {
            "tags": []
          },
          "execution_count": 168
        },
        {
          "output_type": "display_data",
          "data": {
            "image/png": "[encoded data removed]",
            "text/plain": [
              "<Figure size 432x288 with 1 Axes>"
            ]
          },
          "metadata": {
            "tags": [],
            "needs_background": "light"
          }
        }
      ]
    },
    {
      "cell_type": "code",
      "metadata": {
        "colab": {
          "base_uri": "https://localhost:8080/"
        },
        "id": "uTi0_Ikxf0Cd",
        "outputId": "f3c55966-3475-4fcc-856a-47be47275193"
      },
      "source": [
        "pred=model(X,theta_final)\n",
        "coef_determination(y,pred)"
      ],
      "execution_count": 169,
      "outputs": [
        {
          "output_type": "execute_result",
          "data": {
            "text/plain": [
              "0.763664355625258"
            ]
          },
          "metadata": {
            "tags": []
          },
          "execution_count": 169
        }
      ]
    }
  ]
}