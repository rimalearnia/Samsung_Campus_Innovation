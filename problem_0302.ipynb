{
  "nbformat": 4,
  "nbformat_minor": 0,
  "metadata": {
    "kernelspec": {
      "display_name": "Python 3",
      "language": "python",
      "name": "python3"
    },
    "language_info": {
      "codemirror_mode": {
        "name": "ipython",
        "version": 3
      },
      "file_extension": ".py",
      "mimetype": "text/x-python",
      "name": "python",
      "nbconvert_exporter": "python",
      "pygments_lexer": "ipython3",
      "version": "3.7.0"
    },
    "toc": {
      "base_numbering": 1,
      "nav_menu": {},
      "number_sections": true,
      "sideBar": true,
      "skip_h1_title": false,
      "title_cell": "Table of Contents",
      "title_sidebar": "Contents",
      "toc_cell": false,
      "toc_position": {},
      "toc_section_display": true,
      "toc_window_display": false
    },
    "varInspector": {
      "cols": {
        "lenName": 16,
        "lenType": 16,
        "lenVar": 40
      },
      "kernels_config": {
        "python": {
          "delete_cmd_postfix": "",
          "delete_cmd_prefix": "del ",
          "library": "var_list.py",
          "varRefreshCmd": "print(var_dic_list())"
        },
        "r": {
          "delete_cmd_postfix": ") ",
          "delete_cmd_prefix": "rm(",
          "library": "var_list.r",
          "varRefreshCmd": "cat(var_dic_list()) "
        }
      },
      "types_to_exclude": [
        "module",
        "function",
        "builtin_function_or_method",
        "instance",
        "_Feature"
      ],
      "window_display": false
    },
    "colab": {
      "name": "problem_0302.ipynb",
      "provenance": []
    }
  },
  "cells": [
    {
      "cell_type": "markdown",
      "metadata": {
        "id": "uXhaMO96_ci0"
      },
      "source": [
        "## Quiz #0302"
      ]
    },
    {
      "cell_type": "markdown",
      "metadata": {
        "id": "_jpZbOmh_ci4"
      },
      "source": [
        "### \"Bolt specification\""
      ]
    },
    {
      "cell_type": "code",
      "metadata": {
        "id": "aFByoUMq_ci5"
      },
      "source": [
        "import numpy as np\n",
        "import scipy.stats as st"
      ],
      "execution_count": 41,
      "outputs": []
    },
    {
      "cell_type": "markdown",
      "metadata": {
        "id": "X0txs16o_ci6"
      },
      "source": [
        "#### Answer the following questions by providing Python code:"
      ]
    },
    {
      "cell_type": "markdown",
      "metadata": {
        "id": "nOFihKbG_ci7"
      },
      "source": [
        "According to the specification sheet, the average weight of the bolts is $\\mu = 30$gr with $\\sigma = 2$gr.<br>\n",
        "Suppose that a sample of 50 bolts is drawn. "
      ]
    },
    {
      "cell_type": "code",
      "metadata": {
        "id": "xTAc8Cuk_ci7"
      },
      "source": [
        "mu = 30\n",
        "sigma = 2\n",
        "n = 50\n",
        "df = n-1"
      ],
      "execution_count": 42,
      "outputs": []
    },
    {
      "cell_type": "markdown",
      "metadata": {
        "id": "v_4wbyXg_ci7"
      },
      "source": [
        "1). What is the probability that the sample mean is **between** 29.8gr and 30.2gr? (Use Standard Normal and Student-t)"
      ]
    },
    {
      "cell_type": "code",
      "metadata": {
        "id": "uRtK0UCH_ci8"
      },
      "source": [
        "std_error = sigma/np.sqrt(n)\n",
        "\n",
        "z1 = (29.3-mu)/std_error \n",
        "z2 = (30.2-mu)/std_error"
      ],
      "execution_count": 43,
      "outputs": []
    },
    {
      "cell_type": "code",
      "metadata": {
        "colab": {
          "base_uri": "https://localhost:8080/"
        },
        "id": "9YcJkrK4_ci8",
        "outputId": "dc6ac54f-f356-4a1b-c32c-f4d623ad6cbc"
      },
      "source": [
        "# Using the Standard Normal.\n",
        "st.norm.cdf(z2)-st.norm.cdf(z1)"
      ],
      "execution_count": 44,
      "outputs": [
        {
          "output_type": "execute_result",
          "data": {
            "text/plain": [
              "0.7535857745161136"
            ]
          },
          "metadata": {
            "tags": []
          },
          "execution_count": 44
        }
      ]
    },
    {
      "cell_type": "code",
      "metadata": {
        "colab": {
          "base_uri": "https://localhost:8080/"
        },
        "id": "3UFfuECh_ci9",
        "outputId": "6c86715b-87f3-4498-f8eb-6acfbf548fdd"
      },
      "source": [
        "# Using the Student-t.\n",
        "st.t.cdf(z2,df) - st.t.cdf(z1,df)"
      ],
      "execution_count": 45,
      "outputs": [
        {
          "output_type": "execute_result",
          "data": {
            "text/plain": [
              "0.7501570650672789"
            ]
          },
          "metadata": {
            "tags": []
          },
          "execution_count": 45
        }
      ]
    },
    {
      "cell_type": "markdown",
      "metadata": {
        "id": "R7cY__ur_ci9"
      },
      "source": [
        "2). What is the probability that the sample mean is **larger** than 30.5gr? (Use Standard Normal and Student-t)"
      ]
    },
    {
      "cell_type": "code",
      "metadata": {
        "id": "1eedBdIp_ci-"
      },
      "source": [
        "z = (30.5-mu)/std_error"
      ],
      "execution_count": 46,
      "outputs": []
    },
    {
      "cell_type": "code",
      "metadata": {
        "colab": {
          "base_uri": "https://localhost:8080/"
        },
        "id": "iLdLeuKl_ci-",
        "outputId": "26fe5404-b26a-472a-f6d5-65cb355a9c4d"
      },
      "source": [
        "# Using the Standard Normal.\n",
        "1 - st.norm.cdf(z)"
      ],
      "execution_count": 47,
      "outputs": [
        {
          "output_type": "execute_result",
          "data": {
            "text/plain": [
              "0.0385499358717708"
            ]
          },
          "metadata": {
            "tags": []
          },
          "execution_count": 47
        }
      ]
    },
    {
      "cell_type": "code",
      "metadata": {
        "colab": {
          "base_uri": "https://localhost:8080/"
        },
        "id": "g0zVcLos_ci_",
        "outputId": "9aca7565-e146-439a-853d-73cb178a96a4"
      },
      "source": [
        "# Using the Student-t.\n",
        "1 - st.t.cdf(z,df)"
      ],
      "execution_count": 48,
      "outputs": [
        {
          "output_type": "execute_result",
          "data": {
            "text/plain": [
              "0.04166307987075468"
            ]
          },
          "metadata": {
            "tags": []
          },
          "execution_count": 48
        }
      ]
    },
    {
      "cell_type": "code",
      "metadata": {
        "id": "mSE9Kfy6_ci_"
      },
      "source": [
        ""
      ],
      "execution_count": 48,
      "outputs": []
    }
  ]
}