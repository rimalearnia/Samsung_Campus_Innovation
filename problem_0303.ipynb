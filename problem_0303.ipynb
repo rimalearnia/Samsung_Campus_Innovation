{
  "nbformat": 4,
  "nbformat_minor": 0,
  "metadata": {
    "kernelspec": {
      "display_name": "Python 3",
      "language": "python",
      "name": "python3"
    },
    "language_info": {
      "codemirror_mode": {
        "name": "ipython",
        "version": 3
      },
      "file_extension": ".py",
      "mimetype": "text/x-python",
      "name": "python",
      "nbconvert_exporter": "python",
      "pygments_lexer": "ipython3",
      "version": "3.7.0"
    },
    "toc": {
      "base_numbering": 1,
      "nav_menu": {},
      "number_sections": true,
      "sideBar": true,
      "skip_h1_title": false,
      "title_cell": "Table of Contents",
      "title_sidebar": "Contents",
      "toc_cell": false,
      "toc_position": {},
      "toc_section_display": true,
      "toc_window_display": false
    },
    "varInspector": {
      "cols": {
        "lenName": 16,
        "lenType": 16,
        "lenVar": 40
      },
      "kernels_config": {
        "python": {
          "delete_cmd_postfix": "",
          "delete_cmd_prefix": "del ",
          "library": "var_list.py",
          "varRefreshCmd": "print(var_dic_list())"
        },
        "r": {
          "delete_cmd_postfix": ") ",
          "delete_cmd_prefix": "rm(",
          "library": "var_list.r",
          "varRefreshCmd": "cat(var_dic_list()) "
        }
      },
      "types_to_exclude": [
        "module",
        "function",
        "builtin_function_or_method",
        "instance",
        "_Feature"
      ],
      "window_display": false
    },
    "colab": {
      "name": "problem_0303.ipynb",
      "provenance": []
    }
  },
  "cells": [
    {
      "cell_type": "markdown",
      "metadata": {
        "id": "PvsBq_BqF2j9"
      },
      "source": [
        "## Quiz #0303"
      ]
    },
    {
      "cell_type": "markdown",
      "metadata": {
        "id": "XlFFwkuhF2j-"
      },
      "source": [
        "### \"Ball bearing quality control\""
      ]
    },
    {
      "cell_type": "code",
      "metadata": {
        "id": "iDRs6ZLMF2j_"
      },
      "source": [
        "import numpy as np\n",
        "import scipy.stats as st"
      ],
      "execution_count": 106,
      "outputs": []
    },
    {
      "cell_type": "markdown",
      "metadata": {
        "id": "kmmO3pRwF2kA"
      },
      "source": [
        "#### Answer the following questions by providing Python code:"
      ]
    },
    {
      "cell_type": "markdown",
      "metadata": {
        "id": "GATalShhF2kB"
      },
      "source": [
        "It is known that 3% of the ball bearings from a production line are defective. <br>\n",
        "Suppose that a sample of 500 ball bearings is drawn."
      ]
    },
    {
      "cell_type": "code",
      "metadata": {
        "id": "Vv8oGDMtF2kB"
      },
      "source": [
        "p = 0.03\n",
        "n = 500"
      ],
      "execution_count": 107,
      "outputs": []
    },
    {
      "cell_type": "code",
      "metadata": {
        "colab": {
          "base_uri": "https://localhost:8080/"
        },
        "id": "EPIqF-nSF2kC",
        "outputId": "14deb793-3e91-446b-e3b9-61e51027ed57"
      },
      "source": [
        "if n*p >10:\n",
        "  print(\"ok,n*p=\",n*p)                   # Check wheather this is larger than 10. => OK\n",
        "if n*(1-p)>10:                 # Check wheather this is larger than 10. => OK\n",
        "  print(\"ok,n*(1-p)=\",n*(1-p))                         "
      ],
      "execution_count": 108,
      "outputs": [
        {
          "output_type": "stream",
          "text": [
            "ok,n*p= 15.0\n",
            "ok,n*(1-p)= 485.0\n"
          ],
          "name": "stdout"
        }
      ]
    },
    {
      "cell_type": "markdown",
      "metadata": {
        "id": "A0-Bm28MF2kC"
      },
      "source": [
        "1). What is the probability that the sample defect rate is larger than 5%? <br>\n",
        "HINT: Use sample proportion and Standard Normal distribution."
      ]
    },
    {
      "cell_type": "code",
      "metadata": {
        "colab": {
          "base_uri": "https://localhost:8080/"
        },
        "id": "ir94CeH-JhzQ",
        "outputId": "964d789f-994c-4512-a198-07c413b3444b"
      },
      "source": [
        "\n",
        "se =np.sqrt( p*(1-p)/n)\n",
        "z = (0.05-p)/se\n",
        "1- st.norm.cdf(z)"
      ],
      "execution_count": 109,
      "outputs": [
        {
          "output_type": "execute_result",
          "data": {
            "text/plain": [
              "0.004375743328279169"
            ]
          },
          "metadata": {
            "tags": []
          },
          "execution_count": 109
        }
      ]
    },
    {
      "cell_type": "markdown",
      "metadata": {
        "id": "0kn8l1yMF2kE"
      },
      "source": [
        "2). What is the probability that the sample defect rate is less than 2%? <br>\n",
        "HINT: Use sample proportion and Standard Normal distribution."
      ]
    },
    {
      "cell_type": "code",
      "metadata": {
        "colab": {
          "base_uri": "https://localhost:8080/"
        },
        "id": "vaIpEDBiF2kE",
        "outputId": "b1e67fe4-b13f-413f-870c-3843e0054d54"
      },
      "source": [
        "z = (0.02-p)/se\n",
        "st.norm.cdf(z)"
      ],
      "execution_count": 110,
      "outputs": [
        {
          "output_type": "execute_result",
          "data": {
            "text/plain": [
              "0.09496161307581885"
            ]
          },
          "metadata": {
            "tags": []
          },
          "execution_count": 110
        }
      ]
    },
    {
      "cell_type": "markdown",
      "metadata": {
        "id": "GERtWBQRF2kF"
      },
      "source": [
        "3). Redo the calculations of 1) and 2) using the Binomial distribution. Then, compare."
      ]
    },
    {
      "cell_type": "code",
      "metadata": {
        "colab": {
          "base_uri": "https://localhost:8080/"
        },
        "id": "zgnb77H_F2kF",
        "outputId": "cfefd7a3-583c-4ab6-ce77-539084a78216"
      },
      "source": [
        "# Redo of 1).\n",
        "1 -st.binom.cdf(0.05*n, n, p)"
      ],
      "execution_count": 111,
      "outputs": [
        {
          "output_type": "execute_result",
          "data": {
            "text/plain": [
              "0.005456997386145246"
            ]
          },
          "metadata": {
            "tags": []
          },
          "execution_count": 111
        }
      ]
    },
    {
      "cell_type": "code",
      "metadata": {
        "colab": {
          "base_uri": "https://localhost:8080/"
        },
        "id": "3hhKuLliF2kF",
        "outputId": "3289da5d-65ab-457f-fde3-740f2aa161f5"
      },
      "source": [
        "# Redo of 2).\n",
        "st.binom.cdf(0.02*n, n, p) "
      ],
      "execution_count": 112,
      "outputs": [
        {
          "output_type": "execute_result",
          "data": {
            "text/plain": [
              "0.11478748420385211"
            ]
          },
          "metadata": {
            "tags": []
          },
          "execution_count": 112
        }
      ]
    },
    {
      "cell_type": "code",
      "metadata": {
        "id": "1IemCnCVF2kG"
      },
      "source": [
        "#the two results are identical except for a few errors "
      ],
      "execution_count": 113,
      "outputs": []
    }
  ]
}