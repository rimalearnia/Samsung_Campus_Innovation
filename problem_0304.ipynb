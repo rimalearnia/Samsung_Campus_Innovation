{
  "nbformat": 4,
  "nbformat_minor": 0,
  "metadata": {
    "kernelspec": {
      "display_name": "Python 3",
      "language": "python",
      "name": "python3"
    },
    "language_info": {
      "codemirror_mode": {
        "name": "ipython",
        "version": 3
      },
      "file_extension": ".py",
      "mimetype": "text/x-python",
      "name": "python",
      "nbconvert_exporter": "python",
      "pygments_lexer": "ipython3",
      "version": "3.7.0"
    },
    "toc": {
      "base_numbering": 1,
      "nav_menu": {},
      "number_sections": true,
      "sideBar": true,
      "skip_h1_title": false,
      "title_cell": "Table of Contents",
      "title_sidebar": "Contents",
      "toc_cell": false,
      "toc_position": {},
      "toc_section_display": true,
      "toc_window_display": false
    },
    "varInspector": {
      "cols": {
        "lenName": 16,
        "lenType": 16,
        "lenVar": 40
      },
      "kernels_config": {
        "python": {
          "delete_cmd_postfix": "",
          "delete_cmd_prefix": "del ",
          "library": "var_list.py",
          "varRefreshCmd": "print(var_dic_list())"
        },
        "r": {
          "delete_cmd_postfix": ") ",
          "delete_cmd_prefix": "rm(",
          "library": "var_list.r",
          "varRefreshCmd": "cat(var_dic_list()) "
        }
      },
      "types_to_exclude": [
        "module",
        "function",
        "builtin_function_or_method",
        "instance",
        "_Feature"
      ],
      "window_display": false
    },
    "colab": {
      "name": "problem_0304.ipynb",
      "provenance": []
    }
  },
  "cells": [
    {
      "cell_type": "markdown",
      "metadata": {
        "id": "vabsFscBK2hY"
      },
      "source": [
        "## Coding Problem #0304"
      ]
    },
    {
      "cell_type": "markdown",
      "metadata": {
        "id": "mGpvvBSJK2hZ"
      },
      "source": [
        "### \"Policy support rate\""
      ]
    },
    {
      "cell_type": "code",
      "metadata": {
        "id": "SK2qQPodK2hb"
      },
      "source": [
        "import numpy as np\n",
        "import scipy.stats as st"
      ],
      "execution_count": 77,
      "outputs": []
    },
    {
      "cell_type": "markdown",
      "metadata": {
        "id": "244xIqgpK2hc"
      },
      "source": [
        "#### Answer the following questions by providing Python code:"
      ]
    },
    {
      "cell_type": "markdown",
      "metadata": {
        "id": "gQ9BO9tHK2hd"
      },
      "source": [
        "It is known that the overall policy support rate is 52%. <br>"
      ]
    },
    {
      "cell_type": "code",
      "metadata": {
        "id": "nrVHUADeK2he"
      },
      "source": [
        "p = 0.52"
      ],
      "execution_count": 78,
      "outputs": []
    },
    {
      "cell_type": "markdown",
      "metadata": {
        "id": "Is6wtAvbK2he"
      },
      "source": [
        "1). What is the probability of support rate less than 50% when asked to 100 people? <br>\n",
        "HINT: Use sample proportion and Standard Normal distribution."
      ]
    },
    {
      "cell_type": "code",
      "metadata": {
        "colab": {
          "base_uri": "https://localhost:8080/"
        },
        "id": "FJcYggpYK2hf",
        "outputId": "1d3c9f21-7cb9-452c-b54e-f379fe9c89fe"
      },
      "source": [
        "n1=100\n",
        "print(\"n1*p=\",n1*p)\n",
        "print(\"n1*(1-p)=\",n1*(1-p))"
      ],
      "execution_count": 79,
      "outputs": [
        {
          "output_type": "stream",
          "text": [
            "n1*p= 52.0\n",
            "n1*(1-p)= 48.0\n"
          ],
          "name": "stdout"
        }
      ]
    },
    {
      "cell_type": "code",
      "metadata": {
        "colab": {
          "base_uri": "https://localhost:8080/"
        },
        "id": "fkciaFJyLecA",
        "outputId": "fe69f160-ee4f-4829-b65d-986874524f77"
      },
      "source": [
        "se =np.sqrt( p*(1-p)/n1)\n",
        "z = (0.5-p)/se\n",
        "st.norm.cdf(z)"
      ],
      "execution_count": 80,
      "outputs": [
        {
          "output_type": "execute_result",
          "data": {
            "text/plain": [
              "0.3444602779022302"
            ]
          },
          "metadata": {
            "tags": []
          },
          "execution_count": 80
        }
      ]
    },
    {
      "cell_type": "markdown",
      "metadata": {
        "id": "8DO20XcOK2hf"
      },
      "source": [
        "2). What is the probability of support rate less than 50% when asked to 300 people? <br>\n",
        "HINT: Use sample proportion and Standard Normal distribution."
      ]
    },
    {
      "cell_type": "code",
      "metadata": {
        "colab": {
          "base_uri": "https://localhost:8080/"
        },
        "id": "GI-BT27aK2hg",
        "outputId": "991e72cf-f00a-443d-d260-1ee1b94458a2"
      },
      "source": [
        "n2=300\n",
        "print(\"n2*p=\",n2*p)\n",
        "print(\"n2*(1-p)=\",n2*(1-p))"
      ],
      "execution_count": 81,
      "outputs": [
        {
          "output_type": "stream",
          "text": [
            "n2*p= 156.0\n",
            "n2*(1-p)= 144.0\n"
          ],
          "name": "stdout"
        }
      ]
    },
    {
      "cell_type": "code",
      "metadata": {
        "colab": {
          "base_uri": "https://localhost:8080/"
        },
        "id": "QD0vAhstL4-e",
        "outputId": "50eb7ab1-c0d3-47eb-e9ae-1ea24b2319a1"
      },
      "source": [
        "se =np.sqrt( p*(1-p)/n2)\n",
        "z = (0.5-p)/se\n",
        "st.norm.cdf(z)"
      ],
      "execution_count": 82,
      "outputs": [
        {
          "output_type": "execute_result",
          "data": {
            "text/plain": [
              "0.24403704658262387"
            ]
          },
          "metadata": {
            "tags": []
          },
          "execution_count": 82
        }
      ]
    },
    {
      "cell_type": "markdown",
      "metadata": {
        "id": "2uwYMY4BK2hg"
      },
      "source": [
        "3). Redo the calculations of 1) and 2) using the Binomial distribution. Then, compare."
      ]
    },
    {
      "cell_type": "code",
      "metadata": {
        "colab": {
          "base_uri": "https://localhost:8080/"
        },
        "id": "23rx1zqqK2hh",
        "outputId": "5a232bc3-fbb5-4cf1-9e2c-de782a68dde9"
      },
      "source": [
        "# Redo of 1).\n",
        "st.binom.cdf(0.5*n1, n1, p) "
      ],
      "execution_count": 83,
      "outputs": [
        {
          "output_type": "execute_result",
          "data": {
            "text/plain": [
              "0.3816199474102779"
            ]
          },
          "metadata": {
            "tags": []
          },
          "execution_count": 83
        }
      ]
    },
    {
      "cell_type": "code",
      "metadata": {
        "colab": {
          "base_uri": "https://localhost:8080/"
        },
        "id": "qle6nIzeK2hh",
        "outputId": "0e9b4e13-ad18-4bbe-cc91-3b8970ae5702"
      },
      "source": [
        "# Redo of 2).\n",
        "st.binom.cdf(0.5*n2, n2, p) "
      ],
      "execution_count": 84,
      "outputs": [
        {
          "output_type": "execute_result",
          "data": {
            "text/plain": [
              "0.2624050639758823"
            ]
          },
          "metadata": {
            "tags": []
          },
          "execution_count": 84
        }
      ]
    },
    {
      "cell_type": "markdown",
      "metadata": {
        "id": "cFgUn-OkK2hi"
      },
      "source": [
        "4). Redo the calculations of 1) and 2) using the Poisson distribution. Then, compare."
      ]
    },
    {
      "cell_type": "code",
      "metadata": {
        "colab": {
          "base_uri": "https://localhost:8080/"
        },
        "id": "5skmhFeGK2hi",
        "outputId": "89350836-6a54-4971-bab5-cf54583a2074"
      },
      "source": [
        "# Redo of 1).\n",
        "lamb=n1*p\n",
        "st.poisson.cdf(0.5,lamb)"
      ],
      "execution_count": 85,
      "outputs": [
        {
          "output_type": "execute_result",
          "data": {
            "text/plain": [
              "2.6102790696677136e-23"
            ]
          },
          "metadata": {
            "tags": []
          },
          "execution_count": 85
        }
      ]
    },
    {
      "cell_type": "code",
      "metadata": {
        "colab": {
          "base_uri": "https://localhost:8080/"
        },
        "id": "EKSXn1QDK2hj",
        "outputId": "9efb47a8-e4f2-4442-d5d8-dec232d56631"
      },
      "source": [
        "# Redo of 2).\n",
        "lamb=n2*p\n",
        "st.poisson.cdf(0.5,lamb)"
      ],
      "execution_count": 86,
      "outputs": [
        {
          "output_type": "execute_result",
          "data": {
            "text/plain": [
              "1.7785284761271195e-68"
            ]
          },
          "metadata": {
            "tags": []
          },
          "execution_count": 86
        }
      ]
    },
    {
      "cell_type": "code",
      "metadata": {
        "id": "wbG6bn_1K2hj"
      },
      "source": [
        "#the two results of the standard normal and binomial distribution are very close \n",
        "#The result of the fish distribution is very far from the other distributions (standard normal and binomial)\n",
        "#this proves that when you increase the sample size, the rate of political support will increase "
      ],
      "execution_count": 87,
      "outputs": []
    }
  ]
}