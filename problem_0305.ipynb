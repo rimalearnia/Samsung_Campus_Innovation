{
  "nbformat": 4,
  "nbformat_minor": 0,
  "metadata": {
    "kernelspec": {
      "display_name": "Python 3",
      "language": "python",
      "name": "python3"
    },
    "language_info": {
      "codemirror_mode": {
        "name": "ipython",
        "version": 3
      },
      "file_extension": ".py",
      "mimetype": "text/x-python",
      "name": "python",
      "nbconvert_exporter": "python",
      "pygments_lexer": "ipython3",
      "version": "3.7.0"
    },
    "toc": {
      "base_numbering": 1,
      "nav_menu": {},
      "number_sections": true,
      "sideBar": true,
      "skip_h1_title": false,
      "title_cell": "Table of Contents",
      "title_sidebar": "Contents",
      "toc_cell": false,
      "toc_position": {},
      "toc_section_display": true,
      "toc_window_display": false
    },
    "varInspector": {
      "cols": {
        "lenName": 16,
        "lenType": 16,
        "lenVar": 40
      },
      "kernels_config": {
        "python": {
          "delete_cmd_postfix": "",
          "delete_cmd_prefix": "del ",
          "library": "var_list.py",
          "varRefreshCmd": "print(var_dic_list())"
        },
        "r": {
          "delete_cmd_postfix": ") ",
          "delete_cmd_prefix": "rm(",
          "library": "var_list.r",
          "varRefreshCmd": "cat(var_dic_list()) "
        }
      },
      "types_to_exclude": [
        "module",
        "function",
        "builtin_function_or_method",
        "instance",
        "_Feature"
      ],
      "window_display": false
    },
    "colab": {
      "name": "problem_0305.ipynb",
      "provenance": []
    }
  },
  "cells": [
    {
      "cell_type": "markdown",
      "metadata": {
        "id": "WG51zNAcRveV"
      },
      "source": [
        "## Quiz #0305"
      ]
    },
    {
      "cell_type": "markdown",
      "metadata": {
        "id": "eA34DiYSRveb"
      },
      "source": [
        "### \"Correlation and interval estimation\""
      ]
    },
    {
      "cell_type": "code",
      "metadata": {
        "id": "lRGbWJQCRvec"
      },
      "source": [
        "import numpy as np\n",
        "import scipy.stats as st"
      ],
      "execution_count": 8,
      "outputs": []
    },
    {
      "cell_type": "markdown",
      "metadata": {
        "id": "Gw_n33paRved"
      },
      "source": [
        "#### Answer the following questions by providing Python code:"
      ]
    },
    {
      "cell_type": "markdown",
      "metadata": {
        "id": "Ew5lB2DPRved"
      },
      "source": [
        "Calculate the 95% and 99% conficence intervals for the Pearson correlation. <br>\n",
        "Discuss whether the confidence interval includes zero or not."
      ]
    },
    {
      "cell_type": "markdown",
      "metadata": {
        "id": "S4jN1z8YRvee"
      },
      "source": [
        "1). When the sample size $n = 30$ and the sample correlation $r = 0.45$:"
      ]
    },
    {
      "cell_type": "code",
      "metadata": {
        "id": "NIOwQI0rRvee"
      },
      "source": [
        "n=30\n",
        "r=0.45\n",
        "z = np.arctanh(r)\n",
        "std_error_z = 1/np.sqrt(n-3)"
      ],
      "execution_count": 9,
      "outputs": []
    },
    {
      "cell_type": "code",
      "metadata": {
        "colab": {
          "base_uri": "https://localhost:8080/"
        },
        "id": "WOc_X8PoRvef",
        "outputId": "a23420ee-5099-4369-8839-cc1ded02844d"
      },
      "source": [
        "# 95% confidence interval. \n",
        "{'low':np.tanh(z-st.norm.ppf(0.975)*std_error_z), 'high': np.tanh(z+st.norm.ppf(0.975)*std_error_z)}"
      ],
      "execution_count": 10,
      "outputs": [
        {
          "output_type": "execute_result",
          "data": {
            "text/plain": [
              "{'high': 0.6972330057657297, 'low': 0.10709278247377604}"
            ]
          },
          "metadata": {
            "tags": []
          },
          "execution_count": 10
        }
      ]
    },
    {
      "cell_type": "code",
      "metadata": {
        "id": "L4C287ylXMPm"
      },
      "source": [
        "#the confidence interval does not include zero"
      ],
      "execution_count": 11,
      "outputs": []
    },
    {
      "cell_type": "code",
      "metadata": {
        "colab": {
          "base_uri": "https://localhost:8080/"
        },
        "id": "KJX_cv2xRvef",
        "outputId": "00f3081b-a097-4fe8-e227-48d330089667"
      },
      "source": [
        "# 99% confidence interval. \n",
        "{'low':np.tanh(z-st.norm.ppf(0.995)*std_error_z), 'high': np.tanh(z+st.norm.ppf(0.995)*std_error_z)}"
      ],
      "execution_count": 12,
      "outputs": [
        {
          "output_type": "execute_result",
          "data": {
            "text/plain": [
              "{'high': 0.7532471683684436, 'low': -0.011017856139532253}"
            ]
          },
          "metadata": {
            "tags": []
          },
          "execution_count": 12
        }
      ]
    },
    {
      "cell_type": "code",
      "metadata": {
        "id": "2AxP6DwfXU2D"
      },
      "source": [
        "# the confidence interval includes zero"
      ],
      "execution_count": 13,
      "outputs": []
    },
    {
      "cell_type": "markdown",
      "metadata": {
        "id": "sjEXtiRaRveg"
      },
      "source": [
        "2). When the sample size $n = 300$ and the sample correlation $r = -0.2$:"
      ]
    },
    {
      "cell_type": "code",
      "metadata": {
        "id": "5za9v7aORveh"
      },
      "source": [
        "n=300\n",
        "r=-0.2\n",
        "z = np.arctanh(r)\n",
        "std_error_z = 1/np.sqrt(n-3)"
      ],
      "execution_count": 14,
      "outputs": []
    },
    {
      "cell_type": "code",
      "metadata": {
        "colab": {
          "base_uri": "https://localhost:8080/"
        },
        "id": "uyGRki-NRvei",
        "outputId": "b074385c-a221-40ee-e1e1-b6be2f734b59"
      },
      "source": [
        "# 95% confidence interval. \n",
        "{'low':np.tanh(z-st.norm.ppf(0.975)*std_error_z), 'high': np.tanh(z+st.norm.ppf(0.975)*std_error_z)}"
      ],
      "execution_count": 15,
      "outputs": [
        {
          "output_type": "execute_result",
          "data": {
            "text/plain": [
              "{'high': -0.08876963035471497, 'low': -0.3063036232659099}"
            ]
          },
          "metadata": {
            "tags": []
          },
          "execution_count": 15
        }
      ]
    },
    {
      "cell_type": "code",
      "metadata": {
        "colab": {
          "base_uri": "https://localhost:8080/"
        },
        "id": "P79DARmsRvej",
        "outputId": "c06bdf58-7a00-4ea4-9d7e-3d563741c411"
      },
      "source": [
        "# 99% confidence interval. \n",
        "{'low':np.tanh(z-st.norm.ppf(0.995)*std_error_z), 'high': np.tanh(z+st.norm.ppf(0.995)*std_error_z)}"
      ],
      "execution_count": 16,
      "outputs": [
        {
          "output_type": "execute_result",
          "data": {
            "text/plain": [
              "{'high': -0.05321745374020949, 'low': -0.3383228071595094}"
            ]
          },
          "metadata": {
            "tags": []
          },
          "execution_count": 16
        }
      ]
    },
    {
      "cell_type": "code",
      "metadata": {
        "id": "XeOt81VORvej"
      },
      "source": [
        ""
      ],
      "execution_count": 16,
      "outputs": []
    }
  ]
}