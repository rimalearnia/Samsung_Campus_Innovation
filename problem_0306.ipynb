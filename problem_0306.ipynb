{
  "nbformat": 4,
  "nbformat_minor": 0,
  "metadata": {
    "kernelspec": {
      "display_name": "Python 3",
      "language": "python",
      "name": "python3"
    },
    "language_info": {
      "codemirror_mode": {
        "name": "ipython",
        "version": 3
      },
      "file_extension": ".py",
      "mimetype": "text/x-python",
      "name": "python",
      "nbconvert_exporter": "python",
      "pygments_lexer": "ipython3",
      "version": "3.7.0"
    },
    "toc": {
      "base_numbering": 1,
      "nav_menu": {},
      "number_sections": true,
      "sideBar": true,
      "skip_h1_title": false,
      "title_cell": "Table of Contents",
      "title_sidebar": "Contents",
      "toc_cell": false,
      "toc_position": {},
      "toc_section_display": true,
      "toc_window_display": false
    },
    "varInspector": {
      "cols": {
        "lenName": 16,
        "lenType": 16,
        "lenVar": 40
      },
      "kernels_config": {
        "python": {
          "delete_cmd_postfix": "",
          "delete_cmd_prefix": "del ",
          "library": "var_list.py",
          "varRefreshCmd": "print(var_dic_list())"
        },
        "r": {
          "delete_cmd_postfix": ") ",
          "delete_cmd_prefix": "rm(",
          "library": "var_list.r",
          "varRefreshCmd": "cat(var_dic_list()) "
        }
      },
      "types_to_exclude": [
        "module",
        "function",
        "builtin_function_or_method",
        "instance",
        "_Feature"
      ],
      "window_display": false
    },
    "colab": {
      "name": "problem_0306.ipynb",
      "provenance": []
    }
  },
  "cells": [
    {
      "cell_type": "markdown",
      "metadata": {
        "id": "XdSmFEJTYKgU"
      },
      "source": [
        "## Quiz #0306"
      ]
    },
    {
      "cell_type": "markdown",
      "metadata": {
        "id": "S3aFZaw5YKgc"
      },
      "source": [
        "### \"F test of variance ratio\""
      ]
    },
    {
      "cell_type": "code",
      "metadata": {
        "id": "DtEj5gGiYKgd"
      },
      "source": [
        "import numpy as np\n",
        "import scipy.stats as st"
      ],
      "execution_count": 11,
      "outputs": []
    },
    {
      "cell_type": "markdown",
      "metadata": {
        "id": "tRd3qOo2YKgf"
      },
      "source": [
        "#### Answer the following questions by providing Python code:"
      ]
    },
    {
      "cell_type": "markdown",
      "metadata": {
        "id": "RaEAJ5xpYKgf"
      },
      "source": [
        "In a factory there are two packaging machines. Output samples are drawn from each machine. <br>\n",
        "- $n_1=15$, $\\bar{x}_1=5.0592 kg$, $s_1^2=0.1130 kg^2$\n",
        "- $n_2=12$, $\\bar{x}_2=4.9808 kg$, $s_2^2=0.0152 kg^2$  \n",
        "\n",
        "Test whether there is a significant difference in the variances (95%)."
      ]
    },
    {
      "cell_type": "code",
      "metadata": {
        "id": "kI6gFopAYKgg"
      },
      "source": [
        "n1 = 15\n",
        "ssq1 = 0.1130\n",
        "n2 = 12\n",
        "ssq2 = 0.0152"
      ],
      "execution_count": 12,
      "outputs": []
    },
    {
      "cell_type": "markdown",
      "metadata": {
        "id": "NuokPpMpYKgg"
      },
      "source": [
        "1). Do the right tail test:"
      ]
    },
    {
      "cell_type": "code",
      "metadata": {
        "colab": {
          "base_uri": "https://localhost:8080/"
        },
        "id": "DBfsTcR5YKgh",
        "outputId": "daee4979-9a69-4399-8951-dfbee70b634d"
      },
      "source": [
        "#right\n",
        "test_stat = ssq1/ssq2\n",
        "1 - st.f.cdf(test_stat, n1-1, n2-1)"
      ],
      "execution_count": 13,
      "outputs": [
        {
          "output_type": "execute_result",
          "data": {
            "text/plain": [
              "0.0009847696603404454"
            ]
          },
          "metadata": {
            "tags": []
          },
          "execution_count": 13
        }
      ]
    },
    {
      "cell_type": "code",
      "metadata": {
        "colab": {
          "base_uri": "https://localhost:8080/"
        },
        "id": "XJLN6qfeYKgh",
        "outputId": "b251ae8b-1aad-4d4f-a2c4-3fbc5aa08d4e"
      },
      "source": [
        "#left\n",
        "\n",
        "st.f.cdf(test_stat, n1-1, n2-1)"
      ],
      "execution_count": 14,
      "outputs": [
        {
          "output_type": "execute_result",
          "data": {
            "text/plain": [
              "0.9990152303396596"
            ]
          },
          "metadata": {
            "tags": []
          },
          "execution_count": 14
        }
      ]
    },
    {
      "cell_type": "markdown",
      "metadata": {
        "id": "GiNriue5YKgh"
      },
      "source": [
        "2). Do the two tail test:"
      ]
    },
    {
      "cell_type": "code",
      "metadata": {
        "colab": {
          "base_uri": "https://localhost:8080/"
        },
        "id": "fGi7yQQpYKgi",
        "outputId": "ff8b6208-15c6-4d33-ff84-4e2e8b509373"
      },
      "source": [
        "(1 - st.f.cdf(test_stat, n1-1, n2-1))*2"
      ],
      "execution_count": 15,
      "outputs": [
        {
          "output_type": "execute_result",
          "data": {
            "text/plain": [
              "0.001969539320680891"
            ]
          },
          "metadata": {
            "tags": []
          },
          "execution_count": 15
        }
      ]
    },
    {
      "cell_type": "markdown",
      "metadata": {
        "id": "hL-60uY9YKgi"
      },
      "source": [
        "3). Briefly discuss the results:"
      ]
    },
    {
      "cell_type": "code",
      "metadata": {
        "id": "6oJM5w5biL-8"
      },
      "source": [
        "#the null hypothesis  H0  is that the two samples have equal population variances  s1=s2 \n",
        "#the alternative hypothesis  Ha  is that the two samples have unequal population variances.  s1!=s2\n",
        "#alpha=0.05 significance level\n",
        "#value for two tail test <0.05, so we reject the H0 hypothesis in favour of Ha\n",
        "#conclusion:In this factory, the two packaging machines do not have the same variance"
      ],
      "execution_count": 16,
      "outputs": []
    }
  ]
}