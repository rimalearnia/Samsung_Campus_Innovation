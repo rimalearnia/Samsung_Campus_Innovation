{
  "nbformat": 4,
  "nbformat_minor": 0,
  "metadata": {
    "kernelspec": {
      "display_name": "Python 3",
      "language": "python",
      "name": "python3"
    },
    "language_info": {
      "codemirror_mode": {
        "name": "ipython",
        "version": 3
      },
      "file_extension": ".py",
      "mimetype": "text/x-python",
      "name": "python",
      "nbconvert_exporter": "python",
      "pygments_lexer": "ipython3",
      "version": "3.7.0"
    },
    "toc": {
      "base_numbering": 1,
      "nav_menu": {},
      "number_sections": true,
      "sideBar": true,
      "skip_h1_title": false,
      "title_cell": "Table of Contents",
      "title_sidebar": "Contents",
      "toc_cell": false,
      "toc_position": {},
      "toc_section_display": true,
      "toc_window_display": false
    },
    "varInspector": {
      "cols": {
        "lenName": 16,
        "lenType": 16,
        "lenVar": 40
      },
      "kernels_config": {
        "python": {
          "delete_cmd_postfix": "",
          "delete_cmd_prefix": "del ",
          "library": "var_list.py",
          "varRefreshCmd": "print(var_dic_list())"
        },
        "r": {
          "delete_cmd_postfix": ") ",
          "delete_cmd_prefix": "rm(",
          "library": "var_list.r",
          "varRefreshCmd": "cat(var_dic_list()) "
        }
      },
      "types_to_exclude": [
        "module",
        "function",
        "builtin_function_or_method",
        "instance",
        "_Feature"
      ],
      "window_display": false
    },
    "colab": {
      "name": "problem_0307.ipynb",
      "provenance": []
    }
  },
  "cells": [
    {
      "cell_type": "markdown",
      "metadata": {
        "id": "xzJg5_G0ixKZ"
      },
      "source": [
        "## Quiz #0307"
      ]
    },
    {
      "cell_type": "markdown",
      "metadata": {
        "id": "zBqYkcxiixKf"
      },
      "source": [
        "### \"EDA and ANOVA for guinea pig tooth growth\""
      ]
    },
    {
      "cell_type": "code",
      "metadata": {
        "id": "izo37wU9ixKg"
      },
      "source": [
        "import numpy as np\n",
        "import pandas as pd\n",
        "import scipy.stats as st\n",
        "import matplotlib.pyplot as plt\n",
        "import os\n",
        "%matplotlib inline"
      ],
      "execution_count": 197,
      "outputs": []
    },
    {
      "cell_type": "markdown",
      "metadata": {
        "id": "hbGxskRdixKh"
      },
      "source": [
        "#### Answer the following questions by providing Python code:"
      ]
    },
    {
      "cell_type": "markdown",
      "metadata": {
        "id": "kebBcAbhixKi"
      },
      "source": [
        "We will use the dataset \"data_ToothGrowth.csv\". \n",
        "- len = teeth length. \n",
        "- supp = supplementary type with two possible values: VC (vitamin C) or OJ (orange juice). \n",
        "- dose (mgr/day) = dosage per day with three possible values: 0.5, 1.0, 2.0."
      ]
    },
    {
      "cell_type": "code",
      "metadata": {
        "id": "9BUOh-q4ixKj"
      },
      "source": [
        "df = pd.read_csv('data_ToothGrowth.csv', header='infer')"
      ],
      "execution_count": 198,
      "outputs": []
    },
    {
      "cell_type": "code",
      "metadata": {
        "colab": {
          "base_uri": "https://localhost:8080/",
          "height": 204
        },
        "id": "g1Pdfk7pixKk",
        "outputId": "92cae932-b6a6-4701-b9b9-06ab05985e15"
      },
      "source": [
        "df.head()"
      ],
      "execution_count": 199,
      "outputs": [
        {
          "output_type": "execute_result",
          "data": {
            "text/html": [
              "<div>\n",
              "<style scoped>\n",
              "    .dataframe tbody tr th:only-of-type {\n",
              "        vertical-align: middle;\n",
              "    }\n",
              "\n",
              "    .dataframe tbody tr th {\n",
              "        vertical-align: top;\n",
              "    }\n",
              "\n",
              "    .dataframe thead th {\n",
              "        text-align: right;\n",
              "    }\n",
              "</style>\n",
              "<table border=\"1\" class=\"dataframe\">\n",
              "  <thead>\n",
              "    <tr style=\"text-align: right;\">\n",
              "      <th></th>\n",
              "      <th>len</th>\n",
              "      <th>supp</th>\n",
              "      <th>dose</th>\n",
              "    </tr>\n",
              "  </thead>\n",
              "  <tbody>\n",
              "    <tr>\n",
              "      <th>0</th>\n",
              "      <td>4.2</td>\n",
              "      <td>VC</td>\n",
              "      <td>0.5</td>\n",
              "    </tr>\n",
              "    <tr>\n",
              "      <th>1</th>\n",
              "      <td>11.5</td>\n",
              "      <td>VC</td>\n",
              "      <td>0.5</td>\n",
              "    </tr>\n",
              "    <tr>\n",
              "      <th>2</th>\n",
              "      <td>7.3</td>\n",
              "      <td>VC</td>\n",
              "      <td>0.5</td>\n",
              "    </tr>\n",
              "    <tr>\n",
              "      <th>3</th>\n",
              "      <td>5.8</td>\n",
              "      <td>VC</td>\n",
              "      <td>0.5</td>\n",
              "    </tr>\n",
              "    <tr>\n",
              "      <th>4</th>\n",
              "      <td>6.4</td>\n",
              "      <td>VC</td>\n",
              "      <td>0.5</td>\n",
              "    </tr>\n",
              "  </tbody>\n",
              "</table>\n",
              "</div>"
            ],
            "text/plain": [
              "    len supp  dose\n",
              "0   4.2   VC   0.5\n",
              "1  11.5   VC   0.5\n",
              "2   7.3   VC   0.5\n",
              "3   5.8   VC   0.5\n",
              "4   6.4   VC   0.5"
            ]
          },
          "metadata": {
            "tags": []
          },
          "execution_count": 199
        }
      ]
    },
    {
      "cell_type": "code",
      "metadata": {
        "colab": {
          "base_uri": "https://localhost:8080/"
        },
        "id": "4gQ5RsBHixKl",
        "outputId": "6bfb0af7-2e6d-4b5b-bef7-a78bf270e349"
      },
      "source": [
        "df.info()"
      ],
      "execution_count": 200,
      "outputs": [
        {
          "output_type": "stream",
          "text": [
            "<class 'pandas.core.frame.DataFrame'>\n",
            "RangeIndex: 60 entries, 0 to 59\n",
            "Data columns (total 3 columns):\n",
            " #   Column  Non-Null Count  Dtype  \n",
            "---  ------  --------------  -----  \n",
            " 0   len     60 non-null     float64\n",
            " 1   supp    60 non-null     object \n",
            " 2   dose    60 non-null     float64\n",
            "dtypes: float64(2), object(1)\n",
            "memory usage: 1.5+ KB\n"
          ],
          "name": "stdout"
        }
      ]
    },
    {
      "cell_type": "markdown",
      "metadata": {
        "id": "DmcdvSyIixKl"
      },
      "source": [
        "1). Perform the EDA and ANOVA ($\\alpha=$ 5%) with the 'supp' variable. <br>\n",
        "Summarize the result."
      ]
    },
    {
      "cell_type": "code",
      "metadata": {
        "colab": {
          "base_uri": "https://localhost:8080/"
        },
        "id": "mGUpKN2jixKm",
        "outputId": "4d58fb05-29e7-4c1e-e6fd-260637573c27"
      },
      "source": [
        "# Categories of 'supp'. \n",
        "df.supp.value_counts()"
      ],
      "execution_count": 201,
      "outputs": [
        {
          "output_type": "execute_result",
          "data": {
            "text/plain": [
              "VC    30\n",
              "OJ    30\n",
              "Name: supp, dtype: int64"
            ]
          },
          "metadata": {
            "tags": []
          },
          "execution_count": 201
        }
      ]
    },
    {
      "cell_type": "code",
      "metadata": {
        "colab": {
          "base_uri": "https://localhost:8080/"
        },
        "id": "K2mH4ESYixKn",
        "outputId": "6767759a-8d66-42dd-e536-50941607d9e0"
      },
      "source": [
        "# Group by category.\n",
        "df.supp.groupby(df.dose).value_counts()"
      ],
      "execution_count": 202,
      "outputs": [
        {
          "output_type": "execute_result",
          "data": {
            "text/plain": [
              "dose  supp\n",
              "0.5   OJ      10\n",
              "      VC      10\n",
              "1.0   OJ      10\n",
              "      VC      10\n",
              "2.0   OJ      10\n",
              "      VC      10\n",
              "Name: supp, dtype: int64"
            ]
          },
          "metadata": {
            "tags": []
          },
          "execution_count": 202
        }
      ]
    },
    {
      "cell_type": "code",
      "metadata": {
        "colab": {
          "base_uri": "https://localhost:8080/",
          "height": 298
        },
        "id": "_SjlxuR_ixKs",
        "outputId": "4da614ea-54de-4516-a229-a50f8fa84660"
      },
      "source": [
        "# Multiple Boxplots.\n",
        "import seaborn as sns\n",
        "sns.boxplot(x='supp',y='len',data=df,hue='dose')\n"
      ],
      "execution_count": 203,
      "outputs": [
        {
          "output_type": "execute_result",
          "data": {
            "text/plain": [
              "<matplotlib.axes._subplots.AxesSubplot at 0x7fb5dfdb7b50>"
            ]
          },
          "metadata": {
            "tags": []
          },
          "execution_count": 203
        },
        {
          "output_type": "display_data",
          "data": {
            "image/png": "[encoded data removed]",
            "text/plain": [
              "<Figure size 432x288 with 1 Axes>"
            ]
          },
          "metadata": {
            "tags": [],
            "needs_background": "light"
          }
        }
      ]
    },
    {
      "cell_type": "code",
      "metadata": {
        "scrolled": true,
        "colab": {
          "base_uri": "https://localhost:8080/"
        },
        "id": "kpA2jKxpixKt",
        "outputId": "94fafd38-6bce-403e-ca97-4aab4511376f"
      },
      "source": [
        "# ANOVA.\n",
        "res = st.f_oneway(df.supp=='VC',df.supp=='OJ')\n",
        "\n",
        "print(\"Test statictic  : %f \" % res[0] )\n",
        "print(\"p-value         : %f \" % res[1] )"
      ],
      "execution_count": 204,
      "outputs": [
        {
          "output_type": "stream",
          "text": [
            "Test statictic  : 0.000000 \n",
            "p-value         : 1.000000 \n"
          ],
          "name": "stdout"
        }
      ]
    },
    {
      "cell_type": "code",
      "metadata": {
        "id": "Tzomfz4FixKu"
      },
      "source": [
        "# Result summary.\n",
        "#pvalue=1>0.05 so we conclude that the means of the 2 supplements are not equal to 100%."
      ],
      "execution_count": 205,
      "outputs": []
    },
    {
      "cell_type": "markdown",
      "metadata": {
        "id": "zeKGCkBjixKu"
      },
      "source": [
        "2). Perform the EDA and ANOVA ($\\alpha=$ 5%) with the 'dose' variable. <br>\n",
        "Summarize the result."
      ]
    },
    {
      "cell_type": "code",
      "metadata": {
        "colab": {
          "base_uri": "https://localhost:8080/"
        },
        "id": "XxVIaEd1ixKu",
        "outputId": "d07224ca-c563-47fa-ef79-fd0920651dcf"
      },
      "source": [
        "# Categories of 'dose'. \n",
        "df.dose.value_counts()"
      ],
      "execution_count": 206,
      "outputs": [
        {
          "output_type": "execute_result",
          "data": {
            "text/plain": [
              "2.0    20\n",
              "1.0    20\n",
              "0.5    20\n",
              "Name: dose, dtype: int64"
            ]
          },
          "metadata": {
            "tags": []
          },
          "execution_count": 206
        }
      ]
    },
    {
      "cell_type": "code",
      "metadata": {
        "colab": {
          "base_uri": "https://localhost:8080/"
        },
        "id": "SM9LydZjixKv",
        "outputId": "0eff2f25-2ab7-4837-e0dd-296e0775800a"
      },
      "source": [
        "# Group by category.\n",
        "df.dose.groupby(df.supp).value_counts()"
      ],
      "execution_count": 207,
      "outputs": [
        {
          "output_type": "execute_result",
          "data": {
            "text/plain": [
              "supp  dose\n",
              "OJ    0.5     10\n",
              "      1.0     10\n",
              "      2.0     10\n",
              "VC    0.5     10\n",
              "      1.0     10\n",
              "      2.0     10\n",
              "Name: dose, dtype: int64"
            ]
          },
          "metadata": {
            "tags": []
          },
          "execution_count": 207
        }
      ]
    },
    {
      "cell_type": "code",
      "metadata": {
        "colab": {
          "base_uri": "https://localhost:8080/",
          "height": 298
        },
        "id": "gy1dd8LDixKv",
        "outputId": "b64c1d50-5a77-4a6b-aece-4f682b7007d3"
      },
      "source": [
        "# Multiple Boxplots.\n",
        "sns.boxplot(x='dose',y='len',data=df,hue='supp')"
      ],
      "execution_count": 208,
      "outputs": [
        {
          "output_type": "execute_result",
          "data": {
            "text/plain": [
              "<matplotlib.axes._subplots.AxesSubplot at 0x7fb5dfc83ed0>"
            ]
          },
          "metadata": {
            "tags": []
          },
          "execution_count": 208
        },
        {
          "output_type": "display_data",
          "data": {
            "image/png": "[encoded data removed]",
            "text/plain": [
              "<Figure size 432x288 with 1 Axes>"
            ]
          },
          "metadata": {
            "tags": [],
            "needs_background": "light"
          }
        }
      ]
    },
    {
      "cell_type": "code",
      "metadata": {
        "colab": {
          "base_uri": "https://localhost:8080/"
        },
        "id": "Xft7KjfyixKv",
        "outputId": "9d935f40-d43d-4e84-debc-e2bb7bac8387"
      },
      "source": [
        "# ANOVA.\n",
        "df.dose=str(df.dose)\n",
        "res = st.f_oneway(df.dose=='0.5',df.dose=='1.0',df.dose=='2.0')\n",
        "\n",
        "print(\"Test statictic  : %f \" % res[0] )\n",
        "print(\"p-value         : %f \" % res[1] )"
      ],
      "execution_count": 209,
      "outputs": [
        {
          "output_type": "stream",
          "text": [
            "Test statictic  : nan \n",
            "p-value         : nan \n"
          ],
          "name": "stdout"
        },
        {
          "output_type": "stream",
          "text": [
            "/usr/local/lib/python3.7/dist-packages/scipy/stats/stats.py:3349: RuntimeWarning: invalid value encountered in double_scalars\n",
            "  f = msb / msw\n"
          ],
          "name": "stderr"
        }
      ]
    },
    {
      "cell_type": "code",
      "metadata": {
        "id": "pZOPd-mmixKw"
      },
      "source": [
        "# Result summary.\n"
      ],
      "execution_count": 210,
      "outputs": []
    }
  ]
}