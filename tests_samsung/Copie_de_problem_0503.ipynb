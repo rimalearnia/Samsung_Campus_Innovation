{
  "nbformat": 4,
  "nbformat_minor": 0,
  "metadata": {
    "kernelspec": {
      "display_name": "Python 3",
      "language": "python",
      "name": "python3"
    },
    "language_info": {
      "codemirror_mode": {
        "name": "ipython",
        "version": 3
      },
      "file_extension": ".py",
      "mimetype": "text/x-python",
      "name": "python",
      "nbconvert_exporter": "python",
      "pygments_lexer": "ipython3",
      "version": "3.7.3"
    },
    "colab": {
      "name": "Copie de problem_0503.ipynb",
      "provenance": []
    }
  },
  "cells": [
    {
      "cell_type": "markdown",
      "metadata": {
        "id": "MOUkRZESz-tH"
      },
      "source": [
        "## Quiz #0503"
      ]
    },
    {
      "cell_type": "markdown",
      "metadata": {
        "id": "mlD7loyyz-tI"
      },
      "source": [
        "### \"Data Augmentation\""
      ]
    },
    {
      "cell_type": "markdown",
      "metadata": {
        "id": "HKJzS3KRz-tI"
      },
      "source": [
        "#### Answer the following questions by providing Python code:\n",
        "#### Objectives:\n",
        "- Code the helper functions.\n",
        "- Optimize and test a predictive model of your choice.\n",
        "- Carry out data aumentation in order to improve the predictive accuracy when the given training data is small."
      ]
    },
    {
      "cell_type": "code",
      "metadata": {
        "id": "6olK6H2tz-tJ"
      },
      "source": [
        "import numpy as np\n",
        "import pandas as pd\n",
        "import os\n",
        "import warnings\n",
        "import matplotlib.pyplot as plt\n",
        "from sklearn.model_selection import GridSearchCV\n",
        "from sklearn.neighbors import KNeighborsClassifier\n",
        "from sklearn.tree import DecisionTreeClassifier\n",
        "from sklearn.ensemble import RandomForestClassifier,AdaBoostClassifier, GradientBoostingClassifier\n",
        "from xgboost import XGBClassifier\n",
        "from sklearn import metrics, preprocessing\n",
        "from scipy.ndimage.interpolation import rotate\n",
        "warnings.filterwarnings(action='ignore')                  # Turn off the warnings.\n",
        "%matplotlib inline"
      ],
      "execution_count": 26,
      "outputs": []
    },
    {
      "cell_type": "markdown",
      "metadata": {
        "id": "vEBKVWKdz-tJ"
      },
      "source": [
        "#### Read in data:\n",
        "The explanation on the original data can be found [here](http://yann.lecun.com/exdb/mnist/).\n",
        "\n",
        "- The data we will be using is a small subset of the original data with only 100 observations.\n",
        "- Each observation is the \"flattened\" version of a image.\n",
        "- The first column corresponds to the label (Y).\n",
        "- The image size is 28x28."
      ]
    },
    {
      "cell_type": "code",
      "metadata": {
        "id": "AyFnA81Gz-tK"
      },
      "source": [
        "# Read the training and testing data separately.\n",
        "data_train = pd.read_csv('/content/mnist_train_100.csv', header=None,encoding='latin1')\n",
        "data_test = pd.read_csv('/content/mnist_test.csv', header=None,encoding='latin1')\n",
        "data_test=data_test[:100]\n",
        "# Scale and split the data set into X and Y.\n",
        "X_train = np.array((data_train.iloc[:,1:]/255.0)*0.99+0.01)\n",
        "X_test = np.array((data_test.iloc[:,1:]/255.0)*0.99+0.01)\n",
        "Y_train = np.array(data_train.iloc[:,0])\n",
        "Y_test = np.array(data_test.iloc[:,0])"
      ],
      "execution_count": 27,
      "outputs": []
    },
    {
      "cell_type": "markdown",
      "metadata": {
        "id": "jwEfPLp9z-tK"
      },
      "source": [
        "1). The helper function 'show_data()' visualizes each given observation."
      ]
    },
    {
      "cell_type": "code",
      "metadata": {
        "id": "x-uT3P6Az-tL"
      },
      "source": [
        "def show_data(X, Y, n, angle=0):\n",
        "    image_matrix = X[n,:].reshape((28,28))\n",
        "    image_matrix = rotate(image_matrix, angle, cval=0.01, reshape=False)\n",
        "    imax = image_matrix.max()\n",
        "    imin = image_matrix.min()\n",
        "    image_matrix = ((image_matrix-imin)/(imax-imin))*0.99+0.01\n",
        "    plt.imshow(image_matrix, cmap='Greys',interpolation='None')\n",
        "    print(Y[n])"
      ],
      "execution_count": 28,
      "outputs": []
    },
    {
      "cell_type": "code",
      "metadata": {
        "id": "eQkLmS60z-tL",
        "colab": {
          "base_uri": "https://localhost:8080/",
          "height": 282
        },
        "outputId": "46b1309f-6adb-4a43-fa0a-3018911e0944"
      },
      "source": [
        "# Example 1.\n",
        "show_data(X_train, Y_train,10,+10)"
      ],
      "execution_count": 29,
      "outputs": [
        {
          "output_type": "stream",
          "name": "stdout",
          "text": [
            "3\n"
          ]
        },
        {
          "output_type": "display_data",
          "data": {
            "text/plain": [
              "<Figure size 432x288 with 1 Axes>"
            ],
            "image/png": "[encoded data removed]"
          },
          "metadata": {
            "needs_background": "light"
          }
        }
      ]
    },
    {
      "cell_type": "code",
      "metadata": {
        "id": "ABtyPR43z-tM",
        "colab": {
          "base_uri": "https://localhost:8080/",
          "height": 282
        },
        "outputId": "219d34e2-e499-43ea-b999-43c9f4e532ac"
      },
      "source": [
        "# Example 2.\n",
        "show_data(X_train, Y_train,10,-30)"
      ],
      "execution_count": 30,
      "outputs": [
        {
          "output_type": "stream",
          "name": "stdout",
          "text": [
            "3\n"
          ]
        },
        {
          "output_type": "display_data",
          "data": {
            "text/plain": [
              "<Figure size 432x288 with 1 Axes>"
            ],
            "image/png": "[encoded data removed]"
          },
          "metadata": {
            "needs_background": "light"
          }
        }
      ]
    },
    {
      "cell_type": "code",
      "metadata": {
        "id": "_j3jYxjjz-tN",
        "colab": {
          "base_uri": "https://localhost:8080/",
          "height": 282
        },
        "outputId": "b9774df9-5f29-49da-a3fc-695e8af48137"
      },
      "source": [
        "# Example 3.\n",
        "show_data(X_train, Y_train,77,0)"
      ],
      "execution_count": 31,
      "outputs": [
        {
          "output_type": "stream",
          "name": "stdout",
          "text": [
            "1\n"
          ]
        },
        {
          "output_type": "display_data",
          "data": {
            "text/plain": [
              "<Figure size 432x288 with 1 Axes>"
            ],
            "image/png": "[encoded data removed]"
          },
          "metadata": {
            "needs_background": "light"
          }
        }
      ]
    },
    {
      "cell_type": "markdown",
      "metadata": {
        "id": "H_nAtEYEz-tN"
      },
      "source": [
        "2). Choose an algorithm and carry out the predictive analysis.\n",
        "\n",
        "- Optimize the hyperparameter(s).\n",
        "- Calculate the accuracy.\n",
        "- Is the accuracy high enough?"
      ]
    },
    {
      "cell_type": "code",
      "source": [
        "parameters = {\n",
        "    'n_estimators'      : [200,320,330],\n",
        "    'max_depth'         : [6,8, 9, 10, 11],\n",
        "    'random_state'      : [0,5]\n",
        "}\n",
        "clf = GridSearchCV(RandomForestClassifier(), parameters, cv=10, n_jobs=-1)\n",
        "clf.fit(X_train, Y_train)\n",
        "y_pred = clf.predict(X_test)\n",
        "print(\"RandomForest Accuracy : \",metrics.accuracy_score(Y_test,y_pred))"
      ],
      "metadata": {
        "colab": {
          "base_uri": "https://localhost:8080/"
        },
        "id": "zYvNNoP5fmoG",
        "outputId": "a0b82096-e594-45ba-99b8-22d9eba725e0"
      },
      "execution_count": 32,
      "outputs": [
        {
          "output_type": "stream",
          "name": "stdout",
          "text": [
            "RandomForest Accuracy :  0.71\n"
          ]
        }
      ]
    },
    {
      "cell_type": "code",
      "source": [
        "print(clf.best_params_)"
      ],
      "metadata": {
        "id": "f7PXFWfNisjZ",
        "outputId": "e879a96b-a340-4e85-a19b-88e782123248",
        "colab": {
          "base_uri": "https://localhost:8080/"
        }
      },
      "execution_count": 33,
      "outputs": [
        {
          "output_type": "stream",
          "name": "stdout",
          "text": [
            "{'max_depth': 8, 'n_estimators': 200, 'random_state': 0}\n"
          ]
        }
      ]
    },
    {
      "cell_type": "markdown",
      "metadata": {
        "id": "e98uw0eFz-tO"
      },
      "source": [
        "3). Code the helper function 'rotate_data()' that rotates each given observation by an angle. HINT: use scipy.ndimage.interpolation()."
      ]
    },
    {
      "cell_type": "code",
      "source": [
        "def rotate_data(X, Y, n, angle=0):\n",
        "    image_matrix = X[n,:].reshape((28,28))\n",
        "    image_matrix = rotate(image_matrix, angle, cval=0.01, reshape=False)\n",
        "    imax = image_matrix.max()\n",
        "    imin = image_matrix.min()\n",
        "    image_matrix = ((image_matrix-imin)/(imax-imin))*0.99+0.01\n",
        "    plt.imshow(image_matrix, cmap='Greys',interpolation='None')"
      ],
      "metadata": {
        "id": "qhX-X_Aulone"
      },
      "execution_count": 34,
      "outputs": []
    },
    {
      "cell_type": "markdown",
      "metadata": {
        "id": "W3_RkrUEz-tP"
      },
      "source": [
        "4). Augment the training dataset.\n",
        "- Increase the size of the training dataset by introducing slight rotations (clockwise and counterclockwise).\n",
        "- Use the 'rotate_data()' function defined in the previous step.\n",
        "- No need to augment the testing dataset.\n",
        "- Target approximately five fold aumentation."
      ]
    },
    {
      "cell_type": "code",
      "source": [
        "for i in range(0,100):\n",
        "  for j in range (0,360):\n",
        "    data_train=data_train.append(rotate_data(X_train, Y_train,i,j))\n"
      ],
      "metadata": {
        "colab": {
          "base_uri": "https://localhost:8080/",
          "height": 265
        },
        "id": "1FfavjbmmxG5",
        "outputId": "1216cdd7-37d0-4e12-e9f1-63b9979dbe25"
      },
      "execution_count": 35,
      "outputs": [
        {
          "output_type": "display_data",
          "data": {
            "text/plain": [
              "<Figure size 432x288 with 1 Axes>"
            ],
            "image/png": "[encoded data removed]"
          },
          "metadata": {
            "needs_background": "light"
          }
        }
      ]
    },
    {
      "cell_type": "markdown",
      "metadata": {
        "id": "_31O-zsVz-tQ"
      },
      "source": [
        "5). Redo the predictive analysis with the augmented training dataset.\n",
        "\n",
        "- Use the same algorithm as in the step 2).\n",
        "- Calculate the accuracy.\n",
        "- Has the accuracy gone up?"
      ]
    },
    {
      "cell_type": "code",
      "source": [
        "# Scale and split the data set into X and Y.\n",
        "X_train = np.array((data_train.iloc[:,1:]/255.0)*0.99+0.01)\n",
        "X_test = np.array((data_test.iloc[:,1:]/255.0)*0.99+0.01)\n",
        "Y_train = np.array(data_train.iloc[:,0])\n",
        "Y_test = np.array(data_test.iloc[:,0])"
      ],
      "metadata": {
        "id": "VwfnqNZ_nKPu"
      },
      "execution_count": 38,
      "outputs": []
    },
    {
      "cell_type": "code",
      "source": [
        "clf = RandomForestClassifier(n_estimators = 200,max_depth=8)  \n",
        "clf.fit(X_train, Y_train)\n",
        "y_pred = clf.predict(X_test)\n",
        "print(\"RandomForest Accuracy : \",metrics.accuracy_score(Y_test,y_pred))"
      ],
      "metadata": {
        "colab": {
          "base_uri": "https://localhost:8080/"
        },
        "id": "uShwD7Byot6x",
        "outputId": "ddab722a-ab3a-41f5-8d06-5c81b7622b69"
      },
      "execution_count": 39,
      "outputs": [
        {
          "output_type": "stream",
          "name": "stdout",
          "text": [
            "RandomForest Accuracy :  0.72\n"
          ]
        }
      ]
    },
    {
      "cell_type": "markdown",
      "source": [
        "Accuracy improved by 0.01"
      ],
      "metadata": {
        "id": "5w448PLxspIF"
      }
    }
  ]
}