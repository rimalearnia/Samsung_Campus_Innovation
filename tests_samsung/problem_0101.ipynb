{
  "nbformat": 4,
  "nbformat_minor": 0,
  "metadata": {
    "kernelspec": {
      "display_name": "Python 3",
      "language": "python",
      "name": "python3"
    },
    "language_info": {
      "codemirror_mode": {
        "name": "ipython",
        "version": 3
      },
      "file_extension": ".py",
      "mimetype": "text/x-python",
      "name": "python",
      "nbconvert_exporter": "python",
      "pygments_lexer": "ipython3",
      "version": "3.7.3"
    },
    "colab": {
      "name": "problem_0101.ipynb",
      "provenance": []
    }
  },
  "cells": [
    {
      "cell_type": "markdown",
      "metadata": {
        "id": "j8ZLKk4Slh0h"
      },
      "source": [
        "## Quiz #0101"
      ]
    },
    {
      "cell_type": "markdown",
      "metadata": {
        "id": "ek23ATYElh0i"
      },
      "source": [
        "#### Provide the answers in Python code:"
      ]
    },
    {
      "cell_type": "markdown",
      "metadata": {
        "id": "QVI4XeWNlh0j"
      },
      "source": [
        "1).  In the class A, students' heights are:\n",
        "\n",
        "161.5 <br>\n",
        "165.9 <br>\n",
        "168.7 <br>\n",
        "163.1 <br>\n",
        "170.8 <br>\n",
        "167.2 <br>\n",
        "\n",
        "Calculate the mean height by using Python 'list' and 'for' loop:"
      ]
    },
    {
      "cell_type": "code",
      "metadata": {
        "colab": {
          "base_uri": "https://localhost:8080/"
        },
        "id": "wSrjKrporOYT",
        "outputId": "dbbcef24-130b-41c1-f7dc-0713f8b0d3ff"
      },
      "source": [
        "heights=[161.5,165.9,168.7,163.1,170.8,167.2]\n",
        "sum=161.5\n",
        "for i in range(1,len(heights)):\n",
        "  sum+=heights[i]\n",
        "mean1=sum/len(heights)\n",
        "print(\" the mean height in classA :\",mean1)"
      ],
      "execution_count": 36,
      "outputs": [
        {
          "output_type": "stream",
          "text": [
            " the mean height in classA : 166.20000000000002\n"
          ],
          "name": "stdout"
        }
      ]
    },
    {
      "cell_type": "markdown",
      "metadata": {
        "id": "LPIy836Wlh0k"
      },
      "source": [
        "2).  In the class B, students' heights are:\n",
        "\n",
        "172.5 <br>\n",
        "162.9 <br>\n",
        "161.7 <br>\n",
        "160.1 <br>\n",
        "161.8 <br>\n",
        "169.2 <br>\n",
        "\n",
        "Calculate the mean height by using Python 'list' and 'for' loop:"
      ]
    },
    {
      "cell_type": "code",
      "metadata": {
        "colab": {
          "base_uri": "https://localhost:8080/"
        },
        "id": "XP32pUozlh0l",
        "outputId": "e284914f-2e2d-466c-d499-7e0937dcd2ee"
      },
      "source": [
        "heights=[172.5,162.9,161.7,160.1,161.8,169.2]\n",
        "sum=172.5\n",
        "for i in range(1,len(heights)):\n",
        "  sum+=heights[i]\n",
        "mean2=sum/len(heights)\n",
        "print(\" the mean height in class B :\",mean2)"
      ],
      "execution_count": 30,
      "outputs": [
        {
          "output_type": "stream",
          "text": [
            " the mean height in class B : 164.70000000000002\n"
          ],
          "name": "stdout"
        }
      ]
    },
    {
      "cell_type": "markdown",
      "metadata": {
        "id": "DMdqGTtYlh0l"
      },
      "source": [
        "3). The class A and the class B are joined together to form the class AB. Calculate the mean height by using Python 'list' and 'for' loop:"
      ]
    },
    {
      "cell_type": "code",
      "metadata": {
        "colab": {
          "base_uri": "https://localhost:8080/"
        },
        "id": "i9Jq9AUklh0m",
        "outputId": "01e10963-0835-4b8b-a165-158a896dc6b1"
      },
      "source": [
        "A=[161.5,165.9,168.7,163.1,170.8,167.2]\n",
        "B=[172.5,162.9,161.7,160.1,161.8,169.2]\n",
        "AB=A+B \n",
        "sum=161.5\n",
        "for i in range(1,len(AB)):\n",
        "  sum+=AB[i]\n",
        "mean=sum/len(AB)\n",
        "print(\" the mean height in class AB :\",mean)\n",
        "\n",
        "\n"
      ],
      "execution_count": 37,
      "outputs": [
        {
          "output_type": "stream",
          "text": [
            " the mean height in class AB : 165.45000000000002\n"
          ],
          "name": "stdout"
        }
      ]
    },
    {
      "cell_type": "markdown",
      "metadata": {
        "id": "_qOxlNSNlh0m"
      },
      "source": [
        "4). Sort the heights of the class AB."
      ]
    },
    {
      "cell_type": "code",
      "metadata": {
        "colab": {
          "base_uri": "https://localhost:8080/"
        },
        "id": "vxq37uW6lh0m",
        "outputId": "51be303a-7562-4828-e405-6e8506d942e4"
      },
      "source": [
        "A=[161.5,165.9,168.7,163.1,170.8,167.2]\n",
        "B=[172.5,162.9,161.7,160.1,161.8,169.2]\n",
        "AB=A+B\n",
        "AB.sort()\n",
        "print(AB)\n"
      ],
      "execution_count": 39,
      "outputs": [
        {
          "output_type": "stream",
          "text": [
            "[160.1, 161.5, 161.7, 161.8, 162.9, 163.1, 165.9, 167.2, 168.7, 169.2, 170.8, 172.5]\n"
          ],
          "name": "stdout"
        }
      ]
    },
    {
      "cell_type": "markdown",
      "metadata": {
        "id": "dHtxwpVDlh0m"
      },
      "source": [
        "5). The class C is formed with students with the height less than 165. Make a list 'C' containing the heights of the class C."
      ]
    },
    {
      "cell_type": "code",
      "metadata": {
        "colab": {
          "base_uri": "https://localhost:8080/"
        },
        "id": "BRCa3FHRlh0n",
        "outputId": "d1945bad-3b66-4525-b468-fdb497e0117f"
      },
      "source": [
        "A=[161.5,165.9,168.7,163.1,170.8,167.2]\n",
        "B=[172.5,162.9,161.7,160.1,161.8,169.2]\n",
        "AB=A+B\n",
        "C=[A]\n",
        "for i in range(0,len(AB)):\n",
        "  if AB[i]<165:\n",
        "    C.append(AB[i])\n",
        "print(C)"
      ],
      "execution_count": 43,
      "outputs": [
        {
          "output_type": "stream",
          "text": [
            "[161.5, 163.1, 162.9, 161.7, 160.1, 161.8]\n"
          ],
          "name": "stdout"
        }
      ]
    },
    {
      "cell_type": "markdown",
      "metadata": {
        "id": "BU0_4Ql8lh0n"
      },
      "source": [
        "6). The class D is formed with students with the height larger than 160 and less than 170. Make a list containing the heights of the class D."
      ]
    },
    {
      "cell_type": "code",
      "metadata": {
        "colab": {
          "base_uri": "https://localhost:8080/"
        },
        "id": "A4a9gDGKlh0n",
        "outputId": "e0145ca6-e687-4918-9044-e7c5913ef876"
      },
      "source": [
        "A=[161.5,165.9,168.7,163.1,170.8,167.2]\n",
        "B=[172.5,162.9,161.7,160.1,161.8,169.2]\n",
        "AB=A+B\n",
        "D=[]\n",
        "for i in range(0,len(AB)):\n",
        "  if AB[i]>160 and AB[i]<170:\n",
        "    D.append(AB[i])\n",
        "print(D)\n"
      ],
      "execution_count": 47,
      "outputs": [
        {
          "output_type": "stream",
          "text": [
            "[161.5, 165.9, 168.7, 163.1, 167.2, 162.9, 161.7, 160.1, 161.8, 169.2]\n"
          ],
          "name": "stdout"
        }
      ]
    }
  ]
}