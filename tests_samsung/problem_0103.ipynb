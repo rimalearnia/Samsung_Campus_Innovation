{
  "nbformat": 4,
  "nbformat_minor": 0,
  "metadata": {
    "kernelspec": {
      "display_name": "Python 3",
      "language": "python",
      "name": "python3"
    },
    "language_info": {
      "codemirror_mode": {
        "name": "ipython",
        "version": 3
      },
      "file_extension": ".py",
      "mimetype": "text/x-python",
      "name": "python",
      "nbconvert_exporter": "python",
      "pygments_lexer": "ipython3",
      "version": "3.7.3"
    },
    "colab": {
      "name": "problem_0103.ipynb",
      "provenance": []
    }
  },
  "cells": [
    {
      "cell_type": "markdown",
      "metadata": {
        "id": "3s_v3mac64rD"
      },
      "source": [
        "## Quiz #0103 "
      ]
    },
    {
      "cell_type": "markdown",
      "metadata": {
        "id": "-Aus1ETY64rF"
      },
      "source": [
        "#### Code the class named 'Calculator' that outputs the result as shown. "
      ]
    },
    {
      "cell_type": "code",
      "metadata": {
        "colab": {
          "base_uri": "https://localhost:8080/"
        },
        "id": "_dZUFPv-64rF",
        "outputId": "3f78d660-d9c7-44da-c64c-9b5fed80692c"
      },
      "source": [
        "class Calculator:\n",
        "  def __init__(self,x,y):\n",
        "    self.x=x\n",
        "    self.y=y\n",
        "\n",
        "  def sum(self):\n",
        "    return self.x+self.y\n",
        "  \n",
        "  def subtract(self):\n",
        "    return self.x-self.y\n",
        "\n",
        "  def product(self):\n",
        "    return self.x*self.y\n",
        "\n",
        "  def divide(self):\n",
        "    return self.x/self.y\n",
        "\n",
        "calc1=Calculator(5,3)  \n",
        "print(calc1.sum())\n",
        "print(calc1.subtract())\n",
        "print(calc1.product())\n",
        "print(calc1.divide())\n",
        "\n",
        "calc2 = Calculator(10,2)\n",
        "print(calc2.sum())\n",
        "print(calc2.subtract())\n",
        "print(calc2.product())\n",
        "print(calc2.divide())\n",
        "\n",
        "\n",
        "\n",
        "\n"
      ],
      "execution_count": 6,
      "outputs": [
        {
          "output_type": "stream",
          "text": [
            "8\n",
            "2\n",
            "15\n",
            "1.6666666666666667\n",
            "12\n",
            "8\n",
            "20\n",
            "5.0\n"
          ],
          "name": "stdout"
        }
      ]
    },
    {
      "cell_type": "markdown",
      "metadata": {
        "id": "INNhTUg864rG"
      },
      "source": [
        "Test results:"
      ]
    },
    {
      "cell_type": "code",
      "metadata": {
        "id": "RP5_aM5z64rH"
      },
      "source": [
        "calc1 = Calculator(5,3)\n",
        "calc2 = Calculator(10,2)"
      ],
      "execution_count": null,
      "outputs": []
    },
    {
      "cell_type": "code",
      "metadata": {
        "id": "KWVTJftk64rH",
        "outputId": "d0b38c2a-d55f-43e3-e8d9-29715d81f11d"
      },
      "source": [
        "print(calc1.sum())\n",
        "print(calc1.subtract())\n",
        "print(calc1.product())\n",
        "print(calc1.divide())"
      ],
      "execution_count": null,
      "outputs": [
        {
          "output_type": "stream",
          "text": [
            "8\n",
            "2\n",
            "15\n",
            "1.6666666666666667\n"
          ],
          "name": "stdout"
        }
      ]
    },
    {
      "cell_type": "code",
      "metadata": {
        "id": "gVsb8PTV64rI",
        "outputId": "45608da8-37d5-46e1-b644-54645746d6e2"
      },
      "source": [
        "print(calc2.sum())\n",
        "print(calc2.subtract())\n",
        "print(calc2.product())\n",
        "print(calc2.divide())"
      ],
      "execution_count": null,
      "outputs": [
        {
          "output_type": "stream",
          "text": [
            "12\n",
            "8\n",
            "20\n",
            "5.0\n"
          ],
          "name": "stdout"
        }
      ]
    }
  ]
}