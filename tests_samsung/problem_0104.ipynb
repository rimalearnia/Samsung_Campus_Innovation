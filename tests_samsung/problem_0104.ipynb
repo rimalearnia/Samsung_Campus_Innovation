{
  "nbformat": 4,
  "nbformat_minor": 0,
  "metadata": {
    "kernelspec": {
      "display_name": "Python 3",
      "language": "python",
      "name": "python3"
    },
    "language_info": {
      "codemirror_mode": {
        "name": "ipython",
        "version": 3
      },
      "file_extension": ".py",
      "mimetype": "text/x-python",
      "name": "python",
      "nbconvert_exporter": "python",
      "pygments_lexer": "ipython3",
      "version": "3.7.3"
    },
    "colab": {
      "name": "problem_0104.ipynb",
      "provenance": []
    }
  },
  "cells": [
    {
      "cell_type": "markdown",
      "metadata": {
        "id": "CWvD_cV1-hbx"
      },
      "source": [
        "## Quiz #0104 "
      ]
    },
    {
      "cell_type": "markdown",
      "metadata": {
        "id": "wISynLd0-hbz"
      },
      "source": [
        "#### Code the class 'Aquarium' that outputs the result as shown. "
      ]
    },
    {
      "cell_type": "code",
      "metadata": {
        "id": "OBHUi3PY-hb0"
      },
      "source": [
        "class Aquarium:\n",
        "  def __init__(self):\n",
        "    print(\"An Aquarium has opened!\")\n",
        "\n",
        "  def enters(self,x):\n",
        "    print(x,\"is a new member of our Aquarium!\")\n",
        "\n",
        "  def leaves(self,y):\n",
        "    print(\"No such sea creature in the Aquarium!\")\n",
        "\n",
        "  def show_all(self):\n",
        "    x=['Turtle','Dolphin','Sea Lion','Shark']\n",
        "    print(x)\n",
        "\n",
        " \n",
        "    \n",
        "    \n",
        "    \n",
        "    \n",
        "    "
      ],
      "execution_count": 47,
      "outputs": []
    },
    {
      "cell_type": "markdown",
      "metadata": {
        "id": "2eR4TcAw-hb1"
      },
      "source": [
        "Test results:"
      ]
    },
    {
      "cell_type": "code",
      "metadata": {
        "colab": {
          "base_uri": "https://localhost:8080/"
        },
        "id": "q_Eo6vIJ-hb2",
        "outputId": "508c590b-328a-45a7-d3f8-9cb3a7e38b2f"
      },
      "source": [
        "my_aquarium = Aquarium()"
      ],
      "execution_count": 48,
      "outputs": [
        {
          "output_type": "stream",
          "text": [
            "An Aquarium has opened!\n"
          ],
          "name": "stdout"
        }
      ]
    },
    {
      "cell_type": "code",
      "metadata": {
        "colab": {
          "base_uri": "https://localhost:8080/"
        },
        "id": "Huczmyw4-hb3",
        "outputId": "4e1af31d-1585-4348-d86e-4d32d812c25a"
      },
      "source": [
        "my_aquarium.enters('Turtle')"
      ],
      "execution_count": 49,
      "outputs": [
        {
          "output_type": "stream",
          "text": [
            "Turtle is a new member of our Aquarium!\n"
          ],
          "name": "stdout"
        }
      ]
    },
    {
      "cell_type": "markdown",
      "metadata": {
        "id": "Wil8149rA1hj"
      },
      "source": [
        "je n'ai pas su faire cette question\n"
      ]
    },
    {
      "cell_type": "code",
      "metadata": {
        "colab": {
          "base_uri": "https://localhost:8080/"
        },
        "id": "_rqOymBn-hb4",
        "outputId": "6491bf4b-19ff-4637-c2bf-6179e20a6cc1"
      },
      "source": [
        "my_aquarium.enters('Turtle')"
      ],
      "execution_count": 50,
      "outputs": [
        {
          "output_type": "stream",
          "text": [
            "Turtle is a new member of our Aquarium!\n"
          ],
          "name": "stdout"
        }
      ]
    },
    {
      "cell_type": "code",
      "metadata": {
        "colab": {
          "base_uri": "https://localhost:8080/"
        },
        "id": "rkusl9Ht-hb4",
        "outputId": "09a1fe79-0980-4830-c990-aba19ee059e1"
      },
      "source": [
        "my_aquarium.enters('Dolphin')"
      ],
      "execution_count": 51,
      "outputs": [
        {
          "output_type": "stream",
          "text": [
            "Dolphin is a new member of our Aquarium!\n"
          ],
          "name": "stdout"
        }
      ]
    },
    {
      "cell_type": "code",
      "metadata": {
        "colab": {
          "base_uri": "https://localhost:8080/"
        },
        "id": "2dtqUjDH-hb5",
        "outputId": "6a41bd8e-f8ca-4ac0-da5e-ecf1bc07484e"
      },
      "source": [
        "my_aquarium.enters('Sea Lion')"
      ],
      "execution_count": 52,
      "outputs": [
        {
          "output_type": "stream",
          "text": [
            "Sea Lion is a new member of our Aquarium!\n"
          ],
          "name": "stdout"
        }
      ]
    },
    {
      "cell_type": "code",
      "metadata": {
        "colab": {
          "base_uri": "https://localhost:8080/"
        },
        "id": "ctTaHTIg-hb5",
        "outputId": "f2c02ee8-1014-4ad4-bc34-802d8b4c1e02"
      },
      "source": [
        "my_aquarium.enters('Shark')"
      ],
      "execution_count": 53,
      "outputs": [
        {
          "output_type": "stream",
          "text": [
            "Shark is a new member of our Aquarium!\n"
          ],
          "name": "stdout"
        }
      ]
    },
    {
      "cell_type": "code",
      "metadata": {
        "colab": {
          "base_uri": "https://localhost:8080/"
        },
        "id": "kuijcqZC-hb6",
        "outputId": "9345f2c9-022b-4ea0-c55b-f4529710cd95"
      },
      "source": [
        "my_aquarium.show_all()"
      ],
      "execution_count": 54,
      "outputs": [
        {
          "output_type": "stream",
          "text": [
            "['Turtle', 'Dolphin', 'Sea Lion', 'Shark']\n"
          ],
          "name": "stdout"
        }
      ]
    },
    {
      "cell_type": "markdown",
      "metadata": {
        "id": "HHUKw4JFByO2"
      },
      "source": [
        "je n'ai pas su "
      ]
    },
    {
      "cell_type": "code",
      "metadata": {
        "colab": {
          "base_uri": "https://localhost:8080/"
        },
        "id": "xsi-Hnx0-hb6",
        "outputId": "4ffa28b0-879c-4fdb-db62-e120c822e9c1"
      },
      "source": [
        "my_aquarium.leaves(\"Sea Lion\")"
      ],
      "execution_count": 56,
      "outputs": [
        {
          "output_type": "stream",
          "text": [
            "No such sea creature in the Aquarium!\n"
          ],
          "name": "stdout"
        }
      ]
    },
    {
      "cell_type": "code",
      "metadata": {
        "colab": {
          "base_uri": "https://localhost:8080/"
        },
        "id": "54aJ_uRi-hb7",
        "outputId": "e5fc6130-adc9-472f-cc8a-93ceb657e647"
      },
      "source": [
        "my_aquarium.leaves(\"Killer Whale\")"
      ],
      "execution_count": 55,
      "outputs": [
        {
          "output_type": "stream",
          "text": [
            "No such sea creature in the Aquarium!\n"
          ],
          "name": "stdout"
        }
      ]
    },
    {
      "cell_type": "markdown",
      "metadata": {
        "id": "gILF_eeSB06K"
      },
      "source": [
        "je n'ai pas su faire "
      ]
    },
    {
      "cell_type": "code",
      "metadata": {
        "id": "8WIZl4UJ-hb7",
        "outputId": "ee5df155-b331-4684-c840-6dbca5d06c6a"
      },
      "source": [
        "my_aquarium.show_all()"
      ],
      "execution_count": null,
      "outputs": [
        {
          "output_type": "stream",
          "text": [
            "['Turtle', 'Dolphin', 'Shark']\n"
          ],
          "name": "stdout"
        }
      ]
    },
    {
      "cell_type": "code",
      "metadata": {
        "id": "n0Ot6u8J-hb8"
      },
      "source": [
        "my_aquarium.leaves(\"Turtle\")"
      ],
      "execution_count": null,
      "outputs": []
    },
    {
      "cell_type": "code",
      "metadata": {
        "id": "n0ZHs35t-hb9",
        "outputId": "97a227b5-f66a-4c3a-ebdf-18922553939b"
      },
      "source": [
        "my_aquarium.show_all()"
      ],
      "execution_count": null,
      "outputs": [
        {
          "output_type": "stream",
          "text": [
            "['Dolphin', 'Shark']\n"
          ],
          "name": "stdout"
        }
      ]
    }
  ]
}