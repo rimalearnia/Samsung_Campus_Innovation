{
  "nbformat": 4,
  "nbformat_minor": 0,
  "metadata": {
    "kernelspec": {
      "display_name": "Python 3",
      "language": "python",
      "name": "python3"
    },
    "language_info": {
      "codemirror_mode": {
        "name": "ipython",
        "version": 3
      },
      "file_extension": ".py",
      "mimetype": "text/x-python",
      "name": "python",
      "nbconvert_exporter": "python",
      "pygments_lexer": "ipython3",
      "version": "3.7.3"
    },
    "colab": {
      "name": "problem_0105.ipynb",
      "provenance": []
    }
  },
  "cells": [
    {
      "cell_type": "markdown",
      "metadata": {
        "id": "4tgnuXyk9Xj4"
      },
      "source": [
        "## Quiz #0105 "
      ]
    },
    {
      "cell_type": "markdown",
      "metadata": {
        "id": "e0J8fsQP9Xj6"
      },
      "source": [
        "#### Assignment: \n",
        "- Write a function named 'palindrome' to test whether the entered word or sentence is a palindrome.<br>\n",
        "- Ignore capitalization, spaces, punctuation marks, symbols, etc. <br>\n",
        "- Use the properties of 'queue' and 'stack' data structures. <br>"
      ]
    },
    {
      "cell_type": "markdown",
      "metadata": {
        "id": "BjbaFKVy9Xj7"
      },
      "source": [
        "Palindrome examples: <br>\n",
        "- mom\n",
        "- wow\n",
        "- noon\n",
        "- level\n",
        "- radar\n",
        "- kayak\n",
        "- racecar\n",
        "- God's dog\n",
        "- Madam, I'm Adam"
      ]
    },
    {
      "cell_type": "code",
      "metadata": {
        "id": "8ygXxrIN9Xj8"
      },
      "source": [
        "def palindrome(d):\n",
        "  d=d.replace(\" \",\"\")\n",
        "  d=d.replace(\",\",\"\")\n",
        "  d=d.replace(\"'\",\"\")\n",
        "  d=d.lower()\n",
        "  x=list(d)\n",
        "  a=list(d)\n",
        "  x.reverse()\n",
        "  if x==a:\n",
        "    print(\"True\")\n",
        "  else:\n",
        "    print(\"False\")\n",
        "    \n",
        "\n",
        "    \n",
        "    \n",
        "    \n",
        "    \n",
        "    "
      ],
      "execution_count": 52,
      "outputs": []
    },
    {
      "cell_type": "markdown",
      "metadata": {
        "id": "MerJLZUA9Xj9"
      },
      "source": [
        "Test results:"
      ]
    },
    {
      "cell_type": "code",
      "metadata": {
        "colab": {
          "base_uri": "https://localhost:8080/"
        },
        "id": "dlXhPVs29Xj9",
        "outputId": "f045d0c3-43e4-452d-846c-24535149a432"
      },
      "source": [
        "palindrome(\"Kayak\")"
      ],
      "execution_count": 53,
      "outputs": [
        {
          "output_type": "stream",
          "text": [
            "True\n"
          ],
          "name": "stdout"
        }
      ]
    },
    {
      "cell_type": "code",
      "metadata": {
        "colab": {
          "base_uri": "https://localhost:8080/"
        },
        "id": "16FlwLYE9Xj-",
        "outputId": "6c70b3f2-454f-4320-f55b-af0f04be5cf1"
      },
      "source": [
        "palindrome(\"Madam, I'm Adam\")"
      ],
      "execution_count": 54,
      "outputs": [
        {
          "output_type": "stream",
          "text": [
            "True\n"
          ],
          "name": "stdout"
        }
      ]
    },
    {
      "cell_type": "code",
      "metadata": {
        "colab": {
          "base_uri": "https://localhost:8080/"
        },
        "id": "AYHSaqwi9Xj-",
        "outputId": "35b62c6a-87dc-43e5-91ba-5624fb4886be"
      },
      "source": [
        "palindrome(\"Hello\")"
      ],
      "execution_count": 55,
      "outputs": [
        {
          "output_type": "stream",
          "text": [
            "False\n"
          ],
          "name": "stdout"
        }
      ]
    },
    {
      "cell_type": "code",
      "metadata": {
        "id": "ZjHTPunv9Xj_"
      },
      "source": [
        ""
      ],
      "execution_count": null,
      "outputs": []
    }
  ]
}