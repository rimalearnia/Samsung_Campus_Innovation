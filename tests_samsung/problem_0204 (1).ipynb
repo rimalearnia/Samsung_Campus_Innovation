{
  "nbformat": 4,
  "nbformat_minor": 0,
  "metadata": {
    "kernelspec": {
      "display_name": "Python 3",
      "language": "python",
      "name": "python3"
    },
    "language_info": {
      "codemirror_mode": {
        "name": "ipython",
        "version": 3
      },
      "file_extension": ".py",
      "mimetype": "text/x-python",
      "name": "python",
      "nbconvert_exporter": "python",
      "pygments_lexer": "ipython3",
      "version": "3.7.3"
    },
    "colab": {
      "name": "problem_0204.ipynb",
      "provenance": []
    }
  },
  "cells": [
    {
      "cell_type": "markdown",
      "metadata": {
        "id": "WEl_WlLfP3om"
      },
      "source": [
        "## Quiz #0204"
      ]
    },
    {
      "cell_type": "code",
      "metadata": {
        "id": "0mHMJq1CP3on"
      },
      "source": [
        "import pandas as pd\n",
        "import numpy as np\n",
        "import os\n",
        "import matplotlib.pyplot as plt\n",
        "%matplotlib inline"
      ],
      "execution_count": null,
      "outputs": []
    },
    {
      "cell_type": "markdown",
      "metadata": {
        "id": "lmtA7EYNP3oo"
      },
      "source": [
        "#### Read in the data."
      ]
    },
    {
      "cell_type": "code",
      "metadata": {
        "id": "m3sDC65CP3op"
      },
      "source": [
        "# Go to the directory where the data file is located. \n",
        "# os.chdir(r'~~')                # Please, replace the path with your own."
      ],
      "execution_count": null,
      "outputs": []
    },
    {
      "cell_type": "code",
      "metadata": {
        "id": "XMV_RfNHP3op"
      },
      "source": [
        "df = pd.read_csv('data_coffeeshop.csv', header='infer',na_values=[' '])"
      ],
      "execution_count": null,
      "outputs": []
    },
    {
      "cell_type": "code",
      "metadata": {
        "colab": {
          "base_uri": "https://localhost:8080/"
        },
        "id": "zw9RZcfTP3op",
        "outputId": "2b4829ad-7419-4bd3-d7bb-86ffb656da25"
      },
      "source": [
        "df.shape"
      ],
      "execution_count": null,
      "outputs": [
        {
          "output_type": "execute_result",
          "data": {
            "text/plain": [
              "(43182, 3)"
            ]
          },
          "metadata": {
            "tags": []
          },
          "execution_count": 78
        }
      ]
    },
    {
      "cell_type": "code",
      "metadata": {
        "colab": {
          "base_uri": "https://localhost:8080/",
          "height": 205
        },
        "id": "8RVxf-tDP3oq",
        "outputId": "7e3e21c8-7a6a-4346-848a-10ad0366206a"
      },
      "source": [
        "df.head(5)"
      ],
      "execution_count": null,
      "outputs": [
        {
          "output_type": "execute_result",
          "data": {
            "text/html": [
              "<div>\n",
              "<style scoped>\n",
              "    .dataframe tbody tr th:only-of-type {\n",
              "        vertical-align: middle;\n",
              "    }\n",
              "\n",
              "    .dataframe tbody tr th {\n",
              "        vertical-align: top;\n",
              "    }\n",
              "\n",
              "    .dataframe thead th {\n",
              "        text-align: right;\n",
              "    }\n",
              "</style>\n",
              "<table border=\"1\" class=\"dataframe\">\n",
              "  <thead>\n",
              "    <tr style=\"text-align: right;\">\n",
              "      <th></th>\n",
              "      <th>yearOfStart</th>\n",
              "      <th>CurrentState</th>\n",
              "      <th>sizeOfsite</th>\n",
              "    </tr>\n",
              "  </thead>\n",
              "  <tbody>\n",
              "    <tr>\n",
              "      <th>0</th>\n",
              "      <td>2008.0</td>\n",
              "      <td>In</td>\n",
              "      <td>20.80</td>\n",
              "    </tr>\n",
              "    <tr>\n",
              "      <th>1</th>\n",
              "      <td>2010.0</td>\n",
              "      <td>In</td>\n",
              "      <td>212.72</td>\n",
              "    </tr>\n",
              "    <tr>\n",
              "      <th>2</th>\n",
              "      <td>2013.0</td>\n",
              "      <td>In</td>\n",
              "      <td>20.04</td>\n",
              "    </tr>\n",
              "    <tr>\n",
              "      <th>3</th>\n",
              "      <td>2012.0</td>\n",
              "      <td>In</td>\n",
              "      <td>64.17</td>\n",
              "    </tr>\n",
              "    <tr>\n",
              "      <th>4</th>\n",
              "      <td>2002.0</td>\n",
              "      <td>Out</td>\n",
              "      <td>11.40</td>\n",
              "    </tr>\n",
              "  </tbody>\n",
              "</table>\n",
              "</div>"
            ],
            "text/plain": [
              "   yearOfStart CurrentState  sizeOfsite\n",
              "0       2008.0           In       20.80\n",
              "1       2010.0           In      212.72\n",
              "2       2013.0           In       20.04\n",
              "3       2012.0           In       64.17\n",
              "4       2002.0          Out       11.40"
            ]
          },
          "metadata": {
            "tags": []
          },
          "execution_count": 79
        }
      ]
    },
    {
      "cell_type": "markdown",
      "metadata": {
        "id": "Jmtp79gfP3oq"
      },
      "source": [
        "#### Answer the following questions."
      ]
    },
    {
      "cell_type": "markdown",
      "metadata": {
        "id": "ZDa4E6gsP3oq"
      },
      "source": [
        "1). Make a frequency table of 'yearOfStart' and visualize by year. \n",
        "- Sort by the year.\n",
        "- Draw a line plot from 1997 to 2014. <= Hint: plt.xlim()"
      ]
    },
    {
      "cell_type": "code",
      "metadata": {
        "colab": {
          "base_uri": "https://localhost:8080/",
          "height": 265
        },
        "id": "HbafliOltlTF",
        "outputId": "5135d5af-f072-4cba-c844-815087224220"
      },
      "source": [
        "table = df.yearOfStart.value_counts()\n",
        "table = table.sort_index()\n",
        "plt.plot(table.index, table.values, color='blue', alpha=0.5, linewidth=2, linestyle='--')\n",
        "plt.xlim([1997, 2014])\n",
        "plt.show()"
      ],
      "execution_count": null,
      "outputs": [
        {
          "output_type": "display_data",
          "data": {
            "image/png": "[encoded data removed]",
            "text/plain": [
              "<Figure size 432x288 with 1 Axes>"
            ]
          },
          "metadata": {
            "tags": [],
            "needs_background": "light"
          }
        }
      ]
    },
    {
      "cell_type": "markdown",
      "metadata": {
        "id": "ZvBrgV-fP3or"
      },
      "source": [
        "2). Now, split the data by the current state of business ('In' or 'Out' of business). Then, visualize the yearly trend of the 'yearOfStart' frequencies. \n",
        "- Sort by the year.\n",
        "- Draw two overlapping line plots from 1997 to 2014.\n",
        "- Use the 'figure' object."
      ]
    },
    {
      "cell_type": "code",
      "metadata": {
        "id": "wfRxxI5tP3or"
      },
      "source": [
        "data1=df[df.CurrentState=='In']\n",
        "data2=df[df.CurrentState=='Out']\n",
        "x1=data1.yearOfStart.value_counts()\n",
        "x2=data2.yearOfStart.value_counts()\n",
        "x1=x1.sort_index()\n",
        "x2=x2.sort_index()\n"
      ],
      "execution_count": null,
      "outputs": []
    },
    {
      "cell_type": "code",
      "metadata": {
        "colab": {
          "base_uri": "https://localhost:8080/",
          "height": 297
        },
        "id": "KYquznWjhV-D",
        "outputId": "2b4497e3-9789-4d75-b6bd-fde4d4bfc3ea"
      },
      "source": [
        "fig=plt.figure(figsize=(15, 8))\n",
        "fig,ax = plt.subplots()\n",
        "\n",
        "ax.plot(x1.index,x1.values, color='blue', alpha=0.5, linewidth=2, linestyle='--')\n",
        "ax.plot(x2.index,x2.values, color='orange', alpha=0.5, linewidth=2, linestyle='--')\n",
        "plt.xlabel(\"year\")\n",
        "plt.ylabel(\"frequency\")\n",
        "plt.xlim(1997,2014)\n",
        "plt.show()"
      ],
      "execution_count": null,
      "outputs": [
        {
          "output_type": "display_data",
          "data": {
            "text/plain": [
              "<Figure size 1080x576 with 0 Axes>"
            ]
          },
          "metadata": {
            "tags": []
          }
        },
        {
          "output_type": "display_data",
          "data": {
            "image/png": "[encoded data removed]",
            "text/plain": [
              "<Figure size 432x288 with 1 Axes>"
            ]
          },
          "metadata": {
            "tags": [],
            "needs_background": "light"
          }
        }
      ]
    },
    {
      "cell_type": "markdown",
      "metadata": {
        "id": "HA8J0vEhP3os"
      },
      "source": [
        "3). From the results of 1) and 2), how can you describe the trend in general?"
      ]
    },
    {
      "cell_type": "markdown",
      "metadata": {
        "id": "oEG3OjgrP3os"
      },
      "source": [
        "- Around the year 2008, began a steep increase in the number of new coffee shops.\n",
        "- As of the year 2014, more coffee shops opened in the past 5 years are still in business rather than going out of business."
      ]
    }
  ]
}