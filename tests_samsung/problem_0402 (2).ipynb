{
  "nbformat": 4,
  "nbformat_minor": 0,
  "metadata": {
    "kernelspec": {
      "display_name": "Python 3",
      "language": "python",
      "name": "python3"
    },
    "language_info": {
      "codemirror_mode": {
        "name": "ipython",
        "version": 3
      },
      "file_extension": ".py",
      "mimetype": "text/x-python",
      "name": "python",
      "nbconvert_exporter": "python",
      "pygments_lexer": "ipython3",
      "version": "3.7.3"
    },
    "colab": {
      "name": "problem_0402.ipynb",
      "provenance": []
    }
  },
  "cells": [
    {
      "cell_type": "markdown",
      "metadata": {
        "id": "fymIZnE2HiSk"
      },
      "source": [
        "## Quiz #0402"
      ]
    },
    {
      "cell_type": "markdown",
      "metadata": {
        "id": "ev6UMwZsHiSq"
      },
      "source": [
        "### \"OLS solution\""
      ]
    },
    {
      "cell_type": "code",
      "metadata": {
        "id": "KjB62CZXHiSs"
      },
      "source": [
        "import numpy as np\n",
        "import pandas as pd"
      ],
      "execution_count": 44,
      "outputs": []
    },
    {
      "cell_type": "markdown",
      "metadata": {
        "id": "anHya6yqHiSt"
      },
      "source": [
        "#### Answer the following question by providing Python code:\n",
        "<br>\n",
        "study = an array that contains the hours of study. This is the explanatory variable. <br>\n",
        "score = an array that contains the test scores. This is the response variable."
      ]
    },
    {
      "cell_type": "code",
      "metadata": {
        "id": "medl6inpHiSu"
      },
      "source": [
        "study = np.array([ 3, 4.5, 6, 1.2, 2, 6.9, 6.7, 5.5]).reshape(-1,1)\n",
        "score = np.array([ 88, 85, 90, 80, 81, 92, 95, 90]).reshape(-1,1)"
      ],
      "execution_count": 45,
      "outputs": []
    },
    {
      "cell_type": "markdown",
      "metadata": {
        "id": "DmOxv3DsHiSv"
      },
      "source": [
        "1). Define the 'linerRegression' class to match the output shown below:"
      ]
    },
    {
      "cell_type": "code",
      "metadata": {
        "id": "cB51PpzbHiSw"
      },
      "source": [
        "class linearRegression:\n",
        "    def __init__(self):\n",
        "      return \n",
        "        \n",
        "    def train(self, input_X, input_Y):\n",
        "        n = input_X.shape[0]                                      # Number of observations.\n",
        "        k = input_X.shape[1]                                      # Number of explanatory variables.\n",
        "        input_X=np.hstack((input_X,np.ones(input_X.shape)))\n",
        "        # Regression Coefficients by OLS.\n",
        "        self.beta =np.dot(np.linalg.inv(np.dot(input_X.T,input_X)),np.dot(input_X.T,input_Y))  #<Your code goes in here>\n",
        "        \n",
        "        # Residuals.\n",
        "        self.residuals = input_Y - np.dot(input_X,self.beta)\n",
        "        \n",
        "        \n",
        "        # R^2.\n",
        "          \n",
        "        #<Your code goes in here>\n",
        "        u=np.dot((self.residuals).T, self.residuals)\n",
        "        v=np.dot((input_Y - input_Y.mean()).T, (input_Y-input_Y.mean()))\n",
        "        print(\"R^2 : \",1-u/v)\n",
        "        \n",
        "\n",
        "        \n",
        "       \n",
        "        # Summary.\n",
        "\n",
        "        #<Your code goes in here>\n",
        "\n",
        "    def output(self):\n",
        "      \n",
        "      print('intercept',self.beta[1])\n",
        "      print(\"X1\",self.beta[0])"
      ],
      "execution_count": 46,
      "outputs": []
    },
    {
      "cell_type": "markdown",
      "metadata": {
        "id": "TTNJUDEMHiSy"
      },
      "source": [
        "**Sample run:**"
      ]
    },
    {
      "cell_type": "code",
      "metadata": {
        "id": "u6tzBl78HiSz",
        "colab": {
          "base_uri": "https://localhost:8080/"
        },
        "outputId": "7d45d80b-0ad1-43ba-b79d-6882eadb8450"
      },
      "source": [
        "LR = linearRegression()                    # Create a linear regression object.\n",
        "LR.train(study, score)                     # Train.\n",
        "                               # Display the training result."
      ],
      "execution_count": 47,
      "outputs": [
        {
          "output_type": "stream",
          "text": [
            "R^2 :  [[0.84584233]]\n"
          ],
          "name": "stdout"
        }
      ]
    },
    {
      "cell_type": "code",
      "metadata": {
        "id": "XbUPcW1nHiS2",
        "colab": {
          "base_uri": "https://localhost:8080/"
        },
        "outputId": "076b4dae-b721-44dd-fdbd-7e9ab4373645"
      },
      "source": [
        "LR.output()"
      ],
      "execution_count": 48,
      "outputs": [
        {
          "output_type": "stream",
          "text": [
            "intercept [77.68466978]\n",
            "X1 [2.22130284]\n"
          ],
          "name": "stdout"
        }
      ]
    }
  ]
}