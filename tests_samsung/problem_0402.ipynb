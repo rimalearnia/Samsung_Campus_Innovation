{
  "nbformat": 4,
  "nbformat_minor": 0,
  "metadata": {
    "kernelspec": {
      "display_name": "Python 3",
      "language": "python",
      "name": "python3"
    },
    "language_info": {
      "codemirror_mode": {
        "name": "ipython",
        "version": 3
      },
      "file_extension": ".py",
      "mimetype": "text/x-python",
      "name": "python",
      "nbconvert_exporter": "python",
      "pygments_lexer": "ipython3",
      "version": "3.7.3"
    },
    "colab": {
      "name": "problem_0402.ipynb",
      "provenance": []
    }
  },
  "cells": [
    {
      "cell_type": "markdown",
      "metadata": {
        "id": "fymIZnE2HiSk"
      },
      "source": [
        "## Quiz #0402"
      ]
    },
    {
      "cell_type": "markdown",
      "metadata": {
        "id": "ev6UMwZsHiSq"
      },
      "source": [
        "### \"OLS solution\""
      ]
    },
    {
      "cell_type": "code",
      "metadata": {
        "id": "KjB62CZXHiSs"
      },
      "source": [
        "import numpy as np\n",
        "import pandas as pd"
      ],
      "execution_count": 5,
      "outputs": []
    },
    {
      "cell_type": "markdown",
      "metadata": {
        "id": "anHya6yqHiSt"
      },
      "source": [
        "#### Answer the following question by providing Python code:\n",
        "<br>\n",
        "study = an array that contains the hours of study. This is the explanatory variable. <br>\n",
        "score = an array that contains the test scores. This is the response variable."
      ]
    },
    {
      "cell_type": "code",
      "metadata": {
        "id": "medl6inpHiSu"
      },
      "source": [
        "study = np.array([ 3, 4.5, 6, 1.2, 2, 6.9, 6.7, 5.5]).reshape(-1,1)\n",
        "score = np.array([ 88, 85, 90, 80, 81, 92, 95, 90]).reshape(-1,1)"
      ],
      "execution_count": 6,
      "outputs": []
    },
    {
      "cell_type": "markdown",
      "metadata": {
        "id": "DmOxv3DsHiSv"
      },
      "source": [
        "1). Define the 'linerRegression' class to match the output shown below:"
      ]
    },
    {
      "cell_type": "code",
      "metadata": {
        "id": "cB51PpzbHiSw"
      },
      "source": [
        "class linearRegression:\n",
        "    def __init__(self):\n",
        "      return \n",
        "        \n",
        "    def train(self, input_X, input_Y):\n",
        "        n = input_X.shape[0]                                      # Number of observations.\n",
        "        k = input_X.shape[1]                                      # Number of explanatory variables.\n",
        "        \n",
        "        # Regression Coefficients by OLS.\n",
        "        self.beta =np.dot(np.linalg.inv(np.dot(input_X.T,input_X)),np.dot(input_X.T,input_Y))  #<Your code goes in here>\n",
        "        \n",
        "        # Residuals.\n",
        "        self.residuals = input_Y - np.dot(input_X,self.beta)\n",
        "        \n",
        "        \n",
        "        # R^2.\n",
        "         \n",
        "        #<Your code goes in here>\n",
        "        \n",
        "        u=np.dot((self.residuals).T, self.residuals)\n",
        "        v=np.dot((input_Y - input_Y.mean()).T, (input_Y-input_Y.mean()))\n",
        "        print(1-u/v)\n",
        "\n",
        "        \n",
        "       \n",
        "        # Summary.\n",
        "\n",
        "        #<Your code goes in here>\n",
        "        \n",
        "    def output(self):\n",
        "      print('intercet',self.beta)"
      ],
      "execution_count": 7,
      "outputs": []
    },
    {
      "cell_type": "markdown",
      "metadata": {
        "id": "TTNJUDEMHiSy"
      },
      "source": [
        "**Sample run:**"
      ]
    },
    {
      "cell_type": "code",
      "metadata": {
        "id": "u6tzBl78HiSz",
        "colab": {
          "base_uri": "https://localhost:8080/"
        },
        "outputId": "dd53bfaf-d698-4150-fc1f-496857e6bcc4"
      },
      "source": [
        "LR = linearRegression()                    # Create a linear regression object.\n",
        "LR.train(study, score)                     # Train.\n",
        "                               # Display the training result."
      ],
      "execution_count": 8,
      "outputs": [
        {
          "output_type": "stream",
          "text": [
            "[[-41.93883132]]\n"
          ],
          "name": "stdout"
        }
      ]
    },
    {
      "cell_type": "code",
      "metadata": {
        "id": "XbUPcW1nHiS2",
        "colab": {
          "base_uri": "https://localhost:8080/"
        },
        "outputId": "852d030b-8dd7-41f7-af9b-d2f81687738d"
      },
      "source": [
        "LR.output()"
      ],
      "execution_count": 9,
      "outputs": [
        {
          "output_type": "stream",
          "text": [
            "intercet [[16.59842845]]\n"
          ],
          "name": "stdout"
        }
      ]
    }
  ]
}