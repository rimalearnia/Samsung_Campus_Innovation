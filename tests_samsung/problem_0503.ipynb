{
  "nbformat": 4,
  "nbformat_minor": 0,
  "metadata": {
    "kernelspec": {
      "display_name": "Python 3",
      "language": "python",
      "name": "python3"
    },
    "language_info": {
      "codemirror_mode": {
        "name": "ipython",
        "version": 3
      },
      "file_extension": ".py",
      "mimetype": "text/x-python",
      "name": "python",
      "nbconvert_exporter": "python",
      "pygments_lexer": "ipython3",
      "version": "3.7.3"
    },
    "colab": {
      "name": "problem_0503.ipynb",
      "provenance": []
    }
  },
  "cells": [
    {
      "cell_type": "markdown",
      "metadata": {
        "id": "MOUkRZESz-tH"
      },
      "source": [
        "## Quiz #0503"
      ]
    },
    {
      "cell_type": "markdown",
      "metadata": {
        "id": "mlD7loyyz-tI"
      },
      "source": [
        "### \"Data Augmentation\""
      ]
    },
    {
      "cell_type": "markdown",
      "metadata": {
        "id": "HKJzS3KRz-tI"
      },
      "source": [
        "#### Answer the following questions by providing Python code:\n",
        "#### Objectives:\n",
        "- Code the helper functions.\n",
        "- Optimize and test a predictive model of your choice.\n",
        "- Carry out data aumentation in order to improve the predictive accuracy when the given training data is small."
      ]
    },
    {
      "cell_type": "code",
      "metadata": {
        "id": "6olK6H2tz-tJ"
      },
      "source": [
        "import numpy as np\n",
        "import pandas as pd\n",
        "import os\n",
        "import warnings\n",
        "import matplotlib.pyplot as plt\n",
        "from sklearn.model_selection import GridSearchCV\n",
        "from sklearn.neighbors import KNeighborsClassifier\n",
        "from sklearn.tree import DecisionTreeClassifier\n",
        "from sklearn.ensemble import RandomForestClassifier,AdaBoostClassifier, GradientBoostingClassifier\n",
        "from xgboost import XGBClassifier\n",
        "from sklearn import metrics, preprocessing\n",
        "from scipy.ndimage.interpolation import rotate\n",
        "warnings.filterwarnings(action='ignore')                  # Turn off the warnings.\n",
        "%matplotlib inline"
      ],
      "execution_count": 31,
      "outputs": []
    },
    {
      "cell_type": "markdown",
      "metadata": {
        "id": "vEBKVWKdz-tJ"
      },
      "source": [
        "#### Read in data:\n",
        "The explanation on the original data can be found [here](http://yann.lecun.com/exdb/mnist/).\n",
        "\n",
        "- The data we will be using is a small subset of the original data with only 100 observations.\n",
        "- Each observation is the \"flattened\" version of a image.\n",
        "- The first column corresponds to the label (Y).\n",
        "- The image size is 28x28."
      ]
    },
    {
      "cell_type": "code",
      "metadata": {
        "id": "AyFnA81Gz-tK"
      },
      "source": [
        "# Read the training and testing data separately.\n",
        "data_train = pd.read_csv('data_mnist_train_100.csv', header=None,encoding='latin1')\n",
        "data_test = pd.read_csv('data_mnist_test_100.csv', header=None,encoding='latin1')\n",
        "\n",
        "# Scale and split the data set into X and Y.\n",
        "X_train = np.array((data_train.iloc[:,1:]/255.0)*0.99+0.01)\n",
        "X_test = np.array((data_test.iloc[:,1:]/255.0)*0.99+0.01)\n",
        "Y_train = np.array(data_train.iloc[:,0])\n",
        "Y_test = np.array(data_test.iloc[:,0])"
      ],
      "execution_count": 32,
      "outputs": []
    },
    {
      "cell_type": "markdown",
      "metadata": {
        "id": "jwEfPLp9z-tK"
      },
      "source": [
        "1). The helper function 'show_data()' visualizes each given observation."
      ]
    },
    {
      "cell_type": "code",
      "metadata": {
        "id": "x-uT3P6Az-tL"
      },
      "source": [
        "def show_data(X, Y, n, angle=0):\n",
        "    image_matrix = X[n,:].reshape((28,28))\n",
        "    image_matrix = rotate(image_matrix, angle, cval=0.01, reshape=False)\n",
        "    imax = image_matrix.max()\n",
        "    imin = image_matrix.min()\n",
        "    image_matrix = ((image_matrix-imin)/(imax-imin))*0.99+0.01\n",
        "    plt.imshow(image_matrix, cmap='Greys',interpolation='None')\n",
        "    print(Y[n])"
      ],
      "execution_count": 33,
      "outputs": []
    },
    {
      "cell_type": "code",
      "metadata": {
        "id": "eQkLmS60z-tL",
        "colab": {
          "base_uri": "https://localhost:8080/",
          "height": 282
        },
        "outputId": "dd6ba785-8ec2-4613-8331-44232ee5efa3"
      },
      "source": [
        "# Example 1.\n",
        "show_data(X_train, Y_train,10,+10)"
      ],
      "execution_count": 34,
      "outputs": [
        {
          "output_type": "stream",
          "text": [
            "3\n"
          ],
          "name": "stdout"
        },
        {
          "output_type": "display_data",
          "data": {
            "image/png": "[encoded data removed]",
            "text/plain": [
              "<Figure size 432x288 with 1 Axes>"
            ]
          },
          "metadata": {
            "needs_background": "light"
          }
        }
      ]
    },
    {
      "cell_type": "code",
      "metadata": {
        "id": "ABtyPR43z-tM",
        "colab": {
          "base_uri": "https://localhost:8080/",
          "height": 282
        },
        "outputId": "fa686bf4-6fe8-4e24-cc59-95e1bc9f5e64"
      },
      "source": [
        "# Example 2.\n",
        "show_data(X_train, Y_train,10,-30)"
      ],
      "execution_count": 35,
      "outputs": [
        {
          "output_type": "stream",
          "text": [
            "3\n"
          ],
          "name": "stdout"
        },
        {
          "output_type": "display_data",
          "data": {
            "image/png": "[encoded data removed]",
            "text/plain": [
              "<Figure size 432x288 with 1 Axes>"
            ]
          },
          "metadata": {
            "needs_background": "light"
          }
        }
      ]
    },
    {
      "cell_type": "code",
      "metadata": {
        "id": "_j3jYxjjz-tN",
        "colab": {
          "base_uri": "https://localhost:8080/",
          "height": 282
        },
        "outputId": "9f910d7b-988b-416b-d05e-72c96984af17"
      },
      "source": [
        "# Example 3.\n",
        "show_data(X_train, Y_train,77,0)"
      ],
      "execution_count": 36,
      "outputs": [
        {
          "output_type": "stream",
          "text": [
            "1\n"
          ],
          "name": "stdout"
        },
        {
          "output_type": "display_data",
          "data": {
            "image/png": "[encoded data removed]",
            "text/plain": [
              "<Figure size 432x288 with 1 Axes>"
            ]
          },
          "metadata": {
            "needs_background": "light"
          }
        }
      ]
    },
    {
      "cell_type": "markdown",
      "metadata": {
        "id": "H_nAtEYEz-tN"
      },
      "source": [
        "2). Choose an algorithm and carry out the predictive analysis.\n",
        "\n",
        "- Optimize the hyperparameter(s).\n",
        "- Calculate the accuracy.\n",
        "- Is the accuracy high enough?"
      ]
    },
    {
      "cell_type": "code",
      "metadata": {
        "id": "eQDESSV6z-tO",
        "colab": {
          "base_uri": "https://localhost:8080/"
        },
        "outputId": "f398d831-e823-4de0-ca67-207c6d5fe83e"
      },
      "source": [
        "RFC = RandomForestClassifier()\n",
        "RFC.fit(X_train,Y_train)\n",
        "y_pred = RFC.predict(X_test)\n",
        "print(\"RandomForest Accuracy : \",metrics.accuracy_score(Y_test,y_pred))"
      ],
      "execution_count": 37,
      "outputs": [
        {
          "output_type": "stream",
          "text": [
            "RandomForest Accuracy :  0.71\n"
          ],
          "name": "stdout"
        }
      ]
    },
    {
      "cell_type": "markdown",
      "metadata": {
        "id": "e98uw0eFz-tO"
      },
      "source": [
        "3). Code the helper function 'rotate_data()' that rotates each given observation by an angle. HINT: use scipy.ndimage.interpolation()."
      ]
    },
    {
      "cell_type": "code",
      "metadata": {
        "id": "sPiUfz81z-tP"
      },
      "source": [
        "for n in range(100):\n",
        "  for angle in range(360):\n",
        "    image_matrix = X_train[n,:].reshape((28,28))\n",
        "    image_matrix = rotate(image_matrix, angle, cval=0.01, reshape=False)      "
      ],
      "execution_count": 38,
      "outputs": []
    },
    {
      "cell_type": "markdown",
      "metadata": {
        "id": "W3_RkrUEz-tP"
      },
      "source": [
        "4). Augment the training dataset.\n",
        "- Increase the size of the training dataset by introducing slight rotations (clockwise and counterclockwise).\n",
        "- Use the 'rotate_data()' function defined in the previous step.\n",
        "- No need to augment the testing dataset.\n",
        "- Target approximately five fold aumentation."
      ]
    },
    {
      "cell_type": "code",
      "metadata": {
        "id": "1eZ_94wUz-tP",
        "colab": {
          "base_uri": "https://localhost:8080/",
          "height": 191
        },
        "outputId": "c3948a57-fe55-400a-ee82-962ae31679a9"
      },
      "source": [
        "\n",
        "# Random Rotations\n",
        "from keras.datasets import mnist\n",
        "from keras.preprocessing.image import ImageDataGenerator\n",
        "from matplotlib import pyplot\n",
        "\n",
        "# reshape to be [samples][width][height][channels]\n",
        "X_train = X_train.reshape((X_train.shape[0], 28, 28, 1))\n",
        "\n",
        "# convert from int to float\n",
        "X_train = X_train.astype('float32')\n",
        "\n",
        "# define data preparation\n",
        "datagen = ImageDataGenerator(rotation_range=90)\n",
        "# fit parameters from data\n",
        "datagen.fit(X_train)\n",
        "# configure batch size and retrieve one batch of images\n",
        "for X_batch, y_batch in datagen.flow(X_train, Y_train, batch_size=5):\n",
        "\t# create a grid of 3x3 images\n",
        "\tfor i in range(0, 5):\n",
        "\t\tpyplot.subplot(330 + 1 + i)\n",
        "\t\tpyplot.imshow(X_batch[i].reshape(28, 28), cmap=pyplot.get_cmap('gray'))\n",
        "\t# show the plot\n",
        "\tpyplot.show()\n",
        "\tbreak\n"
      ],
      "execution_count": 39,
      "outputs": [
        {
          "output_type": "display_data",
          "data": {
            "image/png": "[encoded data removed]",
            "text/plain": [
              "<Figure size 432x288 with 5 Axes>"
            ]
          },
          "metadata": {
            "needs_background": "light"
          }
        }
      ]
    },
    {
      "cell_type": "markdown",
      "metadata": {
        "id": "_31O-zsVz-tQ"
      },
      "source": [
        "5). Redo the predictive analysis with the augmented training dataset.\n",
        "\n",
        "- Use the same algorithm as in the step 2).\n",
        "- Calculate the accuracy.\n",
        "- Has the accuracy gone up?"
      ]
    },
    {
      "cell_type": "code",
      "metadata": {
        "id": "oNxo91o1z-tQ",
        "colab": {
          "base_uri": "https://localhost:8080/",
          "height": 391
        },
        "outputId": "82c4ab62-adce-442f-8409-735cde64746c"
      },
      "source": [
        "RFC = RandomForestClassifier()\n",
        "RFC.fit(X_train,Y_train)\n",
        "y_pred = RFC.predict(X_test)\n",
        "print(\"RandomForest Accuracy : \",metrics.accuracy_score(Y_test,Y_pred))# <Your code goes in here>"
      ],
      "execution_count": 40,
      "outputs": [
        {
          "output_type": "error",
          "ename": "ValueError",
          "evalue": "ignored",
          "traceback": [
            "\u001b[0;31m---------------------------------------------------------------------------\u001b[0m",
            "\u001b[0;31mValueError\u001b[0m                                Traceback (most recent call last)",
            "\u001b[0;32m<ipython-input-40-e174f9dcc2b3>\u001b[0m in \u001b[0;36m<module>\u001b[0;34m()\u001b[0m\n\u001b[1;32m      1\u001b[0m \u001b[0mRFC\u001b[0m \u001b[0;34m=\u001b[0m \u001b[0mRandomForestClassifier\u001b[0m\u001b[0;34m(\u001b[0m\u001b[0;34m)\u001b[0m\u001b[0;34m\u001b[0m\u001b[0;34m\u001b[0m\u001b[0m\n\u001b[0;32m----> 2\u001b[0;31m \u001b[0mRFC\u001b[0m\u001b[0;34m.\u001b[0m\u001b[0mfit\u001b[0m\u001b[0;34m(\u001b[0m\u001b[0mX_train\u001b[0m\u001b[0;34m,\u001b[0m\u001b[0mY_train\u001b[0m\u001b[0;34m)\u001b[0m\u001b[0;34m\u001b[0m\u001b[0;34m\u001b[0m\u001b[0m\n\u001b[0m\u001b[1;32m      3\u001b[0m \u001b[0my_pred\u001b[0m \u001b[0;34m=\u001b[0m \u001b[0mRFC\u001b[0m\u001b[0;34m.\u001b[0m\u001b[0mpredict\u001b[0m\u001b[0;34m(\u001b[0m\u001b[0mX_test\u001b[0m\u001b[0;34m)\u001b[0m\u001b[0;34m\u001b[0m\u001b[0;34m\u001b[0m\u001b[0m\n\u001b[1;32m      4\u001b[0m \u001b[0mprint\u001b[0m\u001b[0;34m(\u001b[0m\u001b[0;34m\"RandomForest Accuracy : \"\u001b[0m\u001b[0;34m,\u001b[0m\u001b[0mmetrics\u001b[0m\u001b[0;34m.\u001b[0m\u001b[0maccuracy_score\u001b[0m\u001b[0;34m(\u001b[0m\u001b[0mY_test\u001b[0m\u001b[0;34m,\u001b[0m\u001b[0mY_pred\u001b[0m\u001b[0;34m)\u001b[0m\u001b[0;34m)\u001b[0m\u001b[0;31m# <Your code goes in here>\u001b[0m\u001b[0;34m\u001b[0m\u001b[0;34m\u001b[0m\u001b[0m\n",
            "\u001b[0;32m/usr/local/lib/python3.7/dist-packages/sklearn/ensemble/_forest.py\u001b[0m in \u001b[0;36mfit\u001b[0;34m(self, X, y, sample_weight)\u001b[0m\n\u001b[1;32m    293\u001b[0m         \"\"\"\n\u001b[1;32m    294\u001b[0m         \u001b[0;31m# Validate or convert input data\u001b[0m\u001b[0;34m\u001b[0m\u001b[0;34m\u001b[0m\u001b[0;34m\u001b[0m\u001b[0m\n\u001b[0;32m--> 295\u001b[0;31m         \u001b[0mX\u001b[0m \u001b[0;34m=\u001b[0m \u001b[0mcheck_array\u001b[0m\u001b[0;34m(\u001b[0m\u001b[0mX\u001b[0m\u001b[0;34m,\u001b[0m \u001b[0maccept_sparse\u001b[0m\u001b[0;34m=\u001b[0m\u001b[0;34m\"csc\"\u001b[0m\u001b[0;34m,\u001b[0m \u001b[0mdtype\u001b[0m\u001b[0;34m=\u001b[0m\u001b[0mDTYPE\u001b[0m\u001b[0;34m)\u001b[0m\u001b[0;34m\u001b[0m\u001b[0;34m\u001b[0m\u001b[0m\n\u001b[0m\u001b[1;32m    296\u001b[0m         \u001b[0my\u001b[0m \u001b[0;34m=\u001b[0m \u001b[0mcheck_array\u001b[0m\u001b[0;34m(\u001b[0m\u001b[0my\u001b[0m\u001b[0;34m,\u001b[0m \u001b[0maccept_sparse\u001b[0m\u001b[0;34m=\u001b[0m\u001b[0;34m'csc'\u001b[0m\u001b[0;34m,\u001b[0m \u001b[0mensure_2d\u001b[0m\u001b[0;34m=\u001b[0m\u001b[0;32mFalse\u001b[0m\u001b[0;34m,\u001b[0m \u001b[0mdtype\u001b[0m\u001b[0;34m=\u001b[0m\u001b[0;32mNone\u001b[0m\u001b[0;34m)\u001b[0m\u001b[0;34m\u001b[0m\u001b[0;34m\u001b[0m\u001b[0m\n\u001b[1;32m    297\u001b[0m         \u001b[0;32mif\u001b[0m \u001b[0msample_weight\u001b[0m \u001b[0;32mis\u001b[0m \u001b[0;32mnot\u001b[0m \u001b[0;32mNone\u001b[0m\u001b[0;34m:\u001b[0m\u001b[0;34m\u001b[0m\u001b[0;34m\u001b[0m\u001b[0m\n",
            "\u001b[0;32m/usr/local/lib/python3.7/dist-packages/sklearn/utils/validation.py\u001b[0m in \u001b[0;36mcheck_array\u001b[0;34m(array, accept_sparse, accept_large_sparse, dtype, order, copy, force_all_finite, ensure_2d, allow_nd, ensure_min_samples, ensure_min_features, warn_on_dtype, estimator)\u001b[0m\n\u001b[1;32m    572\u001b[0m         \u001b[0;32mif\u001b[0m \u001b[0;32mnot\u001b[0m \u001b[0mallow_nd\u001b[0m \u001b[0;32mand\u001b[0m \u001b[0marray\u001b[0m\u001b[0;34m.\u001b[0m\u001b[0mndim\u001b[0m \u001b[0;34m>=\u001b[0m \u001b[0;36m3\u001b[0m\u001b[0;34m:\u001b[0m\u001b[0;34m\u001b[0m\u001b[0;34m\u001b[0m\u001b[0m\n\u001b[1;32m    573\u001b[0m             raise ValueError(\"Found array with dim %d. %s expected <= 2.\"\n\u001b[0;32m--> 574\u001b[0;31m                              % (array.ndim, estimator_name))\n\u001b[0m\u001b[1;32m    575\u001b[0m \u001b[0;34m\u001b[0m\u001b[0m\n\u001b[1;32m    576\u001b[0m         \u001b[0;32mif\u001b[0m \u001b[0mforce_all_finite\u001b[0m\u001b[0;34m:\u001b[0m\u001b[0;34m\u001b[0m\u001b[0;34m\u001b[0m\u001b[0m\n",
            "\u001b[0;31mValueError\u001b[0m: Found array with dim 4. Estimator expected <= 2."
          ]
        }
      ]
    }
  ]
}